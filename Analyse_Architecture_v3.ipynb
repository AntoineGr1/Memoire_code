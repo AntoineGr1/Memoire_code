{
 "cells": [
  {
   "cell_type": "code",
   "execution_count": 1,
   "metadata": {},
   "outputs": [],
   "source": [
    "import pandas as pd\n",
    "from statistics import mean\n",
    "import matplotlib.pyplot as plt\n",
    "import matplotlib\n",
    "import seaborn as sns\n",
    "import os\n",
    "import glob"
   ]
  },
  {
   "cell_type": "code",
   "execution_count": 43,
   "metadata": {},
   "outputs": [],
   "source": [
    "data = pd.read_csv('architecture_results_v3.csv')"
   ]
  },
  {
   "cell_type": "code",
   "execution_count": 44,
   "metadata": {},
   "outputs": [
    {
     "data": {
      "text/html": [
       "<div>\n",
       "<style scoped>\n",
       "    .dataframe tbody tr th:only-of-type {\n",
       "        vertical-align: middle;\n",
       "    }\n",
       "\n",
       "    .dataframe tbody tr th {\n",
       "        vertical-align: top;\n",
       "    }\n",
       "\n",
       "    .dataframe thead th {\n",
       "        text-align: right;\n",
       "    }\n",
       "</style>\n",
       "<table border=\"1\" class=\"dataframe\">\n",
       "  <thead>\n",
       "    <tr style=\"text-align: right;\">\n",
       "      <th></th>\n",
       "      <th>file_name</th>\n",
       "      <th>training_time(s)</th>\n",
       "      <th>test_result_loss</th>\n",
       "      <th>test_result_acc</th>\n",
       "      <th>train_result_acc</th>\n",
       "      <th>train_result_loss</th>\n",
       "      <th>nb_layers</th>\n",
       "      <th>type_archi</th>\n",
       "    </tr>\n",
       "  </thead>\n",
       "  <tbody>\n",
       "    <tr>\n",
       "      <th>0</th>\n",
       "      <td>archi_v3_1</td>\n",
       "      <td>137.961022</td>\n",
       "      <td>0.172679</td>\n",
       "      <td>0.9430</td>\n",
       "      <td>0.946383</td>\n",
       "      <td>0.158794</td>\n",
       "      <td>32</td>\n",
       "      <td>RESNET</td>\n",
       "    </tr>\n",
       "    <tr>\n",
       "      <th>1</th>\n",
       "      <td>archi_v3_2</td>\n",
       "      <td>34.092646</td>\n",
       "      <td>1.177252</td>\n",
       "      <td>0.5959</td>\n",
       "      <td>0.593417</td>\n",
       "      <td>1.198786</td>\n",
       "      <td>5</td>\n",
       "      <td>DENSENET</td>\n",
       "    </tr>\n",
       "    <tr>\n",
       "      <th>2</th>\n",
       "      <td>archi_v3_3</td>\n",
       "      <td>70.545813</td>\n",
       "      <td>0.560783</td>\n",
       "      <td>0.7953</td>\n",
       "      <td>0.786633</td>\n",
       "      <td>0.594876</td>\n",
       "      <td>25</td>\n",
       "      <td>ALL</td>\n",
       "    </tr>\n",
       "    <tr>\n",
       "      <th>3</th>\n",
       "      <td>archi_v3_4</td>\n",
       "      <td>32.900410</td>\n",
       "      <td>1.212360</td>\n",
       "      <td>0.5561</td>\n",
       "      <td>0.556550</td>\n",
       "      <td>1.236942</td>\n",
       "      <td>7</td>\n",
       "      <td>LENET</td>\n",
       "    </tr>\n",
       "    <tr>\n",
       "      <th>4</th>\n",
       "      <td>archi_v3_5</td>\n",
       "      <td>156.514521</td>\n",
       "      <td>3.457778</td>\n",
       "      <td>0.3775</td>\n",
       "      <td>0.374550</td>\n",
       "      <td>3.523504</td>\n",
       "      <td>56</td>\n",
       "      <td>ALL</td>\n",
       "    </tr>\n",
       "    <tr>\n",
       "      <th>5</th>\n",
       "      <td>archi_v3_6</td>\n",
       "      <td>88.399852</td>\n",
       "      <td>1.116733</td>\n",
       "      <td>0.5732</td>\n",
       "      <td>0.571900</td>\n",
       "      <td>1.129137</td>\n",
       "      <td>36</td>\n",
       "      <td>DENSENET</td>\n",
       "    </tr>\n",
       "    <tr>\n",
       "      <th>6</th>\n",
       "      <td>archi_v3_7</td>\n",
       "      <td>35.578727</td>\n",
       "      <td>0.168568</td>\n",
       "      <td>0.9472</td>\n",
       "      <td>0.946183</td>\n",
       "      <td>0.177552</td>\n",
       "      <td>6</td>\n",
       "      <td>LENET</td>\n",
       "    </tr>\n",
       "    <tr>\n",
       "      <th>7</th>\n",
       "      <td>archi_v3_8</td>\n",
       "      <td>152.592136</td>\n",
       "      <td>0.133781</td>\n",
       "      <td>0.9575</td>\n",
       "      <td>0.962233</td>\n",
       "      <td>0.111345</td>\n",
       "      <td>44</td>\n",
       "      <td>ALL</td>\n",
       "    </tr>\n",
       "    <tr>\n",
       "      <th>8</th>\n",
       "      <td>archi_v3_9</td>\n",
       "      <td>38.502374</td>\n",
       "      <td>0.062962</td>\n",
       "      <td>0.9791</td>\n",
       "      <td>0.987883</td>\n",
       "      <td>0.043605</td>\n",
       "      <td>7</td>\n",
       "      <td>LENET</td>\n",
       "    </tr>\n",
       "    <tr>\n",
       "      <th>9</th>\n",
       "      <td>archi_v3_10</td>\n",
       "      <td>35.379591</td>\n",
       "      <td>1.342118</td>\n",
       "      <td>0.5326</td>\n",
       "      <td>0.535450</td>\n",
       "      <td>1.362930</td>\n",
       "      <td>5</td>\n",
       "      <td>LENET</td>\n",
       "    </tr>\n",
       "    <tr>\n",
       "      <th>10</th>\n",
       "      <td>archi_v3_1</td>\n",
       "      <td>114.014723</td>\n",
       "      <td>0.285526</td>\n",
       "      <td>0.9028</td>\n",
       "      <td>0.906850</td>\n",
       "      <td>0.263624</td>\n",
       "      <td>32</td>\n",
       "      <td>RESNET</td>\n",
       "    </tr>\n",
       "    <tr>\n",
       "      <th>11</th>\n",
       "      <td>archi_v3_2</td>\n",
       "      <td>56.032166</td>\n",
       "      <td>0.416614</td>\n",
       "      <td>0.8652</td>\n",
       "      <td>0.863133</td>\n",
       "      <td>0.432387</td>\n",
       "      <td>18</td>\n",
       "      <td>DENSENET</td>\n",
       "    </tr>\n",
       "    <tr>\n",
       "      <th>12</th>\n",
       "      <td>archi_v3_3</td>\n",
       "      <td>90.703047</td>\n",
       "      <td>0.064671</td>\n",
       "      <td>0.9817</td>\n",
       "      <td>0.985767</td>\n",
       "      <td>0.045711</td>\n",
       "      <td>23</td>\n",
       "      <td>RESNET</td>\n",
       "    </tr>\n",
       "    <tr>\n",
       "      <th>13</th>\n",
       "      <td>archi_v3_4</td>\n",
       "      <td>160.454673</td>\n",
       "      <td>0.151343</td>\n",
       "      <td>0.9520</td>\n",
       "      <td>0.953050</td>\n",
       "      <td>0.143178</td>\n",
       "      <td>30</td>\n",
       "      <td>ALL</td>\n",
       "    </tr>\n",
       "    <tr>\n",
       "      <th>14</th>\n",
       "      <td>archi_v3_5</td>\n",
       "      <td>241.048009</td>\n",
       "      <td>1.473341</td>\n",
       "      <td>0.3910</td>\n",
       "      <td>0.385783</td>\n",
       "      <td>1.492093</td>\n",
       "      <td>26</td>\n",
       "      <td>ALL</td>\n",
       "    </tr>\n",
       "    <tr>\n",
       "      <th>15</th>\n",
       "      <td>archi_v3_6</td>\n",
       "      <td>25.843880</td>\n",
       "      <td>0.179331</td>\n",
       "      <td>0.9445</td>\n",
       "      <td>0.946667</td>\n",
       "      <td>0.179839</td>\n",
       "      <td>6</td>\n",
       "      <td>DENSENET</td>\n",
       "    </tr>\n",
       "    <tr>\n",
       "      <th>16</th>\n",
       "      <td>archi_v3_7</td>\n",
       "      <td>105.417919</td>\n",
       "      <td>1.954112</td>\n",
       "      <td>0.1994</td>\n",
       "      <td>0.199183</td>\n",
       "      <td>1.962516</td>\n",
       "      <td>17</td>\n",
       "      <td>DENSENET</td>\n",
       "    </tr>\n",
       "    <tr>\n",
       "      <th>17</th>\n",
       "      <td>archi_v3_8</td>\n",
       "      <td>31.971625</td>\n",
       "      <td>1.658019</td>\n",
       "      <td>0.4064</td>\n",
       "      <td>0.403200</td>\n",
       "      <td>1.665419</td>\n",
       "      <td>5</td>\n",
       "      <td>LENET</td>\n",
       "    </tr>\n",
       "    <tr>\n",
       "      <th>18</th>\n",
       "      <td>archi_v3_9</td>\n",
       "      <td>112.283811</td>\n",
       "      <td>3.235710</td>\n",
       "      <td>0.1129</td>\n",
       "      <td>0.112067</td>\n",
       "      <td>3.245221</td>\n",
       "      <td>41</td>\n",
       "      <td>ALL</td>\n",
       "    </tr>\n",
       "    <tr>\n",
       "      <th>19</th>\n",
       "      <td>archi_v3_10</td>\n",
       "      <td>61.104112</td>\n",
       "      <td>0.074591</td>\n",
       "      <td>0.9758</td>\n",
       "      <td>0.985067</td>\n",
       "      <td>0.050296</td>\n",
       "      <td>7</td>\n",
       "      <td>LENET</td>\n",
       "    </tr>\n",
       "    <tr>\n",
       "      <th>20</th>\n",
       "      <td>archi_v3_11</td>\n",
       "      <td>23.689571</td>\n",
       "      <td>1.231296</td>\n",
       "      <td>0.5859</td>\n",
       "      <td>0.576517</td>\n",
       "      <td>1.253735</td>\n",
       "      <td>5</td>\n",
       "      <td>LENET</td>\n",
       "    </tr>\n",
       "    <tr>\n",
       "      <th>21</th>\n",
       "      <td>archi_v3_12</td>\n",
       "      <td>109.196713</td>\n",
       "      <td>1.906928</td>\n",
       "      <td>0.2463</td>\n",
       "      <td>0.244683</td>\n",
       "      <td>1.908942</td>\n",
       "      <td>18</td>\n",
       "      <td>DENSENET</td>\n",
       "    </tr>\n",
       "    <tr>\n",
       "      <th>22</th>\n",
       "      <td>archi_v3_13</td>\n",
       "      <td>94.163300</td>\n",
       "      <td>0.065334</td>\n",
       "      <td>0.9781</td>\n",
       "      <td>0.982367</td>\n",
       "      <td>0.055331</td>\n",
       "      <td>17</td>\n",
       "      <td>ALL</td>\n",
       "    </tr>\n",
       "    <tr>\n",
       "      <th>23</th>\n",
       "      <td>archi_v3_14</td>\n",
       "      <td>42.033506</td>\n",
       "      <td>0.522021</td>\n",
       "      <td>0.8448</td>\n",
       "      <td>0.847267</td>\n",
       "      <td>0.521671</td>\n",
       "      <td>5</td>\n",
       "      <td>LENET</td>\n",
       "    </tr>\n",
       "    <tr>\n",
       "      <th>24</th>\n",
       "      <td>archi_v3_15</td>\n",
       "      <td>71.231190</td>\n",
       "      <td>0.069682</td>\n",
       "      <td>0.9783</td>\n",
       "      <td>0.977633</td>\n",
       "      <td>0.073686</td>\n",
       "      <td>17</td>\n",
       "      <td>DENSENET</td>\n",
       "    </tr>\n",
       "    <tr>\n",
       "      <th>25</th>\n",
       "      <td>archi_v3_16</td>\n",
       "      <td>108.288971</td>\n",
       "      <td>0.322393</td>\n",
       "      <td>0.9049</td>\n",
       "      <td>0.903783</td>\n",
       "      <td>0.336410</td>\n",
       "      <td>27</td>\n",
       "      <td>DENSENET</td>\n",
       "    </tr>\n",
       "    <tr>\n",
       "      <th>26</th>\n",
       "      <td>archi_v3_17</td>\n",
       "      <td>114.538102</td>\n",
       "      <td>1.002346</td>\n",
       "      <td>0.6393</td>\n",
       "      <td>0.632300</td>\n",
       "      <td>1.014092</td>\n",
       "      <td>15</td>\n",
       "      <td>DENSENET</td>\n",
       "    </tr>\n",
       "    <tr>\n",
       "      <th>27</th>\n",
       "      <td>archi_v3_18</td>\n",
       "      <td>41.155211</td>\n",
       "      <td>0.605770</td>\n",
       "      <td>0.8128</td>\n",
       "      <td>0.813617</td>\n",
       "      <td>0.607666</td>\n",
       "      <td>6</td>\n",
       "      <td>LENET</td>\n",
       "    </tr>\n",
       "    <tr>\n",
       "      <th>28</th>\n",
       "      <td>archi_v3_19</td>\n",
       "      <td>181.957970</td>\n",
       "      <td>0.097939</td>\n",
       "      <td>0.9723</td>\n",
       "      <td>0.977183</td>\n",
       "      <td>0.077392</td>\n",
       "      <td>27</td>\n",
       "      <td>RESNET</td>\n",
       "    </tr>\n",
       "    <tr>\n",
       "      <th>29</th>\n",
       "      <td>archi_v3_20</td>\n",
       "      <td>208.893830</td>\n",
       "      <td>0.082320</td>\n",
       "      <td>0.9760</td>\n",
       "      <td>0.983017</td>\n",
       "      <td>0.054474</td>\n",
       "      <td>21</td>\n",
       "      <td>RESNET</td>\n",
       "    </tr>\n",
       "    <tr>\n",
       "      <th>30</th>\n",
       "      <td>archi_v3_21</td>\n",
       "      <td>533.323094</td>\n",
       "      <td>2.012158</td>\n",
       "      <td>0.4590</td>\n",
       "      <td>0.455683</td>\n",
       "      <td>2.061297</td>\n",
       "      <td>60</td>\n",
       "      <td>ALL</td>\n",
       "    </tr>\n",
       "    <tr>\n",
       "      <th>31</th>\n",
       "      <td>archi_v3_22</td>\n",
       "      <td>158.091610</td>\n",
       "      <td>0.066838</td>\n",
       "      <td>0.9784</td>\n",
       "      <td>0.984417</td>\n",
       "      <td>0.048684</td>\n",
       "      <td>33</td>\n",
       "      <td>RESNET</td>\n",
       "    </tr>\n",
       "    <tr>\n",
       "      <th>32</th>\n",
       "      <td>archi_v3_23</td>\n",
       "      <td>87.217063</td>\n",
       "      <td>1.247887</td>\n",
       "      <td>0.5677</td>\n",
       "      <td>0.560767</td>\n",
       "      <td>1.274176</td>\n",
       "      <td>27</td>\n",
       "      <td>RESNET</td>\n",
       "    </tr>\n",
       "    <tr>\n",
       "      <th>33</th>\n",
       "      <td>archi_v3_24</td>\n",
       "      <td>126.382112</td>\n",
       "      <td>0.232722</td>\n",
       "      <td>0.9261</td>\n",
       "      <td>0.917483</td>\n",
       "      <td>0.264399</td>\n",
       "      <td>35</td>\n",
       "      <td>ALL</td>\n",
       "    </tr>\n",
       "    <tr>\n",
       "      <th>34</th>\n",
       "      <td>archi_v3_25</td>\n",
       "      <td>161.626424</td>\n",
       "      <td>0.096175</td>\n",
       "      <td>0.9693</td>\n",
       "      <td>0.978667</td>\n",
       "      <td>0.067374</td>\n",
       "      <td>44</td>\n",
       "      <td>RESNET</td>\n",
       "    </tr>\n",
       "    <tr>\n",
       "      <th>35</th>\n",
       "      <td>archi_v3_26</td>\n",
       "      <td>117.147765</td>\n",
       "      <td>1.129867</td>\n",
       "      <td>0.5538</td>\n",
       "      <td>0.550433</td>\n",
       "      <td>1.149802</td>\n",
       "      <td>61</td>\n",
       "      <td>DENSENET</td>\n",
       "    </tr>\n",
       "    <tr>\n",
       "      <th>36</th>\n",
       "      <td>archi_v3_27</td>\n",
       "      <td>66.858159</td>\n",
       "      <td>0.057373</td>\n",
       "      <td>0.9808</td>\n",
       "      <td>0.982400</td>\n",
       "      <td>0.057681</td>\n",
       "      <td>19</td>\n",
       "      <td>DENSENET</td>\n",
       "    </tr>\n",
       "    <tr>\n",
       "      <th>37</th>\n",
       "      <td>archi_v3_28</td>\n",
       "      <td>45.890774</td>\n",
       "      <td>0.203627</td>\n",
       "      <td>0.9334</td>\n",
       "      <td>0.936200</td>\n",
       "      <td>0.199176</td>\n",
       "      <td>14</td>\n",
       "      <td>DENSENET</td>\n",
       "    </tr>\n",
       "    <tr>\n",
       "      <th>38</th>\n",
       "      <td>archi_v3_29</td>\n",
       "      <td>90.202256</td>\n",
       "      <td>1.886244</td>\n",
       "      <td>0.2963</td>\n",
       "      <td>0.291767</td>\n",
       "      <td>1.894585</td>\n",
       "      <td>35</td>\n",
       "      <td>DENSENET</td>\n",
       "    </tr>\n",
       "    <tr>\n",
       "      <th>39</th>\n",
       "      <td>archi_v3_30</td>\n",
       "      <td>33.721040</td>\n",
       "      <td>0.069410</td>\n",
       "      <td>0.9806</td>\n",
       "      <td>0.983100</td>\n",
       "      <td>0.053967</td>\n",
       "      <td>6</td>\n",
       "      <td>DENSENET</td>\n",
       "    </tr>\n",
       "  </tbody>\n",
       "</table>\n",
       "</div>"
      ],
      "text/plain": [
       "      file_name  training_time(s)  test_result_loss  test_result_acc  \\\n",
       "0    archi_v3_1        137.961022          0.172679           0.9430   \n",
       "1    archi_v3_2         34.092646          1.177252           0.5959   \n",
       "2    archi_v3_3         70.545813          0.560783           0.7953   \n",
       "3    archi_v3_4         32.900410          1.212360           0.5561   \n",
       "4    archi_v3_5        156.514521          3.457778           0.3775   \n",
       "5    archi_v3_6         88.399852          1.116733           0.5732   \n",
       "6    archi_v3_7         35.578727          0.168568           0.9472   \n",
       "7    archi_v3_8        152.592136          0.133781           0.9575   \n",
       "8    archi_v3_9         38.502374          0.062962           0.9791   \n",
       "9   archi_v3_10         35.379591          1.342118           0.5326   \n",
       "10   archi_v3_1        114.014723          0.285526           0.9028   \n",
       "11   archi_v3_2         56.032166          0.416614           0.8652   \n",
       "12   archi_v3_3         90.703047          0.064671           0.9817   \n",
       "13   archi_v3_4        160.454673          0.151343           0.9520   \n",
       "14   archi_v3_5        241.048009          1.473341           0.3910   \n",
       "15   archi_v3_6         25.843880          0.179331           0.9445   \n",
       "16   archi_v3_7        105.417919          1.954112           0.1994   \n",
       "17   archi_v3_8         31.971625          1.658019           0.4064   \n",
       "18   archi_v3_9        112.283811          3.235710           0.1129   \n",
       "19  archi_v3_10         61.104112          0.074591           0.9758   \n",
       "20  archi_v3_11         23.689571          1.231296           0.5859   \n",
       "21  archi_v3_12        109.196713          1.906928           0.2463   \n",
       "22  archi_v3_13         94.163300          0.065334           0.9781   \n",
       "23  archi_v3_14         42.033506          0.522021           0.8448   \n",
       "24  archi_v3_15         71.231190          0.069682           0.9783   \n",
       "25  archi_v3_16        108.288971          0.322393           0.9049   \n",
       "26  archi_v3_17        114.538102          1.002346           0.6393   \n",
       "27  archi_v3_18         41.155211          0.605770           0.8128   \n",
       "28  archi_v3_19        181.957970          0.097939           0.9723   \n",
       "29  archi_v3_20        208.893830          0.082320           0.9760   \n",
       "30  archi_v3_21        533.323094          2.012158           0.4590   \n",
       "31  archi_v3_22        158.091610          0.066838           0.9784   \n",
       "32  archi_v3_23         87.217063          1.247887           0.5677   \n",
       "33  archi_v3_24        126.382112          0.232722           0.9261   \n",
       "34  archi_v3_25        161.626424          0.096175           0.9693   \n",
       "35  archi_v3_26        117.147765          1.129867           0.5538   \n",
       "36  archi_v3_27         66.858159          0.057373           0.9808   \n",
       "37  archi_v3_28         45.890774          0.203627           0.9334   \n",
       "38  archi_v3_29         90.202256          1.886244           0.2963   \n",
       "39  archi_v3_30         33.721040          0.069410           0.9806   \n",
       "\n",
       "    train_result_acc  train_result_loss  nb_layers type_archi  \n",
       "0           0.946383           0.158794         32     RESNET  \n",
       "1           0.593417           1.198786          5   DENSENET  \n",
       "2           0.786633           0.594876         25        ALL  \n",
       "3           0.556550           1.236942          7      LENET  \n",
       "4           0.374550           3.523504         56        ALL  \n",
       "5           0.571900           1.129137         36   DENSENET  \n",
       "6           0.946183           0.177552          6      LENET  \n",
       "7           0.962233           0.111345         44        ALL  \n",
       "8           0.987883           0.043605          7      LENET  \n",
       "9           0.535450           1.362930          5      LENET  \n",
       "10          0.906850           0.263624         32     RESNET  \n",
       "11          0.863133           0.432387         18   DENSENET  \n",
       "12          0.985767           0.045711         23     RESNET  \n",
       "13          0.953050           0.143178         30        ALL  \n",
       "14          0.385783           1.492093         26        ALL  \n",
       "15          0.946667           0.179839          6   DENSENET  \n",
       "16          0.199183           1.962516         17   DENSENET  \n",
       "17          0.403200           1.665419          5      LENET  \n",
       "18          0.112067           3.245221         41        ALL  \n",
       "19          0.985067           0.050296          7      LENET  \n",
       "20          0.576517           1.253735          5      LENET  \n",
       "21          0.244683           1.908942         18   DENSENET  \n",
       "22          0.982367           0.055331         17        ALL  \n",
       "23          0.847267           0.521671          5      LENET  \n",
       "24          0.977633           0.073686         17   DENSENET  \n",
       "25          0.903783           0.336410         27   DENSENET  \n",
       "26          0.632300           1.014092         15   DENSENET  \n",
       "27          0.813617           0.607666          6      LENET  \n",
       "28          0.977183           0.077392         27     RESNET  \n",
       "29          0.983017           0.054474         21     RESNET  \n",
       "30          0.455683           2.061297         60        ALL  \n",
       "31          0.984417           0.048684         33     RESNET  \n",
       "32          0.560767           1.274176         27     RESNET  \n",
       "33          0.917483           0.264399         35        ALL  \n",
       "34          0.978667           0.067374         44     RESNET  \n",
       "35          0.550433           1.149802         61   DENSENET  \n",
       "36          0.982400           0.057681         19   DENSENET  \n",
       "37          0.936200           0.199176         14   DENSENET  \n",
       "38          0.291767           1.894585         35   DENSENET  \n",
       "39          0.983100           0.053967          6   DENSENET  "
      ]
     },
     "execution_count": 44,
     "metadata": {},
     "output_type": "execute_result"
    }
   ],
   "source": [
    "data"
   ]
  },
  {
   "cell_type": "markdown",
   "metadata": {},
   "source": [
    "# experiment 1 : State Machine v3"
   ]
  },
  {
   "cell_type": "code",
   "execution_count": 34,
   "metadata": {},
   "outputs": [],
   "source": [
    "test1 = data[:10]"
   ]
  },
  {
   "cell_type": "code",
   "execution_count": 35,
   "metadata": {},
   "outputs": [
    {
     "data": {
      "text/plain": [
       "<seaborn.axisgrid.FacetGrid at 0x23bb986dd88>"
      ]
     },
     "execution_count": 35,
     "metadata": {},
     "output_type": "execute_result"
    },
    {
     "data": {
      "image/png": "[encoded data removed]",
      "text/plain": [
       "<Figure size 360x360 with 1 Axes>"
      ]
     },
     "metadata": {
      "needs_background": "light"
     },
     "output_type": "display_data"
    }
   ],
   "source": [
    "sns.displot(test1, x=\"type_archi\")"
   ]
  },
  {
   "cell_type": "code",
   "execution_count": 36,
   "metadata": {},
   "outputs": [
    {
     "data": {
      "text/plain": [
       "<seaborn.axisgrid.FacetGrid at 0x23bb9a9e908>"
      ]
     },
     "execution_count": 36,
     "metadata": {},
     "output_type": "execute_result"
    },
    {
     "data": {
      "image/png": "[encoded data removed]",
      "text/plain": [
       "<Figure size 449.75x360 with 1 Axes>"
      ]
     },
     "metadata": {
      "needs_background": "light"
     },
     "output_type": "display_data"
    }
   ],
   "source": [
    "sns.lmplot(\n",
    "    x='training_time(s)',\n",
    "    y='test_result_acc',\n",
    "    data=test1,\n",
    "    hue='type_archi',\n",
    "    fit_reg=False\n",
    ")"
   ]
  },
  {
   "cell_type": "code",
   "execution_count": 37,
   "metadata": {},
   "outputs": [
    {
     "data": {
      "text/plain": [
       "<AxesSubplot:xlabel='type_archi', ylabel='test_result_acc'>"
      ]
     },
     "execution_count": 37,
     "metadata": {},
     "output_type": "execute_result"
    },
    {
     "data": {
      "image/png": "[encoded data removed]",
      "text/plain": [
       "<Figure size 432x288 with 1 Axes>"
      ]
     },
     "metadata": {
      "needs_background": "light"
     },
     "output_type": "display_data"
    }
   ],
   "source": [
    "sns.boxplot(y='test_result_acc', x='type_archi' ,data=test1)"
   ]
  },
  {
   "cell_type": "code",
   "execution_count": 38,
   "metadata": {},
   "outputs": [
    {
     "data": {
      "text/plain": [
       "<AxesSubplot:xlabel='type_archi', ylabel='training_time(s)'>"
      ]
     },
     "execution_count": 38,
     "metadata": {},
     "output_type": "execute_result"
    },
    {
     "data": {
      "image/png": "[encoded data removed]",
      "text/plain": [
       "<Figure size 432x288 with 1 Axes>"
      ]
     },
     "metadata": {
      "needs_background": "light"
     },
     "output_type": "display_data"
    }
   ],
   "source": [
    "sns.boxplot(y='training_time(s)', x='type_archi', data=test1)"
   ]
  },
  {
   "cell_type": "code",
   "execution_count": 39,
   "metadata": {},
   "outputs": [
    {
     "data": {
      "text/plain": [
       "<seaborn.axisgrid.FacetGrid at 0x23bbac6e188>"
      ]
     },
     "execution_count": 39,
     "metadata": {},
     "output_type": "execute_result"
    },
    {
     "data": {
      "image/png": "[encoded data removed]",
      "text/plain": [
       "<Figure size 449.75x360 with 1 Axes>"
      ]
     },
     "metadata": {
      "needs_background": "light"
     },
     "output_type": "display_data"
    }
   ],
   "source": [
    "sns.lmplot(\n",
    "    x='training_time(s)',\n",
    "    y='nb_layers',\n",
    "    data=test1,\n",
    "    fit_reg=False,\n",
    "    hue='type_archi'\n",
    ")"
   ]
  },
  {
   "cell_type": "code",
   "execution_count": 40,
   "metadata": {},
   "outputs": [
    {
     "data": {
      "text/plain": [
       "<seaborn.axisgrid.FacetGrid at 0x23bbacfa308>"
      ]
     },
     "execution_count": 40,
     "metadata": {},
     "output_type": "execute_result"
    },
    {
     "data": {
      "image/png": "[encoded data removed]",
      "text/plain": [
       "<Figure size 449.75x360 with 1 Axes>"
      ]
     },
     "metadata": {
      "needs_background": "light"
     },
     "output_type": "display_data"
    }
   ],
   "source": [
    "sns.lmplot(\n",
    "    x='nb_layers',\n",
    "    y='test_result_acc',\n",
    "    data=test1,\n",
    "    fit_reg=False,\n",
    "    hue='type_archi'\n",
    ")"
   ]
  },
  {
   "cell_type": "markdown",
   "metadata": {},
   "source": [
    "# experiment 2"
   ]
  },
  {
   "cell_type": "code",
   "execution_count": 45,
   "metadata": {},
   "outputs": [],
   "source": [
    "test2 = data[10:40]"
   ]
  },
  {
   "cell_type": "code",
   "execution_count": 46,
   "metadata": {},
   "outputs": [
    {
     "data": {
      "text/plain": [
       "<seaborn.axisgrid.FacetGrid at 0x23bbace0c48>"
      ]
     },
     "execution_count": 46,
     "metadata": {},
     "output_type": "execute_result"
    },
    {
     "data": {
      "image/png": "[encoded data removed]",
      "text/plain": [
       "<Figure size 360x360 with 1 Axes>"
      ]
     },
     "metadata": {
      "needs_background": "light"
     },
     "output_type": "display_data"
    }
   ],
   "source": [
    "sns.displot(test2, x=\"type_archi\")"
   ]
  },
  {
   "cell_type": "code",
   "execution_count": 47,
   "metadata": {},
   "outputs": [
    {
     "data": {
      "text/plain": [
       "<seaborn.axisgrid.FacetGrid at 0x23bbad9fb88>"
      ]
     },
     "execution_count": 47,
     "metadata": {},
     "output_type": "execute_result"
    },
    {
     "data": {
      "image/png": "[encoded data removed]",
      "text/plain": [
       "<Figure size 449.75x360 with 1 Axes>"
      ]
     },
     "metadata": {
      "needs_background": "light"
     },
     "output_type": "display_data"
    }
   ],
   "source": [
    "sns.lmplot(\n",
    "    x='training_time(s)',\n",
    "    y='test_result_acc',\n",
    "    data=test2,\n",
    "    hue='type_archi',\n",
    "    fit_reg=False\n",
    ")"
   ]
  },
  {
   "cell_type": "code",
   "execution_count": 48,
   "metadata": {},
   "outputs": [
    {
     "data": {
      "text/plain": [
       "<AxesSubplot:xlabel='type_archi', ylabel='test_result_acc'>"
      ]
     },
     "execution_count": 48,
     "metadata": {},
     "output_type": "execute_result"
    },
    {
     "data": {
      "image/png": "[encoded data removed]",
      "text/plain": [
       "<Figure size 432x288 with 1 Axes>"
      ]
     },
     "metadata": {
      "needs_background": "light"
     },
     "output_type": "display_data"
    }
   ],
   "source": [
    "sns.boxplot(y='test_result_acc', x='type_archi' ,data=test2)"
   ]
  },
  {
   "cell_type": "code",
   "execution_count": 49,
   "metadata": {},
   "outputs": [
    {
     "data": {
      "text/plain": [
       "<AxesSubplot:xlabel='type_archi', ylabel='training_time(s)'>"
      ]
     },
     "execution_count": 49,
     "metadata": {},
     "output_type": "execute_result"
    },
    {
     "data": {
      "image/png": "[encoded data removed]",
      "text/plain": [
       "<Figure size 432x288 with 1 Axes>"
      ]
     },
     "metadata": {
      "needs_background": "light"
     },
     "output_type": "display_data"
    }
   ],
   "source": [
    "sns.boxplot(y='training_time(s)', x='type_archi', data=test2)"
   ]
  },
  {
   "cell_type": "code",
   "execution_count": 54,
   "metadata": {},
   "outputs": [
    {
     "data": {
      "text/plain": [
       "<seaborn.axisgrid.FacetGrid at 0x23bbc18a288>"
      ]
     },
     "execution_count": 54,
     "metadata": {},
     "output_type": "execute_result"
    },
    {
     "data": {
      "image/png": "[encoded data removed]",
      "text/plain": [
       "<Figure size 449.75x360 with 1 Axes>"
      ]
     },
     "metadata": {
      "needs_background": "light"
     },
     "output_type": "display_data"
    }
   ],
   "source": [
    "sns.lmplot(\n",
    "    x='training_time(s)',\n",
    "    y='nb_layers',\n",
    "    data=test2,\n",
    "    fit_reg=False,\n",
    "    hue='type_archi'\n",
    ")"
   ]
  },
  {
   "cell_type": "code",
   "execution_count": 51,
   "metadata": {},
   "outputs": [
    {
     "data": {
      "text/plain": [
       "<seaborn.axisgrid.FacetGrid at 0x23bbb0285c8>"
      ]
     },
     "execution_count": 51,
     "metadata": {},
     "output_type": "execute_result"
    },
    {
     "data": {
      "image/png": "[encoded data removed]",
      "text/plain": [
       "<Figure size 449.75x360 with 1 Axes>"
      ]
     },
     "metadata": {
      "needs_background": "light"
     },
     "output_type": "display_data"
    }
   ],
   "source": [
    "sns.lmplot(\n",
    "    x='nb_layers',\n",
    "    y='test_result_acc',\n",
    "    data=test2,\n",
    "    fit_reg=False,\n",
    "    hue='type_archi'\n",
    ")"
   ]
  },
  {
   "cell_type": "code",
   "execution_count": null,
   "metadata": {},
   "outputs": [],
   "source": []
  },
  {
   "cell_type": "code",
   "execution_count": null,
   "metadata": {},
   "outputs": [],
   "source": []
  }
 ],
 "metadata": {
  "kernelspec": {
   "display_name": "Python 3",
   "language": "python",
   "name": "python3"
  },
  "language_info": {
   "codemirror_mode": {
    "name": "ipython",
    "version": 3
   },
   "file_extension": ".py",
   "mimetype": "text/x-python",
   "name": "python",
   "nbconvert_exporter": "python",
   "pygments_lexer": "ipython3",
   "version": "3.7.9"
  },
  "latex_envs": {
   "LaTeX_envs_menu_present": true,
   "autoclose": false,
   "autocomplete": true,
   "bibliofile": "biblio.bib",
   "cite_by": "apalike",
   "current_citInitial": 1,
   "eqLabelWithNumbers": true,
   "eqNumInitial": 1,
   "hotkeys": {
    "equation": "Ctrl-E",
    "itemize": "Ctrl-I"
   },
   "labels_anchors": false,
   "latex_user_defs": false,
   "report_style_numbering": false,
   "user_envs_cfg": false
  },
  "toc": {
   "base_numbering": 1,
   "nav_menu": {},
   "number_sections": true,
   "sideBar": true,
   "skip_h1_title": false,
   "title_cell": "Table of Contents",
   "title_sidebar": "Contents",
   "toc_cell": false,
   "toc_position": {},
   "toc_section_display": true,
   "toc_window_display": false
  },
  "varInspector": {
   "cols": {
    "lenName": 16,
    "lenType": 16,
    "lenVar": 40
   },
   "kernels_config": {
    "python": {
     "delete_cmd_postfix": "",
     "delete_cmd_prefix": "del ",
     "library": "var_list.py",
     "varRefreshCmd": "print(var_dic_list())"
    },
    "r": {
     "delete_cmd_postfix": ") ",
     "delete_cmd_prefix": "rm(",
     "library": "var_list.r",
     "varRefreshCmd": "cat(var_dic_list()) "
    }
   },
   "types_to_exclude": [
    "module",
    "function",
    "builtin_function_or_method",
    "instance",
    "_Feature"
   ],
   "window_display": false
  }
 },
 "nbformat": 4,
 "nbformat_minor": 4
}
