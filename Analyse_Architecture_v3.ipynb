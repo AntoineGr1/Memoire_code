{
 "cells": [
  {
   "cell_type": "code",
   "execution_count": 1,
   "metadata": {},
   "outputs": [],
   "source": [
    "import pandas as pd\n",
    "from statistics import mean\n",
    "import matplotlib.pyplot as plt\n",
    "import matplotlib\n",
    "import seaborn as sns\n",
    "import os\n",
    "import glob"
   ]
  },
  {
   "cell_type": "code",
   "execution_count": 9,
   "metadata": {},
   "outputs": [],
   "source": [
    "data = pd.read_csv('architecture_results_v3.csv')"
   ]
  },
  {
   "cell_type": "code",
   "execution_count": 10,
   "metadata": {},
   "outputs": [
    {
     "data": {
      "text/html": [
       "<div>\n",
       "<style scoped>\n",
       "    .dataframe tbody tr th:only-of-type {\n",
       "        vertical-align: middle;\n",
       "    }\n",
       "\n",
       "    .dataframe tbody tr th {\n",
       "        vertical-align: top;\n",
       "    }\n",
       "\n",
       "    .dataframe thead th {\n",
       "        text-align: right;\n",
       "    }\n",
       "</style>\n",
       "<table border=\"1\" class=\"dataframe\">\n",
       "  <thead>\n",
       "    <tr style=\"text-align: right;\">\n",
       "      <th></th>\n",
       "      <th>file_name</th>\n",
       "      <th>training_time(s)</th>\n",
       "      <th>test_result_loss</th>\n",
       "      <th>test_result_acc</th>\n",
       "      <th>train_result_acc</th>\n",
       "      <th>train_result_loss</th>\n",
       "      <th>nb_layers</th>\n",
       "      <th>type_archi</th>\n",
       "    </tr>\n",
       "  </thead>\n",
       "  <tbody>\n",
       "    <tr>\n",
       "      <th>0</th>\n",
       "      <td>archi_v3_1</td>\n",
       "      <td>33.901080</td>\n",
       "      <td>0.817561</td>\n",
       "      <td>0.7081</td>\n",
       "      <td>0.707217</td>\n",
       "      <td>0.826648</td>\n",
       "      <td>6</td>\n",
       "      <td>DENSENET</td>\n",
       "    </tr>\n",
       "    <tr>\n",
       "      <th>1</th>\n",
       "      <td>archi_v3_2</td>\n",
       "      <td>44.161330</td>\n",
       "      <td>0.381776</td>\n",
       "      <td>0.8778</td>\n",
       "      <td>0.875167</td>\n",
       "      <td>0.394640</td>\n",
       "      <td>6</td>\n",
       "      <td>DENSENET</td>\n",
       "    </tr>\n",
       "    <tr>\n",
       "      <th>2</th>\n",
       "      <td>archi_v3_3</td>\n",
       "      <td>44.801519</td>\n",
       "      <td>0.173226</td>\n",
       "      <td>0.9490</td>\n",
       "      <td>0.945217</td>\n",
       "      <td>0.188044</td>\n",
       "      <td>15</td>\n",
       "      <td>DENSENET</td>\n",
       "    </tr>\n",
       "    <tr>\n",
       "      <th>3</th>\n",
       "      <td>archi_v3_4</td>\n",
       "      <td>88.089914</td>\n",
       "      <td>0.163157</td>\n",
       "      <td>0.9520</td>\n",
       "      <td>0.948283</td>\n",
       "      <td>0.172131</td>\n",
       "      <td>11</td>\n",
       "      <td>DENSENET</td>\n",
       "    </tr>\n",
       "  </tbody>\n",
       "</table>\n",
       "</div>"
      ],
      "text/plain": [
       "    file_name  training_time(s)  test_result_loss  test_result_acc  \\\n",
       "0  archi_v3_1         33.901080          0.817561           0.7081   \n",
       "1  archi_v3_2         44.161330          0.381776           0.8778   \n",
       "2  archi_v3_3         44.801519          0.173226           0.9490   \n",
       "3  archi_v3_4         88.089914          0.163157           0.9520   \n",
       "\n",
       "   train_result_acc  train_result_loss  nb_layers type_archi  \n",
       "0          0.707217           0.826648          6   DENSENET  \n",
       "1          0.875167           0.394640          6   DENSENET  \n",
       "2          0.945217           0.188044         15   DENSENET  \n",
       "3          0.948283           0.172131         11   DENSENET  "
      ]
     },
     "execution_count": 10,
     "metadata": {},
     "output_type": "execute_result"
    }
   ],
   "source": [
    "data"
   ]
  },
  {
   "cell_type": "code",
   "execution_count": null,
   "metadata": {},
   "outputs": [],
   "source": []
  }
 ],
 "metadata": {
  "kernelspec": {
   "display_name": "Python 3",
   "language": "python",
   "name": "python3"
  },
  "language_info": {
   "codemirror_mode": {
    "name": "ipython",
    "version": 3
   },
   "file_extension": ".py",
   "mimetype": "text/x-python",
   "name": "python",
   "nbconvert_exporter": "python",
   "pygments_lexer": "ipython3",
   "version": "3.7.9"
  },
  "latex_envs": {
   "LaTeX_envs_menu_present": true,
   "autoclose": false,
   "autocomplete": true,
   "bibliofile": "biblio.bib",
   "cite_by": "apalike",
   "current_citInitial": 1,
   "eqLabelWithNumbers": true,
   "eqNumInitial": 1,
   "hotkeys": {
    "equation": "Ctrl-E",
    "itemize": "Ctrl-I"
   },
   "labels_anchors": false,
   "latex_user_defs": false,
   "report_style_numbering": false,
   "user_envs_cfg": false
  },
  "toc": {
   "base_numbering": 1,
   "nav_menu": {},
   "number_sections": true,
   "sideBar": true,
   "skip_h1_title": false,
   "title_cell": "Table of Contents",
   "title_sidebar": "Contents",
   "toc_cell": false,
   "toc_position": {},
   "toc_section_display": true,
   "toc_window_display": false
  },
  "varInspector": {
   "cols": {
    "lenName": 16,
    "lenType": 16,
    "lenVar": 40
   },
   "kernels_config": {
    "python": {
     "delete_cmd_postfix": "",
     "delete_cmd_prefix": "del ",
     "library": "var_list.py",
     "varRefreshCmd": "print(var_dic_list())"
    },
    "r": {
     "delete_cmd_postfix": ") ",
     "delete_cmd_prefix": "rm(",
     "library": "var_list.r",
     "varRefreshCmd": "cat(var_dic_list()) "
    }
   },
   "types_to_exclude": [
    "module",
    "function",
    "builtin_function_or_method",
    "instance",
    "_Feature"
   ],
   "window_display": false
  }
 },
 "nbformat": 4,
 "nbformat_minor": 4
}
