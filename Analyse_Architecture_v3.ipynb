{
 "cells": [
  {
   "cell_type": "code",
   "execution_count": 2,
   "metadata": {},
   "outputs": [],
   "source": [
    "import pandas as pd\n",
    "from statistics import mean\n",
    "import matplotlib.pyplot as plt\n",
    "import matplotlib\n",
    "import seaborn as sns\n",
    "import os\n",
    "import glob"
   ]
  },
  {
   "cell_type": "markdown",
   "metadata": {},
   "source": [
    "# Architecture State Of Art \n",
    "- trained on personal computer"
   ]
  },
  {
   "cell_type": "code",
   "execution_count": 3,
   "metadata": {},
   "outputs": [],
   "source": [
    "Lenet5_cifar = {'file_name' : 'Lenet5',\n",
    "                  'training_time(s)' : 3234.000,\n",
    "                  'test_result_loss' : 0.8703,\n",
    "                  'test_result_acc' : 0.7813,\n",
    "                  'train_result_acc' : 0.9308,\n",
    "                  'train_result_loss' : 0.1998,\n",
    "                  'nb_layers' : 11,\n",
    "                  'epochs': 50,\n",
    "                  'type_archi' :'LENET5'}\n",
    "\n",
    "resnet18_cifar = {'file_name' : 'Resnet18',\n",
    "                  'training_time(s)' : 3123,\n",
    "                  'test_result_loss' : 0.9940,\n",
    "                  'test_result_acc' : 0.6689,\n",
    "                  'train_result_acc' : 0.7516,\n",
    "                  'train_result_loss' : 0.7161,\n",
    "                  'nb_layers' : 72,\n",
    "                  'epochs': 5,\n",
    "                  'type_archi': 'RESNET18'}\n",
    "\n",
    "DenseNet_base_cifar = {'file_name' : 'DenseNet_Base',\n",
    "                  'training_time(s)' : 23451.000,\n",
    "                  'test_result_loss' : 0.7563,\n",
    "                  'test_result_acc' : 0.7442,\n",
    "                  'train_result_acc' : 0.7066,\n",
    "                  'train_result_loss' : 1.2783,\n",
    "                  'nb_layers' : 92,\n",
    "                  'epochs': 50,\n",
    "                  'type_archi': 'DENSENET_BASE'}\n",
    "\n",
    "DenseNet121_cifar = {'file_name' : 'DenseNet121',\n",
    "                  'training_time(s)' : 8261.000,\n",
    "                  'test_result_loss' : 0.7479,\n",
    "                  'test_result_acc' : 0.7355,\n",
    "                  'train_result_acc' : 0.6100,\n",
    "                  'train_result_loss' : 1.1291,\n",
    "                  'nb_layers' : 430,\n",
    "                  'epochs': 5,\n",
    "                  'type_archi': 'DENSENET121'}"
   ]
  },
  {
   "cell_type": "code",
   "execution_count": 4,
   "metadata": {},
   "outputs": [],
   "source": [
    "data_soa = pd.DataFrame([Lenet5_cifar, resnet18_cifar, DenseNet_base_cifar,DenseNet121_cifar], \n",
    "                        index = [0,1,2,3], \n",
    "                        columns=['file_name', \n",
    "                                 'training_time(s)', \n",
    "                                 'test_result_loss', \n",
    "                                 'test_result_acc',\n",
    "                                 'train_result_acc',\n",
    "                                 'train_result_loss',\n",
    "                                 'nb_layers',\n",
    "                                 'epochs',\n",
    "                                 'type_archi']\n",
    "                       )"
   ]
  },
  {
   "cell_type": "code",
   "execution_count": 5,
   "metadata": {},
   "outputs": [
    {
     "data": {
      "text/html": [
       "<div>\n",
       "<style scoped>\n",
       "    .dataframe tbody tr th:only-of-type {\n",
       "        vertical-align: middle;\n",
       "    }\n",
       "\n",
       "    .dataframe tbody tr th {\n",
       "        vertical-align: top;\n",
       "    }\n",
       "\n",
       "    .dataframe thead th {\n",
       "        text-align: right;\n",
       "    }\n",
       "</style>\n",
       "<table border=\"1\" class=\"dataframe\">\n",
       "  <thead>\n",
       "    <tr style=\"text-align: right;\">\n",
       "      <th></th>\n",
       "      <th>file_name</th>\n",
       "      <th>training_time(s)</th>\n",
       "      <th>test_result_loss</th>\n",
       "      <th>test_result_acc</th>\n",
       "      <th>train_result_acc</th>\n",
       "      <th>train_result_loss</th>\n",
       "      <th>nb_layers</th>\n",
       "      <th>epochs</th>\n",
       "      <th>type_archi</th>\n",
       "    </tr>\n",
       "  </thead>\n",
       "  <tbody>\n",
       "    <tr>\n",
       "      <th>0</th>\n",
       "      <td>Lenet5</td>\n",
       "      <td>3234.0</td>\n",
       "      <td>0.8703</td>\n",
       "      <td>0.7813</td>\n",
       "      <td>0.9308</td>\n",
       "      <td>0.1998</td>\n",
       "      <td>11</td>\n",
       "      <td>50</td>\n",
       "      <td>LENET5</td>\n",
       "    </tr>\n",
       "    <tr>\n",
       "      <th>1</th>\n",
       "      <td>Resnet18</td>\n",
       "      <td>3123.0</td>\n",
       "      <td>0.9940</td>\n",
       "      <td>0.6689</td>\n",
       "      <td>0.7516</td>\n",
       "      <td>0.7161</td>\n",
       "      <td>72</td>\n",
       "      <td>5</td>\n",
       "      <td>RESNET18</td>\n",
       "    </tr>\n",
       "    <tr>\n",
       "      <th>2</th>\n",
       "      <td>DenseNet_Base</td>\n",
       "      <td>23451.0</td>\n",
       "      <td>0.7563</td>\n",
       "      <td>0.7442</td>\n",
       "      <td>0.7066</td>\n",
       "      <td>1.2783</td>\n",
       "      <td>92</td>\n",
       "      <td>50</td>\n",
       "      <td>DENSENET_BASE</td>\n",
       "    </tr>\n",
       "    <tr>\n",
       "      <th>3</th>\n",
       "      <td>DenseNet121</td>\n",
       "      <td>8261.0</td>\n",
       "      <td>0.7479</td>\n",
       "      <td>0.7355</td>\n",
       "      <td>0.6100</td>\n",
       "      <td>1.1291</td>\n",
       "      <td>430</td>\n",
       "      <td>5</td>\n",
       "      <td>DENSENET121</td>\n",
       "    </tr>\n",
       "  </tbody>\n",
       "</table>\n",
       "</div>"
      ],
      "text/plain": [
       "       file_name  training_time(s)  test_result_loss  test_result_acc  \\\n",
       "0         Lenet5            3234.0            0.8703           0.7813   \n",
       "1       Resnet18            3123.0            0.9940           0.6689   \n",
       "2  DenseNet_Base           23451.0            0.7563           0.7442   \n",
       "3    DenseNet121            8261.0            0.7479           0.7355   \n",
       "\n",
       "   train_result_acc  train_result_loss  nb_layers  epochs     type_archi  \n",
       "0            0.9308             0.1998         11      50         LENET5  \n",
       "1            0.7516             0.7161         72       5       RESNET18  \n",
       "2            0.7066             1.2783         92      50  DENSENET_BASE  \n",
       "3            0.6100             1.1291        430       5    DENSENET121  "
      ]
     },
     "execution_count": 5,
     "metadata": {},
     "output_type": "execute_result"
    }
   ],
   "source": [
    "data_soa"
   ]
  },
  {
   "cell_type": "code",
   "execution_count": 6,
   "metadata": {},
   "outputs": [
    {
     "data": {
      "text/plain": [
       "<function matplotlib.pyplot.show(close=None, block=None)>"
      ]
     },
     "execution_count": 6,
     "metadata": {},
     "output_type": "execute_result"
    },
    {
     "data": {
      "image/png": "[encoded data removed]",
      "text/plain": [
       "<Figure size 432x288 with 1 Axes>"
      ]
     },
     "metadata": {
      "needs_background": "light"
     },
     "output_type": "display_data"
    }
   ],
   "source": [
    "plt.scatter(data_soa['file_name'], data_soa['test_result_acc'], label=\"test\")\n",
    "plt.scatter(data_soa['file_name'], data_soa['train_result_acc'], label=\"train\")\n",
    "\n",
    "plt.legend()\n",
    "plt.show"
   ]
  },
  {
   "cell_type": "markdown",
   "metadata": {},
   "source": [
    "# Architecture Diversitas\n",
    "- State of the art trained on diversitas Irisa Renne"
   ]
  },
  {
   "cell_type": "code",
   "execution_count": 7,
   "metadata": {},
   "outputs": [],
   "source": [
    "Lenet5_cifar_div = {'file_name' : 'Lenet5',\n",
    "                  'training_time(s)' : 860,\n",
    "                  'test_result_loss' : 0.7470,\n",
    "                  'test_result_acc' : 0.7529,\n",
    "                  'train_result_acc' : 0.8712,\n",
    "                  'train_result_loss' : 0.4110,\n",
    "                  'nb_layers' : 11,\n",
    "                  'epochs': 37,\n",
    "                  'type_archi' :'LENET5'}\n",
    "\n",
    "resnet18_cifar_div = {'file_name' : 'Resnet18',\n",
    "                  'training_time(s)' : 3912,\n",
    "                  'test_result_loss' : 2.7862,\n",
    "                  'test_result_acc' : 0.4143,\n",
    "                  'train_result_acc' : 0.8973,\n",
    "                  'train_result_loss' : 0.3026 ,\n",
    "                  'nb_layers' : 72,\n",
    "                  'epochs': 12,\n",
    "                  'type_archi': 'RESNET18'}\n",
    "\n",
    "DenseNet_base_cifar_div = {'file_name' : 'DenseNet_Base',\n",
    "                  'training_time(s)' : 23451,\n",
    "                  'test_result_loss' : 2.0946,\n",
    "                  'test_result_acc' : 0.4428,\n",
    "                  'train_result_acc' : 0.4484,\n",
    "                  'train_result_loss' : 2.0254,\n",
    "                  'nb_layers' : 92,\n",
    "                  'epochs': 50,\n",
    "                  'type_archi': 'DENSENET_BASE'}\n",
    "\n",
    "DenseNet121_cifar_div = {'file_name' : 'DenseNet121',\n",
    "                  'training_time(s)' : 17296,\n",
    "                  'test_result_loss' : 3.1953,\n",
    "                  'test_result_acc' : 0.2490,\n",
    "                  'train_result_acc' : 0.9564,\n",
    "                  'train_result_loss' : 0.1495,\n",
    "                  'nb_layers' : 430,\n",
    "                  'epochs': 11,\n",
    "                  'type_archi': 'DENSENET121'}"
   ]
  },
  {
   "cell_type": "code",
   "execution_count": 8,
   "metadata": {},
   "outputs": [],
   "source": [
    "data_soa_diversitas = pd.DataFrame([Lenet5_cifar_div, resnet18_cifar_div, DenseNet_base_cifar_div, DenseNet121_cifar_div], \n",
    "                        index = [0,1,2,3], \n",
    "                        columns=['file_name', \n",
    "                                 'training_time(s)', \n",
    "                                 'test_result_loss', \n",
    "                                 'test_result_acc',\n",
    "                                 'train_result_acc',\n",
    "                                 'train_result_loss',\n",
    "                                 'nb_layers',\n",
    "                                 'epochs',\n",
    "                                 'type_archi']\n",
    "                       )"
   ]
  },
  {
   "cell_type": "code",
   "execution_count": 9,
   "metadata": {},
   "outputs": [],
   "source": [
    "data_soa_diversitas[\"Diff\"] = data_soa_diversitas['train_result_acc']-data_soa_diversitas['test_result_acc']"
   ]
  },
  {
   "cell_type": "code",
   "execution_count": 10,
   "metadata": {},
   "outputs": [
    {
     "data": {
      "text/html": [
       "<div>\n",
       "<style scoped>\n",
       "    .dataframe tbody tr th:only-of-type {\n",
       "        vertical-align: middle;\n",
       "    }\n",
       "\n",
       "    .dataframe tbody tr th {\n",
       "        vertical-align: top;\n",
       "    }\n",
       "\n",
       "    .dataframe thead th {\n",
       "        text-align: right;\n",
       "    }\n",
       "</style>\n",
       "<table border=\"1\" class=\"dataframe\">\n",
       "  <thead>\n",
       "    <tr style=\"text-align: right;\">\n",
       "      <th></th>\n",
       "      <th>file_name</th>\n",
       "      <th>training_time(s)</th>\n",
       "      <th>test_result_loss</th>\n",
       "      <th>test_result_acc</th>\n",
       "      <th>train_result_acc</th>\n",
       "      <th>train_result_loss</th>\n",
       "      <th>nb_layers</th>\n",
       "      <th>epochs</th>\n",
       "      <th>type_archi</th>\n",
       "      <th>Diff</th>\n",
       "    </tr>\n",
       "  </thead>\n",
       "  <tbody>\n",
       "    <tr>\n",
       "      <th>0</th>\n",
       "      <td>Lenet5</td>\n",
       "      <td>860</td>\n",
       "      <td>0.7470</td>\n",
       "      <td>0.7529</td>\n",
       "      <td>0.8712</td>\n",
       "      <td>0.4110</td>\n",
       "      <td>11</td>\n",
       "      <td>37</td>\n",
       "      <td>LENET5</td>\n",
       "      <td>0.1183</td>\n",
       "    </tr>\n",
       "    <tr>\n",
       "      <th>1</th>\n",
       "      <td>Resnet18</td>\n",
       "      <td>3912</td>\n",
       "      <td>2.7862</td>\n",
       "      <td>0.4143</td>\n",
       "      <td>0.8973</td>\n",
       "      <td>0.3026</td>\n",
       "      <td>72</td>\n",
       "      <td>12</td>\n",
       "      <td>RESNET18</td>\n",
       "      <td>0.4830</td>\n",
       "    </tr>\n",
       "    <tr>\n",
       "      <th>2</th>\n",
       "      <td>DenseNet_Base</td>\n",
       "      <td>23451</td>\n",
       "      <td>2.0946</td>\n",
       "      <td>0.4428</td>\n",
       "      <td>0.4484</td>\n",
       "      <td>2.0254</td>\n",
       "      <td>92</td>\n",
       "      <td>50</td>\n",
       "      <td>DENSENET_BASE</td>\n",
       "      <td>0.0056</td>\n",
       "    </tr>\n",
       "    <tr>\n",
       "      <th>3</th>\n",
       "      <td>DenseNet121</td>\n",
       "      <td>17296</td>\n",
       "      <td>3.1953</td>\n",
       "      <td>0.2490</td>\n",
       "      <td>0.9564</td>\n",
       "      <td>0.1495</td>\n",
       "      <td>430</td>\n",
       "      <td>11</td>\n",
       "      <td>DENSENET121</td>\n",
       "      <td>0.7074</td>\n",
       "    </tr>\n",
       "  </tbody>\n",
       "</table>\n",
       "</div>"
      ],
      "text/plain": [
       "       file_name  training_time(s)  test_result_loss  test_result_acc  \\\n",
       "0         Lenet5               860            0.7470           0.7529   \n",
       "1       Resnet18              3912            2.7862           0.4143   \n",
       "2  DenseNet_Base             23451            2.0946           0.4428   \n",
       "3    DenseNet121             17296            3.1953           0.2490   \n",
       "\n",
       "   train_result_acc  train_result_loss  nb_layers  epochs     type_archi  \\\n",
       "0            0.8712             0.4110         11      37         LENET5   \n",
       "1            0.8973             0.3026         72      12       RESNET18   \n",
       "2            0.4484             2.0254         92      50  DENSENET_BASE   \n",
       "3            0.9564             0.1495        430      11    DENSENET121   \n",
       "\n",
       "     Diff  \n",
       "0  0.1183  \n",
       "1  0.4830  \n",
       "2  0.0056  \n",
       "3  0.7074  "
      ]
     },
     "execution_count": 10,
     "metadata": {},
     "output_type": "execute_result"
    }
   ],
   "source": [
    "data_soa_diversitas"
   ]
  },
  {
   "cell_type": "code",
   "execution_count": 11,
   "metadata": {},
   "outputs": [
    {
     "data": {
      "text/plain": [
       "<function matplotlib.pyplot.show(close=None, block=None)>"
      ]
     },
     "execution_count": 11,
     "metadata": {},
     "output_type": "execute_result"
    },
    {
     "data": {
      "image/png": "[encoded data removed]",
      "text/plain": [
       "<Figure size 432x288 with 1 Axes>"
      ]
     },
     "metadata": {
      "needs_background": "light"
     },
     "output_type": "display_data"
    }
   ],
   "source": [
    "plt.scatter(data_soa_diversitas['file_name'], data_soa_diversitas['test_result_acc'], label=\"test\")\n",
    "plt.scatter(data_soa_diversitas['file_name'], data_soa_diversitas['train_result_acc'], label=\"train\")\n",
    "\n",
    "plt.legend()\n",
    "plt.show"
   ]
  },
  {
   "cell_type": "markdown",
   "metadata": {},
   "source": [
    "# Architecture Data"
   ]
  },
  {
   "cell_type": "code",
   "execution_count": 14,
   "metadata": {},
   "outputs": [],
   "source": [
    "data = pd.read_csv('architecture_results_v3.csv')"
   ]
  },
  {
   "cell_type": "code",
   "execution_count": 15,
   "metadata": {},
   "outputs": [
    {
     "data": {
      "text/html": [
       "<div>\n",
       "<style scoped>\n",
       "    .dataframe tbody tr th:only-of-type {\n",
       "        vertical-align: middle;\n",
       "    }\n",
       "\n",
       "    .dataframe tbody tr th {\n",
       "        vertical-align: top;\n",
       "    }\n",
       "\n",
       "    .dataframe thead th {\n",
       "        text-align: right;\n",
       "    }\n",
       "</style>\n",
       "<table border=\"1\" class=\"dataframe\">\n",
       "  <thead>\n",
       "    <tr style=\"text-align: right;\">\n",
       "      <th></th>\n",
       "      <th>file_name</th>\n",
       "      <th>training_time(s)</th>\n",
       "      <th>test_result_loss</th>\n",
       "      <th>test_result_acc</th>\n",
       "      <th>train_result_acc</th>\n",
       "      <th>train_result_loss</th>\n",
       "      <th>nb_layers</th>\n",
       "      <th>epochs</th>\n",
       "      <th>type_archi</th>\n",
       "    </tr>\n",
       "  </thead>\n",
       "  <tbody>\n",
       "    <tr>\n",
       "      <th>0</th>\n",
       "      <td>archi_v3_1</td>\n",
       "      <td>137.961022</td>\n",
       "      <td>0.172679</td>\n",
       "      <td>0.9430</td>\n",
       "      <td>0.946383</td>\n",
       "      <td>0.158794</td>\n",
       "      <td>32</td>\n",
       "      <td>5</td>\n",
       "      <td>RESNET</td>\n",
       "    </tr>\n",
       "    <tr>\n",
       "      <th>1</th>\n",
       "      <td>archi_v3_2</td>\n",
       "      <td>34.092646</td>\n",
       "      <td>1.177252</td>\n",
       "      <td>0.5959</td>\n",
       "      <td>0.593417</td>\n",
       "      <td>1.198786</td>\n",
       "      <td>5</td>\n",
       "      <td>5</td>\n",
       "      <td>DENSENET</td>\n",
       "    </tr>\n",
       "    <tr>\n",
       "      <th>2</th>\n",
       "      <td>archi_v3_3</td>\n",
       "      <td>70.545813</td>\n",
       "      <td>0.560783</td>\n",
       "      <td>0.7953</td>\n",
       "      <td>0.786633</td>\n",
       "      <td>0.594876</td>\n",
       "      <td>25</td>\n",
       "      <td>5</td>\n",
       "      <td>ALL</td>\n",
       "    </tr>\n",
       "    <tr>\n",
       "      <th>3</th>\n",
       "      <td>archi_v3_4</td>\n",
       "      <td>32.900410</td>\n",
       "      <td>1.212360</td>\n",
       "      <td>0.5561</td>\n",
       "      <td>0.556550</td>\n",
       "      <td>1.236942</td>\n",
       "      <td>7</td>\n",
       "      <td>5</td>\n",
       "      <td>LENET</td>\n",
       "    </tr>\n",
       "    <tr>\n",
       "      <th>4</th>\n",
       "      <td>archi_v3_5</td>\n",
       "      <td>156.514521</td>\n",
       "      <td>3.457778</td>\n",
       "      <td>0.3775</td>\n",
       "      <td>0.374550</td>\n",
       "      <td>3.523504</td>\n",
       "      <td>56</td>\n",
       "      <td>5</td>\n",
       "      <td>ALL</td>\n",
       "    </tr>\n",
       "    <tr>\n",
       "      <th>...</th>\n",
       "      <td>...</td>\n",
       "      <td>...</td>\n",
       "      <td>...</td>\n",
       "      <td>...</td>\n",
       "      <td>...</td>\n",
       "      <td>...</td>\n",
       "      <td>...</td>\n",
       "      <td>...</td>\n",
       "      <td>...</td>\n",
       "    </tr>\n",
       "    <tr>\n",
       "      <th>225</th>\n",
       "      <td>archi_v3_96</td>\n",
       "      <td>444.906419</td>\n",
       "      <td>1.200992</td>\n",
       "      <td>0.5827</td>\n",
       "      <td>0.672320</td>\n",
       "      <td>0.957547</td>\n",
       "      <td>6</td>\n",
       "      <td>50</td>\n",
       "      <td>DENSENET</td>\n",
       "    </tr>\n",
       "    <tr>\n",
       "      <th>226</th>\n",
       "      <td>archi_v3_97</td>\n",
       "      <td>2624.874774</td>\n",
       "      <td>2.784048</td>\n",
       "      <td>0.1620</td>\n",
       "      <td>0.162600</td>\n",
       "      <td>2.788476</td>\n",
       "      <td>54</td>\n",
       "      <td>14</td>\n",
       "      <td>DENSENET</td>\n",
       "    </tr>\n",
       "    <tr>\n",
       "      <th>227</th>\n",
       "      <td>archi_v3_98</td>\n",
       "      <td>3192.642611</td>\n",
       "      <td>1.566883</td>\n",
       "      <td>0.5211</td>\n",
       "      <td>0.716900</td>\n",
       "      <td>0.885460</td>\n",
       "      <td>23</td>\n",
       "      <td>50</td>\n",
       "      <td>DENSENET</td>\n",
       "    </tr>\n",
       "    <tr>\n",
       "      <th>228</th>\n",
       "      <td>archi_v3_99</td>\n",
       "      <td>2824.635496</td>\n",
       "      <td>2.084113</td>\n",
       "      <td>0.2189</td>\n",
       "      <td>0.212580</td>\n",
       "      <td>2.092377</td>\n",
       "      <td>37</td>\n",
       "      <td>12</td>\n",
       "      <td>DENSENET</td>\n",
       "    </tr>\n",
       "    <tr>\n",
       "      <th>229</th>\n",
       "      <td>archi_v3_100</td>\n",
       "      <td>409.195133</td>\n",
       "      <td>1.731315</td>\n",
       "      <td>0.3660</td>\n",
       "      <td>0.370680</td>\n",
       "      <td>1.726848</td>\n",
       "      <td>17</td>\n",
       "      <td>15</td>\n",
       "      <td>DENSENET</td>\n",
       "    </tr>\n",
       "  </tbody>\n",
       "</table>\n",
       "<p>230 rows × 9 columns</p>\n",
       "</div>"
      ],
      "text/plain": [
       "        file_name  training_time(s)  test_result_loss  test_result_acc  \\\n",
       "0      archi_v3_1        137.961022          0.172679           0.9430   \n",
       "1      archi_v3_2         34.092646          1.177252           0.5959   \n",
       "2      archi_v3_3         70.545813          0.560783           0.7953   \n",
       "3      archi_v3_4         32.900410          1.212360           0.5561   \n",
       "4      archi_v3_5        156.514521          3.457778           0.3775   \n",
       "..            ...               ...               ...              ...   \n",
       "225   archi_v3_96        444.906419          1.200992           0.5827   \n",
       "226   archi_v3_97       2624.874774          2.784048           0.1620   \n",
       "227   archi_v3_98       3192.642611          1.566883           0.5211   \n",
       "228   archi_v3_99       2824.635496          2.084113           0.2189   \n",
       "229  archi_v3_100        409.195133          1.731315           0.3660   \n",
       "\n",
       "     train_result_acc  train_result_loss  nb_layers  epochs type_archi  \n",
       "0            0.946383           0.158794         32       5     RESNET  \n",
       "1            0.593417           1.198786          5       5   DENSENET  \n",
       "2            0.786633           0.594876         25       5        ALL  \n",
       "3            0.556550           1.236942          7       5      LENET  \n",
       "4            0.374550           3.523504         56       5        ALL  \n",
       "..                ...                ...        ...     ...        ...  \n",
       "225          0.672320           0.957547          6      50   DENSENET  \n",
       "226          0.162600           2.788476         54      14   DENSENET  \n",
       "227          0.716900           0.885460         23      50   DENSENET  \n",
       "228          0.212580           2.092377         37      12   DENSENET  \n",
       "229          0.370680           1.726848         17      15   DENSENET  \n",
       "\n",
       "[230 rows x 9 columns]"
      ]
     },
     "execution_count": 15,
     "metadata": {},
     "output_type": "execute_result"
    }
   ],
   "source": [
    "data"
   ]
  },
  {
   "cell_type": "markdown",
   "metadata": {},
   "source": [
    "# Experiment 1 : State Machine v3"
   ]
  },
  {
   "cell_type": "code",
   "execution_count": 34,
   "metadata": {},
   "outputs": [],
   "source": [
    "test1 = data[:10]"
   ]
  },
  {
   "cell_type": "code",
   "execution_count": 35,
   "metadata": {},
   "outputs": [
    {
     "data": {
      "text/plain": [
       "<seaborn.axisgrid.FacetGrid at 0x23bb986dd88>"
      ]
     },
     "execution_count": 35,
     "metadata": {},
     "output_type": "execute_result"
    },
    {
     "data": {
      "image/png": "[encoded data removed]",
      "text/plain": [
       "<Figure size 360x360 with 1 Axes>"
      ]
     },
     "metadata": {
      "needs_background": "light"
     },
     "output_type": "display_data"
    }
   ],
   "source": [
    "sns.displot(test1, x=\"type_archi\")"
   ]
  },
  {
   "cell_type": "code",
   "execution_count": 36,
   "metadata": {},
   "outputs": [
    {
     "data": {
      "text/plain": [
       "<seaborn.axisgrid.FacetGrid at 0x23bb9a9e908>"
      ]
     },
     "execution_count": 36,
     "metadata": {},
     "output_type": "execute_result"
    },
    {
     "data": {
      "image/png": "[encoded data removed]",
      "text/plain": [
       "<Figure size 449.75x360 with 1 Axes>"
      ]
     },
     "metadata": {
      "needs_background": "light"
     },
     "output_type": "display_data"
    }
   ],
   "source": [
    "sns.lmplot(\n",
    "    x='training_time(s)',\n",
    "    y='test_result_acc',\n",
    "    data=test1,\n",
    "    hue='type_archi',\n",
    "    fit_reg=False\n",
    ")"
   ]
  },
  {
   "cell_type": "code",
   "execution_count": 37,
   "metadata": {},
   "outputs": [
    {
     "data": {
      "text/plain": [
       "<AxesSubplot:xlabel='type_archi', ylabel='test_result_acc'>"
      ]
     },
     "execution_count": 37,
     "metadata": {},
     "output_type": "execute_result"
    },
    {
     "data": {
      "image/png": "[encoded data removed]",
      "text/plain": [
       "<Figure size 432x288 with 1 Axes>"
      ]
     },
     "metadata": {
      "needs_background": "light"
     },
     "output_type": "display_data"
    }
   ],
   "source": [
    "sns.boxplot(y='test_result_acc', x='type_archi' ,data=test1)"
   ]
  },
  {
   "cell_type": "code",
   "execution_count": 38,
   "metadata": {},
   "outputs": [
    {
     "data": {
      "text/plain": [
       "<AxesSubplot:xlabel='type_archi', ylabel='training_time(s)'>"
      ]
     },
     "execution_count": 38,
     "metadata": {},
     "output_type": "execute_result"
    },
    {
     "data": {
      "image/png": "[encoded data removed]",
      "text/plain": [
       "<Figure size 432x288 with 1 Axes>"
      ]
     },
     "metadata": {
      "needs_background": "light"
     },
     "output_type": "display_data"
    }
   ],
   "source": [
    "sns.boxplot(y='training_time(s)', x='type_archi', data=test1)"
   ]
  },
  {
   "cell_type": "code",
   "execution_count": 39,
   "metadata": {},
   "outputs": [
    {
     "data": {
      "text/plain": [
       "<seaborn.axisgrid.FacetGrid at 0x23bbac6e188>"
      ]
     },
     "execution_count": 39,
     "metadata": {},
     "output_type": "execute_result"
    },
    {
     "data": {
      "image/png": "[encoded data removed]",
      "text/plain": [
       "<Figure size 449.75x360 with 1 Axes>"
      ]
     },
     "metadata": {
      "needs_background": "light"
     },
     "output_type": "display_data"
    }
   ],
   "source": [
    "sns.lmplot(\n",
    "    x='training_time(s)',\n",
    "    y='nb_layers',\n",
    "    data=test1,\n",
    "    fit_reg=False,\n",
    "    hue='type_archi'\n",
    ")"
   ]
  },
  {
   "cell_type": "code",
   "execution_count": 40,
   "metadata": {},
   "outputs": [
    {
     "data": {
      "text/plain": [
       "<seaborn.axisgrid.FacetGrid at 0x23bbacfa308>"
      ]
     },
     "execution_count": 40,
     "metadata": {},
     "output_type": "execute_result"
    },
    {
     "data": {
      "image/png": "[encoded data removed]",
      "text/plain": [
       "<Figure size 449.75x360 with 1 Axes>"
      ]
     },
     "metadata": {
      "needs_background": "light"
     },
     "output_type": "display_data"
    }
   ],
   "source": [
    "sns.lmplot(\n",
    "    x='nb_layers',\n",
    "    y='test_result_acc',\n",
    "    data=test1,\n",
    "    fit_reg=False,\n",
    "    hue='type_archi'\n",
    ")"
   ]
  },
  {
   "cell_type": "markdown",
   "metadata": {},
   "source": [
    "# Experiment 2 : Block"
   ]
  },
  {
   "cell_type": "code",
   "execution_count": 13,
   "metadata": {},
   "outputs": [],
   "source": [
    "test2 = data[10:40]"
   ]
  },
  {
   "cell_type": "code",
   "execution_count": 46,
   "metadata": {},
   "outputs": [
    {
     "data": {
      "text/plain": [
       "<seaborn.axisgrid.FacetGrid at 0x23bbace0c48>"
      ]
     },
     "execution_count": 46,
     "metadata": {},
     "output_type": "execute_result"
    },
    {
     "data": {
      "image/png": "[encoded data removed]",
      "text/plain": [
       "<Figure size 360x360 with 1 Axes>"
      ]
     },
     "metadata": {
      "needs_background": "light"
     },
     "output_type": "display_data"
    }
   ],
   "source": [
    "sns.displot(test2, x=\"type_archi\")"
   ]
  },
  {
   "cell_type": "code",
   "execution_count": 47,
   "metadata": {},
   "outputs": [
    {
     "data": {
      "text/plain": [
       "<seaborn.axisgrid.FacetGrid at 0x23bbad9fb88>"
      ]
     },
     "execution_count": 47,
     "metadata": {},
     "output_type": "execute_result"
    },
    {
     "data": {
      "image/png": "[encoded data removed]",
      "text/plain": [
       "<Figure size 449.75x360 with 1 Axes>"
      ]
     },
     "metadata": {
      "needs_background": "light"
     },
     "output_type": "display_data"
    }
   ],
   "source": [
    "sns.lmplot(\n",
    "    x='training_time(s)',\n",
    "    y='test_result_acc',\n",
    "    data=test2,\n",
    "    hue='type_archi',\n",
    "    fit_reg=False\n",
    ")"
   ]
  },
  {
   "cell_type": "code",
   "execution_count": 48,
   "metadata": {},
   "outputs": [
    {
     "data": {
      "text/plain": [
       "<AxesSubplot:xlabel='type_archi', ylabel='test_result_acc'>"
      ]
     },
     "execution_count": 48,
     "metadata": {},
     "output_type": "execute_result"
    },
    {
     "data": {
      "image/png": "[encoded data removed]",
      "text/plain": [
       "<Figure size 432x288 with 1 Axes>"
      ]
     },
     "metadata": {
      "needs_background": "light"
     },
     "output_type": "display_data"
    }
   ],
   "source": [
    "sns.boxplot(y='test_result_acc', x='type_archi' ,data=test2)"
   ]
  },
  {
   "cell_type": "code",
   "execution_count": 49,
   "metadata": {},
   "outputs": [
    {
     "data": {
      "text/plain": [
       "<AxesSubplot:xlabel='type_archi', ylabel='training_time(s)'>"
      ]
     },
     "execution_count": 49,
     "metadata": {},
     "output_type": "execute_result"
    },
    {
     "data": {
      "image/png": "[encoded data removed]",
      "text/plain": [
       "<Figure size 432x288 with 1 Axes>"
      ]
     },
     "metadata": {
      "needs_background": "light"
     },
     "output_type": "display_data"
    }
   ],
   "source": [
    "sns.boxplot(y='training_time(s)', x='type_archi', data=test2)"
   ]
  },
  {
   "cell_type": "code",
   "execution_count": 54,
   "metadata": {},
   "outputs": [
    {
     "data": {
      "text/plain": [
       "<seaborn.axisgrid.FacetGrid at 0x23bbc18a288>"
      ]
     },
     "execution_count": 54,
     "metadata": {},
     "output_type": "execute_result"
    },
    {
     "data": {
      "image/png": "[encoded data removed]",
      "text/plain": [
       "<Figure size 449.75x360 with 1 Axes>"
      ]
     },
     "metadata": {
      "needs_background": "light"
     },
     "output_type": "display_data"
    }
   ],
   "source": [
    "sns.lmplot(\n",
    "    x='training_time(s)',\n",
    "    y='nb_layers',\n",
    "    data=test2,\n",
    "    fit_reg=False,\n",
    "    hue='type_archi'\n",
    ")"
   ]
  },
  {
   "cell_type": "code",
   "execution_count": 51,
   "metadata": {},
   "outputs": [
    {
     "data": {
      "text/plain": [
       "<seaborn.axisgrid.FacetGrid at 0x23bbb0285c8>"
      ]
     },
     "execution_count": 51,
     "metadata": {},
     "output_type": "execute_result"
    },
    {
     "data": {
      "image/png": "[encoded data removed]",
      "text/plain": [
       "<Figure size 449.75x360 with 1 Axes>"
      ]
     },
     "metadata": {
      "needs_background": "light"
     },
     "output_type": "display_data"
    }
   ],
   "source": [
    "sns.lmplot(\n",
    "    x='nb_layers',\n",
    "    y='test_result_acc',\n",
    "    data=test2,\n",
    "    fit_reg=False,\n",
    "    hue='type_archi'\n",
    ")"
   ]
  },
  {
   "cell_type": "code",
   "execution_count": 14,
   "metadata": {},
   "outputs": [
    {
     "data": {
      "text/plain": [
       "<seaborn.axisgrid.FacetGrid at 0x1cc21891b08>"
      ]
     },
     "execution_count": 14,
     "metadata": {},
     "output_type": "execute_result"
    },
    {
     "data": {
      "image/png": "[encoded data removed]",
      "text/plain": [
       "<Figure size 360x360 with 1 Axes>"
      ]
     },
     "metadata": {
      "needs_background": "light"
     },
     "output_type": "display_data"
    }
   ],
   "source": [
    "sns.lmplot(\n",
    "    x='training_time(s)',\n",
    "    y='nb_layers',\n",
    "    data=test2,\n",
    "    fit_reg=True\n",
    ")"
   ]
  },
  {
   "cell_type": "markdown",
   "metadata": {},
   "source": [
    "# Experiment 3 : Cifar"
   ]
  },
  {
   "cell_type": "code",
   "execution_count": 29,
   "metadata": {},
   "outputs": [],
   "source": [
    "test3 = data[40:70]"
   ]
  },
  {
   "cell_type": "code",
   "execution_count": 30,
   "metadata": {},
   "outputs": [
    {
     "data": {
      "text/html": [
       "<div>\n",
       "<style scoped>\n",
       "    .dataframe tbody tr th:only-of-type {\n",
       "        vertical-align: middle;\n",
       "    }\n",
       "\n",
       "    .dataframe tbody tr th {\n",
       "        vertical-align: top;\n",
       "    }\n",
       "\n",
       "    .dataframe thead th {\n",
       "        text-align: right;\n",
       "    }\n",
       "</style>\n",
       "<table border=\"1\" class=\"dataframe\">\n",
       "  <thead>\n",
       "    <tr style=\"text-align: right;\">\n",
       "      <th></th>\n",
       "      <th>file_name</th>\n",
       "      <th>training_time(s)</th>\n",
       "      <th>test_result_loss</th>\n",
       "      <th>test_result_acc</th>\n",
       "      <th>train_result_acc</th>\n",
       "      <th>train_result_loss</th>\n",
       "      <th>nb_layers</th>\n",
       "      <th>epochs</th>\n",
       "      <th>type_archi</th>\n",
       "    </tr>\n",
       "  </thead>\n",
       "  <tbody>\n",
       "    <tr>\n",
       "      <th>40</th>\n",
       "      <td>archi_v3_1</td>\n",
       "      <td>114.101931</td>\n",
       "      <td>1.460473</td>\n",
       "      <td>0.4703</td>\n",
       "      <td>0.48020</td>\n",
       "      <td>1.441289</td>\n",
       "      <td>32</td>\n",
       "      <td>5</td>\n",
       "      <td>RESNET</td>\n",
       "    </tr>\n",
       "    <tr>\n",
       "      <th>41</th>\n",
       "      <td>archi_v3_2</td>\n",
       "      <td>46.496251</td>\n",
       "      <td>1.803117</td>\n",
       "      <td>0.3246</td>\n",
       "      <td>0.32260</td>\n",
       "      <td>1.803775</td>\n",
       "      <td>18</td>\n",
       "      <td>5</td>\n",
       "      <td>DENSENET</td>\n",
       "    </tr>\n",
       "    <tr>\n",
       "      <th>42</th>\n",
       "      <td>archi_v3_3</td>\n",
       "      <td>80.009860</td>\n",
       "      <td>1.296909</td>\n",
       "      <td>0.5268</td>\n",
       "      <td>0.55216</td>\n",
       "      <td>1.225355</td>\n",
       "      <td>23</td>\n",
       "      <td>5</td>\n",
       "      <td>RESNET</td>\n",
       "    </tr>\n",
       "    <tr>\n",
       "      <th>43</th>\n",
       "      <td>archi_v3_4</td>\n",
       "      <td>188.287363</td>\n",
       "      <td>1.444496</td>\n",
       "      <td>0.4808</td>\n",
       "      <td>0.49434</td>\n",
       "      <td>1.414573</td>\n",
       "      <td>30</td>\n",
       "      <td>5</td>\n",
       "      <td>ALL</td>\n",
       "    </tr>\n",
       "    <tr>\n",
       "      <th>44</th>\n",
       "      <td>archi_v3_5</td>\n",
       "      <td>299.288743</td>\n",
       "      <td>1.937277</td>\n",
       "      <td>0.2170</td>\n",
       "      <td>0.21784</td>\n",
       "      <td>1.934680</td>\n",
       "      <td>26</td>\n",
       "      <td>5</td>\n",
       "      <td>ALL</td>\n",
       "    </tr>\n",
       "    <tr>\n",
       "      <th>45</th>\n",
       "      <td>archi_v3_6</td>\n",
       "      <td>89.250098</td>\n",
       "      <td>2.255981</td>\n",
       "      <td>0.1158</td>\n",
       "      <td>0.11548</td>\n",
       "      <td>2.257101</td>\n",
       "      <td>19</td>\n",
       "      <td>5</td>\n",
       "      <td>DENSENET</td>\n",
       "    </tr>\n",
       "    <tr>\n",
       "      <th>46</th>\n",
       "      <td>archi_v3_7</td>\n",
       "      <td>208.247876</td>\n",
       "      <td>1.265950</td>\n",
       "      <td>0.5530</td>\n",
       "      <td>0.58008</td>\n",
       "      <td>1.178796</td>\n",
       "      <td>31</td>\n",
       "      <td>5</td>\n",
       "      <td>RESNET</td>\n",
       "    </tr>\n",
       "    <tr>\n",
       "      <th>47</th>\n",
       "      <td>archi_v3_8</td>\n",
       "      <td>150.352577</td>\n",
       "      <td>2.031523</td>\n",
       "      <td>0.1887</td>\n",
       "      <td>0.18898</td>\n",
       "      <td>2.035775</td>\n",
       "      <td>41</td>\n",
       "      <td>5</td>\n",
       "      <td>ALL</td>\n",
       "    </tr>\n",
       "    <tr>\n",
       "      <th>48</th>\n",
       "      <td>archi_v3_9</td>\n",
       "      <td>67.913760</td>\n",
       "      <td>1.456546</td>\n",
       "      <td>0.4797</td>\n",
       "      <td>0.50096</td>\n",
       "      <td>1.407333</td>\n",
       "      <td>7</td>\n",
       "      <td>5</td>\n",
       "      <td>LENET</td>\n",
       "    </tr>\n",
       "    <tr>\n",
       "      <th>49</th>\n",
       "      <td>archi_v3_10</td>\n",
       "      <td>47.467861</td>\n",
       "      <td>1.685498</td>\n",
       "      <td>0.3767</td>\n",
       "      <td>0.37402</td>\n",
       "      <td>1.687152</td>\n",
       "      <td>6</td>\n",
       "      <td>5</td>\n",
       "      <td>LENET</td>\n",
       "    </tr>\n",
       "    <tr>\n",
       "      <th>50</th>\n",
       "      <td>archi_v3_11</td>\n",
       "      <td>92.053016</td>\n",
       "      <td>1.473383</td>\n",
       "      <td>0.4664</td>\n",
       "      <td>0.46846</td>\n",
       "      <td>1.464270</td>\n",
       "      <td>22</td>\n",
       "      <td>5</td>\n",
       "      <td>RESNET</td>\n",
       "    </tr>\n",
       "    <tr>\n",
       "      <th>51</th>\n",
       "      <td>archi_v3_12</td>\n",
       "      <td>114.744689</td>\n",
       "      <td>1.361452</td>\n",
       "      <td>0.5118</td>\n",
       "      <td>0.51814</td>\n",
       "      <td>1.347879</td>\n",
       "      <td>14</td>\n",
       "      <td>5</td>\n",
       "      <td>RESNET</td>\n",
       "    </tr>\n",
       "    <tr>\n",
       "      <th>52</th>\n",
       "      <td>archi_v3_13</td>\n",
       "      <td>78.055731</td>\n",
       "      <td>1.968408</td>\n",
       "      <td>0.2621</td>\n",
       "      <td>0.26528</td>\n",
       "      <td>1.979267</td>\n",
       "      <td>22</td>\n",
       "      <td>5</td>\n",
       "      <td>RESNET</td>\n",
       "    </tr>\n",
       "    <tr>\n",
       "      <th>53</th>\n",
       "      <td>archi_v3_14</td>\n",
       "      <td>328.929410</td>\n",
       "      <td>1.069976</td>\n",
       "      <td>0.6268</td>\n",
       "      <td>0.68386</td>\n",
       "      <td>0.897107</td>\n",
       "      <td>48</td>\n",
       "      <td>5</td>\n",
       "      <td>RESNET</td>\n",
       "    </tr>\n",
       "    <tr>\n",
       "      <th>54</th>\n",
       "      <td>archi_v3_15</td>\n",
       "      <td>59.117589</td>\n",
       "      <td>1.496593</td>\n",
       "      <td>0.4456</td>\n",
       "      <td>0.44630</td>\n",
       "      <td>1.492681</td>\n",
       "      <td>14</td>\n",
       "      <td>5</td>\n",
       "      <td>DENSENET</td>\n",
       "    </tr>\n",
       "    <tr>\n",
       "      <th>55</th>\n",
       "      <td>archi_v3_16</td>\n",
       "      <td>32.623046</td>\n",
       "      <td>1.733514</td>\n",
       "      <td>0.3588</td>\n",
       "      <td>0.36436</td>\n",
       "      <td>1.726368</td>\n",
       "      <td>5</td>\n",
       "      <td>5</td>\n",
       "      <td>LENET</td>\n",
       "    </tr>\n",
       "    <tr>\n",
       "      <th>56</th>\n",
       "      <td>archi_v3_17</td>\n",
       "      <td>185.171742</td>\n",
       "      <td>1.809160</td>\n",
       "      <td>0.3407</td>\n",
       "      <td>0.33582</td>\n",
       "      <td>1.814764</td>\n",
       "      <td>19</td>\n",
       "      <td>5</td>\n",
       "      <td>DENSENET</td>\n",
       "    </tr>\n",
       "    <tr>\n",
       "      <th>57</th>\n",
       "      <td>archi_v3_18</td>\n",
       "      <td>149.700083</td>\n",
       "      <td>1.320446</td>\n",
       "      <td>0.5277</td>\n",
       "      <td>0.53676</td>\n",
       "      <td>1.298339</td>\n",
       "      <td>8</td>\n",
       "      <td>5</td>\n",
       "      <td>LENET</td>\n",
       "    </tr>\n",
       "    <tr>\n",
       "      <th>58</th>\n",
       "      <td>archi_v3_19</td>\n",
       "      <td>309.328051</td>\n",
       "      <td>1.727240</td>\n",
       "      <td>0.3607</td>\n",
       "      <td>0.36226</td>\n",
       "      <td>1.729516</td>\n",
       "      <td>22</td>\n",
       "      <td>5</td>\n",
       "      <td>DENSENET</td>\n",
       "    </tr>\n",
       "    <tr>\n",
       "      <th>59</th>\n",
       "      <td>archi_v3_20</td>\n",
       "      <td>286.882102</td>\n",
       "      <td>1.284623</td>\n",
       "      <td>0.5405</td>\n",
       "      <td>0.62388</td>\n",
       "      <td>1.063564</td>\n",
       "      <td>54</td>\n",
       "      <td>5</td>\n",
       "      <td>RESNET</td>\n",
       "    </tr>\n",
       "    <tr>\n",
       "      <th>60</th>\n",
       "      <td>archi_v3_21</td>\n",
       "      <td>274.169622</td>\n",
       "      <td>1.600183</td>\n",
       "      <td>0.4213</td>\n",
       "      <td>0.42286</td>\n",
       "      <td>1.595546</td>\n",
       "      <td>37</td>\n",
       "      <td>5</td>\n",
       "      <td>RESNET</td>\n",
       "    </tr>\n",
       "    <tr>\n",
       "      <th>61</th>\n",
       "      <td>archi_v3_22</td>\n",
       "      <td>108.974923</td>\n",
       "      <td>1.584536</td>\n",
       "      <td>0.4341</td>\n",
       "      <td>0.44202</td>\n",
       "      <td>1.545566</td>\n",
       "      <td>9</td>\n",
       "      <td>5</td>\n",
       "      <td>LENET</td>\n",
       "    </tr>\n",
       "    <tr>\n",
       "      <th>62</th>\n",
       "      <td>archi_v3_23</td>\n",
       "      <td>64.151674</td>\n",
       "      <td>1.897018</td>\n",
       "      <td>0.2905</td>\n",
       "      <td>0.29096</td>\n",
       "      <td>1.897272</td>\n",
       "      <td>5</td>\n",
       "      <td>5</td>\n",
       "      <td>LENET</td>\n",
       "    </tr>\n",
       "    <tr>\n",
       "      <th>63</th>\n",
       "      <td>archi_v3_24</td>\n",
       "      <td>104.121960</td>\n",
       "      <td>1.690835</td>\n",
       "      <td>0.3778</td>\n",
       "      <td>0.37380</td>\n",
       "      <td>1.690711</td>\n",
       "      <td>18</td>\n",
       "      <td>5</td>\n",
       "      <td>DENSENET</td>\n",
       "    </tr>\n",
       "    <tr>\n",
       "      <th>64</th>\n",
       "      <td>archi_v3_25</td>\n",
       "      <td>235.500977</td>\n",
       "      <td>2.342998</td>\n",
       "      <td>0.1000</td>\n",
       "      <td>0.10000</td>\n",
       "      <td>2.342981</td>\n",
       "      <td>57</td>\n",
       "      <td>5</td>\n",
       "      <td>DENSENET</td>\n",
       "    </tr>\n",
       "    <tr>\n",
       "      <th>65</th>\n",
       "      <td>archi_v3_26</td>\n",
       "      <td>130.112971</td>\n",
       "      <td>1.473501</td>\n",
       "      <td>0.4662</td>\n",
       "      <td>0.48192</td>\n",
       "      <td>1.445742</td>\n",
       "      <td>22</td>\n",
       "      <td>5</td>\n",
       "      <td>RESNET</td>\n",
       "    </tr>\n",
       "    <tr>\n",
       "      <th>66</th>\n",
       "      <td>archi_v3_27</td>\n",
       "      <td>38.577564</td>\n",
       "      <td>1.550333</td>\n",
       "      <td>0.4490</td>\n",
       "      <td>0.45606</td>\n",
       "      <td>1.533168</td>\n",
       "      <td>7</td>\n",
       "      <td>5</td>\n",
       "      <td>ALL</td>\n",
       "    </tr>\n",
       "    <tr>\n",
       "      <th>67</th>\n",
       "      <td>archi_v3_28</td>\n",
       "      <td>37.346544</td>\n",
       "      <td>1.470961</td>\n",
       "      <td>0.4752</td>\n",
       "      <td>0.48920</td>\n",
       "      <td>1.441330</td>\n",
       "      <td>5</td>\n",
       "      <td>5</td>\n",
       "      <td>LENET</td>\n",
       "    </tr>\n",
       "    <tr>\n",
       "      <th>68</th>\n",
       "      <td>archi_v3_29</td>\n",
       "      <td>60.046226</td>\n",
       "      <td>1.916541</td>\n",
       "      <td>0.2891</td>\n",
       "      <td>0.29066</td>\n",
       "      <td>1.918351</td>\n",
       "      <td>20</td>\n",
       "      <td>5</td>\n",
       "      <td>DENSENET</td>\n",
       "    </tr>\n",
       "    <tr>\n",
       "      <th>69</th>\n",
       "      <td>archi_v3_30</td>\n",
       "      <td>43.212461</td>\n",
       "      <td>1.520845</td>\n",
       "      <td>0.4490</td>\n",
       "      <td>0.45122</td>\n",
       "      <td>1.516919</td>\n",
       "      <td>7</td>\n",
       "      <td>5</td>\n",
       "      <td>LENET</td>\n",
       "    </tr>\n",
       "  </tbody>\n",
       "</table>\n",
       "</div>"
      ],
      "text/plain": [
       "      file_name  training_time(s)  test_result_loss  test_result_acc  \\\n",
       "40   archi_v3_1        114.101931          1.460473           0.4703   \n",
       "41   archi_v3_2         46.496251          1.803117           0.3246   \n",
       "42   archi_v3_3         80.009860          1.296909           0.5268   \n",
       "43   archi_v3_4        188.287363          1.444496           0.4808   \n",
       "44   archi_v3_5        299.288743          1.937277           0.2170   \n",
       "45   archi_v3_6         89.250098          2.255981           0.1158   \n",
       "46   archi_v3_7        208.247876          1.265950           0.5530   \n",
       "47   archi_v3_8        150.352577          2.031523           0.1887   \n",
       "48   archi_v3_9         67.913760          1.456546           0.4797   \n",
       "49  archi_v3_10         47.467861          1.685498           0.3767   \n",
       "50  archi_v3_11         92.053016          1.473383           0.4664   \n",
       "51  archi_v3_12        114.744689          1.361452           0.5118   \n",
       "52  archi_v3_13         78.055731          1.968408           0.2621   \n",
       "53  archi_v3_14        328.929410          1.069976           0.6268   \n",
       "54  archi_v3_15         59.117589          1.496593           0.4456   \n",
       "55  archi_v3_16         32.623046          1.733514           0.3588   \n",
       "56  archi_v3_17        185.171742          1.809160           0.3407   \n",
       "57  archi_v3_18        149.700083          1.320446           0.5277   \n",
       "58  archi_v3_19        309.328051          1.727240           0.3607   \n",
       "59  archi_v3_20        286.882102          1.284623           0.5405   \n",
       "60  archi_v3_21        274.169622          1.600183           0.4213   \n",
       "61  archi_v3_22        108.974923          1.584536           0.4341   \n",
       "62  archi_v3_23         64.151674          1.897018           0.2905   \n",
       "63  archi_v3_24        104.121960          1.690835           0.3778   \n",
       "64  archi_v3_25        235.500977          2.342998           0.1000   \n",
       "65  archi_v3_26        130.112971          1.473501           0.4662   \n",
       "66  archi_v3_27         38.577564          1.550333           0.4490   \n",
       "67  archi_v3_28         37.346544          1.470961           0.4752   \n",
       "68  archi_v3_29         60.046226          1.916541           0.2891   \n",
       "69  archi_v3_30         43.212461          1.520845           0.4490   \n",
       "\n",
       "    train_result_acc  train_result_loss  nb_layers  epochs type_archi  \n",
       "40           0.48020           1.441289         32       5     RESNET  \n",
       "41           0.32260           1.803775         18       5   DENSENET  \n",
       "42           0.55216           1.225355         23       5     RESNET  \n",
       "43           0.49434           1.414573         30       5        ALL  \n",
       "44           0.21784           1.934680         26       5        ALL  \n",
       "45           0.11548           2.257101         19       5   DENSENET  \n",
       "46           0.58008           1.178796         31       5     RESNET  \n",
       "47           0.18898           2.035775         41       5        ALL  \n",
       "48           0.50096           1.407333          7       5      LENET  \n",
       "49           0.37402           1.687152          6       5      LENET  \n",
       "50           0.46846           1.464270         22       5     RESNET  \n",
       "51           0.51814           1.347879         14       5     RESNET  \n",
       "52           0.26528           1.979267         22       5     RESNET  \n",
       "53           0.68386           0.897107         48       5     RESNET  \n",
       "54           0.44630           1.492681         14       5   DENSENET  \n",
       "55           0.36436           1.726368          5       5      LENET  \n",
       "56           0.33582           1.814764         19       5   DENSENET  \n",
       "57           0.53676           1.298339          8       5      LENET  \n",
       "58           0.36226           1.729516         22       5   DENSENET  \n",
       "59           0.62388           1.063564         54       5     RESNET  \n",
       "60           0.42286           1.595546         37       5     RESNET  \n",
       "61           0.44202           1.545566          9       5      LENET  \n",
       "62           0.29096           1.897272          5       5      LENET  \n",
       "63           0.37380           1.690711         18       5   DENSENET  \n",
       "64           0.10000           2.342981         57       5   DENSENET  \n",
       "65           0.48192           1.445742         22       5     RESNET  \n",
       "66           0.45606           1.533168          7       5        ALL  \n",
       "67           0.48920           1.441330          5       5      LENET  \n",
       "68           0.29066           1.918351         20       5   DENSENET  \n",
       "69           0.45122           1.516919          7       5      LENET  "
      ]
     },
     "execution_count": 30,
     "metadata": {},
     "output_type": "execute_result"
    }
   ],
   "source": [
    "test3"
   ]
  },
  {
   "cell_type": "code",
   "execution_count": 32,
   "metadata": {},
   "outputs": [
    {
     "data": {
      "text/plain": [
       "<function matplotlib.pyplot.show(close=None, block=None)>"
      ]
     },
     "execution_count": 32,
     "metadata": {},
     "output_type": "execute_result"
    },
    {
     "data": {
      "image/png": "[encoded data removed]",
      "text/plain": [
       "<Figure size 432x288 with 1 Axes>"
      ]
     },
     "metadata": {
      "needs_background": "light"
     },
     "output_type": "display_data"
    }
   ],
   "source": [
    "plt.scatter(range(1,31), test3['test_result_acc'], label=\"test\")\n",
    "plt.scatter(range(1,31), test3['train_result_acc'], label=\"train\")\n",
    "\n",
    "plt.legend()\n",
    "plt.show"
   ]
  },
  {
   "cell_type": "code",
   "execution_count": 5,
   "metadata": {},
   "outputs": [
    {
     "data": {
      "text/plain": [
       "<seaborn.axisgrid.FacetGrid at 0x1cc1c14ec08>"
      ]
     },
     "execution_count": 5,
     "metadata": {},
     "output_type": "execute_result"
    },
    {
     "data": {
      "image/png": "[encoded data removed]",
      "text/plain": [
       "<Figure size 360x360 with 1 Axes>"
      ]
     },
     "metadata": {
      "needs_background": "light"
     },
     "output_type": "display_data"
    }
   ],
   "source": [
    "sns.displot(test3, x=\"type_archi\")"
   ]
  },
  {
   "cell_type": "code",
   "execution_count": 6,
   "metadata": {},
   "outputs": [
    {
     "data": {
      "text/plain": [
       "<seaborn.axisgrid.FacetGrid at 0x1cc213cad88>"
      ]
     },
     "execution_count": 6,
     "metadata": {},
     "output_type": "execute_result"
    },
    {
     "data": {
      "image/png": "[encoded data removed]",
      "text/plain": [
       "<Figure size 449.75x360 with 1 Axes>"
      ]
     },
     "metadata": {
      "needs_background": "light"
     },
     "output_type": "display_data"
    }
   ],
   "source": [
    "sns.lmplot(\n",
    "    x='training_time(s)',\n",
    "    y='test_result_acc',\n",
    "    data=test3,\n",
    "    hue='type_archi',\n",
    "    fit_reg=False\n",
    ")"
   ]
  },
  {
   "cell_type": "code",
   "execution_count": 7,
   "metadata": {},
   "outputs": [
    {
     "data": {
      "text/plain": [
       "<AxesSubplot:xlabel='type_archi', ylabel='test_result_acc'>"
      ]
     },
     "execution_count": 7,
     "metadata": {},
     "output_type": "execute_result"
    },
    {
     "data": {
      "image/png": "[encoded data removed]",
      "text/plain": [
       "<Figure size 432x288 with 1 Axes>"
      ]
     },
     "metadata": {
      "needs_background": "light"
     },
     "output_type": "display_data"
    }
   ],
   "source": [
    "sns.boxplot(y='test_result_acc', x='type_archi' ,data=test3)"
   ]
  },
  {
   "cell_type": "code",
   "execution_count": 8,
   "metadata": {},
   "outputs": [
    {
     "data": {
      "text/plain": [
       "<AxesSubplot:xlabel='type_archi', ylabel='training_time(s)'>"
      ]
     },
     "execution_count": 8,
     "metadata": {},
     "output_type": "execute_result"
    },
    {
     "data": {
      "image/png": "[encoded data removed]",
      "text/plain": [
       "<Figure size 432x288 with 1 Axes>"
      ]
     },
     "metadata": {
      "needs_background": "light"
     },
     "output_type": "display_data"
    }
   ],
   "source": [
    "sns.boxplot(y='training_time(s)', x='type_archi', data=test3)"
   ]
  },
  {
   "cell_type": "code",
   "execution_count": 10,
   "metadata": {},
   "outputs": [
    {
     "data": {
      "text/plain": [
       "<seaborn.axisgrid.FacetGrid at 0x1cc216fbec8>"
      ]
     },
     "execution_count": 10,
     "metadata": {},
     "output_type": "execute_result"
    },
    {
     "data": {
      "image/png": "[encoded data removed]",
      "text/plain": [
       "<Figure size 449.75x360 with 1 Axes>"
      ]
     },
     "metadata": {
      "needs_background": "light"
     },
     "output_type": "display_data"
    }
   ],
   "source": [
    "sns.lmplot(\n",
    "    x='training_time(s)',\n",
    "    y='nb_layers',\n",
    "    data=test3,\n",
    "    fit_reg=False,\n",
    "    hue='type_archi'\n",
    ")"
   ]
  },
  {
   "cell_type": "code",
   "execution_count": 11,
   "metadata": {},
   "outputs": [
    {
     "data": {
      "text/plain": [
       "<seaborn.axisgrid.FacetGrid at 0x1cc21796348>"
      ]
     },
     "execution_count": 11,
     "metadata": {},
     "output_type": "execute_result"
    },
    {
     "data": {
      "image/png": "[encoded data removed]",
      "text/plain": [
       "<Figure size 449.75x360 with 1 Axes>"
      ]
     },
     "metadata": {
      "needs_background": "light"
     },
     "output_type": "display_data"
    }
   ],
   "source": [
    "sns.lmplot(\n",
    "    x='nb_layers',\n",
    "    y='test_result_acc',\n",
    "    data=test3,\n",
    "    fit_reg=False,\n",
    "    hue='type_archi'\n",
    ")"
   ]
  },
  {
   "cell_type": "code",
   "execution_count": 12,
   "metadata": {},
   "outputs": [
    {
     "data": {
      "text/plain": [
       "<seaborn.axisgrid.FacetGrid at 0x1cc2181c9c8>"
      ]
     },
     "execution_count": 12,
     "metadata": {},
     "output_type": "execute_result"
    },
    {
     "data": {
      "image/png": "[encoded data removed]",
      "text/plain": [
       "<Figure size 360x360 with 1 Axes>"
      ]
     },
     "metadata": {
      "needs_background": "light"
     },
     "output_type": "display_data"
    }
   ],
   "source": [
    "sns.lmplot(\n",
    "    x='training_time(s)',\n",
    "    y='nb_layers',\n",
    "    data=test3,\n",
    "    fit_reg=True\n",
    ")"
   ]
  },
  {
   "cell_type": "markdown",
   "metadata": {},
   "source": [
    "# Experiment 4 : Epochs\n",
    "- more epochs (max 50)\n",
    "- earlystopping"
   ]
  },
  {
   "cell_type": "code",
   "execution_count": 4,
   "metadata": {},
   "outputs": [],
   "source": [
    "test4 = data[70:100]"
   ]
  },
  {
   "cell_type": "code",
   "execution_count": 5,
   "metadata": {},
   "outputs": [
    {
     "data": {
      "text/html": [
       "<div>\n",
       "<style scoped>\n",
       "    .dataframe tbody tr th:only-of-type {\n",
       "        vertical-align: middle;\n",
       "    }\n",
       "\n",
       "    .dataframe tbody tr th {\n",
       "        vertical-align: top;\n",
       "    }\n",
       "\n",
       "    .dataframe thead th {\n",
       "        text-align: right;\n",
       "    }\n",
       "</style>\n",
       "<table border=\"1\" class=\"dataframe\">\n",
       "  <thead>\n",
       "    <tr style=\"text-align: right;\">\n",
       "      <th></th>\n",
       "      <th>file_name</th>\n",
       "      <th>training_time(s)</th>\n",
       "      <th>test_result_loss</th>\n",
       "      <th>test_result_acc</th>\n",
       "      <th>train_result_acc</th>\n",
       "      <th>train_result_loss</th>\n",
       "      <th>nb_layers</th>\n",
       "      <th>epochs</th>\n",
       "      <th>type_archi</th>\n",
       "    </tr>\n",
       "  </thead>\n",
       "  <tbody>\n",
       "    <tr>\n",
       "      <th>70</th>\n",
       "      <td>archi_v3_1</td>\n",
       "      <td>798.351023</td>\n",
       "      <td>1.289643</td>\n",
       "      <td>0.5326</td>\n",
       "      <td>0.57008</td>\n",
       "      <td>1.183775</td>\n",
       "      <td>32</td>\n",
       "      <td>34</td>\n",
       "      <td>RESNET</td>\n",
       "    </tr>\n",
       "    <tr>\n",
       "      <th>71</th>\n",
       "      <td>archi_v3_2</td>\n",
       "      <td>171.644020</td>\n",
       "      <td>1.749008</td>\n",
       "      <td>0.3465</td>\n",
       "      <td>0.34034</td>\n",
       "      <td>1.746196</td>\n",
       "      <td>18</td>\n",
       "      <td>14</td>\n",
       "      <td>DENSENET</td>\n",
       "    </tr>\n",
       "    <tr>\n",
       "      <th>72</th>\n",
       "      <td>archi_v3_3</td>\n",
       "      <td>627.813203</td>\n",
       "      <td>1.313787</td>\n",
       "      <td>0.5549</td>\n",
       "      <td>0.68076</td>\n",
       "      <td>0.902783</td>\n",
       "      <td>23</td>\n",
       "      <td>39</td>\n",
       "      <td>RESNET</td>\n",
       "    </tr>\n",
       "    <tr>\n",
       "      <th>73</th>\n",
       "      <td>archi_v3_4</td>\n",
       "      <td>749.831077</td>\n",
       "      <td>1.236278</td>\n",
       "      <td>0.5595</td>\n",
       "      <td>0.62448</td>\n",
       "      <td>1.058717</td>\n",
       "      <td>30</td>\n",
       "      <td>30</td>\n",
       "      <td>ALL</td>\n",
       "    </tr>\n",
       "    <tr>\n",
       "      <th>74</th>\n",
       "      <td>archi_v3_5</td>\n",
       "      <td>191.680154</td>\n",
       "      <td>1.929973</td>\n",
       "      <td>0.2138</td>\n",
       "      <td>0.21534</td>\n",
       "      <td>1.932666</td>\n",
       "      <td>26</td>\n",
       "      <td>10</td>\n",
       "      <td>ALL</td>\n",
       "    </tr>\n",
       "    <tr>\n",
       "      <th>75</th>\n",
       "      <td>archi_v3_6</td>\n",
       "      <td>177.881168</td>\n",
       "      <td>2.213312</td>\n",
       "      <td>0.1292</td>\n",
       "      <td>0.12836</td>\n",
       "      <td>2.210249</td>\n",
       "      <td>19</td>\n",
       "      <td>19</td>\n",
       "      <td>DENSENET</td>\n",
       "    </tr>\n",
       "    <tr>\n",
       "      <th>76</th>\n",
       "      <td>archi_v3_7</td>\n",
       "      <td>818.211906</td>\n",
       "      <td>1.340803</td>\n",
       "      <td>0.5474</td>\n",
       "      <td>0.69816</td>\n",
       "      <td>0.853304</td>\n",
       "      <td>31</td>\n",
       "      <td>50</td>\n",
       "      <td>RESNET</td>\n",
       "    </tr>\n",
       "    <tr>\n",
       "      <th>77</th>\n",
       "      <td>archi_v3_8</td>\n",
       "      <td>283.723264</td>\n",
       "      <td>1.933496</td>\n",
       "      <td>0.2081</td>\n",
       "      <td>0.20686</td>\n",
       "      <td>1.936604</td>\n",
       "      <td>41</td>\n",
       "      <td>18</td>\n",
       "      <td>ALL</td>\n",
       "    </tr>\n",
       "    <tr>\n",
       "      <th>78</th>\n",
       "      <td>archi_v3_9</td>\n",
       "      <td>276.185378</td>\n",
       "      <td>1.512171</td>\n",
       "      <td>0.4939</td>\n",
       "      <td>0.63846</td>\n",
       "      <td>1.028738</td>\n",
       "      <td>7</td>\n",
       "      <td>45</td>\n",
       "      <td>LENET</td>\n",
       "    </tr>\n",
       "    <tr>\n",
       "      <th>79</th>\n",
       "      <td>archi_v3_10</td>\n",
       "      <td>109.447790</td>\n",
       "      <td>1.628932</td>\n",
       "      <td>0.4086</td>\n",
       "      <td>0.40380</td>\n",
       "      <td>1.619255</td>\n",
       "      <td>6</td>\n",
       "      <td>20</td>\n",
       "      <td>LENET</td>\n",
       "    </tr>\n",
       "    <tr>\n",
       "      <th>80</th>\n",
       "      <td>archi_v3_11</td>\n",
       "      <td>385.482478</td>\n",
       "      <td>1.389411</td>\n",
       "      <td>0.4952</td>\n",
       "      <td>0.53390</td>\n",
       "      <td>1.295880</td>\n",
       "      <td>22</td>\n",
       "      <td>39</td>\n",
       "      <td>RESNET</td>\n",
       "    </tr>\n",
       "    <tr>\n",
       "      <th>81</th>\n",
       "      <td>archi_v3_12</td>\n",
       "      <td>406.398865</td>\n",
       "      <td>1.201002</td>\n",
       "      <td>0.5742</td>\n",
       "      <td>0.61002</td>\n",
       "      <td>1.096861</td>\n",
       "      <td>14</td>\n",
       "      <td>38</td>\n",
       "      <td>RESNET</td>\n",
       "    </tr>\n",
       "    <tr>\n",
       "      <th>82</th>\n",
       "      <td>archi_v3_13</td>\n",
       "      <td>279.381831</td>\n",
       "      <td>1.931204</td>\n",
       "      <td>0.2889</td>\n",
       "      <td>0.28578</td>\n",
       "      <td>1.936650</td>\n",
       "      <td>22</td>\n",
       "      <td>21</td>\n",
       "      <td>RESNET</td>\n",
       "    </tr>\n",
       "    <tr>\n",
       "      <th>83</th>\n",
       "      <td>archi_v3_14</td>\n",
       "      <td>2862.626125</td>\n",
       "      <td>1.562104</td>\n",
       "      <td>0.6741</td>\n",
       "      <td>0.91178</td>\n",
       "      <td>0.305582</td>\n",
       "      <td>48</td>\n",
       "      <td>26</td>\n",
       "      <td>RESNET</td>\n",
       "    </tr>\n",
       "    <tr>\n",
       "      <th>84</th>\n",
       "      <td>archi_v3_15</td>\n",
       "      <td>365.127640</td>\n",
       "      <td>1.409012</td>\n",
       "      <td>0.4752</td>\n",
       "      <td>0.48598</td>\n",
       "      <td>1.396790</td>\n",
       "      <td>14</td>\n",
       "      <td>22</td>\n",
       "      <td>DENSENET</td>\n",
       "    </tr>\n",
       "    <tr>\n",
       "      <th>85</th>\n",
       "      <td>archi_v3_16</td>\n",
       "      <td>143.422499</td>\n",
       "      <td>1.694817</td>\n",
       "      <td>0.3687</td>\n",
       "      <td>0.38116</td>\n",
       "      <td>1.670411</td>\n",
       "      <td>5</td>\n",
       "      <td>25</td>\n",
       "      <td>LENET</td>\n",
       "    </tr>\n",
       "    <tr>\n",
       "      <th>86</th>\n",
       "      <td>archi_v3_17</td>\n",
       "      <td>505.976903</td>\n",
       "      <td>1.819473</td>\n",
       "      <td>0.3208</td>\n",
       "      <td>0.32264</td>\n",
       "      <td>1.817840</td>\n",
       "      <td>19</td>\n",
       "      <td>23</td>\n",
       "      <td>DENSENET</td>\n",
       "    </tr>\n",
       "    <tr>\n",
       "      <th>87</th>\n",
       "      <td>archi_v3_18</td>\n",
       "      <td>437.157930</td>\n",
       "      <td>1.207778</td>\n",
       "      <td>0.5811</td>\n",
       "      <td>0.59132</td>\n",
       "      <td>1.154364</td>\n",
       "      <td>8</td>\n",
       "      <td>23</td>\n",
       "      <td>LENET</td>\n",
       "    </tr>\n",
       "    <tr>\n",
       "      <th>88</th>\n",
       "      <td>archi_v3_19</td>\n",
       "      <td>666.666937</td>\n",
       "      <td>1.655370</td>\n",
       "      <td>0.3881</td>\n",
       "      <td>0.39306</td>\n",
       "      <td>1.658628</td>\n",
       "      <td>22</td>\n",
       "      <td>21</td>\n",
       "      <td>DENSENET</td>\n",
       "    </tr>\n",
       "    <tr>\n",
       "      <th>89</th>\n",
       "      <td>archi_v3_20</td>\n",
       "      <td>1267.964992</td>\n",
       "      <td>2.086387</td>\n",
       "      <td>0.5507</td>\n",
       "      <td>0.89146</td>\n",
       "      <td>0.380470</td>\n",
       "      <td>54</td>\n",
       "      <td>27</td>\n",
       "      <td>RESNET</td>\n",
       "    </tr>\n",
       "    <tr>\n",
       "      <th>90</th>\n",
       "      <td>archi_v3_21</td>\n",
       "      <td>519.126523</td>\n",
       "      <td>1.667302</td>\n",
       "      <td>0.4200</td>\n",
       "      <td>0.42910</td>\n",
       "      <td>1.626723</td>\n",
       "      <td>37</td>\n",
       "      <td>27</td>\n",
       "      <td>RESNET</td>\n",
       "    </tr>\n",
       "    <tr>\n",
       "      <th>91</th>\n",
       "      <td>archi_v3_22</td>\n",
       "      <td>437.718422</td>\n",
       "      <td>1.572903</td>\n",
       "      <td>0.4390</td>\n",
       "      <td>0.51806</td>\n",
       "      <td>1.334449</td>\n",
       "      <td>9</td>\n",
       "      <td>50</td>\n",
       "      <td>LENET</td>\n",
       "    </tr>\n",
       "    <tr>\n",
       "      <th>92</th>\n",
       "      <td>archi_v3_23</td>\n",
       "      <td>193.604706</td>\n",
       "      <td>1.853253</td>\n",
       "      <td>0.3087</td>\n",
       "      <td>0.31118</td>\n",
       "      <td>1.851650</td>\n",
       "      <td>5</td>\n",
       "      <td>37</td>\n",
       "      <td>LENET</td>\n",
       "    </tr>\n",
       "    <tr>\n",
       "      <th>93</th>\n",
       "      <td>archi_v3_24</td>\n",
       "      <td>151.241717</td>\n",
       "      <td>1.585453</td>\n",
       "      <td>0.4208</td>\n",
       "      <td>0.42204</td>\n",
       "      <td>1.584376</td>\n",
       "      <td>18</td>\n",
       "      <td>16</td>\n",
       "      <td>DENSENET</td>\n",
       "    </tr>\n",
       "    <tr>\n",
       "      <th>94</th>\n",
       "      <td>archi_v3_25</td>\n",
       "      <td>196.002860</td>\n",
       "      <td>2.338582</td>\n",
       "      <td>0.1000</td>\n",
       "      <td>0.10000</td>\n",
       "      <td>2.338510</td>\n",
       "      <td>57</td>\n",
       "      <td>4</td>\n",
       "      <td>DENSENET</td>\n",
       "    </tr>\n",
       "    <tr>\n",
       "      <th>95</th>\n",
       "      <td>archi_v3_26</td>\n",
       "      <td>394.379198</td>\n",
       "      <td>1.374504</td>\n",
       "      <td>0.5060</td>\n",
       "      <td>0.54694</td>\n",
       "      <td>1.264680</td>\n",
       "      <td>22</td>\n",
       "      <td>29</td>\n",
       "      <td>RESNET</td>\n",
       "    </tr>\n",
       "    <tr>\n",
       "      <th>96</th>\n",
       "      <td>archi_v3_27</td>\n",
       "      <td>350.640200</td>\n",
       "      <td>1.331682</td>\n",
       "      <td>0.5235</td>\n",
       "      <td>0.55072</td>\n",
       "      <td>1.253514</td>\n",
       "      <td>7</td>\n",
       "      <td>48</td>\n",
       "      <td>ALL</td>\n",
       "    </tr>\n",
       "    <tr>\n",
       "      <th>97</th>\n",
       "      <td>archi_v3_28</td>\n",
       "      <td>180.019281</td>\n",
       "      <td>1.417438</td>\n",
       "      <td>0.4987</td>\n",
       "      <td>0.51446</td>\n",
       "      <td>1.362157</td>\n",
       "      <td>5</td>\n",
       "      <td>30</td>\n",
       "      <td>LENET</td>\n",
       "    </tr>\n",
       "    <tr>\n",
       "      <th>98</th>\n",
       "      <td>archi_v3_29</td>\n",
       "      <td>268.259743</td>\n",
       "      <td>1.870182</td>\n",
       "      <td>0.3227</td>\n",
       "      <td>0.31810</td>\n",
       "      <td>1.867716</td>\n",
       "      <td>20</td>\n",
       "      <td>18</td>\n",
       "      <td>DENSENET</td>\n",
       "    </tr>\n",
       "    <tr>\n",
       "      <th>99</th>\n",
       "      <td>archi_v3_30</td>\n",
       "      <td>262.071701</td>\n",
       "      <td>1.318694</td>\n",
       "      <td>0.5334</td>\n",
       "      <td>0.55104</td>\n",
       "      <td>1.277073</td>\n",
       "      <td>7</td>\n",
       "      <td>26</td>\n",
       "      <td>LENET</td>\n",
       "    </tr>\n",
       "  </tbody>\n",
       "</table>\n",
       "</div>"
      ],
      "text/plain": [
       "      file_name  training_time(s)  test_result_loss  test_result_acc  \\\n",
       "70   archi_v3_1        798.351023          1.289643           0.5326   \n",
       "71   archi_v3_2        171.644020          1.749008           0.3465   \n",
       "72   archi_v3_3        627.813203          1.313787           0.5549   \n",
       "73   archi_v3_4        749.831077          1.236278           0.5595   \n",
       "74   archi_v3_5        191.680154          1.929973           0.2138   \n",
       "75   archi_v3_6        177.881168          2.213312           0.1292   \n",
       "76   archi_v3_7        818.211906          1.340803           0.5474   \n",
       "77   archi_v3_8        283.723264          1.933496           0.2081   \n",
       "78   archi_v3_9        276.185378          1.512171           0.4939   \n",
       "79  archi_v3_10        109.447790          1.628932           0.4086   \n",
       "80  archi_v3_11        385.482478          1.389411           0.4952   \n",
       "81  archi_v3_12        406.398865          1.201002           0.5742   \n",
       "82  archi_v3_13        279.381831          1.931204           0.2889   \n",
       "83  archi_v3_14       2862.626125          1.562104           0.6741   \n",
       "84  archi_v3_15        365.127640          1.409012           0.4752   \n",
       "85  archi_v3_16        143.422499          1.694817           0.3687   \n",
       "86  archi_v3_17        505.976903          1.819473           0.3208   \n",
       "87  archi_v3_18        437.157930          1.207778           0.5811   \n",
       "88  archi_v3_19        666.666937          1.655370           0.3881   \n",
       "89  archi_v3_20       1267.964992          2.086387           0.5507   \n",
       "90  archi_v3_21        519.126523          1.667302           0.4200   \n",
       "91  archi_v3_22        437.718422          1.572903           0.4390   \n",
       "92  archi_v3_23        193.604706          1.853253           0.3087   \n",
       "93  archi_v3_24        151.241717          1.585453           0.4208   \n",
       "94  archi_v3_25        196.002860          2.338582           0.1000   \n",
       "95  archi_v3_26        394.379198          1.374504           0.5060   \n",
       "96  archi_v3_27        350.640200          1.331682           0.5235   \n",
       "97  archi_v3_28        180.019281          1.417438           0.4987   \n",
       "98  archi_v3_29        268.259743          1.870182           0.3227   \n",
       "99  archi_v3_30        262.071701          1.318694           0.5334   \n",
       "\n",
       "    train_result_acc  train_result_loss  nb_layers  epochs type_archi  \n",
       "70           0.57008           1.183775         32      34     RESNET  \n",
       "71           0.34034           1.746196         18      14   DENSENET  \n",
       "72           0.68076           0.902783         23      39     RESNET  \n",
       "73           0.62448           1.058717         30      30        ALL  \n",
       "74           0.21534           1.932666         26      10        ALL  \n",
       "75           0.12836           2.210249         19      19   DENSENET  \n",
       "76           0.69816           0.853304         31      50     RESNET  \n",
       "77           0.20686           1.936604         41      18        ALL  \n",
       "78           0.63846           1.028738          7      45      LENET  \n",
       "79           0.40380           1.619255          6      20      LENET  \n",
       "80           0.53390           1.295880         22      39     RESNET  \n",
       "81           0.61002           1.096861         14      38     RESNET  \n",
       "82           0.28578           1.936650         22      21     RESNET  \n",
       "83           0.91178           0.305582         48      26     RESNET  \n",
       "84           0.48598           1.396790         14      22   DENSENET  \n",
       "85           0.38116           1.670411          5      25      LENET  \n",
       "86           0.32264           1.817840         19      23   DENSENET  \n",
       "87           0.59132           1.154364          8      23      LENET  \n",
       "88           0.39306           1.658628         22      21   DENSENET  \n",
       "89           0.89146           0.380470         54      27     RESNET  \n",
       "90           0.42910           1.626723         37      27     RESNET  \n",
       "91           0.51806           1.334449          9      50      LENET  \n",
       "92           0.31118           1.851650          5      37      LENET  \n",
       "93           0.42204           1.584376         18      16   DENSENET  \n",
       "94           0.10000           2.338510         57       4   DENSENET  \n",
       "95           0.54694           1.264680         22      29     RESNET  \n",
       "96           0.55072           1.253514          7      48        ALL  \n",
       "97           0.51446           1.362157          5      30      LENET  \n",
       "98           0.31810           1.867716         20      18   DENSENET  \n",
       "99           0.55104           1.277073          7      26      LENET  "
      ]
     },
     "execution_count": 5,
     "metadata": {},
     "output_type": "execute_result"
    }
   ],
   "source": [
    "test4"
   ]
  },
  {
   "cell_type": "code",
   "execution_count": 6,
   "metadata": {},
   "outputs": [
    {
     "data": {
      "text/plain": [
       "<function matplotlib.pyplot.show(close=None, block=None)>"
      ]
     },
     "execution_count": 6,
     "metadata": {},
     "output_type": "execute_result"
    },
    {
     "data": {
      "image/png": "[encoded data removed]",
      "text/plain": [
       "<Figure size 432x288 with 1 Axes>"
      ]
     },
     "metadata": {
      "needs_background": "light"
     },
     "output_type": "display_data"
    }
   ],
   "source": [
    "plt.scatter(range(1,31), test4['test_result_acc'], label=\"test\")\n",
    "plt.scatter(range(1,31), test4['train_result_acc'], label=\"train\")\n",
    "\n",
    "plt.legend()\n",
    "plt.show"
   ]
  },
  {
   "cell_type": "code",
   "execution_count": 7,
   "metadata": {},
   "outputs": [
    {
     "data": {
      "text/plain": [
       "<seaborn.axisgrid.FacetGrid at 0x175894c5808>"
      ]
     },
     "execution_count": 7,
     "metadata": {},
     "output_type": "execute_result"
    },
    {
     "data": {
      "image/png": "[encoded data removed]",
      "text/plain": [
       "<Figure size 449.75x360 with 1 Axes>"
      ]
     },
     "metadata": {
      "needs_background": "light"
     },
     "output_type": "display_data"
    }
   ],
   "source": [
    "sns.lmplot(\n",
    "    x='training_time(s)',\n",
    "    y='test_result_acc',\n",
    "    data=test4,\n",
    "    hue='type_archi',\n",
    "    fit_reg=False\n",
    ")"
   ]
  },
  {
   "cell_type": "code",
   "execution_count": 8,
   "metadata": {},
   "outputs": [
    {
     "data": {
      "text/plain": [
       "<AxesSubplot:xlabel='type_archi', ylabel='test_result_acc'>"
      ]
     },
     "execution_count": 8,
     "metadata": {},
     "output_type": "execute_result"
    },
    {
     "data": {
      "image/png": "[encoded data removed]",
      "text/plain": [
       "<Figure size 432x288 with 1 Axes>"
      ]
     },
     "metadata": {
      "needs_background": "light"
     },
     "output_type": "display_data"
    }
   ],
   "source": [
    "sns.boxplot(y='test_result_acc', x='type_archi' ,data=test4)"
   ]
  },
  {
   "cell_type": "code",
   "execution_count": 9,
   "metadata": {},
   "outputs": [
    {
     "data": {
      "text/plain": [
       "<AxesSubplot:xlabel='type_archi', ylabel='training_time(s)'>"
      ]
     },
     "execution_count": 9,
     "metadata": {},
     "output_type": "execute_result"
    },
    {
     "data": {
      "image/png": "[encoded data removed]",
      "text/plain": [
       "<Figure size 432x288 with 1 Axes>"
      ]
     },
     "metadata": {
      "needs_background": "light"
     },
     "output_type": "display_data"
    }
   ],
   "source": [
    "sns.boxplot(y='training_time(s)', x='type_archi', data=test4)"
   ]
  },
  {
   "cell_type": "markdown",
   "metadata": {},
   "source": [
    "# Experiment 5 : Densenet\n",
    "- modification DenseNet :\n",
    "    - add num denseBlock\n",
    "    - modification num of layer in denseBlock"
   ]
  },
  {
   "cell_type": "code",
   "execution_count": 8,
   "metadata": {},
   "outputs": [],
   "source": [
    "test5 = data[100:130]"
   ]
  },
  {
   "cell_type": "code",
   "execution_count": 9,
   "metadata": {},
   "outputs": [
    {
     "data": {
      "text/html": [
       "<div>\n",
       "<style scoped>\n",
       "    .dataframe tbody tr th:only-of-type {\n",
       "        vertical-align: middle;\n",
       "    }\n",
       "\n",
       "    .dataframe tbody tr th {\n",
       "        vertical-align: top;\n",
       "    }\n",
       "\n",
       "    .dataframe thead th {\n",
       "        text-align: right;\n",
       "    }\n",
       "</style>\n",
       "<table border=\"1\" class=\"dataframe\">\n",
       "  <thead>\n",
       "    <tr style=\"text-align: right;\">\n",
       "      <th></th>\n",
       "      <th>file_name</th>\n",
       "      <th>training_time(s)</th>\n",
       "      <th>test_result_loss</th>\n",
       "      <th>test_result_acc</th>\n",
       "      <th>train_result_acc</th>\n",
       "      <th>train_result_loss</th>\n",
       "      <th>nb_layers</th>\n",
       "      <th>epochs</th>\n",
       "      <th>type_archi</th>\n",
       "    </tr>\n",
       "  </thead>\n",
       "  <tbody>\n",
       "    <tr>\n",
       "      <th>100</th>\n",
       "      <td>archi_v3_1</td>\n",
       "      <td>1525.798082</td>\n",
       "      <td>1.350952</td>\n",
       "      <td>0.5952</td>\n",
       "      <td>0.81200</td>\n",
       "      <td>0.550849</td>\n",
       "      <td>34</td>\n",
       "      <td>39</td>\n",
       "      <td>RESNET</td>\n",
       "    </tr>\n",
       "    <tr>\n",
       "      <th>101</th>\n",
       "      <td>archi_v3_2</td>\n",
       "      <td>713.016974</td>\n",
       "      <td>1.371146</td>\n",
       "      <td>0.4994</td>\n",
       "      <td>0.50890</td>\n",
       "      <td>1.359286</td>\n",
       "      <td>20</td>\n",
       "      <td>43</td>\n",
       "      <td>DENSENET</td>\n",
       "    </tr>\n",
       "    <tr>\n",
       "      <th>102</th>\n",
       "      <td>archi_v3_3</td>\n",
       "      <td>1118.127618</td>\n",
       "      <td>2.363658</td>\n",
       "      <td>0.6085</td>\n",
       "      <td>0.92128</td>\n",
       "      <td>0.342187</td>\n",
       "      <td>23</td>\n",
       "      <td>34</td>\n",
       "      <td>RESNET</td>\n",
       "    </tr>\n",
       "    <tr>\n",
       "      <th>103</th>\n",
       "      <td>archi_v3_4</td>\n",
       "      <td>5339.603906</td>\n",
       "      <td>2.150796</td>\n",
       "      <td>0.6389</td>\n",
       "      <td>0.94306</td>\n",
       "      <td>0.274311</td>\n",
       "      <td>82</td>\n",
       "      <td>37</td>\n",
       "      <td>ALL</td>\n",
       "    </tr>\n",
       "    <tr>\n",
       "      <th>104</th>\n",
       "      <td>archi_v3_5</td>\n",
       "      <td>660.574110</td>\n",
       "      <td>1.235836</td>\n",
       "      <td>0.5544</td>\n",
       "      <td>0.58442</td>\n",
       "      <td>1.164664</td>\n",
       "      <td>6</td>\n",
       "      <td>45</td>\n",
       "      <td>LENET</td>\n",
       "    </tr>\n",
       "    <tr>\n",
       "      <th>105</th>\n",
       "      <td>archi_v3_6</td>\n",
       "      <td>292.312238</td>\n",
       "      <td>1.607489</td>\n",
       "      <td>0.4513</td>\n",
       "      <td>0.56824</td>\n",
       "      <td>1.215557</td>\n",
       "      <td>6</td>\n",
       "      <td>50</td>\n",
       "      <td>LENET</td>\n",
       "    </tr>\n",
       "    <tr>\n",
       "      <th>106</th>\n",
       "      <td>archi_v3_7</td>\n",
       "      <td>2249.263631</td>\n",
       "      <td>2.171115</td>\n",
       "      <td>0.5231</td>\n",
       "      <td>0.90214</td>\n",
       "      <td>0.367776</td>\n",
       "      <td>38</td>\n",
       "      <td>38</td>\n",
       "      <td>RESNET</td>\n",
       "    </tr>\n",
       "    <tr>\n",
       "      <th>107</th>\n",
       "      <td>archi_v3_8</td>\n",
       "      <td>449.232497</td>\n",
       "      <td>1.451863</td>\n",
       "      <td>0.4806</td>\n",
       "      <td>0.48198</td>\n",
       "      <td>1.437066</td>\n",
       "      <td>38</td>\n",
       "      <td>25</td>\n",
       "      <td>ALL</td>\n",
       "    </tr>\n",
       "    <tr>\n",
       "      <th>108</th>\n",
       "      <td>archi_v3_9</td>\n",
       "      <td>7460.120119</td>\n",
       "      <td>0.794932</td>\n",
       "      <td>0.7582</td>\n",
       "      <td>0.87818</td>\n",
       "      <td>0.354245</td>\n",
       "      <td>42</td>\n",
       "      <td>42</td>\n",
       "      <td>DENSENET</td>\n",
       "    </tr>\n",
       "    <tr>\n",
       "      <th>109</th>\n",
       "      <td>archi_v3_10</td>\n",
       "      <td>317.095489</td>\n",
       "      <td>1.355382</td>\n",
       "      <td>0.5159</td>\n",
       "      <td>0.53634</td>\n",
       "      <td>1.299482</td>\n",
       "      <td>6</td>\n",
       "      <td>50</td>\n",
       "      <td>LENET</td>\n",
       "    </tr>\n",
       "    <tr>\n",
       "      <th>110</th>\n",
       "      <td>archi_v3_11</td>\n",
       "      <td>1399.941674</td>\n",
       "      <td>1.103144</td>\n",
       "      <td>0.6058</td>\n",
       "      <td>0.63466</td>\n",
       "      <td>1.028794</td>\n",
       "      <td>31</td>\n",
       "      <td>47</td>\n",
       "      <td>DENSENET</td>\n",
       "    </tr>\n",
       "    <tr>\n",
       "      <th>111</th>\n",
       "      <td>archi_v3_12</td>\n",
       "      <td>3696.557103</td>\n",
       "      <td>2.057968</td>\n",
       "      <td>0.6147</td>\n",
       "      <td>0.91966</td>\n",
       "      <td>0.312130</td>\n",
       "      <td>141</td>\n",
       "      <td>28</td>\n",
       "      <td>DENSENET</td>\n",
       "    </tr>\n",
       "    <tr>\n",
       "      <th>112</th>\n",
       "      <td>archi_v3_13</td>\n",
       "      <td>986.237619</td>\n",
       "      <td>1.907453</td>\n",
       "      <td>0.5857</td>\n",
       "      <td>0.83426</td>\n",
       "      <td>0.542980</td>\n",
       "      <td>50</td>\n",
       "      <td>50</td>\n",
       "      <td>ALL</td>\n",
       "    </tr>\n",
       "    <tr>\n",
       "      <th>113</th>\n",
       "      <td>archi_v3_14</td>\n",
       "      <td>305.711622</td>\n",
       "      <td>0.987561</td>\n",
       "      <td>0.6629</td>\n",
       "      <td>0.72526</td>\n",
       "      <td>0.776457</td>\n",
       "      <td>19</td>\n",
       "      <td>38</td>\n",
       "      <td>DENSENET</td>\n",
       "    </tr>\n",
       "    <tr>\n",
       "      <th>114</th>\n",
       "      <td>archi_v3_15</td>\n",
       "      <td>833.283255</td>\n",
       "      <td>0.920625</td>\n",
       "      <td>0.7082</td>\n",
       "      <td>0.78804</td>\n",
       "      <td>0.613514</td>\n",
       "      <td>44</td>\n",
       "      <td>42</td>\n",
       "      <td>DENSENET</td>\n",
       "    </tr>\n",
       "    <tr>\n",
       "      <th>115</th>\n",
       "      <td>archi_v3_16</td>\n",
       "      <td>272.189264</td>\n",
       "      <td>1.287978</td>\n",
       "      <td>0.5408</td>\n",
       "      <td>0.56248</td>\n",
       "      <td>1.227395</td>\n",
       "      <td>7</td>\n",
       "      <td>50</td>\n",
       "      <td>LENET</td>\n",
       "    </tr>\n",
       "    <tr>\n",
       "      <th>116</th>\n",
       "      <td>archi_v3_17</td>\n",
       "      <td>863.708239</td>\n",
       "      <td>0.972631</td>\n",
       "      <td>0.6819</td>\n",
       "      <td>0.77724</td>\n",
       "      <td>0.640100</td>\n",
       "      <td>8</td>\n",
       "      <td>30</td>\n",
       "      <td>LENET</td>\n",
       "    </tr>\n",
       "    <tr>\n",
       "      <th>117</th>\n",
       "      <td>archi_v3_18</td>\n",
       "      <td>12104.505879</td>\n",
       "      <td>1.312873</td>\n",
       "      <td>0.5276</td>\n",
       "      <td>0.55772</td>\n",
       "      <td>1.225831</td>\n",
       "      <td>26</td>\n",
       "      <td>31</td>\n",
       "      <td>DENSENET</td>\n",
       "    </tr>\n",
       "    <tr>\n",
       "      <th>118</th>\n",
       "      <td>archi_v3_19</td>\n",
       "      <td>11306.242068</td>\n",
       "      <td>2.261121</td>\n",
       "      <td>0.5560</td>\n",
       "      <td>0.90880</td>\n",
       "      <td>0.358145</td>\n",
       "      <td>54</td>\n",
       "      <td>22</td>\n",
       "      <td>RESNET</td>\n",
       "    </tr>\n",
       "    <tr>\n",
       "      <th>119</th>\n",
       "      <td>archi_v3_20</td>\n",
       "      <td>1991.982453</td>\n",
       "      <td>1.516009</td>\n",
       "      <td>0.5204</td>\n",
       "      <td>0.66802</td>\n",
       "      <td>0.933450</td>\n",
       "      <td>37</td>\n",
       "      <td>50</td>\n",
       "      <td>RESNET</td>\n",
       "    </tr>\n",
       "    <tr>\n",
       "      <th>120</th>\n",
       "      <td>archi_v3_21</td>\n",
       "      <td>350.725907</td>\n",
       "      <td>1.466367</td>\n",
       "      <td>0.4955</td>\n",
       "      <td>0.61750</td>\n",
       "      <td>1.063153</td>\n",
       "      <td>11</td>\n",
       "      <td>30</td>\n",
       "      <td>LENET</td>\n",
       "    </tr>\n",
       "    <tr>\n",
       "      <th>121</th>\n",
       "      <td>archi_v3_22</td>\n",
       "      <td>12354.029629</td>\n",
       "      <td>1.877951</td>\n",
       "      <td>0.3896</td>\n",
       "      <td>0.39790</td>\n",
       "      <td>1.851609</td>\n",
       "      <td>67</td>\n",
       "      <td>35</td>\n",
       "      <td>ALL</td>\n",
       "    </tr>\n",
       "    <tr>\n",
       "      <th>122</th>\n",
       "      <td>archi_v3_23</td>\n",
       "      <td>5523.561159</td>\n",
       "      <td>2.560909</td>\n",
       "      <td>0.5173</td>\n",
       "      <td>0.88194</td>\n",
       "      <td>0.448463</td>\n",
       "      <td>25</td>\n",
       "      <td>25</td>\n",
       "      <td>RESNET</td>\n",
       "    </tr>\n",
       "    <tr>\n",
       "      <th>123</th>\n",
       "      <td>archi_v3_24</td>\n",
       "      <td>6016.635172</td>\n",
       "      <td>1.357466</td>\n",
       "      <td>0.6507</td>\n",
       "      <td>0.86754</td>\n",
       "      <td>0.413979</td>\n",
       "      <td>46</td>\n",
       "      <td>33</td>\n",
       "      <td>RESNET</td>\n",
       "    </tr>\n",
       "    <tr>\n",
       "      <th>124</th>\n",
       "      <td>archi_v3_25</td>\n",
       "      <td>28318.782010</td>\n",
       "      <td>1.856076</td>\n",
       "      <td>0.5982</td>\n",
       "      <td>0.84212</td>\n",
       "      <td>0.498420</td>\n",
       "      <td>22</td>\n",
       "      <td>48</td>\n",
       "      <td>RESNET</td>\n",
       "    </tr>\n",
       "    <tr>\n",
       "      <th>125</th>\n",
       "      <td>archi_v3_26</td>\n",
       "      <td>31336.990428</td>\n",
       "      <td>0.951687</td>\n",
       "      <td>0.6860</td>\n",
       "      <td>0.77472</td>\n",
       "      <td>0.650571</td>\n",
       "      <td>150</td>\n",
       "      <td>46</td>\n",
       "      <td>ALL</td>\n",
       "    </tr>\n",
       "    <tr>\n",
       "      <th>126</th>\n",
       "      <td>archi_v3_27</td>\n",
       "      <td>9277.585848</td>\n",
       "      <td>0.923450</td>\n",
       "      <td>0.7062</td>\n",
       "      <td>0.80524</td>\n",
       "      <td>0.556456</td>\n",
       "      <td>21</td>\n",
       "      <td>40</td>\n",
       "      <td>RESNET</td>\n",
       "    </tr>\n",
       "    <tr>\n",
       "      <th>127</th>\n",
       "      <td>archi_v3_28</td>\n",
       "      <td>2306.373430</td>\n",
       "      <td>2.107339</td>\n",
       "      <td>0.2424</td>\n",
       "      <td>0.24924</td>\n",
       "      <td>2.103191</td>\n",
       "      <td>35</td>\n",
       "      <td>21</td>\n",
       "      <td>DENSENET</td>\n",
       "    </tr>\n",
       "    <tr>\n",
       "      <th>128</th>\n",
       "      <td>archi_v3_29</td>\n",
       "      <td>9218.773742</td>\n",
       "      <td>1.472378</td>\n",
       "      <td>0.5717</td>\n",
       "      <td>0.81552</td>\n",
       "      <td>0.550080</td>\n",
       "      <td>114</td>\n",
       "      <td>42</td>\n",
       "      <td>ALL</td>\n",
       "    </tr>\n",
       "    <tr>\n",
       "      <th>129</th>\n",
       "      <td>archi_v3_30</td>\n",
       "      <td>3101.319902</td>\n",
       "      <td>1.866874</td>\n",
       "      <td>0.6008</td>\n",
       "      <td>0.91116</td>\n",
       "      <td>0.322055</td>\n",
       "      <td>88</td>\n",
       "      <td>26</td>\n",
       "      <td>ALL</td>\n",
       "    </tr>\n",
       "  </tbody>\n",
       "</table>\n",
       "</div>"
      ],
      "text/plain": [
       "       file_name  training_time(s)  test_result_loss  test_result_acc  \\\n",
       "100   archi_v3_1       1525.798082          1.350952           0.5952   \n",
       "101   archi_v3_2        713.016974          1.371146           0.4994   \n",
       "102   archi_v3_3       1118.127618          2.363658           0.6085   \n",
       "103   archi_v3_4       5339.603906          2.150796           0.6389   \n",
       "104   archi_v3_5        660.574110          1.235836           0.5544   \n",
       "105   archi_v3_6        292.312238          1.607489           0.4513   \n",
       "106   archi_v3_7       2249.263631          2.171115           0.5231   \n",
       "107   archi_v3_8        449.232497          1.451863           0.4806   \n",
       "108   archi_v3_9       7460.120119          0.794932           0.7582   \n",
       "109  archi_v3_10        317.095489          1.355382           0.5159   \n",
       "110  archi_v3_11       1399.941674          1.103144           0.6058   \n",
       "111  archi_v3_12       3696.557103          2.057968           0.6147   \n",
       "112  archi_v3_13        986.237619          1.907453           0.5857   \n",
       "113  archi_v3_14        305.711622          0.987561           0.6629   \n",
       "114  archi_v3_15        833.283255          0.920625           0.7082   \n",
       "115  archi_v3_16        272.189264          1.287978           0.5408   \n",
       "116  archi_v3_17        863.708239          0.972631           0.6819   \n",
       "117  archi_v3_18      12104.505879          1.312873           0.5276   \n",
       "118  archi_v3_19      11306.242068          2.261121           0.5560   \n",
       "119  archi_v3_20       1991.982453          1.516009           0.5204   \n",
       "120  archi_v3_21        350.725907          1.466367           0.4955   \n",
       "121  archi_v3_22      12354.029629          1.877951           0.3896   \n",
       "122  archi_v3_23       5523.561159          2.560909           0.5173   \n",
       "123  archi_v3_24       6016.635172          1.357466           0.6507   \n",
       "124  archi_v3_25      28318.782010          1.856076           0.5982   \n",
       "125  archi_v3_26      31336.990428          0.951687           0.6860   \n",
       "126  archi_v3_27       9277.585848          0.923450           0.7062   \n",
       "127  archi_v3_28       2306.373430          2.107339           0.2424   \n",
       "128  archi_v3_29       9218.773742          1.472378           0.5717   \n",
       "129  archi_v3_30       3101.319902          1.866874           0.6008   \n",
       "\n",
       "     train_result_acc  train_result_loss  nb_layers  epochs type_archi  \n",
       "100           0.81200           0.550849         34      39     RESNET  \n",
       "101           0.50890           1.359286         20      43   DENSENET  \n",
       "102           0.92128           0.342187         23      34     RESNET  \n",
       "103           0.94306           0.274311         82      37        ALL  \n",
       "104           0.58442           1.164664          6      45      LENET  \n",
       "105           0.56824           1.215557          6      50      LENET  \n",
       "106           0.90214           0.367776         38      38     RESNET  \n",
       "107           0.48198           1.437066         38      25        ALL  \n",
       "108           0.87818           0.354245         42      42   DENSENET  \n",
       "109           0.53634           1.299482          6      50      LENET  \n",
       "110           0.63466           1.028794         31      47   DENSENET  \n",
       "111           0.91966           0.312130        141      28   DENSENET  \n",
       "112           0.83426           0.542980         50      50        ALL  \n",
       "113           0.72526           0.776457         19      38   DENSENET  \n",
       "114           0.78804           0.613514         44      42   DENSENET  \n",
       "115           0.56248           1.227395          7      50      LENET  \n",
       "116           0.77724           0.640100          8      30      LENET  \n",
       "117           0.55772           1.225831         26      31   DENSENET  \n",
       "118           0.90880           0.358145         54      22     RESNET  \n",
       "119           0.66802           0.933450         37      50     RESNET  \n",
       "120           0.61750           1.063153         11      30      LENET  \n",
       "121           0.39790           1.851609         67      35        ALL  \n",
       "122           0.88194           0.448463         25      25     RESNET  \n",
       "123           0.86754           0.413979         46      33     RESNET  \n",
       "124           0.84212           0.498420         22      48     RESNET  \n",
       "125           0.77472           0.650571        150      46        ALL  \n",
       "126           0.80524           0.556456         21      40     RESNET  \n",
       "127           0.24924           2.103191         35      21   DENSENET  \n",
       "128           0.81552           0.550080        114      42        ALL  \n",
       "129           0.91116           0.322055         88      26        ALL  "
      ]
     },
     "execution_count": 9,
     "metadata": {},
     "output_type": "execute_result"
    }
   ],
   "source": [
    "test5"
   ]
  },
  {
   "cell_type": "code",
   "execution_count": 10,
   "metadata": {},
   "outputs": [
    {
     "data": {
      "text/plain": [
       "<seaborn.axisgrid.FacetGrid at 0x19ce22b66c8>"
      ]
     },
     "execution_count": 10,
     "metadata": {},
     "output_type": "execute_result"
    },
    {
     "data": {
      "image/png": "[encoded data removed]",
      "text/plain": [
       "<Figure size 360x360 with 1 Axes>"
      ]
     },
     "metadata": {
      "needs_background": "light"
     },
     "output_type": "display_data"
    }
   ],
   "source": [
    "sns.displot(test5, x=\"type_archi\")"
   ]
  },
  {
   "cell_type": "code",
   "execution_count": 11,
   "metadata": {},
   "outputs": [],
   "source": [
    "test5_soa = pd.concat([test5, data_soa])"
   ]
  },
  {
   "cell_type": "code",
   "execution_count": 12,
   "metadata": {},
   "outputs": [
    {
     "data": {
      "text/plain": [
       "<function matplotlib.pyplot.show(close=None, block=None)>"
      ]
     },
     "execution_count": 12,
     "metadata": {},
     "output_type": "execute_result"
    },
    {
     "data": {
      "image/png": "[encoded data removed]",
      "text/plain": [
       "<Figure size 432x288 with 1 Axes>"
      ]
     },
     "metadata": {
      "needs_background": "light"
     },
     "output_type": "display_data"
    }
   ],
   "source": [
    "plt.scatter(range(1,len(test5)+1), test5['test_result_acc'], label=\"test\")\n",
    "plt.scatter(range(1,len(test5)+1), test5['train_result_acc'], label=\"train\")\n",
    "\n",
    "plt.legend()\n",
    "plt.show"
   ]
  },
  {
   "cell_type": "code",
   "execution_count": 13,
   "metadata": {},
   "outputs": [
    {
     "data": {
      "text/plain": [
       "<function matplotlib.pyplot.show(close=None, block=None)>"
      ]
     },
     "execution_count": 13,
     "metadata": {},
     "output_type": "execute_result"
    },
    {
     "data": {
      "image/png": "[encoded data removed]",
      "text/plain": [
       "<Figure size 432x288 with 1 Axes>"
      ]
     },
     "metadata": {
      "needs_background": "light"
     },
     "output_type": "display_data"
    }
   ],
   "source": [
    "plt.scatter(range(1,len(test5)+1), test5['train_result_acc']-test5['test_result_acc'])\n",
    "\n",
    "plt.title(\"diff acc train-test \")\n",
    "plt.show()"
   ]
  },
  {
   "cell_type": "code",
   "execution_count": 14,
   "metadata": {},
   "outputs": [
    {
     "data": {
      "text/plain": [
       "<seaborn.axisgrid.FacetGrid at 0x19ce37fd5c8>"
      ]
     },
     "execution_count": 14,
     "metadata": {},
     "output_type": "execute_result"
    },
    {
     "data": {
      "image/png": "[encoded data removed]",
      "text/plain": [
       "<Figure size 481x360 with 1 Axes>"
      ]
     },
     "metadata": {
      "needs_background": "light"
     },
     "output_type": "display_data"
    }
   ],
   "source": [
    "sns.lmplot(\n",
    "    x='training_time(s)',\n",
    "    y='test_result_acc',\n",
    "    data=test5_soa,\n",
    "    hue='type_archi',\n",
    "    fit_reg=False,\n",
    "    markers=[\"o\", \"o\",\"o\" ,\"o\" ,\"D\", \"x\", \"^\", \"2\"]\n",
    ")"
   ]
  },
  {
   "cell_type": "code",
   "execution_count": 15,
   "metadata": {},
   "outputs": [
    {
     "data": {
      "text/plain": [
       "<AxesSubplot:xlabel='type_archi', ylabel='test_result_acc'>"
      ]
     },
     "execution_count": 15,
     "metadata": {},
     "output_type": "execute_result"
    },
    {
     "data": {
      "image/png": "[encoded data removed]",
      "text/plain": [
       "<Figure size 432x288 with 1 Axes>"
      ]
     },
     "metadata": {
      "needs_background": "light"
     },
     "output_type": "display_data"
    }
   ],
   "source": [
    "sns.boxplot(y='test_result_acc', x='type_archi' ,data=test5)"
   ]
  },
  {
   "cell_type": "code",
   "execution_count": 16,
   "metadata": {},
   "outputs": [
    {
     "data": {
      "text/plain": [
       "<AxesSubplot:xlabel='type_archi', ylabel='training_time(s)'>"
      ]
     },
     "execution_count": 16,
     "metadata": {},
     "output_type": "execute_result"
    },
    {
     "data": {
      "image/png": "[encoded data removed]",
      "text/plain": [
       "<Figure size 432x288 with 1 Axes>"
      ]
     },
     "metadata": {
      "needs_background": "light"
     },
     "output_type": "display_data"
    }
   ],
   "source": [
    "sns.boxplot(y='training_time(s)', x='type_archi', data=test5)"
   ]
  },
  {
   "cell_type": "code",
   "execution_count": 17,
   "metadata": {},
   "outputs": [
    {
     "data": {
      "text/plain": [
       "<AxesSubplot:xlabel='type_archi', ylabel='epochs'>"
      ]
     },
     "execution_count": 17,
     "metadata": {},
     "output_type": "execute_result"
    },
    {
     "data": {
      "image/png": "[encoded data removed]",
      "text/plain": [
       "<Figure size 432x288 with 1 Axes>"
      ]
     },
     "metadata": {
      "needs_background": "light"
     },
     "output_type": "display_data"
    }
   ],
   "source": [
    "sns.boxplot(y='epochs', x='type_archi', data=test5)"
   ]
  },
  {
   "cell_type": "markdown",
   "metadata": {},
   "source": [
    "# Experiment 6 : Diversitas"
   ]
  },
  {
   "cell_type": "code",
   "execution_count": 16,
   "metadata": {},
   "outputs": [],
   "source": [
    "test6 = data[130:230]"
   ]
  },
  {
   "cell_type": "code",
   "execution_count": 17,
   "metadata": {},
   "outputs": [
    {
     "name": "stderr",
     "output_type": "stream",
     "text": [
      "C:\\Users\\antoi\\anaconda3\\envs\\Python37\\lib\\site-packages\\ipykernel_launcher.py:1: SettingWithCopyWarning: \n",
      "A value is trying to be set on a copy of a slice from a DataFrame.\n",
      "Try using .loc[row_indexer,col_indexer] = value instead\n",
      "\n",
      "See the caveats in the documentation: https://pandas.pydata.org/pandas-docs/stable/user_guide/indexing.html#returning-a-view-versus-a-copy\n",
      "  \"\"\"Entry point for launching an IPython kernel.\n"
     ]
    }
   ],
   "source": [
    "test6[\"Diff\"] = test6['train_result_acc']-test6['test_result_acc']"
   ]
  },
  {
   "cell_type": "code",
   "execution_count": 18,
   "metadata": {},
   "outputs": [
    {
     "data": {
      "text/html": [
       "<div>\n",
       "<style scoped>\n",
       "    .dataframe tbody tr th:only-of-type {\n",
       "        vertical-align: middle;\n",
       "    }\n",
       "\n",
       "    .dataframe tbody tr th {\n",
       "        vertical-align: top;\n",
       "    }\n",
       "\n",
       "    .dataframe thead th {\n",
       "        text-align: right;\n",
       "    }\n",
       "</style>\n",
       "<table border=\"1\" class=\"dataframe\">\n",
       "  <thead>\n",
       "    <tr style=\"text-align: right;\">\n",
       "      <th></th>\n",
       "      <th>file_name</th>\n",
       "      <th>training_time(s)</th>\n",
       "      <th>test_result_loss</th>\n",
       "      <th>test_result_acc</th>\n",
       "      <th>train_result_acc</th>\n",
       "      <th>train_result_loss</th>\n",
       "      <th>nb_layers</th>\n",
       "      <th>epochs</th>\n",
       "      <th>type_archi</th>\n",
       "      <th>Diff</th>\n",
       "    </tr>\n",
       "  </thead>\n",
       "  <tbody>\n",
       "    <tr>\n",
       "      <th>130</th>\n",
       "      <td>archi_v3_1</td>\n",
       "      <td>6271.910210</td>\n",
       "      <td>1.502455</td>\n",
       "      <td>0.6216</td>\n",
       "      <td>0.76642</td>\n",
       "      <td>0.766478</td>\n",
       "      <td>45</td>\n",
       "      <td>36</td>\n",
       "      <td>ALL</td>\n",
       "      <td>0.14482</td>\n",
       "    </tr>\n",
       "    <tr>\n",
       "      <th>131</th>\n",
       "      <td>archi_v3_2</td>\n",
       "      <td>1189.706330</td>\n",
       "      <td>3.319851</td>\n",
       "      <td>0.1265</td>\n",
       "      <td>0.12824</td>\n",
       "      <td>3.307527</td>\n",
       "      <td>41</td>\n",
       "      <td>15</td>\n",
       "      <td>ALL</td>\n",
       "      <td>0.00174</td>\n",
       "    </tr>\n",
       "    <tr>\n",
       "      <th>132</th>\n",
       "      <td>archi_v3_3</td>\n",
       "      <td>11977.805895</td>\n",
       "      <td>2.146404</td>\n",
       "      <td>0.6441</td>\n",
       "      <td>0.89390</td>\n",
       "      <td>0.646369</td>\n",
       "      <td>62</td>\n",
       "      <td>45</td>\n",
       "      <td>ALL</td>\n",
       "      <td>0.24980</td>\n",
       "    </tr>\n",
       "    <tr>\n",
       "      <th>133</th>\n",
       "      <td>archi_v3_4</td>\n",
       "      <td>456.898571</td>\n",
       "      <td>1.487739</td>\n",
       "      <td>0.5458</td>\n",
       "      <td>0.70144</td>\n",
       "      <td>0.916313</td>\n",
       "      <td>17</td>\n",
       "      <td>29</td>\n",
       "      <td>ALL</td>\n",
       "      <td>0.15564</td>\n",
       "    </tr>\n",
       "    <tr>\n",
       "      <th>134</th>\n",
       "      <td>archi_v3_5</td>\n",
       "      <td>3625.997219</td>\n",
       "      <td>1.512231</td>\n",
       "      <td>0.4318</td>\n",
       "      <td>0.43906</td>\n",
       "      <td>1.478427</td>\n",
       "      <td>68</td>\n",
       "      <td>33</td>\n",
       "      <td>ALL</td>\n",
       "      <td>0.00726</td>\n",
       "    </tr>\n",
       "    <tr>\n",
       "      <th>...</th>\n",
       "      <td>...</td>\n",
       "      <td>...</td>\n",
       "      <td>...</td>\n",
       "      <td>...</td>\n",
       "      <td>...</td>\n",
       "      <td>...</td>\n",
       "      <td>...</td>\n",
       "      <td>...</td>\n",
       "      <td>...</td>\n",
       "      <td>...</td>\n",
       "    </tr>\n",
       "    <tr>\n",
       "      <th>225</th>\n",
       "      <td>archi_v3_96</td>\n",
       "      <td>444.906419</td>\n",
       "      <td>1.200992</td>\n",
       "      <td>0.5827</td>\n",
       "      <td>0.67232</td>\n",
       "      <td>0.957547</td>\n",
       "      <td>6</td>\n",
       "      <td>50</td>\n",
       "      <td>DENSENET</td>\n",
       "      <td>0.08962</td>\n",
       "    </tr>\n",
       "    <tr>\n",
       "      <th>226</th>\n",
       "      <td>archi_v3_97</td>\n",
       "      <td>2624.874774</td>\n",
       "      <td>2.784048</td>\n",
       "      <td>0.1620</td>\n",
       "      <td>0.16260</td>\n",
       "      <td>2.788476</td>\n",
       "      <td>54</td>\n",
       "      <td>14</td>\n",
       "      <td>DENSENET</td>\n",
       "      <td>0.00060</td>\n",
       "    </tr>\n",
       "    <tr>\n",
       "      <th>227</th>\n",
       "      <td>archi_v3_98</td>\n",
       "      <td>3192.642611</td>\n",
       "      <td>1.566883</td>\n",
       "      <td>0.5211</td>\n",
       "      <td>0.71690</td>\n",
       "      <td>0.885460</td>\n",
       "      <td>23</td>\n",
       "      <td>50</td>\n",
       "      <td>DENSENET</td>\n",
       "      <td>0.19580</td>\n",
       "    </tr>\n",
       "    <tr>\n",
       "      <th>228</th>\n",
       "      <td>archi_v3_99</td>\n",
       "      <td>2824.635496</td>\n",
       "      <td>2.084113</td>\n",
       "      <td>0.2189</td>\n",
       "      <td>0.21258</td>\n",
       "      <td>2.092377</td>\n",
       "      <td>37</td>\n",
       "      <td>12</td>\n",
       "      <td>DENSENET</td>\n",
       "      <td>-0.00632</td>\n",
       "    </tr>\n",
       "    <tr>\n",
       "      <th>229</th>\n",
       "      <td>archi_v3_100</td>\n",
       "      <td>409.195133</td>\n",
       "      <td>1.731315</td>\n",
       "      <td>0.3660</td>\n",
       "      <td>0.37068</td>\n",
       "      <td>1.726848</td>\n",
       "      <td>17</td>\n",
       "      <td>15</td>\n",
       "      <td>DENSENET</td>\n",
       "      <td>0.00468</td>\n",
       "    </tr>\n",
       "  </tbody>\n",
       "</table>\n",
       "<p>100 rows × 10 columns</p>\n",
       "</div>"
      ],
      "text/plain": [
       "        file_name  training_time(s)  test_result_loss  test_result_acc  \\\n",
       "130    archi_v3_1       6271.910210          1.502455           0.6216   \n",
       "131    archi_v3_2       1189.706330          3.319851           0.1265   \n",
       "132    archi_v3_3      11977.805895          2.146404           0.6441   \n",
       "133    archi_v3_4        456.898571          1.487739           0.5458   \n",
       "134    archi_v3_5       3625.997219          1.512231           0.4318   \n",
       "..            ...               ...               ...              ...   \n",
       "225   archi_v3_96        444.906419          1.200992           0.5827   \n",
       "226   archi_v3_97       2624.874774          2.784048           0.1620   \n",
       "227   archi_v3_98       3192.642611          1.566883           0.5211   \n",
       "228   archi_v3_99       2824.635496          2.084113           0.2189   \n",
       "229  archi_v3_100        409.195133          1.731315           0.3660   \n",
       "\n",
       "     train_result_acc  train_result_loss  nb_layers  epochs type_archi  \\\n",
       "130           0.76642           0.766478         45      36        ALL   \n",
       "131           0.12824           3.307527         41      15        ALL   \n",
       "132           0.89390           0.646369         62      45        ALL   \n",
       "133           0.70144           0.916313         17      29        ALL   \n",
       "134           0.43906           1.478427         68      33        ALL   \n",
       "..                ...                ...        ...     ...        ...   \n",
       "225           0.67232           0.957547          6      50   DENSENET   \n",
       "226           0.16260           2.788476         54      14   DENSENET   \n",
       "227           0.71690           0.885460         23      50   DENSENET   \n",
       "228           0.21258           2.092377         37      12   DENSENET   \n",
       "229           0.37068           1.726848         17      15   DENSENET   \n",
       "\n",
       "        Diff  \n",
       "130  0.14482  \n",
       "131  0.00174  \n",
       "132  0.24980  \n",
       "133  0.15564  \n",
       "134  0.00726  \n",
       "..       ...  \n",
       "225  0.08962  \n",
       "226  0.00060  \n",
       "227  0.19580  \n",
       "228 -0.00632  \n",
       "229  0.00468  \n",
       "\n",
       "[100 rows x 10 columns]"
      ]
     },
     "execution_count": 18,
     "metadata": {},
     "output_type": "execute_result"
    }
   ],
   "source": [
    "test6"
   ]
  },
  {
   "cell_type": "code",
   "execution_count": 19,
   "metadata": {},
   "outputs": [
    {
     "data": {
      "text/plain": [
       "<seaborn.axisgrid.FacetGrid at 0x27f3bdf8b48>"
      ]
     },
     "execution_count": 19,
     "metadata": {},
     "output_type": "execute_result"
    },
    {
     "data": {
      "image/png": "[encoded data removed]",
      "text/plain": [
       "<Figure size 360x360 with 1 Axes>"
      ]
     },
     "metadata": {
      "needs_background": "light"
     },
     "output_type": "display_data"
    }
   ],
   "source": [
    "sns.displot(test6, x=\"type_archi\")"
   ]
  },
  {
   "cell_type": "code",
   "execution_count": 20,
   "metadata": {},
   "outputs": [],
   "source": [
    "test6_soa = pd.concat([test6, data_soa_diversitas])"
   ]
  },
  {
   "cell_type": "code",
   "execution_count": 21,
   "metadata": {},
   "outputs": [
    {
     "data": {
      "text/plain": [
       "<function matplotlib.pyplot.show(close=None, block=None)>"
      ]
     },
     "execution_count": 21,
     "metadata": {},
     "output_type": "execute_result"
    },
    {
     "data": {
      "image/png": "[encoded data removed]",
      "text/plain": [
       "<Figure size 432x288 with 1 Axes>"
      ]
     },
     "metadata": {
      "needs_background": "light"
     },
     "output_type": "display_data"
    }
   ],
   "source": [
    "plt.scatter(range(1,len(test6)+1), test6['test_result_acc'], label=\"test\")\n",
    "plt.scatter(range(1,len(test6)+1), test6['train_result_acc'], label=\"train\")\n",
    "\n",
    "plt.legend()\n",
    "plt.show"
   ]
  },
  {
   "cell_type": "code",
   "execution_count": 22,
   "metadata": {},
   "outputs": [
    {
     "data": {
      "image/png": "[encoded data removed]",
      "text/plain": [
       "<Figure size 432x288 with 1 Axes>"
      ]
     },
     "metadata": {
      "needs_background": "light"
     },
     "output_type": "display_data"
    }
   ],
   "source": [
    "plt.scatter(range(1,len(test6)+1), test6['Diff'])\n",
    "\n",
    "plt.title(\"diff acc train-test \")\n",
    "plt.show()"
   ]
  },
  {
   "cell_type": "code",
   "execution_count": 27,
   "metadata": {},
   "outputs": [
    {
     "data": {
      "text/plain": [
       "Text(0.5, 1.0, 'test')"
      ]
     },
     "execution_count": 27,
     "metadata": {},
     "output_type": "execute_result"
    },
    {
     "data": {
      "image/png": "[encoded data removed]",
      "text/plain": [
       "<Figure size 481x360 with 1 Axes>"
      ]
     },
     "metadata": {
      "needs_background": "light"
     },
     "output_type": "display_data"
    }
   ],
   "source": [
    "sns.lmplot(\n",
    "    x='test_result_acc',\n",
    "    y='Diff',\n",
    "    data=test6_soa,\n",
    "    hue='type_archi',\n",
    "    fit_reg=False,\n",
    "    markers=[\"o\", \"o\",\"o\",\"o\", \"D\", \"x\", \"^\", \"2\"]\n",
    ")\n",
    "plt.title(\"test\")"
   ]
  },
  {
   "cell_type": "code",
   "execution_count": 28,
   "metadata": {},
   "outputs": [
    {
     "data": {
      "text/plain": [
       "Text(0.5, 1.0, 'Train')"
      ]
     },
     "execution_count": 28,
     "metadata": {},
     "output_type": "execute_result"
    },
    {
     "data": {
      "image/png": "[encoded data removed]",
      "text/plain": [
       "<Figure size 481x360 with 1 Axes>"
      ]
     },
     "metadata": {
      "needs_background": "light"
     },
     "output_type": "display_data"
    }
   ],
   "source": [
    "sns.lmplot(\n",
    "    x='train_result_acc',\n",
    "    y='Diff',\n",
    "    data=test6_soa,\n",
    "    hue='type_archi',\n",
    "    fit_reg=False,\n",
    "    markers=[\"o\", \"o\",\"o\",\"o\", \"D\", \"x\", \"^\", \"2\"]\n",
    ")\n",
    "plt.title(\"Train\")"
   ]
  },
  {
   "cell_type": "code",
   "execution_count": 23,
   "metadata": {},
   "outputs": [
    {
     "data": {
      "text/plain": [
       "<seaborn.axisgrid.FacetGrid at 0x16b78588788>"
      ]
     },
     "execution_count": 23,
     "metadata": {},
     "output_type": "execute_result"
    },
    {
     "data": {
      "image/png": "[encoded data removed]",
      "text/plain": [
       "<Figure size 481x360 with 1 Axes>"
      ]
     },
     "metadata": {
      "needs_background": "light"
     },
     "output_type": "display_data"
    }
   ],
   "source": [
    "sns.lmplot(\n",
    "    x='training_time(s)',\n",
    "    y='test_result_acc',\n",
    "    data=test6_soa,\n",
    "    hue='type_archi',\n",
    "    fit_reg=False,\n",
    "    markers=[\"o\", \"o\",\"o\",\"o\", \"D\", \"x\", \"^\", \"2\"]\n",
    ")"
   ]
  },
  {
   "cell_type": "code",
   "execution_count": 24,
   "metadata": {},
   "outputs": [
    {
     "data": {
      "text/plain": [
       "<AxesSubplot:xlabel='type_archi', ylabel='test_result_acc'>"
      ]
     },
     "execution_count": 24,
     "metadata": {},
     "output_type": "execute_result"
    },
    {
     "data": {
      "image/png": "[encoded data removed]",
      "text/plain": [
       "<Figure size 432x288 with 1 Axes>"
      ]
     },
     "metadata": {
      "needs_background": "light"
     },
     "output_type": "display_data"
    }
   ],
   "source": [
    "sns.boxplot(y='test_result_acc', x='type_archi' ,data=test6)"
   ]
  },
  {
   "cell_type": "code",
   "execution_count": 25,
   "metadata": {},
   "outputs": [
    {
     "data": {
      "text/plain": [
       "<AxesSubplot:xlabel='type_archi', ylabel='training_time(s)'>"
      ]
     },
     "execution_count": 25,
     "metadata": {},
     "output_type": "execute_result"
    },
    {
     "data": {
      "image/png": "[encoded data removed]",
      "text/plain": [
       "<Figure size 432x288 with 1 Axes>"
      ]
     },
     "metadata": {
      "needs_background": "light"
     },
     "output_type": "display_data"
    }
   ],
   "source": [
    "sns.boxplot(y='training_time(s)', x='type_archi', data=test6)"
   ]
  },
  {
   "cell_type": "code",
   "execution_count": 26,
   "metadata": {},
   "outputs": [
    {
     "data": {
      "text/plain": [
       "<AxesSubplot:xlabel='type_archi', ylabel='epochs'>"
      ]
     },
     "execution_count": 26,
     "metadata": {},
     "output_type": "execute_result"
    },
    {
     "data": {
      "image/png": "[encoded data removed]",
      "text/plain": [
       "<Figure size 432x288 with 1 Axes>"
      ]
     },
     "metadata": {
      "needs_background": "light"
     },
     "output_type": "display_data"
    }
   ],
   "source": [
    "sns.boxplot(y='epochs', x='type_archi', data=test6)"
   ]
  },
  {
   "cell_type": "code",
   "execution_count": null,
   "metadata": {},
   "outputs": [],
   "source": []
  }
 ],
 "metadata": {
  "kernelspec": {
   "display_name": "Python 3",
   "language": "python",
   "name": "python3"
  },
  "language_info": {
   "codemirror_mode": {
    "name": "ipython",
    "version": 3
   },
   "file_extension": ".py",
   "mimetype": "text/x-python",
   "name": "python",
   "nbconvert_exporter": "python",
   "pygments_lexer": "ipython3",
   "version": "3.9.4"
  },
  "latex_envs": {
   "LaTeX_envs_menu_present": true,
   "autoclose": false,
   "autocomplete": true,
   "bibliofile": "biblio.bib",
   "cite_by": "apalike",
   "current_citInitial": 1,
   "eqLabelWithNumbers": true,
   "eqNumInitial": 1,
   "hotkeys": {
    "equation": "Ctrl-E",
    "itemize": "Ctrl-I"
   },
   "labels_anchors": false,
   "latex_user_defs": false,
   "report_style_numbering": false,
   "user_envs_cfg": false
  },
  "toc": {
   "base_numbering": 1,
   "nav_menu": {},
   "number_sections": true,
   "sideBar": true,
   "skip_h1_title": false,
   "title_cell": "Table of Contents",
   "title_sidebar": "Contents",
   "toc_cell": false,
   "toc_position": {},
   "toc_section_display": true,
   "toc_window_display": true
  },
  "varInspector": {
   "cols": {
    "lenName": 16,
    "lenType": 16,
    "lenVar": 40
   },
   "kernels_config": {
    "python": {
     "delete_cmd_postfix": "",
     "delete_cmd_prefix": "del ",
     "library": "var_list.py",
     "varRefreshCmd": "print(var_dic_list())"
    },
    "r": {
     "delete_cmd_postfix": ") ",
     "delete_cmd_prefix": "rm(",
     "library": "var_list.r",
     "varRefreshCmd": "cat(var_dic_list()) "
    }
   },
   "types_to_exclude": [
    "module",
    "function",
    "builtin_function_or_method",
    "instance",
    "_Feature"
   ],
   "window_display": false
  }
 },
 "nbformat": 4,
 "nbformat_minor": 4
}
