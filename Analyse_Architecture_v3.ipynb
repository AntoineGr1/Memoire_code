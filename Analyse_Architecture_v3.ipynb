{
 "cells": [
  {
   "cell_type": "code",
   "execution_count": 1,
   "metadata": {},
   "outputs": [],
   "source": [
    "import pandas as pd\n",
    "from statistics import mean\n",
    "import matplotlib.pyplot as plt\n",
    "import matplotlib\n",
    "import seaborn as sns\n",
    "import os\n",
    "import glob"
   ]
  },
  {
   "cell_type": "code",
   "execution_count": 32,
   "metadata": {},
   "outputs": [],
   "source": [
    "data = pd.read_csv('architecture_results_v3.csv')"
   ]
  },
  {
   "cell_type": "code",
   "execution_count": 33,
   "metadata": {},
   "outputs": [
    {
     "data": {
      "text/html": [
       "<div>\n",
       "<style scoped>\n",
       "    .dataframe tbody tr th:only-of-type {\n",
       "        vertical-align: middle;\n",
       "    }\n",
       "\n",
       "    .dataframe tbody tr th {\n",
       "        vertical-align: top;\n",
       "    }\n",
       "\n",
       "    .dataframe thead th {\n",
       "        text-align: right;\n",
       "    }\n",
       "</style>\n",
       "<table border=\"1\" class=\"dataframe\">\n",
       "  <thead>\n",
       "    <tr style=\"text-align: right;\">\n",
       "      <th></th>\n",
       "      <th>file_name</th>\n",
       "      <th>training_time(s)</th>\n",
       "      <th>test_result_loss</th>\n",
       "      <th>test_result_acc</th>\n",
       "      <th>train_result_acc</th>\n",
       "      <th>train_result_loss</th>\n",
       "      <th>nb_layers</th>\n",
       "      <th>type_archi</th>\n",
       "    </tr>\n",
       "  </thead>\n",
       "  <tbody>\n",
       "    <tr>\n",
       "      <th>0</th>\n",
       "      <td>archi_v3_1</td>\n",
       "      <td>137.961022</td>\n",
       "      <td>0.172679</td>\n",
       "      <td>0.9430</td>\n",
       "      <td>0.946383</td>\n",
       "      <td>0.158794</td>\n",
       "      <td>32</td>\n",
       "      <td>RESNET</td>\n",
       "    </tr>\n",
       "    <tr>\n",
       "      <th>1</th>\n",
       "      <td>archi_v3_2</td>\n",
       "      <td>34.092646</td>\n",
       "      <td>1.177252</td>\n",
       "      <td>0.5959</td>\n",
       "      <td>0.593417</td>\n",
       "      <td>1.198786</td>\n",
       "      <td>5</td>\n",
       "      <td>DENSENET</td>\n",
       "    </tr>\n",
       "    <tr>\n",
       "      <th>2</th>\n",
       "      <td>archi_v3_3</td>\n",
       "      <td>70.545813</td>\n",
       "      <td>0.560783</td>\n",
       "      <td>0.7953</td>\n",
       "      <td>0.786633</td>\n",
       "      <td>0.594876</td>\n",
       "      <td>25</td>\n",
       "      <td>ALL</td>\n",
       "    </tr>\n",
       "    <tr>\n",
       "      <th>3</th>\n",
       "      <td>archi_v3_4</td>\n",
       "      <td>32.900410</td>\n",
       "      <td>1.212360</td>\n",
       "      <td>0.5561</td>\n",
       "      <td>0.556550</td>\n",
       "      <td>1.236942</td>\n",
       "      <td>7</td>\n",
       "      <td>LENET</td>\n",
       "    </tr>\n",
       "    <tr>\n",
       "      <th>4</th>\n",
       "      <td>archi_v3_5</td>\n",
       "      <td>156.514521</td>\n",
       "      <td>3.457778</td>\n",
       "      <td>0.3775</td>\n",
       "      <td>0.374550</td>\n",
       "      <td>3.523504</td>\n",
       "      <td>56</td>\n",
       "      <td>ALL</td>\n",
       "    </tr>\n",
       "    <tr>\n",
       "      <th>5</th>\n",
       "      <td>archi_v3_6</td>\n",
       "      <td>88.399852</td>\n",
       "      <td>1.116733</td>\n",
       "      <td>0.5732</td>\n",
       "      <td>0.571900</td>\n",
       "      <td>1.129137</td>\n",
       "      <td>36</td>\n",
       "      <td>DENSENET</td>\n",
       "    </tr>\n",
       "    <tr>\n",
       "      <th>6</th>\n",
       "      <td>archi_v3_7</td>\n",
       "      <td>35.578727</td>\n",
       "      <td>0.168568</td>\n",
       "      <td>0.9472</td>\n",
       "      <td>0.946183</td>\n",
       "      <td>0.177552</td>\n",
       "      <td>6</td>\n",
       "      <td>LENET</td>\n",
       "    </tr>\n",
       "    <tr>\n",
       "      <th>7</th>\n",
       "      <td>archi_v3_8</td>\n",
       "      <td>152.592136</td>\n",
       "      <td>0.133781</td>\n",
       "      <td>0.9575</td>\n",
       "      <td>0.962233</td>\n",
       "      <td>0.111345</td>\n",
       "      <td>44</td>\n",
       "      <td>ALL</td>\n",
       "    </tr>\n",
       "    <tr>\n",
       "      <th>8</th>\n",
       "      <td>archi_v3_9</td>\n",
       "      <td>38.502374</td>\n",
       "      <td>0.062962</td>\n",
       "      <td>0.9791</td>\n",
       "      <td>0.987883</td>\n",
       "      <td>0.043605</td>\n",
       "      <td>7</td>\n",
       "      <td>LENET</td>\n",
       "    </tr>\n",
       "    <tr>\n",
       "      <th>9</th>\n",
       "      <td>archi_v3_10</td>\n",
       "      <td>35.379591</td>\n",
       "      <td>1.342118</td>\n",
       "      <td>0.5326</td>\n",
       "      <td>0.535450</td>\n",
       "      <td>1.362930</td>\n",
       "      <td>5</td>\n",
       "      <td>LENET</td>\n",
       "    </tr>\n",
       "  </tbody>\n",
       "</table>\n",
       "</div>"
      ],
      "text/plain": [
       "     file_name  training_time(s)  test_result_loss  test_result_acc  \\\n",
       "0   archi_v3_1        137.961022          0.172679           0.9430   \n",
       "1   archi_v3_2         34.092646          1.177252           0.5959   \n",
       "2   archi_v3_3         70.545813          0.560783           0.7953   \n",
       "3   archi_v3_4         32.900410          1.212360           0.5561   \n",
       "4   archi_v3_5        156.514521          3.457778           0.3775   \n",
       "5   archi_v3_6         88.399852          1.116733           0.5732   \n",
       "6   archi_v3_7         35.578727          0.168568           0.9472   \n",
       "7   archi_v3_8        152.592136          0.133781           0.9575   \n",
       "8   archi_v3_9         38.502374          0.062962           0.9791   \n",
       "9  archi_v3_10         35.379591          1.342118           0.5326   \n",
       "\n",
       "   train_result_acc  train_result_loss  nb_layers type_archi  \n",
       "0          0.946383           0.158794         32     RESNET  \n",
       "1          0.593417           1.198786          5   DENSENET  \n",
       "2          0.786633           0.594876         25        ALL  \n",
       "3          0.556550           1.236942          7      LENET  \n",
       "4          0.374550           3.523504         56        ALL  \n",
       "5          0.571900           1.129137         36   DENSENET  \n",
       "6          0.946183           0.177552          6      LENET  \n",
       "7          0.962233           0.111345         44        ALL  \n",
       "8          0.987883           0.043605          7      LENET  \n",
       "9          0.535450           1.362930          5      LENET  "
      ]
     },
     "execution_count": 33,
     "metadata": {},
     "output_type": "execute_result"
    }
   ],
   "source": [
    "data"
   ]
  },
  {
   "cell_type": "markdown",
   "metadata": {},
   "source": [
    "# experiment 1 : State Machine v3"
   ]
  },
  {
   "cell_type": "code",
   "execution_count": 34,
   "metadata": {},
   "outputs": [],
   "source": [
    "test1 = data[:10]"
   ]
  },
  {
   "cell_type": "code",
   "execution_count": 35,
   "metadata": {},
   "outputs": [
    {
     "data": {
      "text/plain": [
       "<seaborn.axisgrid.FacetGrid at 0x23bb986dd88>"
      ]
     },
     "execution_count": 35,
     "metadata": {},
     "output_type": "execute_result"
    },
    {
     "data": {
      "image/png": "[encoded data removed]",
      "text/plain": [
       "<Figure size 360x360 with 1 Axes>"
      ]
     },
     "metadata": {
      "needs_background": "light"
     },
     "output_type": "display_data"
    }
   ],
   "source": [
    "sns.displot(test1, x=\"type_archi\")"
   ]
  },
  {
   "cell_type": "code",
   "execution_count": 36,
   "metadata": {},
   "outputs": [
    {
     "data": {
      "text/plain": [
       "<seaborn.axisgrid.FacetGrid at 0x23bb9a9e908>"
      ]
     },
     "execution_count": 36,
     "metadata": {},
     "output_type": "execute_result"
    },
    {
     "data": {
      "image/png": "[encoded data removed]",
      "text/plain": [
       "<Figure size 449.75x360 with 1 Axes>"
      ]
     },
     "metadata": {
      "needs_background": "light"
     },
     "output_type": "display_data"
    }
   ],
   "source": [
    "sns.lmplot(\n",
    "    x='training_time(s)',\n",
    "    y='test_result_acc',\n",
    "    data=test1,\n",
    "    hue='type_archi',\n",
    "    fit_reg=False\n",
    ")"
   ]
  },
  {
   "cell_type": "code",
   "execution_count": 37,
   "metadata": {},
   "outputs": [
    {
     "data": {
      "text/plain": [
       "<AxesSubplot:xlabel='type_archi', ylabel='test_result_acc'>"
      ]
     },
     "execution_count": 37,
     "metadata": {},
     "output_type": "execute_result"
    },
    {
     "data": {
      "image/png": "[encoded data removed]",
      "text/plain": [
       "<Figure size 432x288 with 1 Axes>"
      ]
     },
     "metadata": {
      "needs_background": "light"
     },
     "output_type": "display_data"
    }
   ],
   "source": [
    "sns.boxplot(y='test_result_acc', x='type_archi' ,data=test1)"
   ]
  },
  {
   "cell_type": "code",
   "execution_count": 38,
   "metadata": {},
   "outputs": [
    {
     "data": {
      "text/plain": [
       "<AxesSubplot:xlabel='type_archi', ylabel='training_time(s)'>"
      ]
     },
     "execution_count": 38,
     "metadata": {},
     "output_type": "execute_result"
    },
    {
     "data": {
      "image/png": "[encoded data removed]",
      "text/plain": [
       "<Figure size 432x288 with 1 Axes>"
      ]
     },
     "metadata": {
      "needs_background": "light"
     },
     "output_type": "display_data"
    }
   ],
   "source": [
    "sns.boxplot(y='training_time(s)', x='type_archi', data=test1)"
   ]
  },
  {
   "cell_type": "code",
   "execution_count": 39,
   "metadata": {},
   "outputs": [
    {
     "data": {
      "text/plain": [
       "<seaborn.axisgrid.FacetGrid at 0x23bbac6e188>"
      ]
     },
     "execution_count": 39,
     "metadata": {},
     "output_type": "execute_result"
    },
    {
     "data": {
      "image/png": "[encoded data removed]",
      "text/plain": [
       "<Figure size 449.75x360 with 1 Axes>"
      ]
     },
     "metadata": {
      "needs_background": "light"
     },
     "output_type": "display_data"
    }
   ],
   "source": [
    "sns.lmplot(\n",
    "    x='training_time(s)',\n",
    "    y='nb_layers',\n",
    "    data=test1,\n",
    "    fit_reg=False,\n",
    "    hue='type_archi'\n",
    ")"
   ]
  },
  {
   "cell_type": "code",
   "execution_count": 40,
   "metadata": {},
   "outputs": [
    {
     "data": {
      "text/plain": [
       "<seaborn.axisgrid.FacetGrid at 0x23bbacfa308>"
      ]
     },
     "execution_count": 40,
     "metadata": {},
     "output_type": "execute_result"
    },
    {
     "data": {
      "image/png": "[encoded data removed]",
      "text/plain": [
       "<Figure size 449.75x360 with 1 Axes>"
      ]
     },
     "metadata": {
      "needs_background": "light"
     },
     "output_type": "display_data"
    }
   ],
   "source": [
    "sns.lmplot(\n",
    "    x='nb_layers',\n",
    "    y='test_result_acc',\n",
    "    data=test1,\n",
    "    fit_reg=False,\n",
    "    hue='type_archi'\n",
    ")"
   ]
  },
  {
   "cell_type": "markdown",
   "metadata": {},
   "source": [
    "# experiment 2"
   ]
  },
  {
   "cell_type": "code",
   "execution_count": null,
   "metadata": {},
   "outputs": [],
   "source": [
    "test2 = data[10:40]"
   ]
  }
 ],
 "metadata": {
  "kernelspec": {
   "display_name": "Python 3",
   "language": "python",
   "name": "python3"
  },
  "language_info": {
   "codemirror_mode": {
    "name": "ipython",
    "version": 3
   },
   "file_extension": ".py",
   "mimetype": "text/x-python",
   "name": "python",
   "nbconvert_exporter": "python",
   "pygments_lexer": "ipython3",
   "version": "3.7.9"
  },
  "latex_envs": {
   "LaTeX_envs_menu_present": true,
   "autoclose": false,
   "autocomplete": true,
   "bibliofile": "biblio.bib",
   "cite_by": "apalike",
   "current_citInitial": 1,
   "eqLabelWithNumbers": true,
   "eqNumInitial": 1,
   "hotkeys": {
    "equation": "Ctrl-E",
    "itemize": "Ctrl-I"
   },
   "labels_anchors": false,
   "latex_user_defs": false,
   "report_style_numbering": false,
   "user_envs_cfg": false
  },
  "toc": {
   "base_numbering": 1,
   "nav_menu": {},
   "number_sections": true,
   "sideBar": true,
   "skip_h1_title": false,
   "title_cell": "Table of Contents",
   "title_sidebar": "Contents",
   "toc_cell": false,
   "toc_position": {},
   "toc_section_display": true,
   "toc_window_display": false
  },
  "varInspector": {
   "cols": {
    "lenName": 16,
    "lenType": 16,
    "lenVar": 40
   },
   "kernels_config": {
    "python": {
     "delete_cmd_postfix": "",
     "delete_cmd_prefix": "del ",
     "library": "var_list.py",
     "varRefreshCmd": "print(var_dic_list())"
    },
    "r": {
     "delete_cmd_postfix": ") ",
     "delete_cmd_prefix": "rm(",
     "library": "var_list.r",
     "varRefreshCmd": "cat(var_dic_list()) "
    }
   },
   "types_to_exclude": [
    "module",
    "function",
    "builtin_function_or_method",
    "instance",
    "_Feature"
   ],
   "window_display": false
  }
 },
 "nbformat": 4,
 "nbformat_minor": 4
}
