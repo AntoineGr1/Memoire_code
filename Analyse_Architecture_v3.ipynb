{
 "cells": [
  {
   "cell_type": "code",
   "execution_count": 1,
   "metadata": {},
   "outputs": [],
   "source": [
    "import pandas as pd\n",
    "from statistics import mean\n",
    "import matplotlib.pyplot as plt\n",
    "import matplotlib\n",
    "import seaborn as sns\n",
    "import os\n",
    "import glob"
   ]
  },
  {
   "cell_type": "code",
   "execution_count": 2,
   "metadata": {},
   "outputs": [],
   "source": [
    "data = pd.read_csv('architecture_results_v3.csv')"
   ]
  },
  {
   "cell_type": "code",
   "execution_count": 3,
   "metadata": {},
   "outputs": [
    {
     "data": {
      "text/html": [
       "<div>\n",
       "<style scoped>\n",
       "    .dataframe tbody tr th:only-of-type {\n",
       "        vertical-align: middle;\n",
       "    }\n",
       "\n",
       "    .dataframe tbody tr th {\n",
       "        vertical-align: top;\n",
       "    }\n",
       "\n",
       "    .dataframe thead th {\n",
       "        text-align: right;\n",
       "    }\n",
       "</style>\n",
       "<table border=\"1\" class=\"dataframe\">\n",
       "  <thead>\n",
       "    <tr style=\"text-align: right;\">\n",
       "      <th></th>\n",
       "      <th>file_name</th>\n",
       "      <th>training_time(s)</th>\n",
       "      <th>test_result_loss</th>\n",
       "      <th>test_result_acc</th>\n",
       "      <th>train_result_acc</th>\n",
       "      <th>train_result_loss</th>\n",
       "      <th>nb_layers</th>\n",
       "      <th>epochs</th>\n",
       "      <th>type_archi</th>\n",
       "    </tr>\n",
       "  </thead>\n",
       "  <tbody>\n",
       "    <tr>\n",
       "      <th>0</th>\n",
       "      <td>archi_v3_1</td>\n",
       "      <td>137.961022</td>\n",
       "      <td>0.172679</td>\n",
       "      <td>0.9430</td>\n",
       "      <td>0.946383</td>\n",
       "      <td>0.158794</td>\n",
       "      <td>32</td>\n",
       "      <td>5</td>\n",
       "      <td>RESNET</td>\n",
       "    </tr>\n",
       "    <tr>\n",
       "      <th>1</th>\n",
       "      <td>archi_v3_2</td>\n",
       "      <td>34.092646</td>\n",
       "      <td>1.177252</td>\n",
       "      <td>0.5959</td>\n",
       "      <td>0.593417</td>\n",
       "      <td>1.198786</td>\n",
       "      <td>5</td>\n",
       "      <td>5</td>\n",
       "      <td>DENSENET</td>\n",
       "    </tr>\n",
       "    <tr>\n",
       "      <th>2</th>\n",
       "      <td>archi_v3_3</td>\n",
       "      <td>70.545813</td>\n",
       "      <td>0.560783</td>\n",
       "      <td>0.7953</td>\n",
       "      <td>0.786633</td>\n",
       "      <td>0.594876</td>\n",
       "      <td>25</td>\n",
       "      <td>5</td>\n",
       "      <td>ALL</td>\n",
       "    </tr>\n",
       "    <tr>\n",
       "      <th>3</th>\n",
       "      <td>archi_v3_4</td>\n",
       "      <td>32.900410</td>\n",
       "      <td>1.212360</td>\n",
       "      <td>0.5561</td>\n",
       "      <td>0.556550</td>\n",
       "      <td>1.236942</td>\n",
       "      <td>7</td>\n",
       "      <td>5</td>\n",
       "      <td>LENET</td>\n",
       "    </tr>\n",
       "    <tr>\n",
       "      <th>4</th>\n",
       "      <td>archi_v3_5</td>\n",
       "      <td>156.514521</td>\n",
       "      <td>3.457778</td>\n",
       "      <td>0.3775</td>\n",
       "      <td>0.374550</td>\n",
       "      <td>3.523504</td>\n",
       "      <td>56</td>\n",
       "      <td>5</td>\n",
       "      <td>ALL</td>\n",
       "    </tr>\n",
       "    <tr>\n",
       "      <th>...</th>\n",
       "      <td>...</td>\n",
       "      <td>...</td>\n",
       "      <td>...</td>\n",
       "      <td>...</td>\n",
       "      <td>...</td>\n",
       "      <td>...</td>\n",
       "      <td>...</td>\n",
       "      <td>...</td>\n",
       "      <td>...</td>\n",
       "    </tr>\n",
       "    <tr>\n",
       "      <th>95</th>\n",
       "      <td>archi_v3_26</td>\n",
       "      <td>394.379198</td>\n",
       "      <td>1.374504</td>\n",
       "      <td>0.5060</td>\n",
       "      <td>0.546940</td>\n",
       "      <td>1.264680</td>\n",
       "      <td>22</td>\n",
       "      <td>29</td>\n",
       "      <td>RESNET</td>\n",
       "    </tr>\n",
       "    <tr>\n",
       "      <th>96</th>\n",
       "      <td>archi_v3_27</td>\n",
       "      <td>350.640200</td>\n",
       "      <td>1.331682</td>\n",
       "      <td>0.5235</td>\n",
       "      <td>0.550720</td>\n",
       "      <td>1.253514</td>\n",
       "      <td>7</td>\n",
       "      <td>48</td>\n",
       "      <td>ALL</td>\n",
       "    </tr>\n",
       "    <tr>\n",
       "      <th>97</th>\n",
       "      <td>archi_v3_28</td>\n",
       "      <td>180.019281</td>\n",
       "      <td>1.417438</td>\n",
       "      <td>0.4987</td>\n",
       "      <td>0.514460</td>\n",
       "      <td>1.362157</td>\n",
       "      <td>5</td>\n",
       "      <td>30</td>\n",
       "      <td>LENET</td>\n",
       "    </tr>\n",
       "    <tr>\n",
       "      <th>98</th>\n",
       "      <td>archi_v3_29</td>\n",
       "      <td>268.259743</td>\n",
       "      <td>1.870182</td>\n",
       "      <td>0.3227</td>\n",
       "      <td>0.318100</td>\n",
       "      <td>1.867716</td>\n",
       "      <td>20</td>\n",
       "      <td>18</td>\n",
       "      <td>DENSENET</td>\n",
       "    </tr>\n",
       "    <tr>\n",
       "      <th>99</th>\n",
       "      <td>archi_v3_30</td>\n",
       "      <td>262.071701</td>\n",
       "      <td>1.318694</td>\n",
       "      <td>0.5334</td>\n",
       "      <td>0.551040</td>\n",
       "      <td>1.277073</td>\n",
       "      <td>7</td>\n",
       "      <td>26</td>\n",
       "      <td>LENET</td>\n",
       "    </tr>\n",
       "  </tbody>\n",
       "</table>\n",
       "<p>100 rows × 9 columns</p>\n",
       "</div>"
      ],
      "text/plain": [
       "      file_name  training_time(s)  test_result_loss  test_result_acc  \\\n",
       "0    archi_v3_1        137.961022          0.172679           0.9430   \n",
       "1    archi_v3_2         34.092646          1.177252           0.5959   \n",
       "2    archi_v3_3         70.545813          0.560783           0.7953   \n",
       "3    archi_v3_4         32.900410          1.212360           0.5561   \n",
       "4    archi_v3_5        156.514521          3.457778           0.3775   \n",
       "..          ...               ...               ...              ...   \n",
       "95  archi_v3_26        394.379198          1.374504           0.5060   \n",
       "96  archi_v3_27        350.640200          1.331682           0.5235   \n",
       "97  archi_v3_28        180.019281          1.417438           0.4987   \n",
       "98  archi_v3_29        268.259743          1.870182           0.3227   \n",
       "99  archi_v3_30        262.071701          1.318694           0.5334   \n",
       "\n",
       "    train_result_acc  train_result_loss  nb_layers  epochs type_archi  \n",
       "0           0.946383           0.158794         32       5     RESNET  \n",
       "1           0.593417           1.198786          5       5   DENSENET  \n",
       "2           0.786633           0.594876         25       5        ALL  \n",
       "3           0.556550           1.236942          7       5      LENET  \n",
       "4           0.374550           3.523504         56       5        ALL  \n",
       "..               ...                ...        ...     ...        ...  \n",
       "95          0.546940           1.264680         22      29     RESNET  \n",
       "96          0.550720           1.253514          7      48        ALL  \n",
       "97          0.514460           1.362157          5      30      LENET  \n",
       "98          0.318100           1.867716         20      18   DENSENET  \n",
       "99          0.551040           1.277073          7      26      LENET  \n",
       "\n",
       "[100 rows x 9 columns]"
      ]
     },
     "execution_count": 3,
     "metadata": {},
     "output_type": "execute_result"
    }
   ],
   "source": [
    "data"
   ]
  },
  {
   "cell_type": "markdown",
   "metadata": {},
   "source": [
    "# experiment 1 : State Machine v3"
   ]
  },
  {
   "cell_type": "code",
   "execution_count": 34,
   "metadata": {},
   "outputs": [],
   "source": [
    "test1 = data[:10]"
   ]
  },
  {
   "cell_type": "code",
   "execution_count": 35,
   "metadata": {},
   "outputs": [
    {
     "data": {
      "text/plain": [
       "<seaborn.axisgrid.FacetGrid at 0x23bb986dd88>"
      ]
     },
     "execution_count": 35,
     "metadata": {},
     "output_type": "execute_result"
    },
    {
     "data": {
      "image/png": "[encoded data removed]",
      "text/plain": [
       "<Figure size 360x360 with 1 Axes>"
      ]
     },
     "metadata": {
      "needs_background": "light"
     },
     "output_type": "display_data"
    }
   ],
   "source": [
    "sns.displot(test1, x=\"type_archi\")"
   ]
  },
  {
   "cell_type": "code",
   "execution_count": 36,
   "metadata": {},
   "outputs": [
    {
     "data": {
      "text/plain": [
       "<seaborn.axisgrid.FacetGrid at 0x23bb9a9e908>"
      ]
     },
     "execution_count": 36,
     "metadata": {},
     "output_type": "execute_result"
    },
    {
     "data": {
      "image/png": "[encoded data removed]",
      "text/plain": [
       "<Figure size 449.75x360 with 1 Axes>"
      ]
     },
     "metadata": {
      "needs_background": "light"
     },
     "output_type": "display_data"
    }
   ],
   "source": [
    "sns.lmplot(\n",
    "    x='training_time(s)',\n",
    "    y='test_result_acc',\n",
    "    data=test1,\n",
    "    hue='type_archi',\n",
    "    fit_reg=False\n",
    ")"
   ]
  },
  {
   "cell_type": "code",
   "execution_count": 37,
   "metadata": {},
   "outputs": [
    {
     "data": {
      "text/plain": [
       "<AxesSubplot:xlabel='type_archi', ylabel='test_result_acc'>"
      ]
     },
     "execution_count": 37,
     "metadata": {},
     "output_type": "execute_result"
    },
    {
     "data": {
      "image/png": "[encoded data removed]",
      "text/plain": [
       "<Figure size 432x288 with 1 Axes>"
      ]
     },
     "metadata": {
      "needs_background": "light"
     },
     "output_type": "display_data"
    }
   ],
   "source": [
    "sns.boxplot(y='test_result_acc', x='type_archi' ,data=test1)"
   ]
  },
  {
   "cell_type": "code",
   "execution_count": 38,
   "metadata": {},
   "outputs": [
    {
     "data": {
      "text/plain": [
       "<AxesSubplot:xlabel='type_archi', ylabel='training_time(s)'>"
      ]
     },
     "execution_count": 38,
     "metadata": {},
     "output_type": "execute_result"
    },
    {
     "data": {
      "image/png": "[encoded data removed]",
      "text/plain": [
       "<Figure size 432x288 with 1 Axes>"
      ]
     },
     "metadata": {
      "needs_background": "light"
     },
     "output_type": "display_data"
    }
   ],
   "source": [
    "sns.boxplot(y='training_time(s)', x='type_archi', data=test1)"
   ]
  },
  {
   "cell_type": "code",
   "execution_count": 39,
   "metadata": {},
   "outputs": [
    {
     "data": {
      "text/plain": [
       "<seaborn.axisgrid.FacetGrid at 0x23bbac6e188>"
      ]
     },
     "execution_count": 39,
     "metadata": {},
     "output_type": "execute_result"
    },
    {
     "data": {
      "image/png": "[encoded data removed]",
      "text/plain": [
       "<Figure size 449.75x360 with 1 Axes>"
      ]
     },
     "metadata": {
      "needs_background": "light"
     },
     "output_type": "display_data"
    }
   ],
   "source": [
    "sns.lmplot(\n",
    "    x='training_time(s)',\n",
    "    y='nb_layers',\n",
    "    data=test1,\n",
    "    fit_reg=False,\n",
    "    hue='type_archi'\n",
    ")"
   ]
  },
  {
   "cell_type": "code",
   "execution_count": 40,
   "metadata": {},
   "outputs": [
    {
     "data": {
      "text/plain": [
       "<seaborn.axisgrid.FacetGrid at 0x23bbacfa308>"
      ]
     },
     "execution_count": 40,
     "metadata": {},
     "output_type": "execute_result"
    },
    {
     "data": {
      "image/png": "[encoded data removed]",
      "text/plain": [
       "<Figure size 449.75x360 with 1 Axes>"
      ]
     },
     "metadata": {
      "needs_background": "light"
     },
     "output_type": "display_data"
    }
   ],
   "source": [
    "sns.lmplot(\n",
    "    x='nb_layers',\n",
    "    y='test_result_acc',\n",
    "    data=test1,\n",
    "    fit_reg=False,\n",
    "    hue='type_archi'\n",
    ")"
   ]
  },
  {
   "cell_type": "markdown",
   "metadata": {},
   "source": [
    "# experiment 2 : block"
   ]
  },
  {
   "cell_type": "code",
   "execution_count": 13,
   "metadata": {},
   "outputs": [],
   "source": [
    "test2 = data[10:40]"
   ]
  },
  {
   "cell_type": "code",
   "execution_count": 46,
   "metadata": {},
   "outputs": [
    {
     "data": {
      "text/plain": [
       "<seaborn.axisgrid.FacetGrid at 0x23bbace0c48>"
      ]
     },
     "execution_count": 46,
     "metadata": {},
     "output_type": "execute_result"
    },
    {
     "data": {
      "image/png": "[encoded data removed]",
      "text/plain": [
       "<Figure size 360x360 with 1 Axes>"
      ]
     },
     "metadata": {
      "needs_background": "light"
     },
     "output_type": "display_data"
    }
   ],
   "source": [
    "sns.displot(test2, x=\"type_archi\")"
   ]
  },
  {
   "cell_type": "code",
   "execution_count": 47,
   "metadata": {},
   "outputs": [
    {
     "data": {
      "text/plain": [
       "<seaborn.axisgrid.FacetGrid at 0x23bbad9fb88>"
      ]
     },
     "execution_count": 47,
     "metadata": {},
     "output_type": "execute_result"
    },
    {
     "data": {
      "image/png": "[encoded data removed]",
      "text/plain": [
       "<Figure size 449.75x360 with 1 Axes>"
      ]
     },
     "metadata": {
      "needs_background": "light"
     },
     "output_type": "display_data"
    }
   ],
   "source": [
    "sns.lmplot(\n",
    "    x='training_time(s)',\n",
    "    y='test_result_acc',\n",
    "    data=test2,\n",
    "    hue='type_archi',\n",
    "    fit_reg=False\n",
    ")"
   ]
  },
  {
   "cell_type": "code",
   "execution_count": 48,
   "metadata": {},
   "outputs": [
    {
     "data": {
      "text/plain": [
       "<AxesSubplot:xlabel='type_archi', ylabel='test_result_acc'>"
      ]
     },
     "execution_count": 48,
     "metadata": {},
     "output_type": "execute_result"
    },
    {
     "data": {
      "image/png": "[encoded data removed]",
      "text/plain": [
       "<Figure size 432x288 with 1 Axes>"
      ]
     },
     "metadata": {
      "needs_background": "light"
     },
     "output_type": "display_data"
    }
   ],
   "source": [
    "sns.boxplot(y='test_result_acc', x='type_archi' ,data=test2)"
   ]
  },
  {
   "cell_type": "code",
   "execution_count": 49,
   "metadata": {},
   "outputs": [
    {
     "data": {
      "text/plain": [
       "<AxesSubplot:xlabel='type_archi', ylabel='training_time(s)'>"
      ]
     },
     "execution_count": 49,
     "metadata": {},
     "output_type": "execute_result"
    },
    {
     "data": {
      "image/png": "[encoded data removed]",
      "text/plain": [
       "<Figure size 432x288 with 1 Axes>"
      ]
     },
     "metadata": {
      "needs_background": "light"
     },
     "output_type": "display_data"
    }
   ],
   "source": [
    "sns.boxplot(y='training_time(s)', x='type_archi', data=test2)"
   ]
  },
  {
   "cell_type": "code",
   "execution_count": 54,
   "metadata": {},
   "outputs": [
    {
     "data": {
      "text/plain": [
       "<seaborn.axisgrid.FacetGrid at 0x23bbc18a288>"
      ]
     },
     "execution_count": 54,
     "metadata": {},
     "output_type": "execute_result"
    },
    {
     "data": {
      "image/png": "[encoded data removed]",
      "text/plain": [
       "<Figure size 449.75x360 with 1 Axes>"
      ]
     },
     "metadata": {
      "needs_background": "light"
     },
     "output_type": "display_data"
    }
   ],
   "source": [
    "sns.lmplot(\n",
    "    x='training_time(s)',\n",
    "    y='nb_layers',\n",
    "    data=test2,\n",
    "    fit_reg=False,\n",
    "    hue='type_archi'\n",
    ")"
   ]
  },
  {
   "cell_type": "code",
   "execution_count": 51,
   "metadata": {},
   "outputs": [
    {
     "data": {
      "text/plain": [
       "<seaborn.axisgrid.FacetGrid at 0x23bbb0285c8>"
      ]
     },
     "execution_count": 51,
     "metadata": {},
     "output_type": "execute_result"
    },
    {
     "data": {
      "image/png": "[encoded data removed]",
      "text/plain": [
       "<Figure size 449.75x360 with 1 Axes>"
      ]
     },
     "metadata": {
      "needs_background": "light"
     },
     "output_type": "display_data"
    }
   ],
   "source": [
    "sns.lmplot(\n",
    "    x='nb_layers',\n",
    "    y='test_result_acc',\n",
    "    data=test2,\n",
    "    fit_reg=False,\n",
    "    hue='type_archi'\n",
    ")"
   ]
  },
  {
   "cell_type": "code",
   "execution_count": 14,
   "metadata": {},
   "outputs": [
    {
     "data": {
      "text/plain": [
       "<seaborn.axisgrid.FacetGrid at 0x1cc21891b08>"
      ]
     },
     "execution_count": 14,
     "metadata": {},
     "output_type": "execute_result"
    },
    {
     "data": {
      "image/png": "[encoded data removed]",
      "text/plain": [
       "<Figure size 360x360 with 1 Axes>"
      ]
     },
     "metadata": {
      "needs_background": "light"
     },
     "output_type": "display_data"
    }
   ],
   "source": [
    "sns.lmplot(\n",
    "    x='training_time(s)',\n",
    "    y='nb_layers',\n",
    "    data=test2,\n",
    "    fit_reg=True\n",
    ")"
   ]
  },
  {
   "cell_type": "markdown",
   "metadata": {},
   "source": [
    "# experiment 3 : Cifar"
   ]
  },
  {
   "cell_type": "code",
   "execution_count": 17,
   "metadata": {},
   "outputs": [],
   "source": [
    "test3 = data[40:70]"
   ]
  },
  {
   "cell_type": "code",
   "execution_count": 18,
   "metadata": {},
   "outputs": [
    {
     "data": {
      "text/html": [
       "<div>\n",
       "<style scoped>\n",
       "    .dataframe tbody tr th:only-of-type {\n",
       "        vertical-align: middle;\n",
       "    }\n",
       "\n",
       "    .dataframe tbody tr th {\n",
       "        vertical-align: top;\n",
       "    }\n",
       "\n",
       "    .dataframe thead th {\n",
       "        text-align: right;\n",
       "    }\n",
       "</style>\n",
       "<table border=\"1\" class=\"dataframe\">\n",
       "  <thead>\n",
       "    <tr style=\"text-align: right;\">\n",
       "      <th></th>\n",
       "      <th>file_name</th>\n",
       "      <th>training_time(s)</th>\n",
       "      <th>test_result_loss</th>\n",
       "      <th>test_result_acc</th>\n",
       "      <th>train_result_acc</th>\n",
       "      <th>train_result_loss</th>\n",
       "      <th>nb_layers</th>\n",
       "      <th>epochs</th>\n",
       "      <th>type_archi</th>\n",
       "    </tr>\n",
       "  </thead>\n",
       "  <tbody>\n",
       "    <tr>\n",
       "      <th>40</th>\n",
       "      <td>archi_v3_1</td>\n",
       "      <td>114.101931</td>\n",
       "      <td>1.460473</td>\n",
       "      <td>0.4703</td>\n",
       "      <td>0.48020</td>\n",
       "      <td>1.441289</td>\n",
       "      <td>32</td>\n",
       "      <td>5</td>\n",
       "      <td>RESNET</td>\n",
       "    </tr>\n",
       "    <tr>\n",
       "      <th>41</th>\n",
       "      <td>archi_v3_2</td>\n",
       "      <td>46.496251</td>\n",
       "      <td>1.803117</td>\n",
       "      <td>0.3246</td>\n",
       "      <td>0.32260</td>\n",
       "      <td>1.803775</td>\n",
       "      <td>18</td>\n",
       "      <td>5</td>\n",
       "      <td>DENSENET</td>\n",
       "    </tr>\n",
       "    <tr>\n",
       "      <th>42</th>\n",
       "      <td>archi_v3_3</td>\n",
       "      <td>80.009860</td>\n",
       "      <td>1.296909</td>\n",
       "      <td>0.5268</td>\n",
       "      <td>0.55216</td>\n",
       "      <td>1.225355</td>\n",
       "      <td>23</td>\n",
       "      <td>5</td>\n",
       "      <td>RESNET</td>\n",
       "    </tr>\n",
       "    <tr>\n",
       "      <th>43</th>\n",
       "      <td>archi_v3_4</td>\n",
       "      <td>188.287363</td>\n",
       "      <td>1.444496</td>\n",
       "      <td>0.4808</td>\n",
       "      <td>0.49434</td>\n",
       "      <td>1.414573</td>\n",
       "      <td>30</td>\n",
       "      <td>5</td>\n",
       "      <td>ALL</td>\n",
       "    </tr>\n",
       "    <tr>\n",
       "      <th>44</th>\n",
       "      <td>archi_v3_5</td>\n",
       "      <td>299.288743</td>\n",
       "      <td>1.937277</td>\n",
       "      <td>0.2170</td>\n",
       "      <td>0.21784</td>\n",
       "      <td>1.934680</td>\n",
       "      <td>26</td>\n",
       "      <td>5</td>\n",
       "      <td>ALL</td>\n",
       "    </tr>\n",
       "    <tr>\n",
       "      <th>45</th>\n",
       "      <td>archi_v3_6</td>\n",
       "      <td>89.250098</td>\n",
       "      <td>2.255981</td>\n",
       "      <td>0.1158</td>\n",
       "      <td>0.11548</td>\n",
       "      <td>2.257101</td>\n",
       "      <td>19</td>\n",
       "      <td>5</td>\n",
       "      <td>DENSENET</td>\n",
       "    </tr>\n",
       "    <tr>\n",
       "      <th>46</th>\n",
       "      <td>archi_v3_7</td>\n",
       "      <td>208.247876</td>\n",
       "      <td>1.265950</td>\n",
       "      <td>0.5530</td>\n",
       "      <td>0.58008</td>\n",
       "      <td>1.178796</td>\n",
       "      <td>31</td>\n",
       "      <td>5</td>\n",
       "      <td>RESNET</td>\n",
       "    </tr>\n",
       "    <tr>\n",
       "      <th>47</th>\n",
       "      <td>archi_v3_8</td>\n",
       "      <td>150.352577</td>\n",
       "      <td>2.031523</td>\n",
       "      <td>0.1887</td>\n",
       "      <td>0.18898</td>\n",
       "      <td>2.035775</td>\n",
       "      <td>41</td>\n",
       "      <td>5</td>\n",
       "      <td>ALL</td>\n",
       "    </tr>\n",
       "    <tr>\n",
       "      <th>48</th>\n",
       "      <td>archi_v3_9</td>\n",
       "      <td>67.913760</td>\n",
       "      <td>1.456546</td>\n",
       "      <td>0.4797</td>\n",
       "      <td>0.50096</td>\n",
       "      <td>1.407333</td>\n",
       "      <td>7</td>\n",
       "      <td>5</td>\n",
       "      <td>LENET</td>\n",
       "    </tr>\n",
       "    <tr>\n",
       "      <th>49</th>\n",
       "      <td>archi_v3_10</td>\n",
       "      <td>47.467861</td>\n",
       "      <td>1.685498</td>\n",
       "      <td>0.3767</td>\n",
       "      <td>0.37402</td>\n",
       "      <td>1.687152</td>\n",
       "      <td>6</td>\n",
       "      <td>5</td>\n",
       "      <td>LENET</td>\n",
       "    </tr>\n",
       "    <tr>\n",
       "      <th>50</th>\n",
       "      <td>archi_v3_11</td>\n",
       "      <td>92.053016</td>\n",
       "      <td>1.473383</td>\n",
       "      <td>0.4664</td>\n",
       "      <td>0.46846</td>\n",
       "      <td>1.464270</td>\n",
       "      <td>22</td>\n",
       "      <td>5</td>\n",
       "      <td>RESNET</td>\n",
       "    </tr>\n",
       "    <tr>\n",
       "      <th>51</th>\n",
       "      <td>archi_v3_12</td>\n",
       "      <td>114.744689</td>\n",
       "      <td>1.361452</td>\n",
       "      <td>0.5118</td>\n",
       "      <td>0.51814</td>\n",
       "      <td>1.347879</td>\n",
       "      <td>14</td>\n",
       "      <td>5</td>\n",
       "      <td>RESNET</td>\n",
       "    </tr>\n",
       "    <tr>\n",
       "      <th>52</th>\n",
       "      <td>archi_v3_13</td>\n",
       "      <td>78.055731</td>\n",
       "      <td>1.968408</td>\n",
       "      <td>0.2621</td>\n",
       "      <td>0.26528</td>\n",
       "      <td>1.979267</td>\n",
       "      <td>22</td>\n",
       "      <td>5</td>\n",
       "      <td>RESNET</td>\n",
       "    </tr>\n",
       "    <tr>\n",
       "      <th>53</th>\n",
       "      <td>archi_v3_14</td>\n",
       "      <td>328.929410</td>\n",
       "      <td>1.069976</td>\n",
       "      <td>0.6268</td>\n",
       "      <td>0.68386</td>\n",
       "      <td>0.897107</td>\n",
       "      <td>48</td>\n",
       "      <td>5</td>\n",
       "      <td>RESNET</td>\n",
       "    </tr>\n",
       "    <tr>\n",
       "      <th>54</th>\n",
       "      <td>archi_v3_15</td>\n",
       "      <td>59.117589</td>\n",
       "      <td>1.496593</td>\n",
       "      <td>0.4456</td>\n",
       "      <td>0.44630</td>\n",
       "      <td>1.492681</td>\n",
       "      <td>14</td>\n",
       "      <td>5</td>\n",
       "      <td>DENSENET</td>\n",
       "    </tr>\n",
       "    <tr>\n",
       "      <th>55</th>\n",
       "      <td>archi_v3_16</td>\n",
       "      <td>32.623046</td>\n",
       "      <td>1.733514</td>\n",
       "      <td>0.3588</td>\n",
       "      <td>0.36436</td>\n",
       "      <td>1.726368</td>\n",
       "      <td>5</td>\n",
       "      <td>5</td>\n",
       "      <td>LENET</td>\n",
       "    </tr>\n",
       "    <tr>\n",
       "      <th>56</th>\n",
       "      <td>archi_v3_17</td>\n",
       "      <td>185.171742</td>\n",
       "      <td>1.809160</td>\n",
       "      <td>0.3407</td>\n",
       "      <td>0.33582</td>\n",
       "      <td>1.814764</td>\n",
       "      <td>19</td>\n",
       "      <td>5</td>\n",
       "      <td>DENSENET</td>\n",
       "    </tr>\n",
       "    <tr>\n",
       "      <th>57</th>\n",
       "      <td>archi_v3_18</td>\n",
       "      <td>149.700083</td>\n",
       "      <td>1.320446</td>\n",
       "      <td>0.5277</td>\n",
       "      <td>0.53676</td>\n",
       "      <td>1.298339</td>\n",
       "      <td>8</td>\n",
       "      <td>5</td>\n",
       "      <td>LENET</td>\n",
       "    </tr>\n",
       "    <tr>\n",
       "      <th>58</th>\n",
       "      <td>archi_v3_19</td>\n",
       "      <td>309.328051</td>\n",
       "      <td>1.727240</td>\n",
       "      <td>0.3607</td>\n",
       "      <td>0.36226</td>\n",
       "      <td>1.729516</td>\n",
       "      <td>22</td>\n",
       "      <td>5</td>\n",
       "      <td>DENSENET</td>\n",
       "    </tr>\n",
       "    <tr>\n",
       "      <th>59</th>\n",
       "      <td>archi_v3_20</td>\n",
       "      <td>286.882102</td>\n",
       "      <td>1.284623</td>\n",
       "      <td>0.5405</td>\n",
       "      <td>0.62388</td>\n",
       "      <td>1.063564</td>\n",
       "      <td>54</td>\n",
       "      <td>5</td>\n",
       "      <td>RESNET</td>\n",
       "    </tr>\n",
       "    <tr>\n",
       "      <th>60</th>\n",
       "      <td>archi_v3_21</td>\n",
       "      <td>274.169622</td>\n",
       "      <td>1.600183</td>\n",
       "      <td>0.4213</td>\n",
       "      <td>0.42286</td>\n",
       "      <td>1.595546</td>\n",
       "      <td>37</td>\n",
       "      <td>5</td>\n",
       "      <td>RESNET</td>\n",
       "    </tr>\n",
       "    <tr>\n",
       "      <th>61</th>\n",
       "      <td>archi_v3_22</td>\n",
       "      <td>108.974923</td>\n",
       "      <td>1.584536</td>\n",
       "      <td>0.4341</td>\n",
       "      <td>0.44202</td>\n",
       "      <td>1.545566</td>\n",
       "      <td>9</td>\n",
       "      <td>5</td>\n",
       "      <td>LENET</td>\n",
       "    </tr>\n",
       "    <tr>\n",
       "      <th>62</th>\n",
       "      <td>archi_v3_23</td>\n",
       "      <td>64.151674</td>\n",
       "      <td>1.897018</td>\n",
       "      <td>0.2905</td>\n",
       "      <td>0.29096</td>\n",
       "      <td>1.897272</td>\n",
       "      <td>5</td>\n",
       "      <td>5</td>\n",
       "      <td>LENET</td>\n",
       "    </tr>\n",
       "    <tr>\n",
       "      <th>63</th>\n",
       "      <td>archi_v3_24</td>\n",
       "      <td>104.121960</td>\n",
       "      <td>1.690835</td>\n",
       "      <td>0.3778</td>\n",
       "      <td>0.37380</td>\n",
       "      <td>1.690711</td>\n",
       "      <td>18</td>\n",
       "      <td>5</td>\n",
       "      <td>DENSENET</td>\n",
       "    </tr>\n",
       "    <tr>\n",
       "      <th>64</th>\n",
       "      <td>archi_v3_25</td>\n",
       "      <td>235.500977</td>\n",
       "      <td>2.342998</td>\n",
       "      <td>0.1000</td>\n",
       "      <td>0.10000</td>\n",
       "      <td>2.342981</td>\n",
       "      <td>57</td>\n",
       "      <td>5</td>\n",
       "      <td>DENSENET</td>\n",
       "    </tr>\n",
       "    <tr>\n",
       "      <th>65</th>\n",
       "      <td>archi_v3_26</td>\n",
       "      <td>130.112971</td>\n",
       "      <td>1.473501</td>\n",
       "      <td>0.4662</td>\n",
       "      <td>0.48192</td>\n",
       "      <td>1.445742</td>\n",
       "      <td>22</td>\n",
       "      <td>5</td>\n",
       "      <td>RESNET</td>\n",
       "    </tr>\n",
       "    <tr>\n",
       "      <th>66</th>\n",
       "      <td>archi_v3_27</td>\n",
       "      <td>38.577564</td>\n",
       "      <td>1.550333</td>\n",
       "      <td>0.4490</td>\n",
       "      <td>0.45606</td>\n",
       "      <td>1.533168</td>\n",
       "      <td>7</td>\n",
       "      <td>5</td>\n",
       "      <td>ALL</td>\n",
       "    </tr>\n",
       "    <tr>\n",
       "      <th>67</th>\n",
       "      <td>archi_v3_28</td>\n",
       "      <td>37.346544</td>\n",
       "      <td>1.470961</td>\n",
       "      <td>0.4752</td>\n",
       "      <td>0.48920</td>\n",
       "      <td>1.441330</td>\n",
       "      <td>5</td>\n",
       "      <td>5</td>\n",
       "      <td>LENET</td>\n",
       "    </tr>\n",
       "    <tr>\n",
       "      <th>68</th>\n",
       "      <td>archi_v3_29</td>\n",
       "      <td>60.046226</td>\n",
       "      <td>1.916541</td>\n",
       "      <td>0.2891</td>\n",
       "      <td>0.29066</td>\n",
       "      <td>1.918351</td>\n",
       "      <td>20</td>\n",
       "      <td>5</td>\n",
       "      <td>DENSENET</td>\n",
       "    </tr>\n",
       "    <tr>\n",
       "      <th>69</th>\n",
       "      <td>archi_v3_30</td>\n",
       "      <td>43.212461</td>\n",
       "      <td>1.520845</td>\n",
       "      <td>0.4490</td>\n",
       "      <td>0.45122</td>\n",
       "      <td>1.516919</td>\n",
       "      <td>7</td>\n",
       "      <td>5</td>\n",
       "      <td>LENET</td>\n",
       "    </tr>\n",
       "  </tbody>\n",
       "</table>\n",
       "</div>"
      ],
      "text/plain": [
       "      file_name  training_time(s)  test_result_loss  test_result_acc  \\\n",
       "40   archi_v3_1        114.101931          1.460473           0.4703   \n",
       "41   archi_v3_2         46.496251          1.803117           0.3246   \n",
       "42   archi_v3_3         80.009860          1.296909           0.5268   \n",
       "43   archi_v3_4        188.287363          1.444496           0.4808   \n",
       "44   archi_v3_5        299.288743          1.937277           0.2170   \n",
       "45   archi_v3_6         89.250098          2.255981           0.1158   \n",
       "46   archi_v3_7        208.247876          1.265950           0.5530   \n",
       "47   archi_v3_8        150.352577          2.031523           0.1887   \n",
       "48   archi_v3_9         67.913760          1.456546           0.4797   \n",
       "49  archi_v3_10         47.467861          1.685498           0.3767   \n",
       "50  archi_v3_11         92.053016          1.473383           0.4664   \n",
       "51  archi_v3_12        114.744689          1.361452           0.5118   \n",
       "52  archi_v3_13         78.055731          1.968408           0.2621   \n",
       "53  archi_v3_14        328.929410          1.069976           0.6268   \n",
       "54  archi_v3_15         59.117589          1.496593           0.4456   \n",
       "55  archi_v3_16         32.623046          1.733514           0.3588   \n",
       "56  archi_v3_17        185.171742          1.809160           0.3407   \n",
       "57  archi_v3_18        149.700083          1.320446           0.5277   \n",
       "58  archi_v3_19        309.328051          1.727240           0.3607   \n",
       "59  archi_v3_20        286.882102          1.284623           0.5405   \n",
       "60  archi_v3_21        274.169622          1.600183           0.4213   \n",
       "61  archi_v3_22        108.974923          1.584536           0.4341   \n",
       "62  archi_v3_23         64.151674          1.897018           0.2905   \n",
       "63  archi_v3_24        104.121960          1.690835           0.3778   \n",
       "64  archi_v3_25        235.500977          2.342998           0.1000   \n",
       "65  archi_v3_26        130.112971          1.473501           0.4662   \n",
       "66  archi_v3_27         38.577564          1.550333           0.4490   \n",
       "67  archi_v3_28         37.346544          1.470961           0.4752   \n",
       "68  archi_v3_29         60.046226          1.916541           0.2891   \n",
       "69  archi_v3_30         43.212461          1.520845           0.4490   \n",
       "\n",
       "    train_result_acc  train_result_loss  nb_layers  epochs type_archi  \n",
       "40           0.48020           1.441289         32       5     RESNET  \n",
       "41           0.32260           1.803775         18       5   DENSENET  \n",
       "42           0.55216           1.225355         23       5     RESNET  \n",
       "43           0.49434           1.414573         30       5        ALL  \n",
       "44           0.21784           1.934680         26       5        ALL  \n",
       "45           0.11548           2.257101         19       5   DENSENET  \n",
       "46           0.58008           1.178796         31       5     RESNET  \n",
       "47           0.18898           2.035775         41       5        ALL  \n",
       "48           0.50096           1.407333          7       5      LENET  \n",
       "49           0.37402           1.687152          6       5      LENET  \n",
       "50           0.46846           1.464270         22       5     RESNET  \n",
       "51           0.51814           1.347879         14       5     RESNET  \n",
       "52           0.26528           1.979267         22       5     RESNET  \n",
       "53           0.68386           0.897107         48       5     RESNET  \n",
       "54           0.44630           1.492681         14       5   DENSENET  \n",
       "55           0.36436           1.726368          5       5      LENET  \n",
       "56           0.33582           1.814764         19       5   DENSENET  \n",
       "57           0.53676           1.298339          8       5      LENET  \n",
       "58           0.36226           1.729516         22       5   DENSENET  \n",
       "59           0.62388           1.063564         54       5     RESNET  \n",
       "60           0.42286           1.595546         37       5     RESNET  \n",
       "61           0.44202           1.545566          9       5      LENET  \n",
       "62           0.29096           1.897272          5       5      LENET  \n",
       "63           0.37380           1.690711         18       5   DENSENET  \n",
       "64           0.10000           2.342981         57       5   DENSENET  \n",
       "65           0.48192           1.445742         22       5     RESNET  \n",
       "66           0.45606           1.533168          7       5        ALL  \n",
       "67           0.48920           1.441330          5       5      LENET  \n",
       "68           0.29066           1.918351         20       5   DENSENET  \n",
       "69           0.45122           1.516919          7       5      LENET  "
      ]
     },
     "execution_count": 18,
     "metadata": {},
     "output_type": "execute_result"
    }
   ],
   "source": [
    "test3"
   ]
  },
  {
   "cell_type": "code",
   "execution_count": 5,
   "metadata": {},
   "outputs": [
    {
     "data": {
      "text/plain": [
       "<seaborn.axisgrid.FacetGrid at 0x1cc1c14ec08>"
      ]
     },
     "execution_count": 5,
     "metadata": {},
     "output_type": "execute_result"
    },
    {
     "data": {
      "image/png": "[encoded data removed]",
      "text/plain": [
       "<Figure size 360x360 with 1 Axes>"
      ]
     },
     "metadata": {
      "needs_background": "light"
     },
     "output_type": "display_data"
    }
   ],
   "source": [
    "sns.displot(test3, x=\"type_archi\")"
   ]
  },
  {
   "cell_type": "code",
   "execution_count": 6,
   "metadata": {},
   "outputs": [
    {
     "data": {
      "text/plain": [
       "<seaborn.axisgrid.FacetGrid at 0x1cc213cad88>"
      ]
     },
     "execution_count": 6,
     "metadata": {},
     "output_type": "execute_result"
    },
    {
     "data": {
      "image/png": "[encoded data removed]",
      "text/plain": [
       "<Figure size 449.75x360 with 1 Axes>"
      ]
     },
     "metadata": {
      "needs_background": "light"
     },
     "output_type": "display_data"
    }
   ],
   "source": [
    "sns.lmplot(\n",
    "    x='training_time(s)',\n",
    "    y='test_result_acc',\n",
    "    data=test3,\n",
    "    hue='type_archi',\n",
    "    fit_reg=False\n",
    ")"
   ]
  },
  {
   "cell_type": "code",
   "execution_count": 7,
   "metadata": {},
   "outputs": [
    {
     "data": {
      "text/plain": [
       "<AxesSubplot:xlabel='type_archi', ylabel='test_result_acc'>"
      ]
     },
     "execution_count": 7,
     "metadata": {},
     "output_type": "execute_result"
    },
    {
     "data": {
      "image/png": "[encoded data removed]",
      "text/plain": [
       "<Figure size 432x288 with 1 Axes>"
      ]
     },
     "metadata": {
      "needs_background": "light"
     },
     "output_type": "display_data"
    }
   ],
   "source": [
    "sns.boxplot(y='test_result_acc', x='type_archi' ,data=test3)"
   ]
  },
  {
   "cell_type": "code",
   "execution_count": 8,
   "metadata": {},
   "outputs": [
    {
     "data": {
      "text/plain": [
       "<AxesSubplot:xlabel='type_archi', ylabel='training_time(s)'>"
      ]
     },
     "execution_count": 8,
     "metadata": {},
     "output_type": "execute_result"
    },
    {
     "data": {
      "image/png": "[encoded data removed]",
      "text/plain": [
       "<Figure size 432x288 with 1 Axes>"
      ]
     },
     "metadata": {
      "needs_background": "light"
     },
     "output_type": "display_data"
    }
   ],
   "source": [
    "sns.boxplot(y='training_time(s)', x='type_archi', data=test3)"
   ]
  },
  {
   "cell_type": "code",
   "execution_count": 10,
   "metadata": {},
   "outputs": [
    {
     "data": {
      "text/plain": [
       "<seaborn.axisgrid.FacetGrid at 0x1cc216fbec8>"
      ]
     },
     "execution_count": 10,
     "metadata": {},
     "output_type": "execute_result"
    },
    {
     "data": {
      "image/png": "[encoded data removed]",
      "text/plain": [
       "<Figure size 449.75x360 with 1 Axes>"
      ]
     },
     "metadata": {
      "needs_background": "light"
     },
     "output_type": "display_data"
    }
   ],
   "source": [
    "sns.lmplot(\n",
    "    x='training_time(s)',\n",
    "    y='nb_layers',\n",
    "    data=test3,\n",
    "    fit_reg=False,\n",
    "    hue='type_archi'\n",
    ")"
   ]
  },
  {
   "cell_type": "code",
   "execution_count": 11,
   "metadata": {},
   "outputs": [
    {
     "data": {
      "text/plain": [
       "<seaborn.axisgrid.FacetGrid at 0x1cc21796348>"
      ]
     },
     "execution_count": 11,
     "metadata": {},
     "output_type": "execute_result"
    },
    {
     "data": {
      "image/png": "[encoded data removed]",
      "text/plain": [
       "<Figure size 449.75x360 with 1 Axes>"
      ]
     },
     "metadata": {
      "needs_background": "light"
     },
     "output_type": "display_data"
    }
   ],
   "source": [
    "sns.lmplot(\n",
    "    x='nb_layers',\n",
    "    y='test_result_acc',\n",
    "    data=test3,\n",
    "    fit_reg=False,\n",
    "    hue='type_archi'\n",
    ")"
   ]
  },
  {
   "cell_type": "code",
   "execution_count": 12,
   "metadata": {},
   "outputs": [
    {
     "data": {
      "text/plain": [
       "<seaborn.axisgrid.FacetGrid at 0x1cc2181c9c8>"
      ]
     },
     "execution_count": 12,
     "metadata": {},
     "output_type": "execute_result"
    },
    {
     "data": {
      "image/png": "[encoded data removed]",
      "text/plain": [
       "<Figure size 360x360 with 1 Axes>"
      ]
     },
     "metadata": {
      "needs_background": "light"
     },
     "output_type": "display_data"
    }
   ],
   "source": [
    "sns.lmplot(\n",
    "    x='training_time(s)',\n",
    "    y='nb_layers',\n",
    "    data=test3,\n",
    "    fit_reg=True\n",
    ")"
   ]
  },
  {
   "cell_type": "markdown",
   "metadata": {},
   "source": [
    "# Experiment 4\n",
    "- more epochs (max 50)\n",
    "- earlystopping"
   ]
  },
  {
   "cell_type": "code",
   "execution_count": 4,
   "metadata": {},
   "outputs": [],
   "source": [
    "test4 = data[70:100]"
   ]
  },
  {
   "cell_type": "code",
   "execution_count": 5,
   "metadata": {},
   "outputs": [
    {
     "data": {
      "text/html": [
       "<div>\n",
       "<style scoped>\n",
       "    .dataframe tbody tr th:only-of-type {\n",
       "        vertical-align: middle;\n",
       "    }\n",
       "\n",
       "    .dataframe tbody tr th {\n",
       "        vertical-align: top;\n",
       "    }\n",
       "\n",
       "    .dataframe thead th {\n",
       "        text-align: right;\n",
       "    }\n",
       "</style>\n",
       "<table border=\"1\" class=\"dataframe\">\n",
       "  <thead>\n",
       "    <tr style=\"text-align: right;\">\n",
       "      <th></th>\n",
       "      <th>file_name</th>\n",
       "      <th>training_time(s)</th>\n",
       "      <th>test_result_loss</th>\n",
       "      <th>test_result_acc</th>\n",
       "      <th>train_result_acc</th>\n",
       "      <th>train_result_loss</th>\n",
       "      <th>nb_layers</th>\n",
       "      <th>epochs</th>\n",
       "      <th>type_archi</th>\n",
       "    </tr>\n",
       "  </thead>\n",
       "  <tbody>\n",
       "    <tr>\n",
       "      <th>70</th>\n",
       "      <td>archi_v3_1</td>\n",
       "      <td>798.351023</td>\n",
       "      <td>1.289643</td>\n",
       "      <td>0.5326</td>\n",
       "      <td>0.57008</td>\n",
       "      <td>1.183775</td>\n",
       "      <td>32</td>\n",
       "      <td>34</td>\n",
       "      <td>RESNET</td>\n",
       "    </tr>\n",
       "    <tr>\n",
       "      <th>71</th>\n",
       "      <td>archi_v3_2</td>\n",
       "      <td>171.644020</td>\n",
       "      <td>1.749008</td>\n",
       "      <td>0.3465</td>\n",
       "      <td>0.34034</td>\n",
       "      <td>1.746196</td>\n",
       "      <td>18</td>\n",
       "      <td>14</td>\n",
       "      <td>DENSENET</td>\n",
       "    </tr>\n",
       "    <tr>\n",
       "      <th>72</th>\n",
       "      <td>archi_v3_3</td>\n",
       "      <td>627.813203</td>\n",
       "      <td>1.313787</td>\n",
       "      <td>0.5549</td>\n",
       "      <td>0.68076</td>\n",
       "      <td>0.902783</td>\n",
       "      <td>23</td>\n",
       "      <td>39</td>\n",
       "      <td>RESNET</td>\n",
       "    </tr>\n",
       "    <tr>\n",
       "      <th>73</th>\n",
       "      <td>archi_v3_4</td>\n",
       "      <td>749.831077</td>\n",
       "      <td>1.236278</td>\n",
       "      <td>0.5595</td>\n",
       "      <td>0.62448</td>\n",
       "      <td>1.058717</td>\n",
       "      <td>30</td>\n",
       "      <td>30</td>\n",
       "      <td>ALL</td>\n",
       "    </tr>\n",
       "    <tr>\n",
       "      <th>74</th>\n",
       "      <td>archi_v3_5</td>\n",
       "      <td>191.680154</td>\n",
       "      <td>1.929973</td>\n",
       "      <td>0.2138</td>\n",
       "      <td>0.21534</td>\n",
       "      <td>1.932666</td>\n",
       "      <td>26</td>\n",
       "      <td>10</td>\n",
       "      <td>ALL</td>\n",
       "    </tr>\n",
       "    <tr>\n",
       "      <th>75</th>\n",
       "      <td>archi_v3_6</td>\n",
       "      <td>177.881168</td>\n",
       "      <td>2.213312</td>\n",
       "      <td>0.1292</td>\n",
       "      <td>0.12836</td>\n",
       "      <td>2.210249</td>\n",
       "      <td>19</td>\n",
       "      <td>19</td>\n",
       "      <td>DENSENET</td>\n",
       "    </tr>\n",
       "    <tr>\n",
       "      <th>76</th>\n",
       "      <td>archi_v3_7</td>\n",
       "      <td>818.211906</td>\n",
       "      <td>1.340803</td>\n",
       "      <td>0.5474</td>\n",
       "      <td>0.69816</td>\n",
       "      <td>0.853304</td>\n",
       "      <td>31</td>\n",
       "      <td>50</td>\n",
       "      <td>RESNET</td>\n",
       "    </tr>\n",
       "    <tr>\n",
       "      <th>77</th>\n",
       "      <td>archi_v3_8</td>\n",
       "      <td>283.723264</td>\n",
       "      <td>1.933496</td>\n",
       "      <td>0.2081</td>\n",
       "      <td>0.20686</td>\n",
       "      <td>1.936604</td>\n",
       "      <td>41</td>\n",
       "      <td>18</td>\n",
       "      <td>ALL</td>\n",
       "    </tr>\n",
       "    <tr>\n",
       "      <th>78</th>\n",
       "      <td>archi_v3_9</td>\n",
       "      <td>276.185378</td>\n",
       "      <td>1.512171</td>\n",
       "      <td>0.4939</td>\n",
       "      <td>0.63846</td>\n",
       "      <td>1.028738</td>\n",
       "      <td>7</td>\n",
       "      <td>45</td>\n",
       "      <td>LENET</td>\n",
       "    </tr>\n",
       "    <tr>\n",
       "      <th>79</th>\n",
       "      <td>archi_v3_10</td>\n",
       "      <td>109.447790</td>\n",
       "      <td>1.628932</td>\n",
       "      <td>0.4086</td>\n",
       "      <td>0.40380</td>\n",
       "      <td>1.619255</td>\n",
       "      <td>6</td>\n",
       "      <td>20</td>\n",
       "      <td>LENET</td>\n",
       "    </tr>\n",
       "    <tr>\n",
       "      <th>80</th>\n",
       "      <td>archi_v3_11</td>\n",
       "      <td>385.482478</td>\n",
       "      <td>1.389411</td>\n",
       "      <td>0.4952</td>\n",
       "      <td>0.53390</td>\n",
       "      <td>1.295880</td>\n",
       "      <td>22</td>\n",
       "      <td>39</td>\n",
       "      <td>RESNET</td>\n",
       "    </tr>\n",
       "    <tr>\n",
       "      <th>81</th>\n",
       "      <td>archi_v3_12</td>\n",
       "      <td>406.398865</td>\n",
       "      <td>1.201002</td>\n",
       "      <td>0.5742</td>\n",
       "      <td>0.61002</td>\n",
       "      <td>1.096861</td>\n",
       "      <td>14</td>\n",
       "      <td>38</td>\n",
       "      <td>RESNET</td>\n",
       "    </tr>\n",
       "    <tr>\n",
       "      <th>82</th>\n",
       "      <td>archi_v3_13</td>\n",
       "      <td>279.381831</td>\n",
       "      <td>1.931204</td>\n",
       "      <td>0.2889</td>\n",
       "      <td>0.28578</td>\n",
       "      <td>1.936650</td>\n",
       "      <td>22</td>\n",
       "      <td>21</td>\n",
       "      <td>RESNET</td>\n",
       "    </tr>\n",
       "    <tr>\n",
       "      <th>83</th>\n",
       "      <td>archi_v3_14</td>\n",
       "      <td>2862.626125</td>\n",
       "      <td>1.562104</td>\n",
       "      <td>0.6741</td>\n",
       "      <td>0.91178</td>\n",
       "      <td>0.305582</td>\n",
       "      <td>48</td>\n",
       "      <td>26</td>\n",
       "      <td>RESNET</td>\n",
       "    </tr>\n",
       "    <tr>\n",
       "      <th>84</th>\n",
       "      <td>archi_v3_15</td>\n",
       "      <td>365.127640</td>\n",
       "      <td>1.409012</td>\n",
       "      <td>0.4752</td>\n",
       "      <td>0.48598</td>\n",
       "      <td>1.396790</td>\n",
       "      <td>14</td>\n",
       "      <td>22</td>\n",
       "      <td>DENSENET</td>\n",
       "    </tr>\n",
       "    <tr>\n",
       "      <th>85</th>\n",
       "      <td>archi_v3_16</td>\n",
       "      <td>143.422499</td>\n",
       "      <td>1.694817</td>\n",
       "      <td>0.3687</td>\n",
       "      <td>0.38116</td>\n",
       "      <td>1.670411</td>\n",
       "      <td>5</td>\n",
       "      <td>25</td>\n",
       "      <td>LENET</td>\n",
       "    </tr>\n",
       "    <tr>\n",
       "      <th>86</th>\n",
       "      <td>archi_v3_17</td>\n",
       "      <td>505.976903</td>\n",
       "      <td>1.819473</td>\n",
       "      <td>0.3208</td>\n",
       "      <td>0.32264</td>\n",
       "      <td>1.817840</td>\n",
       "      <td>19</td>\n",
       "      <td>23</td>\n",
       "      <td>DENSENET</td>\n",
       "    </tr>\n",
       "    <tr>\n",
       "      <th>87</th>\n",
       "      <td>archi_v3_18</td>\n",
       "      <td>437.157930</td>\n",
       "      <td>1.207778</td>\n",
       "      <td>0.5811</td>\n",
       "      <td>0.59132</td>\n",
       "      <td>1.154364</td>\n",
       "      <td>8</td>\n",
       "      <td>23</td>\n",
       "      <td>LENET</td>\n",
       "    </tr>\n",
       "    <tr>\n",
       "      <th>88</th>\n",
       "      <td>archi_v3_19</td>\n",
       "      <td>666.666937</td>\n",
       "      <td>1.655370</td>\n",
       "      <td>0.3881</td>\n",
       "      <td>0.39306</td>\n",
       "      <td>1.658628</td>\n",
       "      <td>22</td>\n",
       "      <td>21</td>\n",
       "      <td>DENSENET</td>\n",
       "    </tr>\n",
       "    <tr>\n",
       "      <th>89</th>\n",
       "      <td>archi_v3_20</td>\n",
       "      <td>1267.964992</td>\n",
       "      <td>2.086387</td>\n",
       "      <td>0.5507</td>\n",
       "      <td>0.89146</td>\n",
       "      <td>0.380470</td>\n",
       "      <td>54</td>\n",
       "      <td>27</td>\n",
       "      <td>RESNET</td>\n",
       "    </tr>\n",
       "    <tr>\n",
       "      <th>90</th>\n",
       "      <td>archi_v3_21</td>\n",
       "      <td>519.126523</td>\n",
       "      <td>1.667302</td>\n",
       "      <td>0.4200</td>\n",
       "      <td>0.42910</td>\n",
       "      <td>1.626723</td>\n",
       "      <td>37</td>\n",
       "      <td>27</td>\n",
       "      <td>RESNET</td>\n",
       "    </tr>\n",
       "    <tr>\n",
       "      <th>91</th>\n",
       "      <td>archi_v3_22</td>\n",
       "      <td>437.718422</td>\n",
       "      <td>1.572903</td>\n",
       "      <td>0.4390</td>\n",
       "      <td>0.51806</td>\n",
       "      <td>1.334449</td>\n",
       "      <td>9</td>\n",
       "      <td>50</td>\n",
       "      <td>LENET</td>\n",
       "    </tr>\n",
       "    <tr>\n",
       "      <th>92</th>\n",
       "      <td>archi_v3_23</td>\n",
       "      <td>193.604706</td>\n",
       "      <td>1.853253</td>\n",
       "      <td>0.3087</td>\n",
       "      <td>0.31118</td>\n",
       "      <td>1.851650</td>\n",
       "      <td>5</td>\n",
       "      <td>37</td>\n",
       "      <td>LENET</td>\n",
       "    </tr>\n",
       "    <tr>\n",
       "      <th>93</th>\n",
       "      <td>archi_v3_24</td>\n",
       "      <td>151.241717</td>\n",
       "      <td>1.585453</td>\n",
       "      <td>0.4208</td>\n",
       "      <td>0.42204</td>\n",
       "      <td>1.584376</td>\n",
       "      <td>18</td>\n",
       "      <td>16</td>\n",
       "      <td>DENSENET</td>\n",
       "    </tr>\n",
       "    <tr>\n",
       "      <th>94</th>\n",
       "      <td>archi_v3_25</td>\n",
       "      <td>196.002860</td>\n",
       "      <td>2.338582</td>\n",
       "      <td>0.1000</td>\n",
       "      <td>0.10000</td>\n",
       "      <td>2.338510</td>\n",
       "      <td>57</td>\n",
       "      <td>4</td>\n",
       "      <td>DENSENET</td>\n",
       "    </tr>\n",
       "    <tr>\n",
       "      <th>95</th>\n",
       "      <td>archi_v3_26</td>\n",
       "      <td>394.379198</td>\n",
       "      <td>1.374504</td>\n",
       "      <td>0.5060</td>\n",
       "      <td>0.54694</td>\n",
       "      <td>1.264680</td>\n",
       "      <td>22</td>\n",
       "      <td>29</td>\n",
       "      <td>RESNET</td>\n",
       "    </tr>\n",
       "    <tr>\n",
       "      <th>96</th>\n",
       "      <td>archi_v3_27</td>\n",
       "      <td>350.640200</td>\n",
       "      <td>1.331682</td>\n",
       "      <td>0.5235</td>\n",
       "      <td>0.55072</td>\n",
       "      <td>1.253514</td>\n",
       "      <td>7</td>\n",
       "      <td>48</td>\n",
       "      <td>ALL</td>\n",
       "    </tr>\n",
       "    <tr>\n",
       "      <th>97</th>\n",
       "      <td>archi_v3_28</td>\n",
       "      <td>180.019281</td>\n",
       "      <td>1.417438</td>\n",
       "      <td>0.4987</td>\n",
       "      <td>0.51446</td>\n",
       "      <td>1.362157</td>\n",
       "      <td>5</td>\n",
       "      <td>30</td>\n",
       "      <td>LENET</td>\n",
       "    </tr>\n",
       "    <tr>\n",
       "      <th>98</th>\n",
       "      <td>archi_v3_29</td>\n",
       "      <td>268.259743</td>\n",
       "      <td>1.870182</td>\n",
       "      <td>0.3227</td>\n",
       "      <td>0.31810</td>\n",
       "      <td>1.867716</td>\n",
       "      <td>20</td>\n",
       "      <td>18</td>\n",
       "      <td>DENSENET</td>\n",
       "    </tr>\n",
       "    <tr>\n",
       "      <th>99</th>\n",
       "      <td>archi_v3_30</td>\n",
       "      <td>262.071701</td>\n",
       "      <td>1.318694</td>\n",
       "      <td>0.5334</td>\n",
       "      <td>0.55104</td>\n",
       "      <td>1.277073</td>\n",
       "      <td>7</td>\n",
       "      <td>26</td>\n",
       "      <td>LENET</td>\n",
       "    </tr>\n",
       "  </tbody>\n",
       "</table>\n",
       "</div>"
      ],
      "text/plain": [
       "      file_name  training_time(s)  test_result_loss  test_result_acc  \\\n",
       "70   archi_v3_1        798.351023          1.289643           0.5326   \n",
       "71   archi_v3_2        171.644020          1.749008           0.3465   \n",
       "72   archi_v3_3        627.813203          1.313787           0.5549   \n",
       "73   archi_v3_4        749.831077          1.236278           0.5595   \n",
       "74   archi_v3_5        191.680154          1.929973           0.2138   \n",
       "75   archi_v3_6        177.881168          2.213312           0.1292   \n",
       "76   archi_v3_7        818.211906          1.340803           0.5474   \n",
       "77   archi_v3_8        283.723264          1.933496           0.2081   \n",
       "78   archi_v3_9        276.185378          1.512171           0.4939   \n",
       "79  archi_v3_10        109.447790          1.628932           0.4086   \n",
       "80  archi_v3_11        385.482478          1.389411           0.4952   \n",
       "81  archi_v3_12        406.398865          1.201002           0.5742   \n",
       "82  archi_v3_13        279.381831          1.931204           0.2889   \n",
       "83  archi_v3_14       2862.626125          1.562104           0.6741   \n",
       "84  archi_v3_15        365.127640          1.409012           0.4752   \n",
       "85  archi_v3_16        143.422499          1.694817           0.3687   \n",
       "86  archi_v3_17        505.976903          1.819473           0.3208   \n",
       "87  archi_v3_18        437.157930          1.207778           0.5811   \n",
       "88  archi_v3_19        666.666937          1.655370           0.3881   \n",
       "89  archi_v3_20       1267.964992          2.086387           0.5507   \n",
       "90  archi_v3_21        519.126523          1.667302           0.4200   \n",
       "91  archi_v3_22        437.718422          1.572903           0.4390   \n",
       "92  archi_v3_23        193.604706          1.853253           0.3087   \n",
       "93  archi_v3_24        151.241717          1.585453           0.4208   \n",
       "94  archi_v3_25        196.002860          2.338582           0.1000   \n",
       "95  archi_v3_26        394.379198          1.374504           0.5060   \n",
       "96  archi_v3_27        350.640200          1.331682           0.5235   \n",
       "97  archi_v3_28        180.019281          1.417438           0.4987   \n",
       "98  archi_v3_29        268.259743          1.870182           0.3227   \n",
       "99  archi_v3_30        262.071701          1.318694           0.5334   \n",
       "\n",
       "    train_result_acc  train_result_loss  nb_layers  epochs type_archi  \n",
       "70           0.57008           1.183775         32      34     RESNET  \n",
       "71           0.34034           1.746196         18      14   DENSENET  \n",
       "72           0.68076           0.902783         23      39     RESNET  \n",
       "73           0.62448           1.058717         30      30        ALL  \n",
       "74           0.21534           1.932666         26      10        ALL  \n",
       "75           0.12836           2.210249         19      19   DENSENET  \n",
       "76           0.69816           0.853304         31      50     RESNET  \n",
       "77           0.20686           1.936604         41      18        ALL  \n",
       "78           0.63846           1.028738          7      45      LENET  \n",
       "79           0.40380           1.619255          6      20      LENET  \n",
       "80           0.53390           1.295880         22      39     RESNET  \n",
       "81           0.61002           1.096861         14      38     RESNET  \n",
       "82           0.28578           1.936650         22      21     RESNET  \n",
       "83           0.91178           0.305582         48      26     RESNET  \n",
       "84           0.48598           1.396790         14      22   DENSENET  \n",
       "85           0.38116           1.670411          5      25      LENET  \n",
       "86           0.32264           1.817840         19      23   DENSENET  \n",
       "87           0.59132           1.154364          8      23      LENET  \n",
       "88           0.39306           1.658628         22      21   DENSENET  \n",
       "89           0.89146           0.380470         54      27     RESNET  \n",
       "90           0.42910           1.626723         37      27     RESNET  \n",
       "91           0.51806           1.334449          9      50      LENET  \n",
       "92           0.31118           1.851650          5      37      LENET  \n",
       "93           0.42204           1.584376         18      16   DENSENET  \n",
       "94           0.10000           2.338510         57       4   DENSENET  \n",
       "95           0.54694           1.264680         22      29     RESNET  \n",
       "96           0.55072           1.253514          7      48        ALL  \n",
       "97           0.51446           1.362157          5      30      LENET  \n",
       "98           0.31810           1.867716         20      18   DENSENET  \n",
       "99           0.55104           1.277073          7      26      LENET  "
      ]
     },
     "execution_count": 5,
     "metadata": {},
     "output_type": "execute_result"
    }
   ],
   "source": [
    "test4"
   ]
  },
  {
   "cell_type": "code",
   "execution_count": 6,
   "metadata": {},
   "outputs": [
    {
     "data": {
      "text/plain": [
       "<function matplotlib.pyplot.show(close=None, block=None)>"
      ]
     },
     "execution_count": 6,
     "metadata": {},
     "output_type": "execute_result"
    },
    {
     "data": {
      "image/png": "[encoded data removed]",
      "text/plain": [
       "<Figure size 432x288 with 1 Axes>"
      ]
     },
     "metadata": {
      "needs_background": "light"
     },
     "output_type": "display_data"
    }
   ],
   "source": [
    "plt.scatter(range(1,31), test4['test_result_acc'], label=\"test\")\n",
    "plt.scatter(range(1,31), test4['train_result_acc'], label=\"train\")\n",
    "\n",
    "plt.legend()\n",
    "plt.show"
   ]
  },
  {
   "cell_type": "code",
   "execution_count": 7,
   "metadata": {},
   "outputs": [
    {
     "data": {
      "text/plain": [
       "<seaborn.axisgrid.FacetGrid at 0x175894c5808>"
      ]
     },
     "execution_count": 7,
     "metadata": {},
     "output_type": "execute_result"
    },
    {
     "data": {
      "image/png": "[encoded data removed]",
      "text/plain": [
       "<Figure size 449.75x360 with 1 Axes>"
      ]
     },
     "metadata": {
      "needs_background": "light"
     },
     "output_type": "display_data"
    }
   ],
   "source": [
    "sns.lmplot(\n",
    "    x='training_time(s)',\n",
    "    y='test_result_acc',\n",
    "    data=test4,\n",
    "    hue='type_archi',\n",
    "    fit_reg=False\n",
    ")"
   ]
  },
  {
   "cell_type": "code",
   "execution_count": 8,
   "metadata": {},
   "outputs": [
    {
     "data": {
      "text/plain": [
       "<AxesSubplot:xlabel='type_archi', ylabel='test_result_acc'>"
      ]
     },
     "execution_count": 8,
     "metadata": {},
     "output_type": "execute_result"
    },
    {
     "data": {
      "image/png": "[encoded data removed]",
      "text/plain": [
       "<Figure size 432x288 with 1 Axes>"
      ]
     },
     "metadata": {
      "needs_background": "light"
     },
     "output_type": "display_data"
    }
   ],
   "source": [
    "sns.boxplot(y='test_result_acc', x='type_archi' ,data=test4)"
   ]
  },
  {
   "cell_type": "code",
   "execution_count": 9,
   "metadata": {},
   "outputs": [
    {
     "data": {
      "text/plain": [
       "<AxesSubplot:xlabel='type_archi', ylabel='training_time(s)'>"
      ]
     },
     "execution_count": 9,
     "metadata": {},
     "output_type": "execute_result"
    },
    {
     "data": {
      "image/png": "[encoded data removed]",
      "text/plain": [
       "<Figure size 432x288 with 1 Axes>"
      ]
     },
     "metadata": {
      "needs_background": "light"
     },
     "output_type": "display_data"
    }
   ],
   "source": [
    "sns.boxplot(y='training_time(s)', x='type_archi', data=test4)"
   ]
  },
  {
   "cell_type": "code",
   "execution_count": null,
   "metadata": {},
   "outputs": [],
   "source": []
  }
 ],
 "metadata": {
  "kernelspec": {
   "display_name": "Python 3",
   "language": "python",
   "name": "python3"
  },
  "language_info": {
   "codemirror_mode": {
    "name": "ipython",
    "version": 3
   },
   "file_extension": ".py",
   "mimetype": "text/x-python",
   "name": "python",
   "nbconvert_exporter": "python",
   "pygments_lexer": "ipython3",
   "version": "3.7.9"
  },
  "latex_envs": {
   "LaTeX_envs_menu_present": true,
   "autoclose": false,
   "autocomplete": true,
   "bibliofile": "biblio.bib",
   "cite_by": "apalike",
   "current_citInitial": 1,
   "eqLabelWithNumbers": true,
   "eqNumInitial": 1,
   "hotkeys": {
    "equation": "Ctrl-E",
    "itemize": "Ctrl-I"
   },
   "labels_anchors": false,
   "latex_user_defs": false,
   "report_style_numbering": false,
   "user_envs_cfg": false
  },
  "toc": {
   "base_numbering": 1,
   "nav_menu": {},
   "number_sections": true,
   "sideBar": true,
   "skip_h1_title": false,
   "title_cell": "Table of Contents",
   "title_sidebar": "Contents",
   "toc_cell": false,
   "toc_position": {},
   "toc_section_display": true,
   "toc_window_display": true
  },
  "varInspector": {
   "cols": {
    "lenName": 16,
    "lenType": 16,
    "lenVar": 40
   },
   "kernels_config": {
    "python": {
     "delete_cmd_postfix": "",
     "delete_cmd_prefix": "del ",
     "library": "var_list.py",
     "varRefreshCmd": "print(var_dic_list())"
    },
    "r": {
     "delete_cmd_postfix": ") ",
     "delete_cmd_prefix": "rm(",
     "library": "var_list.r",
     "varRefreshCmd": "cat(var_dic_list()) "
    }
   },
   "types_to_exclude": [
    "module",
    "function",
    "builtin_function_or_method",
    "instance",
    "_Feature"
   ],
   "window_display": false
  }
 },
 "nbformat": 4,
 "nbformat_minor": 4
}
