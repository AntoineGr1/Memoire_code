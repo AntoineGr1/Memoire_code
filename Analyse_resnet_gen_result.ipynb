{
 "cells": [
  {
   "cell_type": "code",
   "execution_count": 1,
   "metadata": {},
   "outputs": [],
   "source": [
    "import pandas as pd\n",
    "from statistics import mean\n",
    "import matplotlib.pyplot as plt\n",
    "import matplotlib\n",
    "import seaborn as sns\n",
    "import os\n",
    "import glob"
   ]
  },
  {
   "cell_type": "code",
   "execution_count": 17,
   "metadata": {},
   "outputs": [],
   "source": [
    "data = pd.read_csv('architecture_results_resnet.csv')"
   ]
  },
  {
   "cell_type": "code",
   "execution_count": 18,
   "metadata": {},
   "outputs": [
    {
     "data": {
      "text/html": [
       "<div>\n",
       "<style scoped>\n",
       "    .dataframe tbody tr th:only-of-type {\n",
       "        vertical-align: middle;\n",
       "    }\n",
       "\n",
       "    .dataframe tbody tr th {\n",
       "        vertical-align: top;\n",
       "    }\n",
       "\n",
       "    .dataframe thead th {\n",
       "        text-align: right;\n",
       "    }\n",
       "</style>\n",
       "<table border=\"1\" class=\"dataframe\">\n",
       "  <thead>\n",
       "    <tr style=\"text-align: right;\">\n",
       "      <th></th>\n",
       "      <th>file_name</th>\n",
       "      <th>training_time(s)</th>\n",
       "      <th>test_result_loss</th>\n",
       "      <th>test_result_acc</th>\n",
       "      <th>train_result_acc</th>\n",
       "      <th>train_result_loss</th>\n",
       "      <th>nb_layers</th>\n",
       "    </tr>\n",
       "  </thead>\n",
       "  <tbody>\n",
       "    <tr>\n",
       "      <th>0</th>\n",
       "      <td>archi_resnet_1</td>\n",
       "      <td>133.417604</td>\n",
       "      <td>0.051585</td>\n",
       "      <td>0.9867</td>\n",
       "      <td>0.987800</td>\n",
       "      <td>0.043864</td>\n",
       "      <td>35</td>\n",
       "    </tr>\n",
       "    <tr>\n",
       "      <th>1</th>\n",
       "      <td>archi_resnet_2</td>\n",
       "      <td>101.728477</td>\n",
       "      <td>0.066378</td>\n",
       "      <td>0.9812</td>\n",
       "      <td>0.985117</td>\n",
       "      <td>0.054573</td>\n",
       "      <td>26</td>\n",
       "    </tr>\n",
       "    <tr>\n",
       "      <th>2</th>\n",
       "      <td>archi_resnet_3</td>\n",
       "      <td>49.766294</td>\n",
       "      <td>0.042992</td>\n",
       "      <td>0.9863</td>\n",
       "      <td>0.991283</td>\n",
       "      <td>0.028896</td>\n",
       "      <td>12</td>\n",
       "    </tr>\n",
       "    <tr>\n",
       "      <th>3</th>\n",
       "      <td>archi_resnet_4</td>\n",
       "      <td>67.431848</td>\n",
       "      <td>0.052702</td>\n",
       "      <td>0.9830</td>\n",
       "      <td>0.990983</td>\n",
       "      <td>0.029652</td>\n",
       "      <td>19</td>\n",
       "    </tr>\n",
       "    <tr>\n",
       "      <th>4</th>\n",
       "      <td>archi_resnet_5</td>\n",
       "      <td>73.555264</td>\n",
       "      <td>0.078769</td>\n",
       "      <td>0.9762</td>\n",
       "      <td>0.984000</td>\n",
       "      <td>0.049819</td>\n",
       "      <td>24</td>\n",
       "    </tr>\n",
       "    <tr>\n",
       "      <th>5</th>\n",
       "      <td>archi_resnet_6</td>\n",
       "      <td>48.690004</td>\n",
       "      <td>0.039665</td>\n",
       "      <td>0.9893</td>\n",
       "      <td>0.991700</td>\n",
       "      <td>0.030017</td>\n",
       "      <td>13</td>\n",
       "    </tr>\n",
       "    <tr>\n",
       "      <th>6</th>\n",
       "      <td>archi_resnet_7</td>\n",
       "      <td>36.649305</td>\n",
       "      <td>0.047997</td>\n",
       "      <td>0.9861</td>\n",
       "      <td>0.988283</td>\n",
       "      <td>0.040765</td>\n",
       "      <td>10</td>\n",
       "    </tr>\n",
       "    <tr>\n",
       "      <th>7</th>\n",
       "      <td>archi_resnet_8</td>\n",
       "      <td>38.842573</td>\n",
       "      <td>0.073210</td>\n",
       "      <td>0.9797</td>\n",
       "      <td>0.984183</td>\n",
       "      <td>0.051597</td>\n",
       "      <td>10</td>\n",
       "    </tr>\n",
       "    <tr>\n",
       "      <th>8</th>\n",
       "      <td>archi_resnet_9</td>\n",
       "      <td>48.041213</td>\n",
       "      <td>0.055541</td>\n",
       "      <td>0.9821</td>\n",
       "      <td>0.988433</td>\n",
       "      <td>0.038000</td>\n",
       "      <td>13</td>\n",
       "    </tr>\n",
       "    <tr>\n",
       "      <th>9</th>\n",
       "      <td>archi_resnet_10</td>\n",
       "      <td>50.602212</td>\n",
       "      <td>0.060413</td>\n",
       "      <td>0.9808</td>\n",
       "      <td>0.987267</td>\n",
       "      <td>0.039520</td>\n",
       "      <td>12</td>\n",
       "    </tr>\n",
       "    <tr>\n",
       "      <th>10</th>\n",
       "      <td>archi_resnet_1</td>\n",
       "      <td>130.165360</td>\n",
       "      <td>1.369524</td>\n",
       "      <td>0.5130</td>\n",
       "      <td>0.560460</td>\n",
       "      <td>1.226655</td>\n",
       "      <td>36</td>\n",
       "    </tr>\n",
       "    <tr>\n",
       "      <th>11</th>\n",
       "      <td>archi_resnet_2</td>\n",
       "      <td>106.240604</td>\n",
       "      <td>1.307125</td>\n",
       "      <td>0.5370</td>\n",
       "      <td>0.563380</td>\n",
       "      <td>1.225044</td>\n",
       "      <td>37</td>\n",
       "    </tr>\n",
       "    <tr>\n",
       "      <th>12</th>\n",
       "      <td>archi_resnet_3</td>\n",
       "      <td>90.026167</td>\n",
       "      <td>1.329411</td>\n",
       "      <td>0.5413</td>\n",
       "      <td>0.574380</td>\n",
       "      <td>1.217327</td>\n",
       "      <td>17</td>\n",
       "    </tr>\n",
       "    <tr>\n",
       "      <th>13</th>\n",
       "      <td>archi_resnet_4</td>\n",
       "      <td>95.780893</td>\n",
       "      <td>1.348258</td>\n",
       "      <td>0.5206</td>\n",
       "      <td>0.557140</td>\n",
       "      <td>1.240302</td>\n",
       "      <td>26</td>\n",
       "    </tr>\n",
       "    <tr>\n",
       "      <th>14</th>\n",
       "      <td>archi_resnet_5</td>\n",
       "      <td>84.603598</td>\n",
       "      <td>1.225431</td>\n",
       "      <td>0.5636</td>\n",
       "      <td>0.612520</td>\n",
       "      <td>1.096472</td>\n",
       "      <td>20</td>\n",
       "    </tr>\n",
       "    <tr>\n",
       "      <th>15</th>\n",
       "      <td>archi_resnet_6</td>\n",
       "      <td>47.564666</td>\n",
       "      <td>1.261693</td>\n",
       "      <td>0.5476</td>\n",
       "      <td>0.616020</td>\n",
       "      <td>1.087278</td>\n",
       "      <td>14</td>\n",
       "    </tr>\n",
       "    <tr>\n",
       "      <th>16</th>\n",
       "      <td>archi_resnet_7</td>\n",
       "      <td>99.509591</td>\n",
       "      <td>1.315254</td>\n",
       "      <td>0.5270</td>\n",
       "      <td>0.577860</td>\n",
       "      <td>1.183379</td>\n",
       "      <td>50</td>\n",
       "    </tr>\n",
       "    <tr>\n",
       "      <th>17</th>\n",
       "      <td>archi_resnet_8</td>\n",
       "      <td>84.000039</td>\n",
       "      <td>1.364101</td>\n",
       "      <td>0.5175</td>\n",
       "      <td>0.574680</td>\n",
       "      <td>1.219382</td>\n",
       "      <td>46</td>\n",
       "    </tr>\n",
       "    <tr>\n",
       "      <th>18</th>\n",
       "      <td>archi_resnet_9</td>\n",
       "      <td>94.024635</td>\n",
       "      <td>1.381271</td>\n",
       "      <td>0.5119</td>\n",
       "      <td>0.566140</td>\n",
       "      <td>1.232087</td>\n",
       "      <td>34</td>\n",
       "    </tr>\n",
       "    <tr>\n",
       "      <th>19</th>\n",
       "      <td>archi_resnet_10</td>\n",
       "      <td>156.109841</td>\n",
       "      <td>1.239040</td>\n",
       "      <td>0.5709</td>\n",
       "      <td>0.612620</td>\n",
       "      <td>1.097580</td>\n",
       "      <td>27</td>\n",
       "    </tr>\n",
       "    <tr>\n",
       "      <th>20</th>\n",
       "      <td>archi_resnet_1</td>\n",
       "      <td>1373.390912</td>\n",
       "      <td>2.302616</td>\n",
       "      <td>0.1000</td>\n",
       "      <td>0.100000</td>\n",
       "      <td>2.302616</td>\n",
       "      <td>37</td>\n",
       "    </tr>\n",
       "    <tr>\n",
       "      <th>21</th>\n",
       "      <td>archi_resnet_2</td>\n",
       "      <td>60.098508</td>\n",
       "      <td>1.485166</td>\n",
       "      <td>0.4724</td>\n",
       "      <td>0.478680</td>\n",
       "      <td>1.461921</td>\n",
       "      <td>24</td>\n",
       "    </tr>\n",
       "    <tr>\n",
       "      <th>22</th>\n",
       "      <td>archi_resnet_3</td>\n",
       "      <td>27.103699</td>\n",
       "      <td>1.852964</td>\n",
       "      <td>0.3100</td>\n",
       "      <td>0.309920</td>\n",
       "      <td>1.857560</td>\n",
       "      <td>6</td>\n",
       "    </tr>\n",
       "    <tr>\n",
       "      <th>23</th>\n",
       "      <td>archi_resnet_4</td>\n",
       "      <td>25.101914</td>\n",
       "      <td>1.963735</td>\n",
       "      <td>0.2978</td>\n",
       "      <td>0.286480</td>\n",
       "      <td>1.970850</td>\n",
       "      <td>5</td>\n",
       "    </tr>\n",
       "    <tr>\n",
       "      <th>24</th>\n",
       "      <td>archi_resnet_5</td>\n",
       "      <td>232.830119</td>\n",
       "      <td>2.302656</td>\n",
       "      <td>0.1000</td>\n",
       "      <td>0.100000</td>\n",
       "      <td>2.302656</td>\n",
       "      <td>21</td>\n",
       "    </tr>\n",
       "    <tr>\n",
       "      <th>25</th>\n",
       "      <td>archi_resnet_6</td>\n",
       "      <td>36.285522</td>\n",
       "      <td>1.558995</td>\n",
       "      <td>0.4336</td>\n",
       "      <td>0.437420</td>\n",
       "      <td>1.539712</td>\n",
       "      <td>16</td>\n",
       "    </tr>\n",
       "    <tr>\n",
       "      <th>26</th>\n",
       "      <td>archi_resnet_7</td>\n",
       "      <td>253.630753</td>\n",
       "      <td>2.302400</td>\n",
       "      <td>0.1000</td>\n",
       "      <td>0.100000</td>\n",
       "      <td>2.302522</td>\n",
       "      <td>22</td>\n",
       "    </tr>\n",
       "    <tr>\n",
       "      <th>27</th>\n",
       "      <td>archi_resnet_8</td>\n",
       "      <td>3389.245374</td>\n",
       "      <td>1.377965</td>\n",
       "      <td>0.5172</td>\n",
       "      <td>0.539260</td>\n",
       "      <td>1.311775</td>\n",
       "      <td>53</td>\n",
       "    </tr>\n",
       "    <tr>\n",
       "      <th>28</th>\n",
       "      <td>archi_resnet_9</td>\n",
       "      <td>56.302248</td>\n",
       "      <td>1.598066</td>\n",
       "      <td>0.4260</td>\n",
       "      <td>0.429020</td>\n",
       "      <td>1.587782</td>\n",
       "      <td>18</td>\n",
       "    </tr>\n",
       "    <tr>\n",
       "      <th>29</th>\n",
       "      <td>archi_resnet_10</td>\n",
       "      <td>84.330057</td>\n",
       "      <td>1.305851</td>\n",
       "      <td>0.5326</td>\n",
       "      <td>0.550900</td>\n",
       "      <td>1.245280</td>\n",
       "      <td>18</td>\n",
       "    </tr>\n",
       "    <tr>\n",
       "      <th>30</th>\n",
       "      <td>archi_resnet_1</td>\n",
       "      <td>115.247909</td>\n",
       "      <td>1.393573</td>\n",
       "      <td>0.4959</td>\n",
       "      <td>0.523540</td>\n",
       "      <td>1.314956</td>\n",
       "      <td>27</td>\n",
       "    </tr>\n",
       "    <tr>\n",
       "      <th>31</th>\n",
       "      <td>archi_resnet_2</td>\n",
       "      <td>344.687914</td>\n",
       "      <td>1.402381</td>\n",
       "      <td>0.5053</td>\n",
       "      <td>0.549100</td>\n",
       "      <td>1.269067</td>\n",
       "      <td>45</td>\n",
       "    </tr>\n",
       "    <tr>\n",
       "      <th>32</th>\n",
       "      <td>archi_resnet_3</td>\n",
       "      <td>672.699142</td>\n",
       "      <td>1.372867</td>\n",
       "      <td>0.5204</td>\n",
       "      <td>0.572300</td>\n",
       "      <td>1.204599</td>\n",
       "      <td>70</td>\n",
       "    </tr>\n",
       "    <tr>\n",
       "      <th>33</th>\n",
       "      <td>archi_resnet_4</td>\n",
       "      <td>70.324848</td>\n",
       "      <td>1.548105</td>\n",
       "      <td>0.4347</td>\n",
       "      <td>0.435440</td>\n",
       "      <td>1.537346</td>\n",
       "      <td>46</td>\n",
       "    </tr>\n",
       "    <tr>\n",
       "      <th>34</th>\n",
       "      <td>archi_resnet_5</td>\n",
       "      <td>132.403325</td>\n",
       "      <td>1.437920</td>\n",
       "      <td>0.4903</td>\n",
       "      <td>0.537120</td>\n",
       "      <td>1.308674</td>\n",
       "      <td>42</td>\n",
       "    </tr>\n",
       "    <tr>\n",
       "      <th>35</th>\n",
       "      <td>archi_resnet_6</td>\n",
       "      <td>707.880008</td>\n",
       "      <td>1.183511</td>\n",
       "      <td>0.5908</td>\n",
       "      <td>0.715480</td>\n",
       "      <td>0.814509</td>\n",
       "      <td>34</td>\n",
       "    </tr>\n",
       "    <tr>\n",
       "      <th>36</th>\n",
       "      <td>archi_resnet_7</td>\n",
       "      <td>605.927320</td>\n",
       "      <td>1.145706</td>\n",
       "      <td>0.5950</td>\n",
       "      <td>0.664300</td>\n",
       "      <td>0.944959</td>\n",
       "      <td>59</td>\n",
       "    </tr>\n",
       "    <tr>\n",
       "      <th>37</th>\n",
       "      <td>archi_resnet_8</td>\n",
       "      <td>62.551466</td>\n",
       "      <td>1.402597</td>\n",
       "      <td>0.4848</td>\n",
       "      <td>0.504120</td>\n",
       "      <td>1.376161</td>\n",
       "      <td>17</td>\n",
       "    </tr>\n",
       "    <tr>\n",
       "      <th>38</th>\n",
       "      <td>archi_resnet_9</td>\n",
       "      <td>53.509180</td>\n",
       "      <td>1.678583</td>\n",
       "      <td>0.3990</td>\n",
       "      <td>0.392260</td>\n",
       "      <td>1.670140</td>\n",
       "      <td>16</td>\n",
       "    </tr>\n",
       "    <tr>\n",
       "      <th>39</th>\n",
       "      <td>archi_resnet_10</td>\n",
       "      <td>53.289875</td>\n",
       "      <td>1.558765</td>\n",
       "      <td>0.4323</td>\n",
       "      <td>0.435940</td>\n",
       "      <td>1.540722</td>\n",
       "      <td>16</td>\n",
       "    </tr>\n",
       "    <tr>\n",
       "      <th>40</th>\n",
       "      <td>archi_resnet_1</td>\n",
       "      <td>189.964795</td>\n",
       "      <td>1.283933</td>\n",
       "      <td>0.5397</td>\n",
       "      <td>0.582640</td>\n",
       "      <td>1.144881</td>\n",
       "      <td>42</td>\n",
       "    </tr>\n",
       "    <tr>\n",
       "      <th>41</th>\n",
       "      <td>archi_resnet_2</td>\n",
       "      <td>99.819213</td>\n",
       "      <td>1.206292</td>\n",
       "      <td>0.5704</td>\n",
       "      <td>0.664240</td>\n",
       "      <td>0.945414</td>\n",
       "      <td>21</td>\n",
       "    </tr>\n",
       "    <tr>\n",
       "      <th>42</th>\n",
       "      <td>archi_resnet_3</td>\n",
       "      <td>136.332601</td>\n",
       "      <td>1.121050</td>\n",
       "      <td>0.6044</td>\n",
       "      <td>0.625760</td>\n",
       "      <td>1.057823</td>\n",
       "      <td>17</td>\n",
       "    </tr>\n",
       "    <tr>\n",
       "      <th>43</th>\n",
       "      <td>archi_resnet_4</td>\n",
       "      <td>80.507945</td>\n",
       "      <td>1.361552</td>\n",
       "      <td>0.5065</td>\n",
       "      <td>0.528940</td>\n",
       "      <td>1.309031</td>\n",
       "      <td>17</td>\n",
       "    </tr>\n",
       "    <tr>\n",
       "      <th>44</th>\n",
       "      <td>archi_resnet_5</td>\n",
       "      <td>64.445799</td>\n",
       "      <td>1.145411</td>\n",
       "      <td>0.5916</td>\n",
       "      <td>0.659400</td>\n",
       "      <td>0.959483</td>\n",
       "      <td>17</td>\n",
       "    </tr>\n",
       "    <tr>\n",
       "      <th>45</th>\n",
       "      <td>archi_resnet_6</td>\n",
       "      <td>162.207725</td>\n",
       "      <td>1.281781</td>\n",
       "      <td>0.5350</td>\n",
       "      <td>0.565600</td>\n",
       "      <td>1.196158</td>\n",
       "      <td>19</td>\n",
       "    </tr>\n",
       "    <tr>\n",
       "      <th>46</th>\n",
       "      <td>archi_resnet_7</td>\n",
       "      <td>122.085105</td>\n",
       "      <td>1.479694</td>\n",
       "      <td>0.4868</td>\n",
       "      <td>0.521580</td>\n",
       "      <td>1.350289</td>\n",
       "      <td>34</td>\n",
       "    </tr>\n",
       "    <tr>\n",
       "      <th>47</th>\n",
       "      <td>archi_resnet_8</td>\n",
       "      <td>32.309227</td>\n",
       "      <td>1.719409</td>\n",
       "      <td>0.3965</td>\n",
       "      <td>0.396620</td>\n",
       "      <td>1.723877</td>\n",
       "      <td>5</td>\n",
       "    </tr>\n",
       "    <tr>\n",
       "      <th>48</th>\n",
       "      <td>archi_resnet_9</td>\n",
       "      <td>125.590576</td>\n",
       "      <td>1.177448</td>\n",
       "      <td>0.5829</td>\n",
       "      <td>0.635460</td>\n",
       "      <td>1.028495</td>\n",
       "      <td>20</td>\n",
       "    </tr>\n",
       "    <tr>\n",
       "      <th>49</th>\n",
       "      <td>archi_resnet_10</td>\n",
       "      <td>31.514229</td>\n",
       "      <td>1.957207</td>\n",
       "      <td>0.2857</td>\n",
       "      <td>0.286220</td>\n",
       "      <td>1.963102</td>\n",
       "      <td>5</td>\n",
       "    </tr>\n",
       "  </tbody>\n",
       "</table>\n",
       "</div>"
      ],
      "text/plain": [
       "          file_name  training_time(s)  test_result_loss  test_result_acc  \\\n",
       "0    archi_resnet_1        133.417604          0.051585           0.9867   \n",
       "1    archi_resnet_2        101.728477          0.066378           0.9812   \n",
       "2    archi_resnet_3         49.766294          0.042992           0.9863   \n",
       "3    archi_resnet_4         67.431848          0.052702           0.9830   \n",
       "4    archi_resnet_5         73.555264          0.078769           0.9762   \n",
       "5    archi_resnet_6         48.690004          0.039665           0.9893   \n",
       "6    archi_resnet_7         36.649305          0.047997           0.9861   \n",
       "7    archi_resnet_8         38.842573          0.073210           0.9797   \n",
       "8    archi_resnet_9         48.041213          0.055541           0.9821   \n",
       "9   archi_resnet_10         50.602212          0.060413           0.9808   \n",
       "10   archi_resnet_1        130.165360          1.369524           0.5130   \n",
       "11   archi_resnet_2        106.240604          1.307125           0.5370   \n",
       "12   archi_resnet_3         90.026167          1.329411           0.5413   \n",
       "13   archi_resnet_4         95.780893          1.348258           0.5206   \n",
       "14   archi_resnet_5         84.603598          1.225431           0.5636   \n",
       "15   archi_resnet_6         47.564666          1.261693           0.5476   \n",
       "16   archi_resnet_7         99.509591          1.315254           0.5270   \n",
       "17   archi_resnet_8         84.000039          1.364101           0.5175   \n",
       "18   archi_resnet_9         94.024635          1.381271           0.5119   \n",
       "19  archi_resnet_10        156.109841          1.239040           0.5709   \n",
       "20   archi_resnet_1       1373.390912          2.302616           0.1000   \n",
       "21   archi_resnet_2         60.098508          1.485166           0.4724   \n",
       "22   archi_resnet_3         27.103699          1.852964           0.3100   \n",
       "23   archi_resnet_4         25.101914          1.963735           0.2978   \n",
       "24   archi_resnet_5        232.830119          2.302656           0.1000   \n",
       "25   archi_resnet_6         36.285522          1.558995           0.4336   \n",
       "26   archi_resnet_7        253.630753          2.302400           0.1000   \n",
       "27   archi_resnet_8       3389.245374          1.377965           0.5172   \n",
       "28   archi_resnet_9         56.302248          1.598066           0.4260   \n",
       "29  archi_resnet_10         84.330057          1.305851           0.5326   \n",
       "30   archi_resnet_1        115.247909          1.393573           0.4959   \n",
       "31   archi_resnet_2        344.687914          1.402381           0.5053   \n",
       "32   archi_resnet_3        672.699142          1.372867           0.5204   \n",
       "33   archi_resnet_4         70.324848          1.548105           0.4347   \n",
       "34   archi_resnet_5        132.403325          1.437920           0.4903   \n",
       "35   archi_resnet_6        707.880008          1.183511           0.5908   \n",
       "36   archi_resnet_7        605.927320          1.145706           0.5950   \n",
       "37   archi_resnet_8         62.551466          1.402597           0.4848   \n",
       "38   archi_resnet_9         53.509180          1.678583           0.3990   \n",
       "39  archi_resnet_10         53.289875          1.558765           0.4323   \n",
       "40   archi_resnet_1        189.964795          1.283933           0.5397   \n",
       "41   archi_resnet_2         99.819213          1.206292           0.5704   \n",
       "42   archi_resnet_3        136.332601          1.121050           0.6044   \n",
       "43   archi_resnet_4         80.507945          1.361552           0.5065   \n",
       "44   archi_resnet_5         64.445799          1.145411           0.5916   \n",
       "45   archi_resnet_6        162.207725          1.281781           0.5350   \n",
       "46   archi_resnet_7        122.085105          1.479694           0.4868   \n",
       "47   archi_resnet_8         32.309227          1.719409           0.3965   \n",
       "48   archi_resnet_9        125.590576          1.177448           0.5829   \n",
       "49  archi_resnet_10         31.514229          1.957207           0.2857   \n",
       "\n",
       "    train_result_acc  train_result_loss  nb_layers  \n",
       "0           0.987800           0.043864         35  \n",
       "1           0.985117           0.054573         26  \n",
       "2           0.991283           0.028896         12  \n",
       "3           0.990983           0.029652         19  \n",
       "4           0.984000           0.049819         24  \n",
       "5           0.991700           0.030017         13  \n",
       "6           0.988283           0.040765         10  \n",
       "7           0.984183           0.051597         10  \n",
       "8           0.988433           0.038000         13  \n",
       "9           0.987267           0.039520         12  \n",
       "10          0.560460           1.226655         36  \n",
       "11          0.563380           1.225044         37  \n",
       "12          0.574380           1.217327         17  \n",
       "13          0.557140           1.240302         26  \n",
       "14          0.612520           1.096472         20  \n",
       "15          0.616020           1.087278         14  \n",
       "16          0.577860           1.183379         50  \n",
       "17          0.574680           1.219382         46  \n",
       "18          0.566140           1.232087         34  \n",
       "19          0.612620           1.097580         27  \n",
       "20          0.100000           2.302616         37  \n",
       "21          0.478680           1.461921         24  \n",
       "22          0.309920           1.857560          6  \n",
       "23          0.286480           1.970850          5  \n",
       "24          0.100000           2.302656         21  \n",
       "25          0.437420           1.539712         16  \n",
       "26          0.100000           2.302522         22  \n",
       "27          0.539260           1.311775         53  \n",
       "28          0.429020           1.587782         18  \n",
       "29          0.550900           1.245280         18  \n",
       "30          0.523540           1.314956         27  \n",
       "31          0.549100           1.269067         45  \n",
       "32          0.572300           1.204599         70  \n",
       "33          0.435440           1.537346         46  \n",
       "34          0.537120           1.308674         42  \n",
       "35          0.715480           0.814509         34  \n",
       "36          0.664300           0.944959         59  \n",
       "37          0.504120           1.376161         17  \n",
       "38          0.392260           1.670140         16  \n",
       "39          0.435940           1.540722         16  \n",
       "40          0.582640           1.144881         42  \n",
       "41          0.664240           0.945414         21  \n",
       "42          0.625760           1.057823         17  \n",
       "43          0.528940           1.309031         17  \n",
       "44          0.659400           0.959483         17  \n",
       "45          0.565600           1.196158         19  \n",
       "46          0.521580           1.350289         34  \n",
       "47          0.396620           1.723877          5  \n",
       "48          0.635460           1.028495         20  \n",
       "49          0.286220           1.963102          5  "
      ]
     },
     "execution_count": 18,
     "metadata": {},
     "output_type": "execute_result"
    }
   ],
   "source": [
    "data"
   ]
  },
  {
   "cell_type": "markdown",
   "metadata": {},
   "source": [
    "# Experiment 1 : Architecture\n",
    "- state Machine\n",
    "- Mnist\n",
    "- kernel = 3, stride = 2 , padding = \"same\"\n",
    "- dense units random descending\n",
    "- activation fct random"
   ]
  },
  {
   "cell_type": "code",
   "execution_count": 5,
   "metadata": {},
   "outputs": [],
   "source": [
    "test1 = data[:10]"
   ]
  },
  {
   "cell_type": "code",
   "execution_count": 6,
   "metadata": {},
   "outputs": [
    {
     "data": {
      "text/plain": [
       "<function matplotlib.pyplot.show(close=None, block=None)>"
      ]
     },
     "execution_count": 6,
     "metadata": {},
     "output_type": "execute_result"
    },
    {
     "data": {
      "image/png": "[encoded data removed]",
      "text/plain": [
       "<Figure size 432x288 with 1 Axes>"
      ]
     },
     "metadata": {
      "needs_background": "light"
     },
     "output_type": "display_data"
    }
   ],
   "source": [
    "plt.scatter(range(1,11), test1['test_result_acc'], label=\"test\")\n",
    "plt.scatter(range(1,11), test1['train_result_acc'], label=\"train\")\n",
    "\n",
    "plt.legend()\n",
    "plt.show"
   ]
  },
  {
   "cell_type": "code",
   "execution_count": 7,
   "metadata": {},
   "outputs": [
    {
     "data": {
      "text/plain": [
       "<seaborn.axisgrid.FacetGrid at 0x205a98afc08>"
      ]
     },
     "execution_count": 7,
     "metadata": {},
     "output_type": "execute_result"
    },
    {
     "data": {
      "image/png": "[encoded data removed]",
      "text/plain": [
       "<Figure size 360x360 with 1 Axes>"
      ]
     },
     "metadata": {
      "needs_background": "light"
     },
     "output_type": "display_data"
    }
   ],
   "source": [
    "sns.lmplot(\n",
    "    x='training_time(s)',\n",
    "    y='test_result_acc',\n",
    "    data=test1,\n",
    "    fit_reg=False\n",
    ")"
   ]
  },
  {
   "cell_type": "code",
   "execution_count": 8,
   "metadata": {},
   "outputs": [
    {
     "data": {
      "text/plain": [
       "<AxesSubplot:ylabel='test_result_acc'>"
      ]
     },
     "execution_count": 8,
     "metadata": {},
     "output_type": "execute_result"
    },
    {
     "data": {
      "image/png": "[encoded data removed]",
      "text/plain": [
       "<Figure size 432x288 with 1 Axes>"
      ]
     },
     "metadata": {
      "needs_background": "light"
     },
     "output_type": "display_data"
    }
   ],
   "source": [
    "sns.boxplot(y='test_result_acc', data=test1)"
   ]
  },
  {
   "cell_type": "code",
   "execution_count": 9,
   "metadata": {},
   "outputs": [
    {
     "data": {
      "text/plain": [
       "<AxesSubplot:ylabel='training_time(s)'>"
      ]
     },
     "execution_count": 9,
     "metadata": {},
     "output_type": "execute_result"
    },
    {
     "data": {
      "image/png": "[encoded data removed]",
      "text/plain": [
       "<Figure size 432x288 with 1 Axes>"
      ]
     },
     "metadata": {
      "needs_background": "light"
     },
     "output_type": "display_data"
    }
   ],
   "source": [
    "sns.boxplot(y='training_time(s)', data=test1)"
   ]
  },
  {
   "cell_type": "code",
   "execution_count": 10,
   "metadata": {},
   "outputs": [
    {
     "data": {
      "text/plain": [
       "<seaborn.axisgrid.FacetGrid at 0x205a9a25b88>"
      ]
     },
     "execution_count": 10,
     "metadata": {},
     "output_type": "execute_result"
    },
    {
     "data": {
      "image/png": "[encoded data removed]",
      "text/plain": [
       "<Figure size 360x360 with 1 Axes>"
      ]
     },
     "metadata": {
      "needs_background": "light"
     },
     "output_type": "display_data"
    }
   ],
   "source": [
    "sns.lmplot(\n",
    "    x='nb_layers',\n",
    "    y='test_result_acc',\n",
    "    data=test1,\n",
    "    fit_reg=False\n",
    ")"
   ]
  },
  {
   "cell_type": "code",
   "execution_count": 11,
   "metadata": {},
   "outputs": [
    {
     "data": {
      "text/plain": [
       "<seaborn.axisgrid.FacetGrid at 0x205a9a93648>"
      ]
     },
     "execution_count": 11,
     "metadata": {},
     "output_type": "execute_result"
    },
    {
     "data": {
      "image/png": "[encoded data removed]",
      "text/plain": [
       "<Figure size 360x360 with 1 Axes>"
      ]
     },
     "metadata": {
      "needs_background": "light"
     },
     "output_type": "display_data"
    }
   ],
   "source": [
    "sns.lmplot(\n",
    "    x='training_time(s)',\n",
    "    y='nb_layers',\n",
    "    data=test1,\n",
    "    fit_reg=False\n",
    ")"
   ]
  },
  {
   "cell_type": "markdown",
   "metadata": {},
   "source": [
    "# Experiement 2 : Cifar10\n",
    "- same as previous \n",
    "- cifar10"
   ]
  },
  {
   "cell_type": "code",
   "execution_count": 12,
   "metadata": {},
   "outputs": [],
   "source": [
    "test2 = data[10:20]"
   ]
  },
  {
   "cell_type": "code",
   "execution_count": 13,
   "metadata": {},
   "outputs": [
    {
     "data": {
      "text/plain": [
       "<function matplotlib.pyplot.show(close=None, block=None)>"
      ]
     },
     "execution_count": 13,
     "metadata": {},
     "output_type": "execute_result"
    },
    {
     "data": {
      "image/png": "[encoded data removed]",
      "text/plain": [
       "<Figure size 432x288 with 1 Axes>"
      ]
     },
     "metadata": {
      "needs_background": "light"
     },
     "output_type": "display_data"
    }
   ],
   "source": [
    "plt.scatter(range(1,11), test2['test_result_acc'], label=\"test\")\n",
    "plt.scatter(range(1,11), test2['train_result_acc'], label=\"train\")\n",
    "\n",
    "plt.legend()\n",
    "plt.show"
   ]
  },
  {
   "cell_type": "code",
   "execution_count": 14,
   "metadata": {},
   "outputs": [
    {
     "data": {
      "text/plain": [
       "<seaborn.axisgrid.FacetGrid at 0x205a9b712c8>"
      ]
     },
     "execution_count": 14,
     "metadata": {},
     "output_type": "execute_result"
    },
    {
     "data": {
      "image/png": "[encoded data removed]",
      "text/plain": [
       "<Figure size 360x360 with 1 Axes>"
      ]
     },
     "metadata": {
      "needs_background": "light"
     },
     "output_type": "display_data"
    }
   ],
   "source": [
    "sns.lmplot(\n",
    "    x='training_time(s)',\n",
    "    y='test_result_acc',\n",
    "    data=test2,\n",
    "    fit_reg=False\n",
    ")"
   ]
  },
  {
   "cell_type": "code",
   "execution_count": 15,
   "metadata": {},
   "outputs": [
    {
     "data": {
      "text/plain": [
       "<AxesSubplot:ylabel='test_result_acc'>"
      ]
     },
     "execution_count": 15,
     "metadata": {},
     "output_type": "execute_result"
    },
    {
     "data": {
      "image/png": "[encoded data removed]",
      "text/plain": [
       "<Figure size 432x288 with 1 Axes>"
      ]
     },
     "metadata": {
      "needs_background": "light"
     },
     "output_type": "display_data"
    }
   ],
   "source": [
    "sns.boxplot(y='test_result_acc', data=test2)"
   ]
  },
  {
   "cell_type": "code",
   "execution_count": 16,
   "metadata": {},
   "outputs": [
    {
     "data": {
      "text/plain": [
       "<AxesSubplot:ylabel='training_time(s)'>"
      ]
     },
     "execution_count": 16,
     "metadata": {},
     "output_type": "execute_result"
    },
    {
     "data": {
      "image/png": "[encoded data removed]",
      "text/plain": [
       "<Figure size 432x288 with 1 Axes>"
      ]
     },
     "metadata": {
      "needs_background": "light"
     },
     "output_type": "display_data"
    }
   ],
   "source": [
    "sns.boxplot(y='training_time(s)', data=test2)"
   ]
  },
  {
   "cell_type": "code",
   "execution_count": 17,
   "metadata": {},
   "outputs": [
    {
     "data": {
      "text/plain": [
       "<seaborn.axisgrid.FacetGrid at 0x205a9bcae88>"
      ]
     },
     "execution_count": 17,
     "metadata": {},
     "output_type": "execute_result"
    },
    {
     "data": {
      "image/png": "[encoded data removed]",
      "text/plain": [
       "<Figure size 360x360 with 1 Axes>"
      ]
     },
     "metadata": {
      "needs_background": "light"
     },
     "output_type": "display_data"
    }
   ],
   "source": [
    "sns.lmplot(\n",
    "    x='nb_layers',\n",
    "    y='test_result_acc',\n",
    "    data=test2,\n",
    "    fit_reg=False\n",
    ")"
   ]
  },
  {
   "cell_type": "code",
   "execution_count": 18,
   "metadata": {},
   "outputs": [
    {
     "data": {
      "text/plain": [
       "<seaborn.axisgrid.FacetGrid at 0x205a9c40548>"
      ]
     },
     "execution_count": 18,
     "metadata": {},
     "output_type": "execute_result"
    },
    {
     "data": {
      "image/png": "[encoded data removed]",
      "text/plain": [
       "<Figure size 360x360 with 1 Axes>"
      ]
     },
     "metadata": {
      "needs_background": "light"
     },
     "output_type": "display_data"
    }
   ],
   "source": [
    "sns.lmplot(\n",
    "    x='training_time(s)',\n",
    "    y='nb_layers',\n",
    "    data=test2,\n",
    "    fit_reg=False\n",
    ")"
   ]
  },
  {
   "cell_type": "markdown",
   "metadata": {},
   "source": [
    "# Experiment 3 : hyperparameters\n",
    "- kernel >= stride\n",
    "- random\n",
    "- padding = \"same\""
   ]
  },
  {
   "cell_type": "code",
   "execution_count": 19,
   "metadata": {},
   "outputs": [],
   "source": [
    "test3 = data[20:30]"
   ]
  },
  {
   "cell_type": "code",
   "execution_count": 20,
   "metadata": {},
   "outputs": [
    {
     "data": {
      "text/plain": [
       "<function matplotlib.pyplot.show(close=None, block=None)>"
      ]
     },
     "execution_count": 20,
     "metadata": {},
     "output_type": "execute_result"
    },
    {
     "data": {
      "image/png": "[encoded data removed]",
      "text/plain": [
       "<Figure size 432x288 with 1 Axes>"
      ]
     },
     "metadata": {
      "needs_background": "light"
     },
     "output_type": "display_data"
    }
   ],
   "source": [
    "plt.scatter(range(1,11), test3['test_result_acc'], label=\"test\")\n",
    "plt.scatter(range(1,11), test3['train_result_acc'], label=\"train\")\n",
    "\n",
    "plt.legend()\n",
    "plt.show"
   ]
  },
  {
   "cell_type": "code",
   "execution_count": 21,
   "metadata": {},
   "outputs": [
    {
     "data": {
      "text/plain": [
       "<seaborn.axisgrid.FacetGrid at 0x205a9d1dd88>"
      ]
     },
     "execution_count": 21,
     "metadata": {},
     "output_type": "execute_result"
    },
    {
     "data": {
      "image/png": "[encoded data removed]",
      "text/plain": [
       "<Figure size 360x360 with 1 Axes>"
      ]
     },
     "metadata": {
      "needs_background": "light"
     },
     "output_type": "display_data"
    }
   ],
   "source": [
    "sns.lmplot(\n",
    "    x='training_time(s)',\n",
    "    y='test_result_acc',\n",
    "    data=test3,\n",
    "    fit_reg=False\n",
    ")"
   ]
  },
  {
   "cell_type": "code",
   "execution_count": 22,
   "metadata": {},
   "outputs": [
    {
     "data": {
      "text/plain": [
       "<AxesSubplot:ylabel='test_result_acc'>"
      ]
     },
     "execution_count": 22,
     "metadata": {},
     "output_type": "execute_result"
    },
    {
     "data": {
      "image/png": "[encoded data removed]",
      "text/plain": [
       "<Figure size 432x288 with 1 Axes>"
      ]
     },
     "metadata": {
      "needs_background": "light"
     },
     "output_type": "display_data"
    }
   ],
   "source": [
    "sns.boxplot(y='test_result_acc', data=test3)"
   ]
  },
  {
   "cell_type": "code",
   "execution_count": 23,
   "metadata": {},
   "outputs": [
    {
     "data": {
      "text/plain": [
       "<AxesSubplot:ylabel='training_time(s)'>"
      ]
     },
     "execution_count": 23,
     "metadata": {},
     "output_type": "execute_result"
    },
    {
     "data": {
      "image/png": "[encoded data removed]",
      "text/plain": [
       "<Figure size 432x288 with 1 Axes>"
      ]
     },
     "metadata": {
      "needs_background": "light"
     },
     "output_type": "display_data"
    }
   ],
   "source": [
    "sns.boxplot(y='training_time(s)', data=test3)"
   ]
  },
  {
   "cell_type": "code",
   "execution_count": 24,
   "metadata": {},
   "outputs": [
    {
     "data": {
      "text/plain": [
       "<seaborn.axisgrid.FacetGrid at 0x205aae3bbc8>"
      ]
     },
     "execution_count": 24,
     "metadata": {},
     "output_type": "execute_result"
    },
    {
     "data": {
      "image/png": "[encoded data removed]",
      "text/plain": [
       "<Figure size 360x360 with 1 Axes>"
      ]
     },
     "metadata": {
      "needs_background": "light"
     },
     "output_type": "display_data"
    }
   ],
   "source": [
    "sns.lmplot(\n",
    "    x='nb_layers',\n",
    "    y='test_result_acc',\n",
    "    data=test3,\n",
    "    fit_reg=False\n",
    ")"
   ]
  },
  {
   "cell_type": "code",
   "execution_count": 26,
   "metadata": {},
   "outputs": [
    {
     "data": {
      "text/plain": [
       "<seaborn.axisgrid.FacetGrid at 0x205aaf26588>"
      ]
     },
     "execution_count": 26,
     "metadata": {},
     "output_type": "execute_result"
    },
    {
     "data": {
      "image/png": "[encoded data removed]",
      "text/plain": [
       "<Figure size 360x360 with 1 Axes>"
      ]
     },
     "metadata": {
      "needs_background": "light"
     },
     "output_type": "display_data"
    }
   ],
   "source": [
    "sns.lmplot(\n",
    "    x='training_time(s)',\n",
    "    y='nb_layers',\n",
    "    data=test3,\n",
    "    fit_reg=False\n",
    ")"
   ]
  },
  {
   "cell_type": "markdown",
   "metadata": {},
   "source": [
    "# Experiment 4 : Dense\n",
    "- input > 1000 -> 20%\n",
    "- input < 1000 random\n",
    "- input < 70 stop"
   ]
  },
  {
   "cell_type": "code",
   "execution_count": 7,
   "metadata": {},
   "outputs": [],
   "source": [
    "test4 = data[30:40]"
   ]
  },
  {
   "cell_type": "code",
   "execution_count": 9,
   "metadata": {},
   "outputs": [
    {
     "data": {
      "text/plain": [
       "<function matplotlib.pyplot.show(close=None, block=None)>"
      ]
     },
     "execution_count": 9,
     "metadata": {},
     "output_type": "execute_result"
    },
    {
     "data": {
      "image/png": "[encoded data removed]",
      "text/plain": [
       "<Figure size 432x288 with 1 Axes>"
      ]
     },
     "metadata": {
      "needs_background": "light"
     },
     "output_type": "display_data"
    }
   ],
   "source": [
    "plt.scatter(range(1,11), test4['test_result_acc'], label=\"test\")\n",
    "plt.scatter(range(1,11), test4['train_result_acc'], label=\"train\")\n",
    "\n",
    "plt.legend()\n",
    "plt.show"
   ]
  },
  {
   "cell_type": "code",
   "execution_count": 10,
   "metadata": {},
   "outputs": [
    {
     "data": {
      "text/plain": [
       "<seaborn.axisgrid.FacetGrid at 0x2169f0a97c8>"
      ]
     },
     "execution_count": 10,
     "metadata": {},
     "output_type": "execute_result"
    },
    {
     "data": {
      "image/png": "[encoded data removed]",
      "text/plain": [
       "<Figure size 360x360 with 1 Axes>"
      ]
     },
     "metadata": {
      "needs_background": "light"
     },
     "output_type": "display_data"
    }
   ],
   "source": [
    "sns.lmplot(\n",
    "    x='training_time(s)',\n",
    "    y='test_result_acc',\n",
    "    data=test4,\n",
    "    fit_reg=False\n",
    ")"
   ]
  },
  {
   "cell_type": "code",
   "execution_count": 11,
   "metadata": {},
   "outputs": [
    {
     "data": {
      "text/plain": [
       "<AxesSubplot:ylabel='test_result_acc'>"
      ]
     },
     "execution_count": 11,
     "metadata": {},
     "output_type": "execute_result"
    },
    {
     "data": {
      "image/png": "[encoded data removed]",
      "text/plain": [
       "<Figure size 432x288 with 1 Axes>"
      ]
     },
     "metadata": {
      "needs_background": "light"
     },
     "output_type": "display_data"
    }
   ],
   "source": [
    "sns.boxplot(y='test_result_acc', data=test4)"
   ]
  },
  {
   "cell_type": "code",
   "execution_count": 12,
   "metadata": {},
   "outputs": [
    {
     "data": {
      "text/plain": [
       "<AxesSubplot:ylabel='training_time(s)'>"
      ]
     },
     "execution_count": 12,
     "metadata": {},
     "output_type": "execute_result"
    },
    {
     "data": {
      "image/png": "[encoded data removed]",
      "text/plain": [
       "<Figure size 432x288 with 1 Axes>"
      ]
     },
     "metadata": {
      "needs_background": "light"
     },
     "output_type": "display_data"
    }
   ],
   "source": [
    "sns.boxplot(y='training_time(s)', data=test4)"
   ]
  },
  {
   "cell_type": "code",
   "execution_count": 13,
   "metadata": {},
   "outputs": [
    {
     "data": {
      "text/plain": [
       "<seaborn.axisgrid.FacetGrid at 0x2169f220a08>"
      ]
     },
     "execution_count": 13,
     "metadata": {},
     "output_type": "execute_result"
    },
    {
     "data": {
      "image/png": "[encoded data removed]",
      "text/plain": [
       "<Figure size 360x360 with 1 Axes>"
      ]
     },
     "metadata": {
      "needs_background": "light"
     },
     "output_type": "display_data"
    }
   ],
   "source": [
    "sns.lmplot(\n",
    "    x='nb_layers',\n",
    "    y='test_result_acc',\n",
    "    data=test4,\n",
    "    fit_reg=False\n",
    ")"
   ]
  },
  {
   "cell_type": "code",
   "execution_count": 14,
   "metadata": {},
   "outputs": [
    {
     "data": {
      "text/plain": [
       "<seaborn.axisgrid.FacetGrid at 0x2169f297108>"
      ]
     },
     "execution_count": 14,
     "metadata": {},
     "output_type": "execute_result"
    },
    {
     "data": {
      "image/png": "[encoded data removed]",
      "text/plain": [
       "<Figure size 360x360 with 1 Axes>"
      ]
     },
     "metadata": {
      "needs_background": "light"
     },
     "output_type": "display_data"
    }
   ],
   "source": [
    "sns.lmplot(\n",
    "    x='training_time(s)',\n",
    "    y='nb_layers',\n",
    "    data=test4,\n",
    "    fit_reg=False\n",
    ")"
   ]
  },
  {
   "cell_type": "markdown",
   "metadata": {},
   "source": [
    "# Experiment 4 : State Machine v2"
   ]
  },
  {
   "cell_type": "code",
   "execution_count": 19,
   "metadata": {},
   "outputs": [],
   "source": [
    "test5 = data[40:50]"
   ]
  },
  {
   "cell_type": "code",
   "execution_count": 20,
   "metadata": {},
   "outputs": [
    {
     "data": {
      "text/plain": [
       "<function matplotlib.pyplot.show(close=None, block=None)>"
      ]
     },
     "execution_count": 20,
     "metadata": {},
     "output_type": "execute_result"
    },
    {
     "data": {
      "image/png": "[encoded data removed]",
      "text/plain": [
       "<Figure size 432x288 with 1 Axes>"
      ]
     },
     "metadata": {
      "needs_background": "light"
     },
     "output_type": "display_data"
    }
   ],
   "source": [
    "plt.scatter(range(1,11), test5['test_result_acc'], label=\"test\")\n",
    "plt.scatter(range(1,11), test5['train_result_acc'], label=\"train\")\n",
    "\n",
    "plt.legend()\n",
    "plt.show"
   ]
  },
  {
   "cell_type": "code",
   "execution_count": 21,
   "metadata": {},
   "outputs": [
    {
     "data": {
      "text/plain": [
       "<seaborn.axisgrid.FacetGrid at 0x2169f387bc8>"
      ]
     },
     "execution_count": 21,
     "metadata": {},
     "output_type": "execute_result"
    },
    {
     "data": {
      "image/png": "[encoded data removed]",
      "text/plain": [
       "<Figure size 360x360 with 1 Axes>"
      ]
     },
     "metadata": {
      "needs_background": "light"
     },
     "output_type": "display_data"
    }
   ],
   "source": [
    "sns.lmplot(\n",
    "    x='training_time(s)',\n",
    "    y='test_result_acc',\n",
    "    data=test5,\n",
    "    fit_reg=False\n",
    ")"
   ]
  },
  {
   "cell_type": "code",
   "execution_count": 22,
   "metadata": {},
   "outputs": [
    {
     "data": {
      "text/plain": [
       "<AxesSubplot:ylabel='test_result_acc'>"
      ]
     },
     "execution_count": 22,
     "metadata": {},
     "output_type": "execute_result"
    },
    {
     "data": {
      "image/png": "[encoded data removed]",
      "text/plain": [
       "<Figure size 432x288 with 1 Axes>"
      ]
     },
     "metadata": {
      "needs_background": "light"
     },
     "output_type": "display_data"
    }
   ],
   "source": [
    "sns.boxplot(y='test_result_acc', data=test5)"
   ]
  },
  {
   "cell_type": "code",
   "execution_count": 23,
   "metadata": {},
   "outputs": [
    {
     "data": {
      "text/plain": [
       "<AxesSubplot:ylabel='training_time(s)'>"
      ]
     },
     "execution_count": 23,
     "metadata": {},
     "output_type": "execute_result"
    },
    {
     "data": {
      "image/png": "[encoded data removed]",
      "text/plain": [
       "<Figure size 432x288 with 1 Axes>"
      ]
     },
     "metadata": {
      "needs_background": "light"
     },
     "output_type": "display_data"
    }
   ],
   "source": [
    "sns.boxplot(y='training_time(s)', data=test5)"
   ]
  },
  {
   "cell_type": "code",
   "execution_count": 24,
   "metadata": {},
   "outputs": [
    {
     "data": {
      "text/plain": [
       "<seaborn.axisgrid.FacetGrid at 0x2169f3ef808>"
      ]
     },
     "execution_count": 24,
     "metadata": {},
     "output_type": "execute_result"
    },
    {
     "data": {
      "image/png": "[encoded data removed]",
      "text/plain": [
       "<Figure size 360x360 with 1 Axes>"
      ]
     },
     "metadata": {
      "needs_background": "light"
     },
     "output_type": "display_data"
    }
   ],
   "source": [
    "sns.lmplot(\n",
    "    x='nb_layers',\n",
    "    y='test_result_acc',\n",
    "    data=test5,\n",
    "    fit_reg=False\n",
    ")"
   ]
  },
  {
   "cell_type": "code",
   "execution_count": 25,
   "metadata": {},
   "outputs": [
    {
     "data": {
      "text/plain": [
       "<seaborn.axisgrid.FacetGrid at 0x2169f462608>"
      ]
     },
     "execution_count": 25,
     "metadata": {},
     "output_type": "execute_result"
    },
    {
     "data": {
      "image/png": "[encoded data removed]",
      "text/plain": [
       "<Figure size 360x360 with 1 Axes>"
      ]
     },
     "metadata": {
      "needs_background": "light"
     },
     "output_type": "display_data"
    }
   ],
   "source": [
    "sns.lmplot(\n",
    "    x='training_time(s)',\n",
    "    y='nb_layers',\n",
    "    data=test5,\n",
    "    fit_reg=False\n",
    ")"
   ]
  },
  {
   "cell_type": "code",
   "execution_count": null,
   "metadata": {},
   "outputs": [],
   "source": []
  },
  {
   "cell_type": "code",
   "execution_count": null,
   "metadata": {},
   "outputs": [],
   "source": []
  },
  {
   "cell_type": "code",
   "execution_count": null,
   "metadata": {},
   "outputs": [],
   "source": []
  }
 ],
 "metadata": {
  "kernelspec": {
   "display_name": "Python 3",
   "language": "python",
   "name": "python3"
  },
  "language_info": {
   "codemirror_mode": {
    "name": "ipython",
    "version": 3
   },
   "file_extension": ".py",
   "mimetype": "text/x-python",
   "name": "python",
   "nbconvert_exporter": "python",
   "pygments_lexer": "ipython3",
   "version": "3.7.9"
  },
  "latex_envs": {
   "LaTeX_envs_menu_present": true,
   "autoclose": false,
   "autocomplete": true,
   "bibliofile": "biblio.bib",
   "cite_by": "apalike",
   "current_citInitial": 1,
   "eqLabelWithNumbers": true,
   "eqNumInitial": 1,
   "hotkeys": {
    "equation": "Ctrl-E",
    "itemize": "Ctrl-I"
   },
   "labels_anchors": false,
   "latex_user_defs": false,
   "report_style_numbering": false,
   "user_envs_cfg": false
  },
  "toc": {
   "base_numbering": 1,
   "nav_menu": {},
   "number_sections": true,
   "sideBar": true,
   "skip_h1_title": false,
   "title_cell": "Table of Contents",
   "title_sidebar": "Contents",
   "toc_cell": false,
   "toc_position": {},
   "toc_section_display": true,
   "toc_window_display": true
  },
  "varInspector": {
   "cols": {
    "lenName": 16,
    "lenType": 16,
    "lenVar": 40
   },
   "kernels_config": {
    "python": {
     "delete_cmd_postfix": "",
     "delete_cmd_prefix": "del ",
     "library": "var_list.py",
     "varRefreshCmd": "print(var_dic_list())"
    },
    "r": {
     "delete_cmd_postfix": ") ",
     "delete_cmd_prefix": "rm(",
     "library": "var_list.r",
     "varRefreshCmd": "cat(var_dic_list()) "
    }
   },
   "types_to_exclude": [
    "module",
    "function",
    "builtin_function_or_method",
    "instance",
    "_Feature"
   ],
   "window_display": false
  }
 },
 "nbformat": 4,
 "nbformat_minor": 4
}
