{
 "cells": [
  {
   "cell_type": "code",
   "execution_count": 5,
   "metadata": {},
   "outputs": [],
   "source": [
    "import pandas as pd\n",
    "from statistics import mean\n",
    "import matplotlib.pyplot as plt\n",
    "import matplotlib\n",
    "import seaborn as sns\n",
    "import os\n",
    "import glob"
   ]
  },
  {
   "cell_type": "code",
   "execution_count": 2,
   "metadata": {},
   "outputs": [],
   "source": [
    "def str_to_float(l):\n",
    "    l2 = list()\n",
    "    for i in l:\n",
    "        l2.append(float(i))\n",
    "        \n",
    "    return l2"
   ]
  },
  {
   "cell_type": "code",
   "execution_count": 34,
   "metadata": {},
   "outputs": [],
   "source": [
    "data = pd.read_csv('architecture_results_resnet.csv')"
   ]
  },
  {
   "cell_type": "code",
   "execution_count": 35,
   "metadata": {},
   "outputs": [
    {
     "data": {
      "text/html": [
       "<div>\n",
       "<style scoped>\n",
       "    .dataframe tbody tr th:only-of-type {\n",
       "        vertical-align: middle;\n",
       "    }\n",
       "\n",
       "    .dataframe tbody tr th {\n",
       "        vertical-align: top;\n",
       "    }\n",
       "\n",
       "    .dataframe thead th {\n",
       "        text-align: right;\n",
       "    }\n",
       "</style>\n",
       "<table border=\"1\" class=\"dataframe\">\n",
       "  <thead>\n",
       "    <tr style=\"text-align: right;\">\n",
       "      <th></th>\n",
       "      <th>file_name</th>\n",
       "      <th>training_time(s)</th>\n",
       "      <th>test_result_loss</th>\n",
       "      <th>test_result_acc</th>\n",
       "      <th>train_result_acc</th>\n",
       "      <th>train_result_loss</th>\n",
       "      <th>nb_layers</th>\n",
       "    </tr>\n",
       "  </thead>\n",
       "  <tbody>\n",
       "    <tr>\n",
       "      <th>0</th>\n",
       "      <td>archi_resnet_1</td>\n",
       "      <td>133.417604</td>\n",
       "      <td>0.051585</td>\n",
       "      <td>0.9867</td>\n",
       "      <td>0.987800</td>\n",
       "      <td>0.043864</td>\n",
       "      <td>35</td>\n",
       "    </tr>\n",
       "    <tr>\n",
       "      <th>1</th>\n",
       "      <td>archi_resnet_2</td>\n",
       "      <td>101.728477</td>\n",
       "      <td>0.066378</td>\n",
       "      <td>0.9812</td>\n",
       "      <td>0.985117</td>\n",
       "      <td>0.054573</td>\n",
       "      <td>26</td>\n",
       "    </tr>\n",
       "    <tr>\n",
       "      <th>2</th>\n",
       "      <td>archi_resnet_3</td>\n",
       "      <td>49.766294</td>\n",
       "      <td>0.042992</td>\n",
       "      <td>0.9863</td>\n",
       "      <td>0.991283</td>\n",
       "      <td>0.028896</td>\n",
       "      <td>12</td>\n",
       "    </tr>\n",
       "    <tr>\n",
       "      <th>3</th>\n",
       "      <td>archi_resnet_4</td>\n",
       "      <td>67.431848</td>\n",
       "      <td>0.052702</td>\n",
       "      <td>0.9830</td>\n",
       "      <td>0.990983</td>\n",
       "      <td>0.029652</td>\n",
       "      <td>19</td>\n",
       "    </tr>\n",
       "    <tr>\n",
       "      <th>4</th>\n",
       "      <td>archi_resnet_5</td>\n",
       "      <td>73.555264</td>\n",
       "      <td>0.078769</td>\n",
       "      <td>0.9762</td>\n",
       "      <td>0.984000</td>\n",
       "      <td>0.049819</td>\n",
       "      <td>24</td>\n",
       "    </tr>\n",
       "    <tr>\n",
       "      <th>5</th>\n",
       "      <td>archi_resnet_6</td>\n",
       "      <td>48.690004</td>\n",
       "      <td>0.039665</td>\n",
       "      <td>0.9893</td>\n",
       "      <td>0.991700</td>\n",
       "      <td>0.030017</td>\n",
       "      <td>13</td>\n",
       "    </tr>\n",
       "    <tr>\n",
       "      <th>6</th>\n",
       "      <td>archi_resnet_7</td>\n",
       "      <td>36.649305</td>\n",
       "      <td>0.047997</td>\n",
       "      <td>0.9861</td>\n",
       "      <td>0.988283</td>\n",
       "      <td>0.040765</td>\n",
       "      <td>10</td>\n",
       "    </tr>\n",
       "    <tr>\n",
       "      <th>7</th>\n",
       "      <td>archi_resnet_8</td>\n",
       "      <td>38.842573</td>\n",
       "      <td>0.073210</td>\n",
       "      <td>0.9797</td>\n",
       "      <td>0.984183</td>\n",
       "      <td>0.051597</td>\n",
       "      <td>10</td>\n",
       "    </tr>\n",
       "    <tr>\n",
       "      <th>8</th>\n",
       "      <td>archi_resnet_9</td>\n",
       "      <td>48.041213</td>\n",
       "      <td>0.055541</td>\n",
       "      <td>0.9821</td>\n",
       "      <td>0.988433</td>\n",
       "      <td>0.038000</td>\n",
       "      <td>13</td>\n",
       "    </tr>\n",
       "    <tr>\n",
       "      <th>9</th>\n",
       "      <td>archi_resnet_10</td>\n",
       "      <td>50.602212</td>\n",
       "      <td>0.060413</td>\n",
       "      <td>0.9808</td>\n",
       "      <td>0.987267</td>\n",
       "      <td>0.039520</td>\n",
       "      <td>12</td>\n",
       "    </tr>\n",
       "    <tr>\n",
       "      <th>10</th>\n",
       "      <td>archi_resnet_1</td>\n",
       "      <td>130.165360</td>\n",
       "      <td>1.369524</td>\n",
       "      <td>0.5130</td>\n",
       "      <td>0.560460</td>\n",
       "      <td>1.226655</td>\n",
       "      <td>36</td>\n",
       "    </tr>\n",
       "    <tr>\n",
       "      <th>11</th>\n",
       "      <td>archi_resnet_2</td>\n",
       "      <td>106.240604</td>\n",
       "      <td>1.307125</td>\n",
       "      <td>0.5370</td>\n",
       "      <td>0.563380</td>\n",
       "      <td>1.225044</td>\n",
       "      <td>37</td>\n",
       "    </tr>\n",
       "    <tr>\n",
       "      <th>12</th>\n",
       "      <td>archi_resnet_3</td>\n",
       "      <td>90.026167</td>\n",
       "      <td>1.329411</td>\n",
       "      <td>0.5413</td>\n",
       "      <td>0.574380</td>\n",
       "      <td>1.217327</td>\n",
       "      <td>17</td>\n",
       "    </tr>\n",
       "    <tr>\n",
       "      <th>13</th>\n",
       "      <td>archi_resnet_4</td>\n",
       "      <td>95.780893</td>\n",
       "      <td>1.348258</td>\n",
       "      <td>0.5206</td>\n",
       "      <td>0.557140</td>\n",
       "      <td>1.240302</td>\n",
       "      <td>26</td>\n",
       "    </tr>\n",
       "    <tr>\n",
       "      <th>14</th>\n",
       "      <td>archi_resnet_5</td>\n",
       "      <td>84.603598</td>\n",
       "      <td>1.225431</td>\n",
       "      <td>0.5636</td>\n",
       "      <td>0.612520</td>\n",
       "      <td>1.096472</td>\n",
       "      <td>20</td>\n",
       "    </tr>\n",
       "    <tr>\n",
       "      <th>15</th>\n",
       "      <td>archi_resnet_6</td>\n",
       "      <td>47.564666</td>\n",
       "      <td>1.261693</td>\n",
       "      <td>0.5476</td>\n",
       "      <td>0.616020</td>\n",
       "      <td>1.087278</td>\n",
       "      <td>14</td>\n",
       "    </tr>\n",
       "    <tr>\n",
       "      <th>16</th>\n",
       "      <td>archi_resnet_7</td>\n",
       "      <td>99.509591</td>\n",
       "      <td>1.315254</td>\n",
       "      <td>0.5270</td>\n",
       "      <td>0.577860</td>\n",
       "      <td>1.183379</td>\n",
       "      <td>50</td>\n",
       "    </tr>\n",
       "    <tr>\n",
       "      <th>17</th>\n",
       "      <td>archi_resnet_8</td>\n",
       "      <td>84.000039</td>\n",
       "      <td>1.364101</td>\n",
       "      <td>0.5175</td>\n",
       "      <td>0.574680</td>\n",
       "      <td>1.219382</td>\n",
       "      <td>46</td>\n",
       "    </tr>\n",
       "    <tr>\n",
       "      <th>18</th>\n",
       "      <td>archi_resnet_9</td>\n",
       "      <td>94.024635</td>\n",
       "      <td>1.381271</td>\n",
       "      <td>0.5119</td>\n",
       "      <td>0.566140</td>\n",
       "      <td>1.232087</td>\n",
       "      <td>34</td>\n",
       "    </tr>\n",
       "    <tr>\n",
       "      <th>19</th>\n",
       "      <td>archi_resnet_10</td>\n",
       "      <td>156.109841</td>\n",
       "      <td>1.239040</td>\n",
       "      <td>0.5709</td>\n",
       "      <td>0.612620</td>\n",
       "      <td>1.097580</td>\n",
       "      <td>27</td>\n",
       "    </tr>\n",
       "  </tbody>\n",
       "</table>\n",
       "</div>"
      ],
      "text/plain": [
       "          file_name  training_time(s)  test_result_loss  test_result_acc  \\\n",
       "0    archi_resnet_1        133.417604          0.051585           0.9867   \n",
       "1    archi_resnet_2        101.728477          0.066378           0.9812   \n",
       "2    archi_resnet_3         49.766294          0.042992           0.9863   \n",
       "3    archi_resnet_4         67.431848          0.052702           0.9830   \n",
       "4    archi_resnet_5         73.555264          0.078769           0.9762   \n",
       "5    archi_resnet_6         48.690004          0.039665           0.9893   \n",
       "6    archi_resnet_7         36.649305          0.047997           0.9861   \n",
       "7    archi_resnet_8         38.842573          0.073210           0.9797   \n",
       "8    archi_resnet_9         48.041213          0.055541           0.9821   \n",
       "9   archi_resnet_10         50.602212          0.060413           0.9808   \n",
       "10   archi_resnet_1        130.165360          1.369524           0.5130   \n",
       "11   archi_resnet_2        106.240604          1.307125           0.5370   \n",
       "12   archi_resnet_3         90.026167          1.329411           0.5413   \n",
       "13   archi_resnet_4         95.780893          1.348258           0.5206   \n",
       "14   archi_resnet_5         84.603598          1.225431           0.5636   \n",
       "15   archi_resnet_6         47.564666          1.261693           0.5476   \n",
       "16   archi_resnet_7         99.509591          1.315254           0.5270   \n",
       "17   archi_resnet_8         84.000039          1.364101           0.5175   \n",
       "18   archi_resnet_9         94.024635          1.381271           0.5119   \n",
       "19  archi_resnet_10        156.109841          1.239040           0.5709   \n",
       "\n",
       "    train_result_acc  train_result_loss  nb_layers  \n",
       "0           0.987800           0.043864         35  \n",
       "1           0.985117           0.054573         26  \n",
       "2           0.991283           0.028896         12  \n",
       "3           0.990983           0.029652         19  \n",
       "4           0.984000           0.049819         24  \n",
       "5           0.991700           0.030017         13  \n",
       "6           0.988283           0.040765         10  \n",
       "7           0.984183           0.051597         10  \n",
       "8           0.988433           0.038000         13  \n",
       "9           0.987267           0.039520         12  \n",
       "10          0.560460           1.226655         36  \n",
       "11          0.563380           1.225044         37  \n",
       "12          0.574380           1.217327         17  \n",
       "13          0.557140           1.240302         26  \n",
       "14          0.612520           1.096472         20  \n",
       "15          0.616020           1.087278         14  \n",
       "16          0.577860           1.183379         50  \n",
       "17          0.574680           1.219382         46  \n",
       "18          0.566140           1.232087         34  \n",
       "19          0.612620           1.097580         27  "
      ]
     },
     "execution_count": 35,
     "metadata": {},
     "output_type": "execute_result"
    }
   ],
   "source": [
    "data"
   ]
  },
  {
   "cell_type": "markdown",
   "metadata": {},
   "source": [
    "# Experiment 1 : Architecture\n",
    "- state Machine\n",
    "- Mnist"
   ]
  },
  {
   "cell_type": "code",
   "execution_count": 27,
   "metadata": {},
   "outputs": [],
   "source": [
    "test1 = data[:10]"
   ]
  },
  {
   "cell_type": "code",
   "execution_count": 28,
   "metadata": {},
   "outputs": [
    {
     "data": {
      "text/plain": [
       "<function matplotlib.pyplot.show(close=None, block=None)>"
      ]
     },
     "execution_count": 28,
     "metadata": {},
     "output_type": "execute_result"
    },
    {
     "data": {
      "image/png": "[encoded data removed]",
      "text/plain": [
       "<Figure size 432x288 with 1 Axes>"
      ]
     },
     "metadata": {
      "needs_background": "light"
     },
     "output_type": "display_data"
    }
   ],
   "source": [
    "plt.scatter(range(1,11), test1['test_result_acc'], label=\"test\")\n",
    "plt.scatter(range(1,11), test1['train_result_acc'], label=\"train\")\n",
    "\n",
    "plt.legend()\n",
    "plt.show"
   ]
  },
  {
   "cell_type": "code",
   "execution_count": 29,
   "metadata": {},
   "outputs": [
    {
     "data": {
      "text/plain": [
       "<seaborn.axisgrid.FacetGrid at 0x1b21c0b5208>"
      ]
     },
     "execution_count": 29,
     "metadata": {},
     "output_type": "execute_result"
    },
    {
     "data": {
      "image/png": "[encoded data removed]",
      "text/plain": [
       "<Figure size 360x360 with 1 Axes>"
      ]
     },
     "metadata": {
      "needs_background": "light"
     },
     "output_type": "display_data"
    }
   ],
   "source": [
    "sns.lmplot(\n",
    "    x='training_time(s)',\n",
    "    y='test_result_acc',\n",
    "    data=test1,\n",
    "    fit_reg=False\n",
    ")"
   ]
  },
  {
   "cell_type": "code",
   "execution_count": 30,
   "metadata": {},
   "outputs": [
    {
     "data": {
      "text/plain": [
       "<AxesSubplot:ylabel='test_result_acc'>"
      ]
     },
     "execution_count": 30,
     "metadata": {},
     "output_type": "execute_result"
    },
    {
     "data": {
      "image/png": "[encoded data removed]",
      "text/plain": [
       "<Figure size 432x288 with 1 Axes>"
      ]
     },
     "metadata": {
      "needs_background": "light"
     },
     "output_type": "display_data"
    }
   ],
   "source": [
    "sns.boxplot(y='test_result_acc', data=test1)"
   ]
  },
  {
   "cell_type": "code",
   "execution_count": 31,
   "metadata": {},
   "outputs": [
    {
     "data": {
      "text/plain": [
       "<AxesSubplot:ylabel='training_time(s)'>"
      ]
     },
     "execution_count": 31,
     "metadata": {},
     "output_type": "execute_result"
    },
    {
     "data": {
      "image/png": "[encoded data removed]",
      "text/plain": [
       "<Figure size 432x288 with 1 Axes>"
      ]
     },
     "metadata": {
      "needs_background": "light"
     },
     "output_type": "display_data"
    }
   ],
   "source": [
    "sns.boxplot(y='training_time(s)', data=test1)"
   ]
  },
  {
   "cell_type": "code",
   "execution_count": 32,
   "metadata": {},
   "outputs": [
    {
     "data": {
      "text/plain": [
       "<seaborn.axisgrid.FacetGrid at 0x1b21c397048>"
      ]
     },
     "execution_count": 32,
     "metadata": {},
     "output_type": "execute_result"
    },
    {
     "data": {
      "image/png": "[encoded data removed]",
      "text/plain": [
       "<Figure size 360x360 with 1 Axes>"
      ]
     },
     "metadata": {
      "needs_background": "light"
     },
     "output_type": "display_data"
    }
   ],
   "source": [
    "sns.lmplot(\n",
    "    x='nb_layers',\n",
    "    y='test_result_acc',\n",
    "    data=test1,\n",
    "    fit_reg=False\n",
    ")"
   ]
  },
  {
   "cell_type": "code",
   "execution_count": 33,
   "metadata": {},
   "outputs": [
    {
     "data": {
      "text/plain": [
       "<seaborn.axisgrid.FacetGrid at 0x1b21c41b208>"
      ]
     },
     "execution_count": 33,
     "metadata": {},
     "output_type": "execute_result"
    },
    {
     "data": {
      "image/png": "[encoded data removed]",
      "text/plain": [
       "<Figure size 360x360 with 1 Axes>"
      ]
     },
     "metadata": {
      "needs_background": "light"
     },
     "output_type": "display_data"
    }
   ],
   "source": [
    "sns.lmplot(\n",
    "    x='training_time(s)',\n",
    "    y='nb_layers',\n",
    "    data=test1,\n",
    "    fit_reg=False\n",
    ")"
   ]
  },
  {
   "cell_type": "markdown",
   "metadata": {},
   "source": [
    "# Experiement 2 : Cifar10\n",
    "- same as previous \n",
    "- cifar10"
   ]
  },
  {
   "cell_type": "code",
   "execution_count": 36,
   "metadata": {},
   "outputs": [],
   "source": [
    "test2 = data[10:20]"
   ]
  },
  {
   "cell_type": "code",
   "execution_count": 37,
   "metadata": {},
   "outputs": [
    {
     "data": {
      "text/plain": [
       "<function matplotlib.pyplot.show(close=None, block=None)>"
      ]
     },
     "execution_count": 37,
     "metadata": {},
     "output_type": "execute_result"
    },
    {
     "data": {
      "image/png": "[encoded data removed]",
      "text/plain": [
       "<Figure size 432x288 with 1 Axes>"
      ]
     },
     "metadata": {
      "needs_background": "light"
     },
     "output_type": "display_data"
    }
   ],
   "source": [
    "plt.scatter(range(1,11), test2['test_result_acc'], label=\"test\")\n",
    "plt.scatter(range(1,11), test2['train_result_acc'], label=\"train\")\n",
    "\n",
    "plt.legend()\n",
    "plt.show"
   ]
  },
  {
   "cell_type": "code",
   "execution_count": 38,
   "metadata": {},
   "outputs": [
    {
     "data": {
      "text/plain": [
       "<seaborn.axisgrid.FacetGrid at 0x1b21c5006c8>"
      ]
     },
     "execution_count": 38,
     "metadata": {},
     "output_type": "execute_result"
    },
    {
     "data": {
      "image/png": "[encoded data removed]",
      "text/plain": [
       "<Figure size 360x360 with 1 Axes>"
      ]
     },
     "metadata": {
      "needs_background": "light"
     },
     "output_type": "display_data"
    }
   ],
   "source": [
    "sns.lmplot(\n",
    "    x='training_time(s)',\n",
    "    y='test_result_acc',\n",
    "    data=test2,\n",
    "    fit_reg=False\n",
    ")"
   ]
  },
  {
   "cell_type": "code",
   "execution_count": 39,
   "metadata": {},
   "outputs": [
    {
     "data": {
      "text/plain": [
       "<AxesSubplot:ylabel='test_result_acc'>"
      ]
     },
     "execution_count": 39,
     "metadata": {},
     "output_type": "execute_result"
    },
    {
     "data": {
      "image/png": "[encoded data removed]",
      "text/plain": [
       "<Figure size 432x288 with 1 Axes>"
      ]
     },
     "metadata": {
      "needs_background": "light"
     },
     "output_type": "display_data"
    }
   ],
   "source": [
    "sns.boxplot(y='test_result_acc', data=test2)"
   ]
  },
  {
   "cell_type": "code",
   "execution_count": 40,
   "metadata": {},
   "outputs": [
    {
     "data": {
      "text/plain": [
       "<AxesSubplot:ylabel='training_time(s)'>"
      ]
     },
     "execution_count": 40,
     "metadata": {},
     "output_type": "execute_result"
    },
    {
     "data": {
      "image/png": "[encoded data removed]",
      "text/plain": [
       "<Figure size 432x288 with 1 Axes>"
      ]
     },
     "metadata": {
      "needs_background": "light"
     },
     "output_type": "display_data"
    }
   ],
   "source": [
    "sns.boxplot(y='training_time(s)', data=test2)"
   ]
  },
  {
   "cell_type": "code",
   "execution_count": 41,
   "metadata": {},
   "outputs": [
    {
     "data": {
      "text/plain": [
       "<seaborn.axisgrid.FacetGrid at 0x1b21d617b88>"
      ]
     },
     "execution_count": 41,
     "metadata": {},
     "output_type": "execute_result"
    },
    {
     "data": {
      "image/png": "[encoded data removed]",
      "text/plain": [
       "<Figure size 360x360 with 1 Axes>"
      ]
     },
     "metadata": {
      "needs_background": "light"
     },
     "output_type": "display_data"
    }
   ],
   "source": [
    "sns.lmplot(\n",
    "    x='nb_layers',\n",
    "    y='test_result_acc',\n",
    "    data=test2,\n",
    "    fit_reg=False\n",
    ")"
   ]
  },
  {
   "cell_type": "code",
   "execution_count": 42,
   "metadata": {},
   "outputs": [
    {
     "data": {
      "text/plain": [
       "<seaborn.axisgrid.FacetGrid at 0x1b21c4d2ac8>"
      ]
     },
     "execution_count": 42,
     "metadata": {},
     "output_type": "execute_result"
    },
    {
     "data": {
      "image/png": "[encoded data removed]",
      "text/plain": [
       "<Figure size 360x360 with 1 Axes>"
      ]
     },
     "metadata": {
      "needs_background": "light"
     },
     "output_type": "display_data"
    }
   ],
   "source": [
    "sns.lmplot(\n",
    "    x='training_time(s)',\n",
    "    y='nb_layers',\n",
    "    data=test2,\n",
    "    fit_reg=False\n",
    ")"
   ]
  },
  {
   "cell_type": "code",
   "execution_count": null,
   "metadata": {},
   "outputs": [],
   "source": []
  },
  {
   "cell_type": "code",
   "execution_count": null,
   "metadata": {},
   "outputs": [],
   "source": []
  },
  {
   "cell_type": "code",
   "execution_count": null,
   "metadata": {},
   "outputs": [],
   "source": []
  }
 ],
 "metadata": {
  "kernelspec": {
   "display_name": "Python 3",
   "language": "python",
   "name": "python3"
  },
  "language_info": {
   "codemirror_mode": {
    "name": "ipython",
    "version": 3
   },
   "file_extension": ".py",
   "mimetype": "text/x-python",
   "name": "python",
   "nbconvert_exporter": "python",
   "pygments_lexer": "ipython3",
   "version": "3.7.9"
  },
  "latex_envs": {
   "LaTeX_envs_menu_present": true,
   "autoclose": false,
   "autocomplete": true,
   "bibliofile": "biblio.bib",
   "cite_by": "apalike",
   "current_citInitial": 1,
   "eqLabelWithNumbers": true,
   "eqNumInitial": 1,
   "hotkeys": {
    "equation": "Ctrl-E",
    "itemize": "Ctrl-I"
   },
   "labels_anchors": false,
   "latex_user_defs": false,
   "report_style_numbering": false,
   "user_envs_cfg": false
  },
  "toc": {
   "base_numbering": 1,
   "nav_menu": {},
   "number_sections": true,
   "sideBar": true,
   "skip_h1_title": false,
   "title_cell": "Table of Contents",
   "title_sidebar": "Contents",
   "toc_cell": false,
   "toc_position": {},
   "toc_section_display": true,
   "toc_window_display": false
  },
  "varInspector": {
   "cols": {
    "lenName": 16,
    "lenType": 16,
    "lenVar": 40
   },
   "kernels_config": {
    "python": {
     "delete_cmd_postfix": "",
     "delete_cmd_prefix": "del ",
     "library": "var_list.py",
     "varRefreshCmd": "print(var_dic_list())"
    },
    "r": {
     "delete_cmd_postfix": ") ",
     "delete_cmd_prefix": "rm(",
     "library": "var_list.r",
     "varRefreshCmd": "cat(var_dic_list()) "
    }
   },
   "types_to_exclude": [
    "module",
    "function",
    "builtin_function_or_method",
    "instance",
    "_Feature"
   ],
   "window_display": false
  }
 },
 "nbformat": 4,
 "nbformat_minor": 4
}
