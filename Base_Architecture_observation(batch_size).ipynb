{
 "cells": [
  {
   "cell_type": "code",
   "execution_count": 2,
   "id": "56ef52a3",
   "metadata": {},
   "outputs": [],
   "source": [
    "import pandas as pd\n",
    "from statistics import mean\n",
    "import matplotlib.pyplot as plt\n",
    "import matplotlib\n",
    "import seaborn as sns\n",
    "import os\n",
    "import glob"
   ]
  },
  {
   "cell_type": "markdown",
   "id": "7389446e",
   "metadata": {},
   "source": [
    "# Data base Architecture"
   ]
  },
  {
   "cell_type": "markdown",
   "id": "7a34e681",
   "metadata": {},
   "source": [
    "## diversitas batch 1024"
   ]
  },
  {
   "cell_type": "code",
   "execution_count": 20,
   "id": "3c4ab138",
   "metadata": {},
   "outputs": [],
   "source": [
    "Lenet5_M_cifar_1024 = {\n",
    "                  'training_time(s)' : 85,\n",
    "                  'test_result_acc' : 0.75,\n",
    "                  'train_result_acc' : 0.88,\n",
    "                  'nb_layers' : 11,\n",
    "                  'epochs': 39,\n",
    "                  'type_archi' :'LENET5_M'}\n",
    "Lenet5_O_cifar_1024 = {\n",
    "                  'training_time(s)' : 26,\n",
    "                  'test_result_acc' : 0.65,\n",
    "                  'train_result_acc' : 0.69,\n",
    "                  'nb_layers' : 9,\n",
    "                  'epochs': 23,\n",
    "                  'type_archi' :'LENET5_O'}\n",
    "\n",
    "resnet18_cifar_1024 = {\n",
    "                  'training_time(s)' : 59,\n",
    "                  'test_result_acc' : 0.55,\n",
    "                  'train_result_acc' : 0.70,\n",
    "                  'nb_layers' : 72,\n",
    "                  'epochs': 17,\n",
    "                  'type_archi': 'RESNET18'}\n",
    "\n",
    "DenseNet_base_cifar_1024 = {'file_name' : 'DenseNet_Base',\n",
    "                  'training_time(s)' : 1381,\n",
    "                  'test_result_acc' : 0.50,\n",
    "                  'train_result_acc' : 0.51,\n",
    "                  'nb_layers' : 92,\n",
    "                  'epochs': 47,\n",
    "                  'type_archi': 'DENSENET_BASE'}\n",
    "\n",
    "DenseNet121_cifar_1024 = {\n",
    "                  'training_time(s)' : 165,\n",
    "                  'test_result_acc' : 0.21,\n",
    "                  'train_result_acc' : 0.21,\n",
    "                  'nb_layers' : 430,\n",
    "                  'epochs': 12,\n",
    "                  'type_archi': 'DENSENET121'}"
   ]
  },
  {
   "cell_type": "code",
   "execution_count": 21,
   "id": "a583ab3d",
   "metadata": {},
   "outputs": [],
   "source": [
    "data_1024 = pd.DataFrame([Lenet5_M_cifar_1024, Lenet5_O_cifar_1024,resnet18_cifar_1024, DenseNet_base_cifar_1024,DenseNet121_cifar_1024], \n",
    "                        index = [0,1,2,3,4], \n",
    "                        columns=['training_time(s)',\n",
    "                                 'test_result_acc',\n",
    "                                 'train_result_acc',\n",
    "                                 'nb_layers',\n",
    "                                 'epochs',\n",
    "                                 'type_archi']\n",
    "                       )\n",
    "data_1024['batch'] = 1024"
   ]
  },
  {
   "cell_type": "code",
   "execution_count": 22,
   "id": "9d899840",
   "metadata": {},
   "outputs": [
    {
     "data": {
      "text/html": [
       "<div>\n",
       "<style scoped>\n",
       "    .dataframe tbody tr th:only-of-type {\n",
       "        vertical-align: middle;\n",
       "    }\n",
       "\n",
       "    .dataframe tbody tr th {\n",
       "        vertical-align: top;\n",
       "    }\n",
       "\n",
       "    .dataframe thead th {\n",
       "        text-align: right;\n",
       "    }\n",
       "</style>\n",
       "<table border=\"1\" class=\"dataframe\">\n",
       "  <thead>\n",
       "    <tr style=\"text-align: right;\">\n",
       "      <th></th>\n",
       "      <th>training_time(s)</th>\n",
       "      <th>test_result_acc</th>\n",
       "      <th>train_result_acc</th>\n",
       "      <th>nb_layers</th>\n",
       "      <th>epochs</th>\n",
       "      <th>type_archi</th>\n",
       "      <th>batch</th>\n",
       "    </tr>\n",
       "  </thead>\n",
       "  <tbody>\n",
       "    <tr>\n",
       "      <th>0</th>\n",
       "      <td>85</td>\n",
       "      <td>0.75</td>\n",
       "      <td>0.88</td>\n",
       "      <td>11</td>\n",
       "      <td>39</td>\n",
       "      <td>LENET5_M</td>\n",
       "      <td>1024</td>\n",
       "    </tr>\n",
       "    <tr>\n",
       "      <th>1</th>\n",
       "      <td>26</td>\n",
       "      <td>0.65</td>\n",
       "      <td>0.69</td>\n",
       "      <td>9</td>\n",
       "      <td>23</td>\n",
       "      <td>LENET5_O</td>\n",
       "      <td>1024</td>\n",
       "    </tr>\n",
       "    <tr>\n",
       "      <th>2</th>\n",
       "      <td>59</td>\n",
       "      <td>0.55</td>\n",
       "      <td>0.70</td>\n",
       "      <td>72</td>\n",
       "      <td>17</td>\n",
       "      <td>RESNET18</td>\n",
       "      <td>1024</td>\n",
       "    </tr>\n",
       "    <tr>\n",
       "      <th>3</th>\n",
       "      <td>1381</td>\n",
       "      <td>0.50</td>\n",
       "      <td>0.51</td>\n",
       "      <td>92</td>\n",
       "      <td>47</td>\n",
       "      <td>DENSENET_BASE</td>\n",
       "      <td>1024</td>\n",
       "    </tr>\n",
       "    <tr>\n",
       "      <th>4</th>\n",
       "      <td>165</td>\n",
       "      <td>0.21</td>\n",
       "      <td>0.21</td>\n",
       "      <td>430</td>\n",
       "      <td>12</td>\n",
       "      <td>DENSENET121</td>\n",
       "      <td>1024</td>\n",
       "    </tr>\n",
       "  </tbody>\n",
       "</table>\n",
       "</div>"
      ],
      "text/plain": [
       "   training_time(s)  test_result_acc  train_result_acc  nb_layers  epochs  \\\n",
       "0                85             0.75              0.88         11      39   \n",
       "1                26             0.65              0.69          9      23   \n",
       "2                59             0.55              0.70         72      17   \n",
       "3              1381             0.50              0.51         92      47   \n",
       "4               165             0.21              0.21        430      12   \n",
       "\n",
       "      type_archi  batch  \n",
       "0       LENET5_M   1024  \n",
       "1       LENET5_O   1024  \n",
       "2       RESNET18   1024  \n",
       "3  DENSENET_BASE   1024  \n",
       "4    DENSENET121   1024  "
      ]
     },
     "execution_count": 22,
     "metadata": {},
     "output_type": "execute_result"
    }
   ],
   "source": [
    "data_1024"
   ]
  },
  {
   "cell_type": "markdown",
   "id": "d150bda3",
   "metadata": {},
   "source": [
    "## diversitas batch 64"
   ]
  },
  {
   "cell_type": "code",
   "execution_count": 23,
   "id": "a8569f6c",
   "metadata": {},
   "outputs": [],
   "source": [
    "Lenet5_M_cifar_64 = {\n",
    "                  'training_time(s)' : 158,\n",
    "                  'test_result_acc' : 0.77,\n",
    "                  'train_result_acc' : 0.92,\n",
    "                  'nb_layers' : 11,\n",
    "                  'epochs': 29,\n",
    "                  'type_archi' :'LENET5_M'}\n",
    "\n",
    "Lenet5_O_cifar_64 = {\n",
    "                  'training_time(s)' : 111,\n",
    "                  'test_result_acc' : 0.66,\n",
    "                  'train_result_acc' : 0.87,\n",
    "                  'nb_layers' : 9,\n",
    "                  'epochs': 26,\n",
    "                  'type_archi' :'LENET5_O'}\n",
    "\n",
    "resnet18_cifar_64 = {\n",
    "                  'training_time(s)' : 376,\n",
    "                  'test_result_acc' : 0.70,\n",
    "                  'train_result_acc' : 0.87,\n",
    "                  'nb_layers' : 72,\n",
    "                  'epochs': 24,\n",
    "                  'type_archi': 'RESNET18'}\n",
    "\n",
    "DenseNet_base_cifar_64 = {'file_name' : 'DenseNet_Base',\n",
    "                  'training_time(s)' : 1305,\n",
    "                  'test_result_acc' : 0.67,\n",
    "                  'train_result_acc' : 0.69,\n",
    "                  'nb_layers' : 92,\n",
    "                  'epochs': 42,\n",
    "                  'type_archi': 'DENSENET_BASE'}\n",
    "\n",
    "DenseNet121_cifar_64 = {\n",
    "                  'training_time(s)' : 1013,\n",
    "                  'test_result_acc' : 0.58,\n",
    "                  'train_result_acc' : 0.81,\n",
    "                  'nb_layers' : 430,\n",
    "                  'epochs': 20,\n",
    "                  'type_archi': 'DENSENET121'}"
   ]
  },
  {
   "cell_type": "code",
   "execution_count": 33,
   "id": "417bb7a5",
   "metadata": {},
   "outputs": [],
   "source": [
    "data_64 = pd.DataFrame([Lenet5_M_cifar_64, Lenet5_O_cifar_64,resnet18_cifar_64, DenseNet_base_cifar_64,DenseNet121_cifar_64], \n",
    "                        index = [0,1,2,3,4], \n",
    "                        columns=['training_time(s)',\n",
    "                                 'test_result_acc',\n",
    "                                 'train_result_acc',\n",
    "                                 'nb_layers',\n",
    "                                 'epochs',\n",
    "                                 'type_archi']\n",
    "                       )\n",
    "data_64['batch'] = 64"
   ]
  },
  {
   "cell_type": "code",
   "execution_count": 25,
   "id": "f0c78150",
   "metadata": {},
   "outputs": [
    {
     "data": {
      "text/html": [
       "<div>\n",
       "<style scoped>\n",
       "    .dataframe tbody tr th:only-of-type {\n",
       "        vertical-align: middle;\n",
       "    }\n",
       "\n",
       "    .dataframe tbody tr th {\n",
       "        vertical-align: top;\n",
       "    }\n",
       "\n",
       "    .dataframe thead th {\n",
       "        text-align: right;\n",
       "    }\n",
       "</style>\n",
       "<table border=\"1\" class=\"dataframe\">\n",
       "  <thead>\n",
       "    <tr style=\"text-align: right;\">\n",
       "      <th></th>\n",
       "      <th>training_time(s)</th>\n",
       "      <th>test_result_acc</th>\n",
       "      <th>train_result_acc</th>\n",
       "      <th>nb_layers</th>\n",
       "      <th>epochs</th>\n",
       "      <th>type_archi</th>\n",
       "      <th>batch</th>\n",
       "    </tr>\n",
       "  </thead>\n",
       "  <tbody>\n",
       "    <tr>\n",
       "      <th>0</th>\n",
       "      <td>158</td>\n",
       "      <td>0.77</td>\n",
       "      <td>0.92</td>\n",
       "      <td>11</td>\n",
       "      <td>29</td>\n",
       "      <td>LENET5_M</td>\n",
       "      <td>64</td>\n",
       "    </tr>\n",
       "    <tr>\n",
       "      <th>1</th>\n",
       "      <td>111</td>\n",
       "      <td>0.66</td>\n",
       "      <td>0.87</td>\n",
       "      <td>9</td>\n",
       "      <td>26</td>\n",
       "      <td>LENET5_O</td>\n",
       "      <td>64</td>\n",
       "    </tr>\n",
       "    <tr>\n",
       "      <th>2</th>\n",
       "      <td>376</td>\n",
       "      <td>0.70</td>\n",
       "      <td>0.87</td>\n",
       "      <td>72</td>\n",
       "      <td>24</td>\n",
       "      <td>RESNET18</td>\n",
       "      <td>64</td>\n",
       "    </tr>\n",
       "    <tr>\n",
       "      <th>3</th>\n",
       "      <td>1305</td>\n",
       "      <td>0.67</td>\n",
       "      <td>0.69</td>\n",
       "      <td>92</td>\n",
       "      <td>42</td>\n",
       "      <td>DENSENET_BASE</td>\n",
       "      <td>64</td>\n",
       "    </tr>\n",
       "    <tr>\n",
       "      <th>4</th>\n",
       "      <td>1013</td>\n",
       "      <td>0.58</td>\n",
       "      <td>0.81</td>\n",
       "      <td>430</td>\n",
       "      <td>20</td>\n",
       "      <td>DENSENET121</td>\n",
       "      <td>64</td>\n",
       "    </tr>\n",
       "  </tbody>\n",
       "</table>\n",
       "</div>"
      ],
      "text/plain": [
       "   training_time(s)  test_result_acc  train_result_acc  nb_layers  epochs  \\\n",
       "0               158             0.77              0.92         11      29   \n",
       "1               111             0.66              0.87          9      26   \n",
       "2               376             0.70              0.87         72      24   \n",
       "3              1305             0.67              0.69         92      42   \n",
       "4              1013             0.58              0.81        430      20   \n",
       "\n",
       "      type_archi  batch  \n",
       "0       LENET5_M     64  \n",
       "1       LENET5_O     64  \n",
       "2       RESNET18     64  \n",
       "3  DENSENET_BASE     64  \n",
       "4    DENSENET121     64  "
      ]
     },
     "execution_count": 25,
     "metadata": {},
     "output_type": "execute_result"
    }
   ],
   "source": [
    "data_64"
   ]
  },
  {
   "cell_type": "code",
   "execution_count": 41,
   "id": "4e7c6dcf",
   "metadata": {},
   "outputs": [],
   "source": [
    "data = pd.concat([data_64,data_1024])"
   ]
  },
  {
   "cell_type": "code",
   "execution_count": 42,
   "id": "b1932951",
   "metadata": {},
   "outputs": [
    {
     "data": {
      "text/html": [
       "<div>\n",
       "<style scoped>\n",
       "    .dataframe tbody tr th:only-of-type {\n",
       "        vertical-align: middle;\n",
       "    }\n",
       "\n",
       "    .dataframe tbody tr th {\n",
       "        vertical-align: top;\n",
       "    }\n",
       "\n",
       "    .dataframe thead th {\n",
       "        text-align: right;\n",
       "    }\n",
       "</style>\n",
       "<table border=\"1\" class=\"dataframe\">\n",
       "  <thead>\n",
       "    <tr style=\"text-align: right;\">\n",
       "      <th></th>\n",
       "      <th>training_time(s)</th>\n",
       "      <th>test_result_acc</th>\n",
       "      <th>train_result_acc</th>\n",
       "      <th>nb_layers</th>\n",
       "      <th>epochs</th>\n",
       "      <th>type_archi</th>\n",
       "      <th>batch</th>\n",
       "    </tr>\n",
       "  </thead>\n",
       "  <tbody>\n",
       "    <tr>\n",
       "      <th>0</th>\n",
       "      <td>158</td>\n",
       "      <td>0.77</td>\n",
       "      <td>0.92</td>\n",
       "      <td>11</td>\n",
       "      <td>29</td>\n",
       "      <td>LENET5_M</td>\n",
       "      <td>64</td>\n",
       "    </tr>\n",
       "    <tr>\n",
       "      <th>1</th>\n",
       "      <td>111</td>\n",
       "      <td>0.66</td>\n",
       "      <td>0.87</td>\n",
       "      <td>9</td>\n",
       "      <td>26</td>\n",
       "      <td>LENET5_O</td>\n",
       "      <td>64</td>\n",
       "    </tr>\n",
       "    <tr>\n",
       "      <th>2</th>\n",
       "      <td>376</td>\n",
       "      <td>0.70</td>\n",
       "      <td>0.87</td>\n",
       "      <td>72</td>\n",
       "      <td>24</td>\n",
       "      <td>RESNET18</td>\n",
       "      <td>64</td>\n",
       "    </tr>\n",
       "    <tr>\n",
       "      <th>3</th>\n",
       "      <td>1305</td>\n",
       "      <td>0.67</td>\n",
       "      <td>0.69</td>\n",
       "      <td>92</td>\n",
       "      <td>42</td>\n",
       "      <td>DENSENET_BASE</td>\n",
       "      <td>64</td>\n",
       "    </tr>\n",
       "    <tr>\n",
       "      <th>4</th>\n",
       "      <td>1013</td>\n",
       "      <td>0.58</td>\n",
       "      <td>0.81</td>\n",
       "      <td>430</td>\n",
       "      <td>20</td>\n",
       "      <td>DENSENET121</td>\n",
       "      <td>64</td>\n",
       "    </tr>\n",
       "    <tr>\n",
       "      <th>0</th>\n",
       "      <td>85</td>\n",
       "      <td>0.75</td>\n",
       "      <td>0.88</td>\n",
       "      <td>11</td>\n",
       "      <td>39</td>\n",
       "      <td>LENET5_M</td>\n",
       "      <td>1024</td>\n",
       "    </tr>\n",
       "    <tr>\n",
       "      <th>1</th>\n",
       "      <td>26</td>\n",
       "      <td>0.65</td>\n",
       "      <td>0.69</td>\n",
       "      <td>9</td>\n",
       "      <td>23</td>\n",
       "      <td>LENET5_O</td>\n",
       "      <td>1024</td>\n",
       "    </tr>\n",
       "    <tr>\n",
       "      <th>2</th>\n",
       "      <td>59</td>\n",
       "      <td>0.55</td>\n",
       "      <td>0.70</td>\n",
       "      <td>72</td>\n",
       "      <td>17</td>\n",
       "      <td>RESNET18</td>\n",
       "      <td>1024</td>\n",
       "    </tr>\n",
       "    <tr>\n",
       "      <th>3</th>\n",
       "      <td>1381</td>\n",
       "      <td>0.50</td>\n",
       "      <td>0.51</td>\n",
       "      <td>92</td>\n",
       "      <td>47</td>\n",
       "      <td>DENSENET_BASE</td>\n",
       "      <td>1024</td>\n",
       "    </tr>\n",
       "    <tr>\n",
       "      <th>4</th>\n",
       "      <td>165</td>\n",
       "      <td>0.21</td>\n",
       "      <td>0.21</td>\n",
       "      <td>430</td>\n",
       "      <td>12</td>\n",
       "      <td>DENSENET121</td>\n",
       "      <td>1024</td>\n",
       "    </tr>\n",
       "  </tbody>\n",
       "</table>\n",
       "</div>"
      ],
      "text/plain": [
       "   training_time(s)  test_result_acc  train_result_acc  nb_layers  epochs  \\\n",
       "0               158             0.77              0.92         11      29   \n",
       "1               111             0.66              0.87          9      26   \n",
       "2               376             0.70              0.87         72      24   \n",
       "3              1305             0.67              0.69         92      42   \n",
       "4              1013             0.58              0.81        430      20   \n",
       "0                85             0.75              0.88         11      39   \n",
       "1                26             0.65              0.69          9      23   \n",
       "2                59             0.55              0.70         72      17   \n",
       "3              1381             0.50              0.51         92      47   \n",
       "4               165             0.21              0.21        430      12   \n",
       "\n",
       "      type_archi  batch  \n",
       "0       LENET5_M     64  \n",
       "1       LENET5_O     64  \n",
       "2       RESNET18     64  \n",
       "3  DENSENET_BASE     64  \n",
       "4    DENSENET121     64  \n",
       "0       LENET5_M   1024  \n",
       "1       LENET5_O   1024  \n",
       "2       RESNET18   1024  \n",
       "3  DENSENET_BASE   1024  \n",
       "4    DENSENET121   1024  "
      ]
     },
     "execution_count": 42,
     "metadata": {},
     "output_type": "execute_result"
    }
   ],
   "source": [
    "data"
   ]
  },
  {
   "cell_type": "markdown",
   "id": "83aa3735",
   "metadata": {},
   "source": [
    "# Plot"
   ]
  },
  {
   "cell_type": "code",
   "execution_count": 26,
   "id": "591b74f2",
   "metadata": {},
   "outputs": [
    {
     "data": {
      "text/plain": [
       "<function matplotlib.pyplot.show(close=None, block=None)>"
      ]
     },
     "execution_count": 26,
     "metadata": {},
     "output_type": "execute_result"
    },
    {
     "data": {
      "image/png": "[encoded data removed]",
      "text/plain": [
       "<Figure size 432x288 with 1 Axes>"
      ]
     },
     "metadata": {
      "needs_background": "light"
     },
     "output_type": "display_data"
    }
   ],
   "source": [
    "plt.scatter(data_64['type_archi'], data_64['test_result_acc'], label=\"test\")\n",
    "plt.scatter(data_64['type_archi'], data_64['train_result_acc'], label=\"train\")\n",
    "\n",
    "plt.title(\"batch 64\")\n",
    "plt.legend()\n",
    "plt.show"
   ]
  },
  {
   "cell_type": "code",
   "execution_count": 27,
   "id": "8157f93f",
   "metadata": {},
   "outputs": [
    {
     "data": {
      "text/plain": [
       "<function matplotlib.pyplot.show(close=None, block=None)>"
      ]
     },
     "execution_count": 27,
     "metadata": {},
     "output_type": "execute_result"
    },
    {
     "data": {
      "image/png": "[encoded data removed]",
      "text/plain": [
       "<Figure size 432x288 with 1 Axes>"
      ]
     },
     "metadata": {
      "needs_background": "light"
     },
     "output_type": "display_data"
    }
   ],
   "source": [
    "plt.scatter(data_1024['type_archi'], data_1024['test_result_acc'], label=\"test\")\n",
    "plt.scatter(data_1024['type_archi'], data_1024['train_result_acc'], label=\"train\")\n",
    "\n",
    "plt.title(\"batch 1024\")\n",
    "plt.legend()\n",
    "plt.show"
   ]
  },
  {
   "cell_type": "markdown",
   "id": "d25fca6a",
   "metadata": {},
   "source": [
    "## test"
   ]
  },
  {
   "cell_type": "code",
   "execution_count": 30,
   "id": "9a599ab6",
   "metadata": {},
   "outputs": [
    {
     "data": {
      "text/plain": [
       "Text(0.5, 1.0, 'batch 1024')"
      ]
     },
     "execution_count": 30,
     "metadata": {},
     "output_type": "execute_result"
    },
    {
     "data": {
      "image/png": "[encoded data removed]",
      "text/plain": [
       "<Figure size 481x360 with 1 Axes>"
      ]
     },
     "metadata": {
      "needs_background": "light"
     },
     "output_type": "display_data"
    }
   ],
   "source": [
    "sns.lmplot(\n",
    "    x='training_time(s)',\n",
    "    y='test_result_acc',\n",
    "    data=data_1024,\n",
    "    hue='type_archi',\n",
    "    fit_reg=False\n",
    ")\n",
    "plt.title(\"batch 1024\")"
   ]
  },
  {
   "cell_type": "code",
   "execution_count": 29,
   "id": "0bcfc59c",
   "metadata": {},
   "outputs": [
    {
     "data": {
      "text/plain": [
       "Text(0.5, 1.0, 'batch 64')"
      ]
     },
     "execution_count": 29,
     "metadata": {},
     "output_type": "execute_result"
    },
    {
     "data": {
      "image/png": "[encoded data removed]",
      "text/plain": [
       "<Figure size 481x360 with 1 Axes>"
      ]
     },
     "metadata": {
      "needs_background": "light"
     },
     "output_type": "display_data"
    }
   ],
   "source": [
    "sns.lmplot(\n",
    "    x='training_time(s)',\n",
    "    y='test_result_acc',\n",
    "    data=data_64,\n",
    "    hue='type_archi',\n",
    "    fit_reg=False\n",
    ")\n",
    "plt.title('batch 64')"
   ]
  },
  {
   "cell_type": "markdown",
   "id": "8a9981af",
   "metadata": {},
   "source": [
    "## train"
   ]
  },
  {
   "cell_type": "code",
   "execution_count": 31,
   "id": "96cca9dd",
   "metadata": {},
   "outputs": [
    {
     "data": {
      "text/plain": [
       "Text(0.5, 1.0, 'batch 1024')"
      ]
     },
     "execution_count": 31,
     "metadata": {},
     "output_type": "execute_result"
    },
    {
     "data": {
      "image/png": "[encoded data removed]",
      "text/plain": [
       "<Figure size 481x360 with 1 Axes>"
      ]
     },
     "metadata": {
      "needs_background": "light"
     },
     "output_type": "display_data"
    }
   ],
   "source": [
    "sns.lmplot(\n",
    "    x='training_time(s)',\n",
    "    y='train_result_acc',\n",
    "    data=data_1024,\n",
    "    hue='type_archi',\n",
    "    fit_reg=False\n",
    ")\n",
    "plt.title(\"batch 1024\")"
   ]
  },
  {
   "cell_type": "code",
   "execution_count": 32,
   "id": "fbbbe71a",
   "metadata": {},
   "outputs": [
    {
     "data": {
      "text/plain": [
       "Text(0.5, 1.0, 'batch 64')"
      ]
     },
     "execution_count": 32,
     "metadata": {},
     "output_type": "execute_result"
    },
    {
     "data": {
      "image/png": "[encoded data removed]",
      "text/plain": [
       "<Figure size 481x360 with 1 Axes>"
      ]
     },
     "metadata": {
      "needs_background": "light"
     },
     "output_type": "display_data"
    }
   ],
   "source": [
    "sns.lmplot(\n",
    "    x='training_time(s)',\n",
    "    y='test_result_acc',\n",
    "    data=data_64,\n",
    "    hue='type_archi',\n",
    "    fit_reg=False\n",
    ")\n",
    "plt.title('batch 64')"
   ]
  },
  {
   "cell_type": "code",
   "execution_count": null,
   "id": "d54ed0ed",
   "metadata": {},
   "outputs": [],
   "source": []
  }
 ],
 "metadata": {
  "kernelspec": {
   "display_name": "Python 3",
   "language": "python",
   "name": "python3"
  },
  "language_info": {
   "codemirror_mode": {
    "name": "ipython",
    "version": 3
   },
   "file_extension": ".py",
   "mimetype": "text/x-python",
   "name": "python",
   "nbconvert_exporter": "python",
   "pygments_lexer": "ipython3",
   "version": "3.9.4"
  }
 },
 "nbformat": 4,
 "nbformat_minor": 5
}
