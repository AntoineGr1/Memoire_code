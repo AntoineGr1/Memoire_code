{
 "cells": [
  {
   "cell_type": "markdown",
   "metadata": {},
   "source": [
    "# Import"
   ]
  },
  {
   "cell_type": "code",
   "execution_count": 76,
   "metadata": {},
   "outputs": [],
   "source": [
    "import numpy as np\n",
    "import json"
   ]
  },
  {
   "cell_type": "markdown",
   "metadata": {},
   "source": [
    "# Classes"
   ]
  },
  {
   "cell_type": "code",
   "execution_count": 77,
   "metadata": {},
   "outputs": [],
   "source": [
    "# input\n",
    "class InputLayer:\n",
    "    def __init__(self, shape, kernel, padding, stride, nb_filter, fct_activation):\n",
    "        self.shape = shape\n",
    "        self.kernel = kernel\n",
    "        self.padding = padding\n",
    "        self.stride = stride\n",
    "        self.nb_filter = nb_filter\n",
    "        self.fct_activation = fct_activation"
   ]
  },
  {
   "cell_type": "code",
   "execution_count": 78,
   "metadata": {},
   "outputs": [],
   "source": [
    "# Output\n",
    "class Output:\n",
    "    def __init__(self, nb_neurones, fct_activation):\n",
    "        self.nb_neurones = nb_neurones\n",
    "        self.fct_activation = fct_activation"
   ]
  },
  {
   "cell_type": "code",
   "execution_count": 79,
   "metadata": {},
   "outputs": [],
   "source": [
    "# Convolution\n",
    "class Convolution:\n",
    "    def __init__(self, kernel, padding, stride, nb_filter, fct_activation):\n",
    "        self.kernel = kernel\n",
    "        self.padding = padding\n",
    "        self.stride = stride\n",
    "        self.nb_filter = nb_filter\n",
    "        self.fct_activation = fct_activation"
   ]
  },
  {
   "cell_type": "code",
   "execution_count": 80,
   "metadata": {},
   "outputs": [],
   "source": [
    "# Pooling Avg/Max\n",
    "class Pooling:\n",
    "    def __init__(self, op, kernel=2, padding=\"'valid'\", stride=None):\n",
    "        self.op = op # is the operation wanted (avg/max)\n",
    "        self.kernel = kernel\n",
    "        self.padding = padding\n",
    "        self.stride = stride"
   ]
  },
  {
   "cell_type": "code",
   "execution_count": 81,
   "metadata": {},
   "outputs": [],
   "source": [
    "# Class Flatten\n",
    "class Flatten:\n",
    "    pass"
   ]
  },
  {
   "cell_type": "code",
   "execution_count": 82,
   "metadata": {},
   "outputs": [],
   "source": [
    "# Dense --> Fully connected layer\n",
    "class Dense:\n",
    "    def __init__(self, nb_neurones, fct_activation):\n",
    "        self.nb_neurones = nb_neurones\n",
    "        self.fct_activation = fct_activation"
   ]
  },
  {
   "cell_type": "markdown",
   "metadata": {},
   "source": [
    "# Functions"
   ]
  },
  {
   "cell_type": "code",
   "execution_count": 83,
   "metadata": {},
   "outputs": [],
   "source": [
    "# function that create CNN with list of layer\n",
    "def create_CNN(list_layers):\n",
    "    str_model_cnn = \"model = keras.models.Sequential([\\n\"\n",
    "    # iterate List of layer\n",
    "    for layer in list_layers:\n",
    "        \n",
    "        # if is Intput\n",
    "        if isinstance(layer, InputLayer):\n",
    "            str_model_cnn += \"\\tkeras.layers.Conv2D({}, kernel_size={}, strides={},  activation={}, input_shape={}, padding={}),\\n\".format(\n",
    "                    layer.nb_filter,\n",
    "                    layer.kernel,\n",
    "                    layer.stride,\n",
    "                    layer.fct_activation,\n",
    "                    layer.shape,\n",
    "                    layer.padding)\n",
    "            \n",
    "        # if is Output\n",
    "        elif isinstance(layer, Output):\n",
    "            str_model_cnn += \"\\tkeras.layers.Dense({}, activation={})\\n\".format(\n",
    "                layer.nb_neurones, \n",
    "                layer.fct_activation)\n",
    "            \n",
    "        # if is Convolution\n",
    "        elif isinstance(layer, Convolution):\n",
    "            str_model_cnn += \"\\tkeras.layers.Conv2D({}, kernel_size={}, strides={}, activation={}, padding={}),\\n\".format(\n",
    "                    layer.nb_filter,\n",
    "                    layer.kernel,\n",
    "                    layer.stride,\n",
    "                    layer.fct_activation,\n",
    "                    layer.padding)\n",
    "            \n",
    "        # if is Pooling\n",
    "        elif isinstance(layer, Pooling):\n",
    "            if(layer.op == \"avg\"): # avg Pooling \n",
    "                str_model_cnn += \"\\tkeras.layers.AveragePooling2D(pool_size={}, strides={}, padding={}),\\n\".format(\n",
    "                    layer.kernel,\n",
    "                    layer.stride,\n",
    "                    layer.padding)\n",
    "                \n",
    "            else : # Max Pooling\n",
    "                str_model_cnn += \"\\tkeras.layers.MaxPooling2D(pool_size={}, strides={}, padding={}),\\n\".format(\n",
    "                    layer.kernel,\n",
    "                    layer.stride,\n",
    "                    layer.padding)\n",
    "                \n",
    "        # if is Dense (aka Fully connected layer)\n",
    "        elif isinstance(layer, Dense):\n",
    "            str_model_cnn += \"\\tkeras.layers.Dense({}, activation={}),\\n\".format(\n",
    "                layer.nb_neurones, \n",
    "                layer.fct_activation)\n",
    "            \n",
    "        # if is flatten\n",
    "        elif isinstance(layer, Flatten):\n",
    "            str_model_cnn += \"\\tkeras.layers.Flatten(),\\n\"\n",
    "            \n",
    "        # Not possible\n",
    "        else : print(\"Not Possible\")\n",
    "\n",
    "    # end model \n",
    "    str_model_cnn += \"\\n])\\n\"\n",
    "    return str_model_cnn"
   ]
  },
  {
   "cell_type": "code",
   "execution_count": 94,
   "metadata": {},
   "outputs": [],
   "source": [
    "# read json file \n",
    "# return list of layer\n",
    "def getArchitectureFromJsonFile(json_file):\n",
    "    \n",
    "    # get architecture by json file\n",
    "    with open(json_file) as archi_json:\n",
    "        archi = json.load(archi_json)\n",
    "\n",
    "    # instantiate class\n",
    "    list_layer = []\n",
    "    for layer in archi:\n",
    "        parameters = layer['parameters'] # get parameters\n",
    "        # if is Input class\n",
    "        if(layer['class'] == \"Input\"):\n",
    "            # instantiate class and add into the list\n",
    "            list_layer.append(InputLayer(parameters['shape'], \n",
    "                                parameters['kernel'], \n",
    "                                parameters['padding'], \n",
    "                                parameters['stride'],\n",
    "                                parameters['nb_filter'],\n",
    "                                parameters['fct_activation']))\n",
    "\n",
    "        \n",
    "        # if is Pooling class\n",
    "        elif(layer['class'] == \"Pooling\"):\n",
    "            list_layer.append(Pooling(parameters['op'],\n",
    "                                      parameters['kernel'],\n",
    "                                      parameters['padding'],\n",
    "                                      parameters['stride']))\n",
    "            \n",
    "        # if is Convolution class\n",
    "        elif(layer[\"class\"] == \"Convolution\"):\n",
    "            list_layer.append(Convolution(parameters['kernel'],\n",
    "                                          parameters['padding'],\n",
    "                                          parameters['stride'],\n",
    "                                          parameters['nb_filter'],\n",
    "                                          parameters['fct_activation']))\n",
    "            \n",
    "        # if is Flatten class\n",
    "        elif(layer[\"class\"] == \"Flatten\"):\n",
    "            list_layer.append(Flatten())\n",
    "        \n",
    "        # if is Dense class\n",
    "        elif(layer[\"class\"] == \"Dense\"):\n",
    "            list_layer.append(Dense(parameters['nb_neurones'],\n",
    "                                    parameters['fct_activation']))\n",
    "        # if is Output class\n",
    "        elif(layer[\"class\"] == \"Output\"):\n",
    "            list_layer.append(Dense(parameters['nb_neurones'],\n",
    "                                    parameters['fct_activation']))\n",
    "        else : print(\"Error\")\n",
    "    return list_layer"
   ]
  },
  {
   "cell_type": "markdown",
   "metadata": {},
   "source": [
    "# Creation CNN valide"
   ]
  },
  {
   "cell_type": "code",
   "execution_count": 104,
   "metadata": {
    "scrolled": false
   },
   "outputs": [],
   "source": [
    "# get architecture \n",
    "architecture_valid = getArchitectureFromJsonFile(\"architecture_valid.json\")"
   ]
  },
  {
   "cell_type": "code",
   "execution_count": 99,
   "metadata": {},
   "outputs": [],
   "source": [
    "# reset file\n",
    "file_ccn_V = open(\"archi_cnn.py\", \"w\")\n",
    "file_ccn_V.close()\n",
    "\n",
    "file_ccn_V = open(\"archi_cnn.py\", \"a\") # Open file in writting (a --> append)"
   ]
  },
  {
   "cell_type": "code",
   "execution_count": 100,
   "metadata": {},
   "outputs": [
    {
     "data": {
      "text/plain": [
       "67"
      ]
     },
     "execution_count": 100,
     "metadata": {},
     "output_type": "execute_result"
    }
   ],
   "source": [
    "# write import\n",
    "file_ccn_V.write(\"import keras\\nimport numpy as np\\nfrom keras.utils import plot_model\\n\")"
   ]
  },
  {
   "cell_type": "code",
   "execution_count": 101,
   "metadata": {},
   "outputs": [
    {
     "data": {
      "text/plain": [
       "547"
      ]
     },
     "execution_count": 101,
     "metadata": {},
     "output_type": "execute_result"
    }
   ],
   "source": [
    "# write model\n",
    "file_ccn_V.write(create_CNN(architecture_valid))"
   ]
  },
  {
   "cell_type": "code",
   "execution_count": 102,
   "metadata": {},
   "outputs": [
    {
     "data": {
      "text/plain": [
       "58"
      ]
     },
     "execution_count": 102,
     "metadata": {},
     "output_type": "execute_result"
    }
   ],
   "source": [
    "# write the end of file (create png of the model)\n",
    "file_ccn_V.write(\"plot_model(model, show_shapes=True, to_file='model_V.png')\")"
   ]
  },
  {
   "cell_type": "code",
   "execution_count": 103,
   "metadata": {},
   "outputs": [],
   "source": [
    "# close file\n",
    "file_ccn_V.close()"
   ]
  },
  {
   "cell_type": "markdown",
   "metadata": {},
   "source": [
    "# Creation CNN non valide"
   ]
  },
  {
   "cell_type": "code",
   "execution_count": 105,
   "metadata": {},
   "outputs": [],
   "source": [
    "# get architecture \n",
    "architecture_invalid = getArchitectureFromJsonFile(\"architecture_invalid.json\")"
   ]
  },
  {
   "cell_type": "code",
   "execution_count": 106,
   "metadata": {},
   "outputs": [],
   "source": [
    "# reset file\n",
    "file_cnn_NV = open(\"archi_cnn_invalid.py\", \"w\")\n",
    "file_cnn_NV.close()\n",
    "\n",
    "file_cnn_NV = open(\"archi_cnn_invalid.py\", \"a\") # Open file in writting (a --> append)"
   ]
  },
  {
   "cell_type": "code",
   "execution_count": 107,
   "metadata": {},
   "outputs": [
    {
     "data": {
      "text/plain": [
       "67"
      ]
     },
     "execution_count": 107,
     "metadata": {},
     "output_type": "execute_result"
    }
   ],
   "source": [
    "# write import\n",
    "file_cnn_NV.write(\"import keras\\nimport numpy as np\\nfrom keras.utils import plot_model\\n\")"
   ]
  },
  {
   "cell_type": "code",
   "execution_count": 108,
   "metadata": {},
   "outputs": [
    {
     "data": {
      "text/plain": [
       "502"
      ]
     },
     "execution_count": 108,
     "metadata": {},
     "output_type": "execute_result"
    }
   ],
   "source": [
    "# write model\n",
    "file_cnn_NV.write(create_CNN(architecture_invalid))"
   ]
  },
  {
   "cell_type": "code",
   "execution_count": 109,
   "metadata": {},
   "outputs": [
    {
     "data": {
      "text/plain": [
       "59"
      ]
     },
     "execution_count": 109,
     "metadata": {},
     "output_type": "execute_result"
    }
   ],
   "source": [
    "# write the end of file (create png of the model)\n",
    "file_cnn_NV.write(\"plot_model(model, show_shapes=True, to_file='model_NV.png')\")"
   ]
  },
  {
   "cell_type": "code",
   "execution_count": 110,
   "metadata": {},
   "outputs": [],
   "source": [
    "# close file\n",
    "file_cnn_NV.close()"
   ]
  },
  {
   "cell_type": "code",
   "execution_count": null,
   "metadata": {},
   "outputs": [],
   "source": []
  }
 ],
 "metadata": {
  "kernelspec": {
   "display_name": "Python 3",
   "language": "python",
   "name": "python3"
  },
  "language_info": {
   "codemirror_mode": {
    "name": "ipython",
    "version": 3
   },
   "file_extension": ".py",
   "mimetype": "text/x-python",
   "name": "python",
   "nbconvert_exporter": "python",
   "pygments_lexer": "ipython3",
   "version": "3.7.9"
  },
  "latex_envs": {
   "LaTeX_envs_menu_present": true,
   "autoclose": false,
   "autocomplete": true,
   "bibliofile": "biblio.bib",
   "cite_by": "apalike",
   "current_citInitial": 1,
   "eqLabelWithNumbers": true,
   "eqNumInitial": 1,
   "hotkeys": {
    "equation": "Ctrl-E",
    "itemize": "Ctrl-I"
   },
   "labels_anchors": false,
   "latex_user_defs": false,
   "report_style_numbering": false,
   "user_envs_cfg": false
  },
  "toc": {
   "base_numbering": 1,
   "nav_menu": {},
   "number_sections": true,
   "sideBar": true,
   "skip_h1_title": false,
   "title_cell": "Table of Contents",
   "title_sidebar": "Contents",
   "toc_cell": false,
   "toc_position": {
    "height": "612px",
    "left": "62px",
    "top": "110.8px",
    "width": "307.2px"
   },
   "toc_section_display": true,
   "toc_window_display": true
  },
  "varInspector": {
   "cols": {
    "lenName": 16,
    "lenType": 16,
    "lenVar": 40
   },
   "kernels_config": {
    "python": {
     "delete_cmd_postfix": "",
     "delete_cmd_prefix": "del ",
     "library": "var_list.py",
     "varRefreshCmd": "print(var_dic_list())"
    },
    "r": {
     "delete_cmd_postfix": ") ",
     "delete_cmd_prefix": "rm(",
     "library": "var_list.r",
     "varRefreshCmd": "cat(var_dic_list()) "
    }
   },
   "types_to_exclude": [
    "module",
    "function",
    "builtin_function_or_method",
    "instance",
    "_Feature"
   ],
   "window_display": false
  }
 },
 "nbformat": 4,
 "nbformat_minor": 4
}
