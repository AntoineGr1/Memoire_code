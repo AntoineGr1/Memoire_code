{
 "cells": [
  {
   "cell_type": "code",
   "execution_count": 1,
   "metadata": {},
   "outputs": [],
   "source": [
    "from jsonobject import *\n",
    "import numpy as np \n",
    "import random"
   ]
  },
  {
   "cell_type": "code",
   "execution_count": 2,
   "metadata": {},
   "outputs": [],
   "source": [
    "random.seed(2021)"
   ]
  },
  {
   "cell_type": "markdown",
   "metadata": {},
   "source": [
    "# Classes"
   ]
  },
  {
   "cell_type": "code",
   "execution_count": 3,
   "metadata": {},
   "outputs": [],
   "source": [
    "# Convolution\n",
    "class Convolution(JsonObject):\n",
    "    kernel = IntegerProperty()\n",
    "    padding = StringProperty()\n",
    "    stride = IntegerProperty()\n",
    "    nb_filter = IntegerProperty()\n",
    "    fct_activation = StringProperty()"
   ]
  },
  {
   "cell_type": "code",
   "execution_count": 4,
   "metadata": {},
   "outputs": [],
   "source": [
    "# Input \n",
    "class InputLayer(JsonObject):\n",
    "    shape = ListProperty(int)"
   ]
  },
  {
   "cell_type": "code",
   "execution_count": 5,
   "metadata": {},
   "outputs": [],
   "source": [
    "# Pooling Avg/Max\n",
    "class Pooling(JsonObject):\n",
    "    op = StringProperty()\n",
    "    kernel = IntegerProperty(default=2)\n",
    "    padding = StringProperty(default=\"'valid'\")\n",
    "    stride = IntegerProperty(default=None)"
   ]
  },
  {
   "cell_type": "code",
   "execution_count": 6,
   "metadata": {},
   "outputs": [],
   "source": [
    "# Class Flatten\n",
    "class Flatten(JsonObject):\n",
    "    pass"
   ]
  },
  {
   "cell_type": "code",
   "execution_count": 7,
   "metadata": {},
   "outputs": [],
   "source": [
    "# Dense --> Fully connected layer\n",
    "class Dense(JsonObject):\n",
    "    nb_neurones =  IntegerProperty()\n",
    "    fct_activation = StringProperty()"
   ]
  },
  {
   "cell_type": "markdown",
   "metadata": {},
   "source": [
    "# Test"
   ]
  },
  {
   "cell_type": "code",
   "execution_count": 8,
   "metadata": {},
   "outputs": [
    {
     "data": {
      "text/plain": [
       "{'kernel': 5,\n",
       " 'padding': \"'valid'\",\n",
       " 'stride': 2,\n",
       " 'nb_filter': 6,\n",
       " 'fct_activation': \"'tanh'\"}"
      ]
     },
     "execution_count": 8,
     "metadata": {},
     "output_type": "execute_result"
    }
   ],
   "source": [
    "conv1 = Convolution(kernel=5, padding=\"'valid'\", stride=2, nb_filter=6, fct_activation=\"'tanh'\")\n",
    "conv1.to_json()"
   ]
  },
  {
   "cell_type": "code",
   "execution_count": 9,
   "metadata": {},
   "outputs": [
    {
     "data": {
      "text/plain": [
       "{'shape': [28, 28, 1],\n",
       " 'kernel': 5,\n",
       " 'padding': \"'valid'\",\n",
       " 'stride': 2,\n",
       " 'nb_filter': 6,\n",
       " 'fct_activation': \"'tanh'\"}"
      ]
     },
     "execution_count": 9,
     "metadata": {},
     "output_type": "execute_result"
    }
   ],
   "source": [
    "inputL = InputLayer(shape=[28,28,1], kernel=5, padding=\"'valid'\", stride=2, nb_filter=6, fct_activation=\"'tanh'\")\n",
    "inputL.to_json()"
   ]
  },
  {
   "cell_type": "code",
   "execution_count": 10,
   "metadata": {},
   "outputs": [
    {
     "data": {
      "text/plain": [
       "{'op': 'avg', 'kernel': 2, 'padding': \"'valid'\", 'stride': None}"
      ]
     },
     "execution_count": 10,
     "metadata": {},
     "output_type": "execute_result"
    }
   ],
   "source": [
    "pool1 = Pooling(op = \"avg\")\n",
    "pool1.to_json()"
   ]
  },
  {
   "cell_type": "markdown",
   "metadata": {},
   "source": [
    "# Values"
   ]
  },
  {
   "cell_type": "code",
   "execution_count": 11,
   "metadata": {},
   "outputs": [],
   "source": [
    "layers_name = [Convolution, InputLayer, Pooling, Flatten, Dense]\n",
    "\n",
    "# Table of hyperparameter value\n",
    "kernel_value = [1, 2, 3, 5, 7]\n",
    "stride_value = [1, 2, 3, 4, 5]\n",
    "padding_value = [\"valid\", \"same\"]\n",
    "nb_filter_value = [6, 16, 64, 128, 256, 512, 1024, 2048]\n",
    "fct_activation_value = [\"tanh\", \"sigmoid\", \"relu\", \"selu\"]\n",
    "nb_neurones_value = [256, 120, 84, 10, 1]\n",
    "op_value = ['avg',\"max\"]"
   ]
  },
  {
   "cell_type": "markdown",
   "metadata": {},
   "source": [
    "# Generation architectures"
   ]
  },
  {
   "cell_type": "code",
   "execution_count": 12,
   "metadata": {},
   "outputs": [],
   "source": [
    "def stop(size_archi):\n",
    "    prob = 5*size_archi\n",
    "    if ( prob < random.randrange(101)):\n",
    "        return True\n",
    "    else : return False"
   ]
  },
  {
   "cell_type": "code",
   "execution_count": 13,
   "metadata": {},
   "outputs": [],
   "source": [
    "def create_json_file(archi, file_name):\n",
    "    directory = 'architecture_json/'\n",
    "    \n",
    "    # reset file\n",
    "    archi_file = open(directory+file_name, \"w\")\n",
    "    archi_file.close()\n",
    "    \n",
    "    # create file\n",
    "    \n",
    "    archi_file = open(directory+file_name, \"a\") # Open file in writting (a --> append)\n",
    "    archi_file.write(\"\"\"[\n",
    "    \"\"\")\n",
    "    archi_size = len(archi)\n",
    "    i = 0\n",
    "    for l in archi:\n",
    "\n",
    "        str_layer = \"\"\"\\t{\n",
    "            'class':'\"\"\"\n",
    "        str_layer += l.__class__.__name__\n",
    "        str_layer +=\"\"\"',\\n\\t\\t\\t'parameters':\"\"\"\n",
    "        str_layer += str(l.to_json())\n",
    "        str_layer += \"\"\"\\n\\t\\t}\"\"\"\n",
    "        if(i < archi_size-1):\n",
    "            str_layer += \"\"\",\"\"\"\n",
    "            i+=1\n",
    "        str_layer = str_layer.replace(\"'\",\"\\\"\")\n",
    "        \n",
    "        archi_file.write(str_layer)\n",
    "        \n",
    "    archi_file.write(\"\"\"\\n]\"\"\")\n",
    "    archi_file.close()"
   ]
  },
  {
   "cell_type": "markdown",
   "metadata": {
    "scrolled": false
   },
   "source": [
    "# Creation architecture without verification"
   ]
  },
  {
   "cell_type": "code",
   "execution_count": 16,
   "metadata": {
    "scrolled": false
   },
   "outputs": [
    {
     "name": "stdout",
     "output_type": "stream",
     "text": [
      "[Flatten(), InputLayer(shape=[28, 28, 1]), Convolution(fct_activation='tanh', kernel=1, nb_filter=2048, padding='same', stride=1), Dense(fct_activation='relu', nb_neurones=10), Pooling(kernel=5, op='max', padding='valid', stride=2), Flatten(), Flatten()]\n",
      "archi_random_1.json\n",
      "\n",
      "[Dense(fct_activation='selu', nb_neurones=120), Pooling(kernel=3, op='avg', padding='valid', stride=1), InputLayer(shape=[28, 28, 1]), InputLayer(shape=[28, 28, 1]), Flatten(), Dense(fct_activation='relu', nb_neurones=84)]\n",
      "archi_random_2.json\n",
      "\n",
      "[Convolution(fct_activation='sigmoid', kernel=1, nb_filter=2048, padding='valid', stride=5), InputLayer(shape=[28, 28, 1]), Flatten(), Pooling(kernel=2, op='max', padding='same', stride=2), Flatten(), Convolution(fct_activation='relu', kernel=3, nb_filter=256, padding='valid', stride=4), Convolution(fct_activation='tanh', kernel=1, nb_filter=512, padding='valid', stride=4), Convolution(fct_activation='sigmoid', kernel=2, nb_filter=512, padding='same', stride=2)]\n",
      "archi_random_3.json\n",
      "\n",
      "[Convolution(fct_activation='relu', kernel=1, nb_filter=6, padding='same', stride=3), Convolution(fct_activation='tanh', kernel=7, nb_filter=16, padding='same', stride=2)]\n",
      "archi_random_4.json\n",
      "\n",
      "[Pooling(kernel=7, op='avg', padding='same', stride=5), Pooling(kernel=3, op='avg', padding='same', stride=3), Flatten(), Pooling(kernel=2, op='max', padding='same', stride=1), InputLayer(shape=[28, 28, 1])]\n",
      "archi_random_5.json\n",
      "\n",
      "[Flatten(), InputLayer(shape=[28, 28, 1]), Flatten(), InputLayer(shape=[28, 28, 1]), Dense(fct_activation='sigmoid', nb_neurones=1)]\n",
      "archi_random_6.json\n",
      "\n",
      "[Dense(fct_activation='relu', nb_neurones=120), Pooling(kernel=1, op='avg', padding='same', stride=3)]\n",
      "archi_random_7.json\n",
      "\n",
      "[Flatten(), Convolution(fct_activation='tanh', kernel=3, nb_filter=2048, padding='valid', stride=4), Pooling(kernel=5, op='avg', padding='valid', stride=3), Convolution(fct_activation='relu', kernel=5, nb_filter=6, padding='same', stride=2), Flatten(), Flatten(), Flatten(), Flatten(), Dense(fct_activation='selu', nb_neurones=1)]\n",
      "archi_random_8.json\n",
      "\n",
      "[InputLayer(shape=[28, 28, 1]), Dense(fct_activation='relu', nb_neurones=84), Pooling(kernel=7, op='max', padding='valid', stride=1), Dense(fct_activation='selu', nb_neurones=84)]\n",
      "archi_random_9.json\n",
      "\n",
      "[Convolution(fct_activation='sigmoid', kernel=1, nb_filter=256, padding='valid', stride=4), Dense(fct_activation='sigmoid', nb_neurones=1)]\n",
      "archi_random_10.json\n",
      "\n"
     ]
    }
   ],
   "source": [
    "for i in range (1,11):\n",
    "    architecture = list()\n",
    "    while(stop(len(architecture))):\n",
    "        layer = layers_name[random.randrange(5)]\n",
    "        # if convolution\n",
    "        if(layer == Convolution):\n",
    "            architecture.append(Convolution(\n",
    "                kernel=kernel_value[random.randrange(5)], \n",
    "                padding=padding_value[random.randrange(2)], \n",
    "                stride=stride_value[random.randrange(5)], \n",
    "                nb_filter=nb_filter_value[random.randrange(8)],\n",
    "                fct_activation=fct_activation_value[random.randrange(4)]\n",
    "            ))\n",
    "        # if input\n",
    "        elif (layer == InputLayer):\n",
    "            architecture.append(InputLayer(\n",
    "                shape=[28,28,1]\n",
    "            ))\n",
    "        elif (layer == Pooling):\n",
    "            architecture.append(Pooling(\n",
    "                op = op_value[random.randrange(2)],\n",
    "                kernel=kernel_value[random.randrange(5)], \n",
    "                padding=padding_value[random.randrange(2)], \n",
    "                stride=stride_value[random.randrange(5)]\n",
    "            ))\n",
    "        elif (layer == Dense):\n",
    "            architecture.append(Dense(\n",
    "                nb_neurones = nb_neurones_value[random.randrange(5)],\n",
    "                fct_activation=fct_activation_value[random.randrange(4)]            \n",
    "            ))\n",
    "        elif (layer == Flatten) :\n",
    "            architecture.append(Flatten())\n",
    "        else : print(\"not possible\")\n",
    "    print(architecture)\n",
    "    file_name = \"archi_random_%d.json\" % i\n",
    "    print(file_name)\n",
    "    print(\"\")\n",
    "    create_json_file(architecture, file_name)"
   ]
  },
  {
   "cell_type": "markdown",
   "metadata": {},
   "source": [
    "# Creation architecture with verification"
   ]
  },
  {
   "cell_type": "code",
   "execution_count": null,
   "metadata": {},
   "outputs": [],
   "source": [
    "def verification_order(archi, layer):\n",
    "    "
   ]
  }
 ],
 "metadata": {
  "kernelspec": {
   "display_name": "Python 3",
   "language": "python",
   "name": "python3"
  },
  "language_info": {
   "codemirror_mode": {
    "name": "ipython",
    "version": 3
   },
   "file_extension": ".py",
   "mimetype": "text/x-python",
   "name": "python",
   "nbconvert_exporter": "python",
   "pygments_lexer": "ipython3",
   "version": "3.7.9"
  },
  "latex_envs": {
   "LaTeX_envs_menu_present": true,
   "autoclose": false,
   "autocomplete": true,
   "bibliofile": "biblio.bib",
   "cite_by": "apalike",
   "current_citInitial": 1,
   "eqLabelWithNumbers": true,
   "eqNumInitial": 1,
   "hotkeys": {
    "equation": "Ctrl-E",
    "itemize": "Ctrl-I"
   },
   "labels_anchors": false,
   "latex_user_defs": false,
   "report_style_numbering": false,
   "user_envs_cfg": false
  },
  "toc": {
   "base_numbering": 1,
   "nav_menu": {},
   "number_sections": true,
   "sideBar": true,
   "skip_h1_title": false,
   "title_cell": "Table of Contents",
   "title_sidebar": "Contents",
   "toc_cell": false,
   "toc_position": {},
   "toc_section_display": true,
   "toc_window_display": false
  },
  "varInspector": {
   "cols": {
    "lenName": 16,
    "lenType": 16,
    "lenVar": 40
   },
   "kernels_config": {
    "python": {
     "delete_cmd_postfix": "",
     "delete_cmd_prefix": "del ",
     "library": "var_list.py",
     "varRefreshCmd": "print(var_dic_list())"
    },
    "r": {
     "delete_cmd_postfix": ") ",
     "delete_cmd_prefix": "rm(",
     "library": "var_list.r",
     "varRefreshCmd": "cat(var_dic_list()) "
    }
   },
   "types_to_exclude": [
    "module",
    "function",
    "builtin_function_or_method",
    "instance",
    "_Feature"
   ],
   "window_display": false
  }
 },
 "nbformat": 4,
 "nbformat_minor": 4
}
