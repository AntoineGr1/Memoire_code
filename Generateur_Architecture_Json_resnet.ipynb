{
 "cells": [
  {
   "cell_type": "code",
   "execution_count": 243,
   "metadata": {},
   "outputs": [],
   "source": [
    "from jsonobject import *\n",
    "import numpy as np \n",
    "import random\n",
    "import math\n",
    "import networkx as nx\n",
    "from networkx.readwrite import json_graph\n",
    "import matplotlib as mpl\n",
    "import matplotlib.pyplot as plt\n",
    "\n",
    "from copy import deepcopy"
   ]
  },
  {
   "cell_type": "code",
   "execution_count": 192,
   "metadata": {},
   "outputs": [],
   "source": [
    "%matplotlib inline\n",
    "plt.rcParams[\"figure.figsize\"] = [10, 10] "
   ]
  },
  {
   "cell_type": "code",
   "execution_count": 11,
   "metadata": {},
   "outputs": [],
   "source": [
    "random.seed(2021)"
   ]
  },
  {
   "cell_type": "markdown",
   "metadata": {},
   "source": [
    "# Classes"
   ]
  },
  {
   "cell_type": "code",
   "execution_count": 12,
   "metadata": {},
   "outputs": [],
   "source": [
    "# Convolution\n",
    "class Convolution(JsonObject):\n",
    "    name = StringProperty()\n",
    "    kernel = IntegerProperty()\n",
    "    padding = StringProperty()\n",
    "    stride = IntegerProperty()\n",
    "    nb_filter = IntegerProperty()\n",
    "    fct_activation = StringProperty()"
   ]
  },
  {
   "cell_type": "code",
   "execution_count": 13,
   "metadata": {},
   "outputs": [],
   "source": [
    "# Input \n",
    "class InputLayer(JsonObject):\n",
    "    name = \"I\"\n",
    "    shape = ListProperty(int)\n",
    "    #shape = StringProperty()"
   ]
  },
  {
   "cell_type": "code",
   "execution_count": 14,
   "metadata": {},
   "outputs": [],
   "source": [
    "# Pooling Avg/Max\n",
    "class Pooling(JsonObject):\n",
    "    name = StringProperty()\n",
    "    op = StringProperty()\n",
    "    kernel = IntegerProperty(default=2)\n",
    "    padding = StringProperty(default=\"'valid'\")\n",
    "    stride = IntegerProperty(default=None)"
   ]
  },
  {
   "cell_type": "code",
   "execution_count": 15,
   "metadata": {},
   "outputs": [],
   "source": [
    "# Class Flatten\n",
    "class Flatten(JsonObject):\n",
    "    name = \"F\""
   ]
  },
  {
   "cell_type": "code",
   "execution_count": 16,
   "metadata": {},
   "outputs": [],
   "source": [
    "# Dense --> Fully connected layer\n",
    "class Dense(JsonObject):\n",
    "    name = StringProperty()\n",
    "    nb_neurones =  IntegerProperty()\n",
    "    fct_activation = StringProperty()"
   ]
  },
  {
   "cell_type": "markdown",
   "metadata": {},
   "source": [
    "# Test Graph"
   ]
  },
  {
   "cell_type": "code",
   "execution_count": 17,
   "metadata": {},
   "outputs": [],
   "source": [
    "G = nx.Graph()"
   ]
  },
  {
   "cell_type": "code",
   "execution_count": 18,
   "metadata": {},
   "outputs": [],
   "source": [
    "G.add_node(\"C1\")\n",
    "G.add_node(\"C2\")\n",
    "G.add_edge(\"C1\",\"C2\")\n",
    "G.add_edge(\"C2\",\"P1\")\n",
    "G.add_edge(\"P1\",\"C3\")\n",
    "G.add_edge(\"C3\",\"C4\")\n",
    "G.add_edge(\"C2\",\"C4\")\n",
    "G.add_edge(\"C4\",\"C5\")"
   ]
  },
  {
   "cell_type": "code",
   "execution_count": 19,
   "metadata": {},
   "outputs": [
    {
     "data": {
      "image/png": "[encoded data removed]",
      "text/plain": [
       "<Figure size 432x288 with 1 Axes>"
      ]
     },
     "metadata": {},
     "output_type": "display_data"
    }
   ],
   "source": [
    "nx.draw(G, with_labels=True)\n",
    "plt.show()"
   ]
  },
  {
   "cell_type": "code",
   "execution_count": 20,
   "metadata": {},
   "outputs": [],
   "source": [
    "data = nx.node_link_data(G)"
   ]
  },
  {
   "cell_type": "code",
   "execution_count": 21,
   "metadata": {},
   "outputs": [
    {
     "data": {
      "text/plain": [
       "{'directed': False,\n",
       " 'multigraph': False,\n",
       " 'graph': {},\n",
       " 'nodes': [{'id': 'C1'},\n",
       "  {'id': 'C2'},\n",
       "  {'id': 'P1'},\n",
       "  {'id': 'C3'},\n",
       "  {'id': 'C4'},\n",
       "  {'id': 'C5'}],\n",
       " 'links': [{'source': 'C1', 'target': 'C2'},\n",
       "  {'source': 'C2', 'target': 'P1'},\n",
       "  {'source': 'C2', 'target': 'C4'},\n",
       "  {'source': 'P1', 'target': 'C3'},\n",
       "  {'source': 'C3', 'target': 'C4'},\n",
       "  {'source': 'C4', 'target': 'C5'}]}"
      ]
     },
     "execution_count": 21,
     "metadata": {},
     "output_type": "execute_result"
    }
   ],
   "source": [
    "data"
   ]
  },
  {
   "cell_type": "markdown",
   "metadata": {},
   "source": [
    "# Value"
   ]
  },
  {
   "cell_type": "code",
   "execution_count": 22,
   "metadata": {},
   "outputs": [],
   "source": [
    "layers_name = [Convolution, InputLayer, Pooling, Flatten, Dense]\n",
    "\n",
    "# Table of hyperparameter value\n",
    "kernel_value = [1, 2, 3, 4, 5, 6, 7]\n",
    "stride_value = [1, 2, 3]\n",
    "padding_value = [\"valid\", \"same\"]\n",
    "#nb_filter_value = [6, 16, 64, 128, 256, 512, 1024, 2048]\n",
    "fct_activation_value = [\"tanh\", \"relu\", \"selu\"]\n",
    "\n",
    "\n",
    "nb_class = 10 # nb_class\n",
    "op_value = ['avg',\"max\"]"
   ]
  },
  {
   "cell_type": "markdown",
   "metadata": {},
   "source": [
    "# Function"
   ]
  },
  {
   "cell_type": "code",
   "execution_count": 23,
   "metadata": {},
   "outputs": [],
   "source": [
    "def stop(size_archi, x):\n",
    "    prob = x*size_archi-1*x\n",
    "    if ( prob < random.randrange(101)):\n",
    "        return True\n",
    "    else : return False"
   ]
  },
  {
   "cell_type": "code",
   "execution_count": 229,
   "metadata": {},
   "outputs": [],
   "source": [
    "def create_json_file(archi, graph_json, file_name):\n",
    "    directory = 'architecture_json/'\n",
    "    \n",
    "    # reset file\n",
    "    archi_file = open(directory+file_name, \"w\")\n",
    "    archi_file.close()\n",
    "    \n",
    "    # create file\n",
    "    \n",
    "    # open file\n",
    "    archi_file = open(directory+file_name, \"a\")\n",
    "    \n",
    "    archi_file.write(\"\"\"[{\n",
    "    \"\"\")\n",
    "    \n",
    "    archi_file.write(\"\"\"\\t\"graph\":\"\"\")\n",
    "    archi_file.write(json.dumps(graph_json))\n",
    "    archi_file.write(\"\"\",\"\"\")\n",
    "    archi_file.write(\"\"\"\n",
    "    \\t\"archi\":[\n",
    "    \"\"\")\n",
    "    \n",
    "    archi_size = len(archi)\n",
    "    i = 0\n",
    "    for l in archi:\n",
    "\n",
    "        str_layer = \"\"\"\\t{\n",
    "            'class':'\"\"\"\n",
    "        str_layer += l.__class__.__name__\n",
    "        str_layer +=\"\"\"',\\n\\t\\t\\t'parameters':\"\"\"\n",
    "        str_layer += str(l.to_json())\n",
    "        str_layer += \"\"\"\\n\\t\\t}\"\"\"\n",
    "        if(i < archi_size-1):\n",
    "            str_layer += \"\"\",\"\"\"\n",
    "            i+=1\n",
    "        str_layer = str_layer.replace(\"'\",\"\\\"\")\n",
    "        \n",
    "        archi_file.write(str_layer)\n",
    "        \n",
    "    archi_file.write(\"\"\"\\n]}]\"\"\")\n",
    "    archi_file.close()"
   ]
  },
  {
   "cell_type": "code",
   "execution_count": 114,
   "metadata": {},
   "outputs": [],
   "source": [
    "def add_edge(G, archi, layer):\n",
    "    list_nodes = list(G.nodes)\n",
    "    if (len(list_nodes) > 0):\n",
    "        G.add_edge(list_nodes[len(list_nodes)-1], layer['name'])\n",
    "    else: \n",
    "        G.add_edge(archi[len(archi)-2]['name'], layer['name'])\n",
    "    return G"
   ]
  },
  {
   "cell_type": "code",
   "execution_count": 115,
   "metadata": {},
   "outputs": [],
   "source": [
    "# compute the output \n",
    "# valid vs same\n",
    "def calcul_output(input_size, l):\n",
    "    output_size = 0\n",
    "    if(l.padding == \"valid\"):\n",
    "        kernel = l.kernel\n",
    "        stride = l.stride\n",
    "        while(input_size>=kernel):\n",
    "            input_size -= stride\n",
    "            output_size += 1   \n",
    "    else:\n",
    "        stride = l.stride\n",
    "        if(input_size%stride == 0):\n",
    "            output_size = int(input_size/stride)\n",
    "        else:\n",
    "            output_size = int(input_size/stride)+1\n",
    "    return output_size"
   ]
  },
  {
   "cell_type": "code",
   "execution_count": 116,
   "metadata": {},
   "outputs": [],
   "source": [
    "# add layer to architecture \n",
    "\n",
    "def addLayer(archi, layer):\n",
    "    input_size = archi[0].shape[0]\n",
    "    feature_extra = archi[1:]\n",
    "    \n",
    "    # add layer if the architecture is empty\n",
    "    if(feature_extra == []):\n",
    "        archi.append(layer)\n",
    "        return 1, archi, calcul_output(input_size,layer)\n",
    "    \n",
    "    else :\n",
    "        # compute size of the output of the last layer\n",
    "        for l in feature_extra: \n",
    "            output_size = calcul_output(input_size, l)\n",
    "            input_size = output_size\n",
    "        \n",
    "        # if we couldn't reduce more\n",
    "        if(input_size == 1):\n",
    "            return 0, archi, input_size\n",
    "        \n",
    "        # if the output size got more than 1 we can add new layer\n",
    "        elif(output_size > 1): \n",
    "            output_size = calcul_output(input_size, layer)\n",
    "            \n",
    "            # if output size got negate is that the layer we want to add is wrong\n",
    "            if(output_size < 1 ):\n",
    "                return -1, archi, input_size\n",
    "            # if output size is bigger than 0 we can add new layer and continue\n",
    "            elif(output_size > 0):\n",
    "                archi.append(layer)\n",
    "                return 1, archi, output_size\n",
    "            # this should not append\n",
    "            else:\n",
    "                return \"Somethink wrong\"\n",
    "    # this should not append\n",
    "    return \"Error\""
   ]
  },
  {
   "cell_type": "code",
   "execution_count": 251,
   "metadata": {},
   "outputs": [],
   "source": [
    "def add_identity_block(archi, G, kernel, nb_layer, filters, nb_conv, padding, nb_add ):\n",
    "    output = 0\n",
    "    \n",
    "    for i in range(0,nb_layer):\n",
    "        conv = Convolution(\n",
    "                name=\"C\"+str(nb_conv),\n",
    "                kernel=kernel[i], \n",
    "                padding=padding[i], \n",
    "                stride=1, \n",
    "                nb_filter= filters[i],\n",
    "                fct_activation=fct_activation_value[random.randrange(3)]\n",
    "            )\n",
    "        code, archi, output = addLayer(archi, conv)\n",
    "        G = add_edge(G, archi, conv)\n",
    "        nb_conv+=1\n",
    "    \n",
    "    next_add = \"add\"+str(nb_add)\n",
    "    prev_add = \"add\" +str(nb_add-1)\n",
    "    if(nb_add == 1):\n",
    "        G.add_edge(archi[len(archi)-(1+nb_layer)]['name'], next_add) # skip\n",
    "        G.add_edge(archi[len(archi)-1]['name'], next_add) # merge with the last\n",
    "    else:\n",
    "        G.add_edge(prev_add, next_add) # skip\n",
    "        G.add_edge(archi[len(archi)-1]['name'], next_add) # merge with the last\n",
    "    return archi, G, nb_conv, output\n",
    "    "
   ]
  },
  {
   "cell_type": "code",
   "execution_count": 244,
   "metadata": {},
   "outputs": [],
   "source": [
    "def add_conv_block(archi, G, kernel, nb_layer, filters, nb_conv, padding, stride, nb_add):\n",
    "    output = 0\n",
    "    for i in range(0,nb_layer):\n",
    "        conv = Convolution(\n",
    "                name=\"C\"+str(nb_conv),\n",
    "                kernel=kernel[i], \n",
    "                padding=padding[i], \n",
    "                stride=stride[i], \n",
    "                nb_filter= filters[i],\n",
    "                fct_activation=fct_activation_value[random.randrange(3)]\n",
    "            )\n",
    "        code, archi, output = addLayer(archi, conv)\n",
    "        G = add_edge(G, archi, conv)\n",
    "        nb_conv+=1\n",
    "    \n",
    "    next_add = \"add\"+str(nb_add)\n",
    "    prev_add = \"add\"+str(nb_add-1)\n",
    "    \n",
    "    \n",
    "    conv_res = deepcopy(archi[len(archi)-(1+nb_layer)])\n",
    "    conv_res['name'] = \"C\"+str(nb_conv)\n",
    "    \n",
    "    archi.append(conv_res)\n",
    "    \n",
    "    G.add_edge(prev_add, conv_res['name'])\n",
    "    \n",
    "    G.add_edge(archi[len(archi)-2]['name'], next_add) # merge with the last\n",
    "    G.add_edge(conv_res['name'], next_add) # skip\n",
    "    nb_conv +=1\n",
    "        \n",
    "    return archi, G, nb_conv, output"
   ]
  },
  {
   "cell_type": "markdown",
   "metadata": {},
   "source": [
    "# Creation d'architecture"
   ]
  },
  {
   "cell_type": "code",
   "execution_count": 248,
   "metadata": {},
   "outputs": [
    {
     "name": "stdout",
     "output_type": "stream",
     "text": [
      "Convolution(fct_activation='selu', kernel=1, name='C2', nb_filter=36, padding='same', stride=1)\n",
      "Convolution(fct_activation='selu', kernel=3, name='C3', nb_filter=36, padding='same', stride=1)\n",
      "Convolution(fct_activation='relu', kernel=1, name='C7', nb_filter=144, padding='same', stride=1)\n",
      "Convolution(fct_activation='relu', kernel=3, name='C8', nb_filter=144, padding='same', stride=1)\n",
      "output size : 2\n",
      "nb_filter : 144\n",
      "code: 1\n",
      "param : 576\n",
      "nb_neurone : 74\n",
      "=====\n",
      "iteration0\n",
      "nb_neurone : 74\n",
      "=====\n",
      "iteration1\n",
      "nb_neurone : 12\n",
      "[InputLayer(name='I', shape=[32, 32, 3]), Convolution(fct_activation='selu', kernel=7, name='C1', nb_filter=18, padding='valid', stride=2), Pooling(kernel=3, name='P1', op='avg', padding='valid', stride=2), Convolution(fct_activation='selu', kernel=1, name='C2', nb_filter=36, padding='same', stride=1), Convolution(fct_activation='selu', kernel=3, name='C3', nb_filter=36, padding='same', stride=1), Convolution(fct_activation='selu', kernel=1, name='C4', nb_filter=72, padding='same', stride=2), Convolution(fct_activation='relu', kernel=3, name='C5', nb_filter=72, padding='same', stride=1), Convolution(fct_activation='selu', kernel=3, name='C6', nb_filter=36, padding='same', stride=1), Convolution(fct_activation='relu', kernel=1, name='C7', nb_filter=144, padding='same', stride=1), Convolution(fct_activation='relu', kernel=3, name='C8', nb_filter=144, padding='same', stride=1), Convolution(fct_activation='selu', kernel=1, name='C9', nb_filter=288, padding='same', stride=2), Convolution(fct_activation='tanh', kernel=3, name='C10', nb_filter=288, padding='same', stride=1), Convolution(fct_activation='relu', kernel=3, name='C11', nb_filter=144, padding='same', stride=1), Flatten(name='F'), Dense(fct_activation='tanh', name='D1', nb_neurones=74), Dense(fct_activation='relu', name='D2', nb_neurones=12), Dense(fct_activation='softmax', name='D3', nb_neurones=10)]\n",
      "archi_resnet_test.json\n",
      "\n"
     ]
    }
   ],
   "source": [
    "# init\n",
    "extraction_feature= [Pooling, Convolution]\n",
    "nb_conv = 1\n",
    "nb_pooling = 1\n",
    "nb_dense = 1\n",
    "nb_add = 0\n",
    "\n",
    "architecture = list() # init architecture\n",
    "G = nx.DiGraph() # init graph\n",
    "\n",
    "nb_filter_value = 6*3 # init nb feature map\n",
    "output_size = 32 \n",
    "\n",
    "# add input Layer\n",
    "architecture.append(InputLayer(shape=[32,32,3]))\n",
    "\n",
    "\n",
    "# add extraction feature (succession of Pooling/convolution)\n",
    "# Pooling can't be follow by a Pooling\n",
    "pooling = True\n",
    "code = 1 # we can add new layer\n",
    "j = 2\n",
    "\n",
    "kernel = 3\n",
    "\n",
    "# add first conv\n",
    "\n",
    "add_layer = Convolution(\n",
    "    name=\"C\"+str(nb_conv),\n",
    "    kernel=7, \n",
    "    padding=padding_value[random.randrange(2)], \n",
    "    stride=2, \n",
    "    nb_filter= nb_filter_value,\n",
    "    fct_activation=fct_activation_value[random.randrange(3)]\n",
    ")\n",
    "\n",
    "code, architecture, output_size = addLayer(architecture, add_layer)\n",
    "nb_filter_value = nb_filter_value*j\n",
    "G = add_edge(G, architecture, add_layer)\n",
    "nb_conv += 1\n",
    "\n",
    "\n",
    "# add first pooling\n",
    "\n",
    "add_layer = Pooling(\n",
    "    name=\"P\"+str(nb_pooling),\n",
    "    op = op_value[random.randrange(2)],\n",
    "    kernel=kernel, \n",
    "    padding=padding_value[random.randrange(2)], \n",
    "    stride=2\n",
    ")\n",
    "\n",
    "code, architecture, output_size = addLayer(architecture, add_layer)\n",
    "G = add_edge(G, architecture, add_layer)\n",
    "nb_pooling += 1\n",
    "\n",
    "# add identity layer\n",
    "nb_add += 1\n",
    "architecture, G, nb_conv, output_size = add_identity_block(architecture, G, [1,kernel], 2,\n",
    "                                                           [nb_filter_value,nb_filter_value], \n",
    "                                                           nb_conv, [\"same\",\"same\"], nb_add)\n",
    "nb_filter_value = nb_filter_value*j\n",
    "\n",
    "G.add_edge(\"add\"+str(nb_add), (\"C\"+str(nb_conv)))\n",
    "\n",
    "# add conv layer\n",
    "nb_add += 1\n",
    "architecture, G, nb_conv, output_size = add_conv_block(architecture, G, [1,kernel], 2, \n",
    "                                                       [nb_filter_value, nb_filter_value], \n",
    "                                                       nb_conv, [\"same\",\"same\"], [2,1], nb_add)\n",
    "nb_filter_value = nb_filter_value*j\n",
    "\n",
    "G.add_edge(\"add\"+str(nb_add), (\"C\"+str(nb_conv)))\n",
    "\n",
    "# add identity layer\n",
    "nb_add += 1\n",
    "architecture, G, nb_conv, output_size = add_identity_block(architecture, G, [1,kernel], 2,\n",
    "                                                           [nb_filter_value,nb_filter_value], \n",
    "                                                           nb_conv, [\"same\",\"same\"], nb_add)\n",
    "nb_filter_value = nb_filter_value*j\n",
    "    \n",
    "G.add_edge(\"add\"+str(nb_add), (\"C\"+str(nb_conv)))\n",
    "\n",
    "# add conv layer\n",
    "nb_add += 1\n",
    "architecture, G, nb_conv, output_size = add_conv_block(architecture, G, [1,kernel], 2, \n",
    "                                                       [nb_filter_value, nb_filter_value], \n",
    "                                                       nb_conv, [\"same\",\"same\"], [2,1], nb_add)\n",
    "\n",
    "\n",
    "\n",
    "\n",
    "\n",
    "try:\n",
    "    nb_filter_value = architecture[len(architecture-1)-1]['nb_filter']\n",
    "except:\n",
    "    nb_filter_value = int(nb_filter_value/2)\n",
    "\n",
    "print(\"output size : \" + str(output_size))\n",
    "print(\"nb_filter : \" + str(nb_filter_value))\n",
    "print(\"code: \" + str(code))\n",
    "\n",
    "\n",
    "f = Flatten()\n",
    "architecture.append(f)\n",
    "G.add_edge(\"add\"+str(nb_add), f['name'])\n",
    "\n",
    "# add dense Layer\n",
    "\n",
    "param = output_size*output_size*(nb_filter_value)\n",
    "print('param : ' + str(param))\n",
    "\n",
    "\n",
    "## init values\n",
    "pourcent = random.uniform(10,90)\n",
    "nb=0\n",
    "nb_neurones = int(param*pourcent/100)\n",
    "    \n",
    "print(\"nb_neurone : \" + str(nb_neurones))\n",
    "while(nb_neurones > nb_class):\n",
    "    print(\"=====\")\n",
    "    print(\"iteration\" + str(nb))\n",
    "    print(\"nb_neurone : \" + str(nb_neurones))\n",
    "    \n",
    "    dense = Dense(\n",
    "        name = \"D\" + str(nb_dense),\n",
    "        nb_neurones = nb_neurones,\n",
    "        fct_activation = fct_activation_value[random.randrange(3)]\n",
    "    )\n",
    "    architecture.append(dense)\n",
    "    G = add_edge(G, architecture, dense)\n",
    "    \n",
    "        \n",
    "    #incrementation\n",
    "    nb_dense += 1\n",
    "    pourcent = random.uniform(10,90)\n",
    "    nb+=1\n",
    "    nb_neurones = int(nb_neurones*pourcent/100)\n",
    "\n",
    "\n",
    "last_dense = Dense(\n",
    "    name = \"D\" + str(nb_dense),\n",
    "    nb_neurones = nb_class,\n",
    "    fct_activation=\"softmax\"           \n",
    ")\n",
    "\n",
    "\n",
    "architecture.append(last_dense)\n",
    "\n",
    "G = add_edge(G, architecture, last_dense)\n",
    "\n",
    "                        \n",
    "# print architecture\n",
    "print(architecture)\n",
    "\n",
    "# create file\n",
    "file_name = \"archi_resnet_test.json\"\n",
    "print(file_name)\n",
    "print(\"\")\n",
    "create_json_file(architecture, nx.node_link_data(G), file_name)\n",
    "\n",
    "    \n",
    "    \n",
    "      "
   ]
  },
  {
   "cell_type": "code",
   "execution_count": 249,
   "metadata": {},
   "outputs": [
    {
     "data": {
      "image/png": "[encoded data removed]",
      "text/plain": [
       "<Figure size 720x720 with 1 Axes>"
      ]
     },
     "metadata": {},
     "output_type": "display_data"
    }
   ],
   "source": [
    "nx.draw_kamada_kawai(G,with_labels=True)"
   ]
  },
  {
   "cell_type": "code",
   "execution_count": 250,
   "metadata": {},
   "outputs": [
    {
     "data": {
      "text/plain": [
       "{'directed': True,\n",
       " 'multigraph': False,\n",
       " 'graph': {},\n",
       " 'nodes': [{'id': 'I'},\n",
       "  {'id': 'C1'},\n",
       "  {'id': 'P1'},\n",
       "  {'id': 'C2'},\n",
       "  {'id': 'C3'},\n",
       "  {'id': 'add1'},\n",
       "  {'id': 'C4'},\n",
       "  {'id': 'C5'},\n",
       "  {'id': 'C6'},\n",
       "  {'id': 'add2'},\n",
       "  {'id': 'C7'},\n",
       "  {'id': 'C8'},\n",
       "  {'id': 'add3'},\n",
       "  {'id': 'C9'},\n",
       "  {'id': 'C10'},\n",
       "  {'id': 'C11'},\n",
       "  {'id': 'add4'},\n",
       "  {'id': 'F'},\n",
       "  {'id': 'D1'},\n",
       "  {'id': 'D2'},\n",
       "  {'id': 'D3'}],\n",
       " 'links': [{'source': 'I', 'target': 'C1'},\n",
       "  {'source': 'C1', 'target': 'P1'},\n",
       "  {'source': 'P1', 'target': 'C2'},\n",
       "  {'source': 'P1', 'target': 'add1'},\n",
       "  {'source': 'C2', 'target': 'C3'},\n",
       "  {'source': 'C3', 'target': 'add1'},\n",
       "  {'source': 'add1', 'target': 'C4'},\n",
       "  {'source': 'add1', 'target': 'C6'},\n",
       "  {'source': 'C4', 'target': 'C4'},\n",
       "  {'source': 'C4', 'target': 'C5'},\n",
       "  {'source': 'C5', 'target': 'add2'},\n",
       "  {'source': 'C6', 'target': 'add2'},\n",
       "  {'source': 'add2', 'target': 'C7'},\n",
       "  {'source': 'add2', 'target': 'add3'},\n",
       "  {'source': 'C7', 'target': 'C7'},\n",
       "  {'source': 'C7', 'target': 'C8'},\n",
       "  {'source': 'C8', 'target': 'add3'},\n",
       "  {'source': 'add3', 'target': 'C9'},\n",
       "  {'source': 'add3', 'target': 'C11'},\n",
       "  {'source': 'C9', 'target': 'C9'},\n",
       "  {'source': 'C9', 'target': 'C10'},\n",
       "  {'source': 'C10', 'target': 'add4'},\n",
       "  {'source': 'C11', 'target': 'add4'},\n",
       "  {'source': 'add4', 'target': 'F'},\n",
       "  {'source': 'F', 'target': 'D1'},\n",
       "  {'source': 'D1', 'target': 'D2'},\n",
       "  {'source': 'D2', 'target': 'D3'}]}"
      ]
     },
     "execution_count": 250,
     "metadata": {},
     "output_type": "execute_result"
    }
   ],
   "source": [
    "nx.node_link_data(G)"
   ]
  },
  {
   "cell_type": "code",
   "execution_count": 252,
   "metadata": {},
   "outputs": [
    {
     "data": {
      "text/plain": [
       "NodeView(('I', 'C1', 'P1', 'C2', 'C3', 'add1', 'C4', 'C5', 'C6', 'add2', 'C7', 'C8', 'add3', 'C9', 'C10', 'C11', 'add4', 'F', 'D1', 'D2', 'D3'))"
      ]
     },
     "execution_count": 252,
     "metadata": {},
     "output_type": "execute_result"
    }
   ],
   "source": [
    "G.nodes"
   ]
  },
  {
   "cell_type": "code",
   "execution_count": null,
   "metadata": {},
   "outputs": [],
   "source": []
  },
  {
   "cell_type": "code",
   "execution_count": null,
   "metadata": {},
   "outputs": [],
   "source": []
  }
 ],
 "metadata": {
  "kernelspec": {
   "display_name": "Python 3",
   "language": "python",
   "name": "python3"
  },
  "language_info": {
   "codemirror_mode": {
    "name": "ipython",
    "version": 3
   },
   "file_extension": ".py",
   "mimetype": "text/x-python",
   "name": "python",
   "nbconvert_exporter": "python",
   "pygments_lexer": "ipython3",
   "version": "3.7.9"
  },
  "latex_envs": {
   "LaTeX_envs_menu_present": true,
   "autoclose": false,
   "autocomplete": true,
   "bibliofile": "biblio.bib",
   "cite_by": "apalike",
   "current_citInitial": 1,
   "eqLabelWithNumbers": true,
   "eqNumInitial": 1,
   "hotkeys": {
    "equation": "Ctrl-E",
    "itemize": "Ctrl-I"
   },
   "labels_anchors": false,
   "latex_user_defs": false,
   "report_style_numbering": false,
   "user_envs_cfg": false
  },
  "toc": {
   "base_numbering": 1,
   "nav_menu": {},
   "number_sections": true,
   "sideBar": true,
   "skip_h1_title": false,
   "title_cell": "Table of Contents",
   "title_sidebar": "Contents",
   "toc_cell": false,
   "toc_position": {},
   "toc_section_display": true,
   "toc_window_display": false
  },
  "varInspector": {
   "cols": {
    "lenName": 16,
    "lenType": 16,
    "lenVar": 40
   },
   "kernels_config": {
    "python": {
     "delete_cmd_postfix": "",
     "delete_cmd_prefix": "del ",
     "library": "var_list.py",
     "varRefreshCmd": "print(var_dic_list())"
    },
    "r": {
     "delete_cmd_postfix": ") ",
     "delete_cmd_prefix": "rm(",
     "library": "var_list.r",
     "varRefreshCmd": "cat(var_dic_list()) "
    }
   },
   "types_to_exclude": [
    "module",
    "function",
    "builtin_function_or_method",
    "instance",
    "_Feature"
   ],
   "window_display": false
  }
 },
 "nbformat": 4,
 "nbformat_minor": 4
}
