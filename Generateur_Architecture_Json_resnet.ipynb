{
 "cells": [
  {
   "cell_type": "code",
   "execution_count": 2,
   "metadata": {},
   "outputs": [],
   "source": [
    "from jsonobject import *\n",
    "import numpy as np \n",
    "import random\n",
    "import math\n",
    "import networkx as nx\n",
    "from networkx.readwrite import json_graph\n",
    "import matplotlib as mpl\n",
    "import matplotlib.pyplot as plt\n",
    "\n",
    "from copy import deepcopy"
   ]
  },
  {
   "cell_type": "code",
   "execution_count": 3,
   "metadata": {},
   "outputs": [],
   "source": [
    "%matplotlib inline\n",
    "plt.rcParams[\"figure.figsize\"] = [10, 10] "
   ]
  },
  {
   "cell_type": "code",
   "execution_count": 4,
   "metadata": {},
   "outputs": [],
   "source": [
    "random.seed(2021)"
   ]
  },
  {
   "cell_type": "markdown",
   "metadata": {},
   "source": [
    "# Classes"
   ]
  },
  {
   "cell_type": "code",
   "execution_count": 5,
   "metadata": {},
   "outputs": [],
   "source": [
    "# Convolution\n",
    "class Convolution(JsonObject):\n",
    "    kernel = IntegerProperty()\n",
    "    padding = StringProperty()\n",
    "    stride = IntegerProperty()\n",
    "    nb_filter = IntegerProperty()\n",
    "    fct_activation = StringProperty()"
   ]
  },
  {
   "cell_type": "code",
   "execution_count": 6,
   "metadata": {},
   "outputs": [],
   "source": [
    "# Input \n",
    "class InputLayer(JsonObject):\n",
    "    shape = ListProperty(int)\n",
    "    #shape = StringProperty()"
   ]
  },
  {
   "cell_type": "code",
   "execution_count": 7,
   "metadata": {},
   "outputs": [],
   "source": [
    "# Pooling Avg/Max\n",
    "class Pooling(JsonObject):\n",
    "    op = StringProperty()\n",
    "    kernel = IntegerProperty(default=2)\n",
    "    padding = StringProperty(default=\"'valid'\")\n",
    "    stride = IntegerProperty(default=None)"
   ]
  },
  {
   "cell_type": "code",
   "execution_count": 8,
   "metadata": {},
   "outputs": [],
   "source": [
    "# Class Flatten\n",
    "class Flatten(JsonObject):\n",
    "    pass"
   ]
  },
  {
   "cell_type": "code",
   "execution_count": 9,
   "metadata": {},
   "outputs": [],
   "source": [
    "# Dense --> Fully connected layer\n",
    "class Dense(JsonObject):\n",
    "    nb_neurones =  IntegerProperty()\n",
    "    fct_activation = StringProperty()"
   ]
  },
  {
   "cell_type": "code",
   "execution_count": 10,
   "metadata": {},
   "outputs": [],
   "source": [
    "# identity block \n",
    "class IdBlock(JsonObject):\n",
    "    kernel = IntegerProperty()\n",
    "    padding = StringProperty()\n",
    "    nb_filter = IntegerProperty()\n",
    "    stride = 1"
   ]
  },
  {
   "cell_type": "code",
   "execution_count": 11,
   "metadata": {},
   "outputs": [],
   "source": [
    "# convolution block\n",
    "class ConvBlock(JsonObject):\n",
    "    kernel = IntegerProperty()\n",
    "    nb_filter = IntegerProperty()\n",
    "    padding = StringProperty()\n",
    "    stride = IntegerProperty()"
   ]
  },
  {
   "cell_type": "markdown",
   "metadata": {},
   "source": [
    "# Test Graph\n",
    "note : graph overkill"
   ]
  },
  {
   "cell_type": "code",
   "execution_count": 12,
   "metadata": {},
   "outputs": [],
   "source": [
    "G = nx.Graph()"
   ]
  },
  {
   "cell_type": "code",
   "execution_count": 13,
   "metadata": {},
   "outputs": [],
   "source": [
    "G.add_node(\"C1\")\n",
    "G.add_node(\"C2\")\n",
    "G.add_edge(\"C1\",\"C2\")\n",
    "G.add_edge(\"C2\",\"P1\")\n",
    "G.add_edge(\"P1\",\"C3\")\n",
    "G.add_edge(\"C3\",\"C4\")\n",
    "G.add_edge(\"C2\",\"C4\")\n",
    "G.add_edge(\"C4\",\"C5\")"
   ]
  },
  {
   "cell_type": "code",
   "execution_count": 14,
   "metadata": {},
   "outputs": [
    {
     "data": {
      "image/png": "[encoded data removed]",
      "text/plain": [
       "<Figure size 720x720 with 1 Axes>"
      ]
     },
     "metadata": {},
     "output_type": "display_data"
    }
   ],
   "source": [
    "nx.draw(G, with_labels=True)\n",
    "plt.show()"
   ]
  },
  {
   "cell_type": "code",
   "execution_count": 15,
   "metadata": {},
   "outputs": [],
   "source": [
    "data = nx.node_link_data(G)"
   ]
  },
  {
   "cell_type": "code",
   "execution_count": 16,
   "metadata": {},
   "outputs": [
    {
     "data": {
      "text/plain": [
       "{'directed': False,\n",
       " 'multigraph': False,\n",
       " 'graph': {},\n",
       " 'nodes': [{'id': 'C1'},\n",
       "  {'id': 'C2'},\n",
       "  {'id': 'P1'},\n",
       "  {'id': 'C3'},\n",
       "  {'id': 'C4'},\n",
       "  {'id': 'C5'}],\n",
       " 'links': [{'source': 'C1', 'target': 'C2'},\n",
       "  {'source': 'C2', 'target': 'P1'},\n",
       "  {'source': 'C2', 'target': 'C4'},\n",
       "  {'source': 'P1', 'target': 'C3'},\n",
       "  {'source': 'C3', 'target': 'C4'},\n",
       "  {'source': 'C4', 'target': 'C5'}]}"
      ]
     },
     "execution_count": 16,
     "metadata": {},
     "output_type": "execute_result"
    }
   ],
   "source": [
    "data"
   ]
  },
  {
   "cell_type": "markdown",
   "metadata": {},
   "source": [
    "# Value"
   ]
  },
  {
   "cell_type": "code",
   "execution_count": 72,
   "metadata": {},
   "outputs": [],
   "source": [
    "layers_name = [Convolution, InputLayer, Pooling, Flatten, Dense]\n",
    "\n",
    "# Table of hyperparameter value\n",
    "kernel_value = [2, 3, 4, 5, 6, 7]\n",
    "stride_value = [1, 2, 3, 4, 5, 6, 7]\n",
    "padding_value = [\"valid\", \"same\"]\n",
    "fct_activation_value = [\"tanh\", \"relu\", \"selu\"]\n",
    "\n",
    "\n",
    "nb_class = 10 # nb_class\n",
    "op_value = ['avg',\"max\"]"
   ]
  },
  {
   "cell_type": "markdown",
   "metadata": {},
   "source": [
    "# Function"
   ]
  },
  {
   "cell_type": "code",
   "execution_count": 18,
   "metadata": {},
   "outputs": [],
   "source": [
    "def stop(size_archi, x):\n",
    "    prob = (math.log(2*size_archi)*x)-(2*x)\n",
    "    if ( prob < random.randrange(101)):\n",
    "        return True\n",
    "    else : return False"
   ]
  },
  {
   "cell_type": "code",
   "execution_count": 19,
   "metadata": {},
   "outputs": [],
   "source": [
    "def create_json_file(archi, file_name):\n",
    "    directory = 'architecture_json/'\n",
    "    \n",
    "    # reset file\n",
    "    archi_file = open(directory+file_name, \"w\")\n",
    "    archi_file.close()\n",
    "    \n",
    "    # create file\n",
    "    \n",
    "    # open file\n",
    "    archi_file = open(directory+file_name, \"a\")\n",
    "    \n",
    "    archi_file.write(\"\"\"[\n",
    "    \"\"\")\n",
    "    \n",
    "    archi_size = len(archi)\n",
    "    i = 0\n",
    "    for l in archi:\n",
    "\n",
    "        str_layer = \"\"\"\\t{\n",
    "            'class':'\"\"\"\n",
    "        str_layer += l.__class__.__name__\n",
    "        str_layer +=\"\"\"',\\n\\t\\t\\t'parameters':\"\"\"\n",
    "        str_layer += str(l.to_json())\n",
    "        str_layer += \"\"\"\\n\\t\\t}\"\"\"\n",
    "        if(i < archi_size-1):\n",
    "            str_layer += \"\"\",\"\"\"\n",
    "            i+=1\n",
    "        str_layer = str_layer.replace(\"'\",\"\\\"\")\n",
    "        \n",
    "        archi_file.write(str_layer)\n",
    "        \n",
    "    archi_file.write(\"\"\"\\n]\"\"\")\n",
    "    archi_file.close()"
   ]
  },
  {
   "cell_type": "code",
   "execution_count": 20,
   "metadata": {},
   "outputs": [],
   "source": [
    "# compute the output \n",
    "# valid vs same\n",
    "def calcul_output(input_size, l):\n",
    "    output_size = 0\n",
    "    if(l.padding == \"valid\"):\n",
    "        kernel = l.kernel\n",
    "        stride = l.stride\n",
    "        while(input_size>=kernel):\n",
    "            input_size -= stride\n",
    "            output_size += 1   \n",
    "    else:\n",
    "        stride = l.stride\n",
    "        if(input_size%stride == 0):\n",
    "            output_size = int(input_size/stride)\n",
    "        else:\n",
    "            output_size = int(input_size/stride)+1\n",
    "    return output_size"
   ]
  },
  {
   "cell_type": "code",
   "execution_count": 21,
   "metadata": {},
   "outputs": [],
   "source": [
    "# add layer to architecture \n",
    "\n",
    "def addLayer(archi, layer):\n",
    "    input_size = archi[0].shape[0]\n",
    "    feature_extra = archi[1:]\n",
    "    \n",
    "    # add layer if the architecture is empty\n",
    "    if(feature_extra == []):\n",
    "        archi.append(layer)\n",
    "        return 1, archi, calcul_output(input_size,layer)\n",
    "    \n",
    "    else :\n",
    "        # compute size of the output of the last layer\n",
    "        for l in feature_extra: \n",
    "            output_size = calcul_output(input_size, l)\n",
    "            input_size = output_size\n",
    "        \n",
    "        # if we couldn't reduce more\n",
    "        if(input_size == 1):\n",
    "            return 0, archi, input_size\n",
    "        \n",
    "        # if the output size got more than 1 we can add new layer\n",
    "        elif(output_size > 1): \n",
    "            output_size = calcul_output(input_size, layer)\n",
    "            \n",
    "            # if output size got negate is that the layer we want to add is wrong\n",
    "            if(output_size < 1 ):\n",
    "                return -1, archi, input_size\n",
    "            # if output size is bigger than 0 we can add new layer and continue\n",
    "            elif(output_size > 0):\n",
    "                archi.append(layer)\n",
    "                return 1, archi, output_size\n",
    "            # this should not append\n",
    "            else:\n",
    "                return \"Somethink wrong\"\n",
    "    # this should not append\n",
    "    return \"Error\""
   ]
  },
  {
   "cell_type": "markdown",
   "metadata": {},
   "source": [
    "# Creation d'architecture"
   ]
  },
  {
   "cell_type": "code",
   "execution_count": 83,
   "metadata": {
    "scrolled": false
   },
   "outputs": [
    {
     "name": "stdout",
     "output_type": "stream",
     "text": [
      "output size : 1\n",
      "nb_filter : 72\n",
      "code: 0\n",
      "param : 72\n",
      "[InputLayer(shape=[32, 32, 3]), Convolution(fct_activation='tanh', kernel=7, nb_filter=18, padding='valid', stride=2), Pooling(kernel=2, op='avg', padding='valid', stride=2), IdBlock(kernel=6, nb_filter=18, padding='same', stride=1), ConvBlock(kernel=3, nb_filter=36, padding='same', stride=3), IdBlock(kernel=6, nb_filter=36, padding='same', stride=1), ConvBlock(kernel=4, nb_filter=72, padding='same', stride=4), Flatten(), Dense(fct_activation='softmax', nb_neurones=10)]\n",
      "archi_resnet_1.json\n",
      "\n",
      "\n",
      "output size : 1\n",
      "nb_filter : 288\n",
      "code: 0\n",
      "param : 288\n",
      "=====\n",
      "iteration0\n",
      "nb_neurone : 166\n",
      "[InputLayer(shape=[32, 32, 3]), Convolution(fct_activation='tanh', kernel=3, nb_filter=18, padding='valid', stride=2), Pooling(kernel=3, op='avg', padding='same', stride=3), IdBlock(kernel=5, nb_filter=18, padding='same', stride=1), IdBlock(kernel=5, nb_filter=18, padding='same', stride=1), IdBlock(kernel=6, nb_filter=18, padding='same', stride=1), ConvBlock(kernel=7, nb_filter=36, padding='same', stride=4), ConvBlock(kernel=3, nb_filter=72, padding='same', stride=1), ConvBlock(kernel=5, nb_filter=144, padding='same', stride=1), ConvBlock(kernel=4, nb_filter=288, padding='same', stride=2), Flatten(), Dense(fct_activation='tanh', nb_neurones=166), Dense(fct_activation='softmax', nb_neurones=10)]\n",
      "archi_resnet_2.json\n",
      "\n",
      "\n",
      "output size : 1\n",
      "nb_filter : 288\n",
      "code: 0\n",
      "param : 288\n",
      "=====\n",
      "iteration0\n",
      "nb_neurone : 230\n",
      "[InputLayer(shape=[32, 32, 3]), Convolution(fct_activation='relu', kernel=5, nb_filter=18, padding='same', stride=4), Pooling(kernel=2, op='max', padding='same', stride=1), ConvBlock(kernel=6, nb_filter=36, padding='same', stride=2), IdBlock(kernel=2, nb_filter=36, padding='same', stride=1), IdBlock(kernel=7, nb_filter=36, padding='same', stride=1), IdBlock(kernel=4, nb_filter=36, padding='same', stride=1), IdBlock(kernel=2, nb_filter=36, padding='same', stride=1), ConvBlock(kernel=7, nb_filter=72, padding='same', stride=3), IdBlock(kernel=7, nb_filter=72, padding='same', stride=1), IdBlock(kernel=4, nb_filter=72, padding='same', stride=1), IdBlock(kernel=2, nb_filter=72, padding='same', stride=1), ConvBlock(kernel=3, nb_filter=144, padding='same', stride=1), IdBlock(kernel=6, nb_filter=144, padding='same', stride=1), ConvBlock(kernel=6, nb_filter=288, padding='same', stride=4), Flatten(), Dense(fct_activation='selu', nb_neurones=230), Dense(fct_activation='softmax', nb_neurones=10)]\n",
      "archi_resnet_3.json\n",
      "\n",
      "\n",
      "output size : 1\n",
      "nb_filter : 36\n",
      "code: 0\n",
      "param : 36\n",
      "[InputLayer(shape=[32, 32, 3]), Convolution(fct_activation='selu', kernel=6, nb_filter=18, padding='valid', stride=3), Pooling(kernel=5, op='avg', padding='valid', stride=4), IdBlock(kernel=2, nb_filter=18, padding='same', stride=1), IdBlock(kernel=5, nb_filter=18, padding='same', stride=1), IdBlock(kernel=5, nb_filter=18, padding='same', stride=1), IdBlock(kernel=5, nb_filter=18, padding='same', stride=1), IdBlock(kernel=6, nb_filter=18, padding='same', stride=1), IdBlock(kernel=5, nb_filter=18, padding='same', stride=1), IdBlock(kernel=3, nb_filter=18, padding='same', stride=1), ConvBlock(kernel=4, nb_filter=36, padding='same', stride=3), Flatten(), Dense(fct_activation='softmax', nb_neurones=10)]\n",
      "archi_resnet_4.json\n",
      "\n",
      "\n",
      "output size : 3\n",
      "nb_filter : 72\n",
      "code: 1\n",
      "param : 648\n",
      "=====\n",
      "iteration0\n",
      "nb_neurone : 462\n",
      "=====\n",
      "iteration1\n",
      "nb_neurone : 382\n",
      "=====\n",
      "iteration2\n",
      "nb_neurone : 172\n",
      "=====\n",
      "iteration3\n",
      "nb_neurone : 98\n",
      "=====\n",
      "iteration4\n",
      "nb_neurone : 71\n",
      "[InputLayer(shape=[32, 32, 3]), Convolution(fct_activation='relu', kernel=4, nb_filter=18, padding='same', stride=2), Pooling(kernel=2, op='max', padding='same', stride=2), ConvBlock(kernel=3, nb_filter=36, padding='same', stride=3), IdBlock(kernel=3, nb_filter=36, padding='same', stride=1), IdBlock(kernel=4, nb_filter=36, padding='same', stride=1), IdBlock(kernel=6, nb_filter=36, padding='same', stride=1), IdBlock(kernel=6, nb_filter=36, padding='same', stride=1), ConvBlock(kernel=2, nb_filter=72, padding='same', stride=1), Flatten(), Dense(fct_activation='selu', nb_neurones=462), Dense(fct_activation='relu', nb_neurones=382), Dense(fct_activation='relu', nb_neurones=172), Dense(fct_activation='selu', nb_neurones=98), Dense(fct_activation='tanh', nb_neurones=71), Dense(fct_activation='softmax', nb_neurones=10)]\n",
      "archi_resnet_5.json\n",
      "\n",
      "\n",
      "output size : 6\n",
      "nb_filter : 72\n",
      "code: 1\n",
      "param : 2592\n",
      "=====\n",
      "iteration0\n",
      "nb_neurone : 518\n",
      "=====\n",
      "iteration1\n",
      "nb_neurone : 103\n",
      "[InputLayer(shape=[32, 32, 3]), Convolution(fct_activation='selu', kernel=3, nb_filter=18, padding='same', stride=2), Pooling(kernel=2, op='avg', padding='same', stride=1), ConvBlock(kernel=3, nb_filter=36, padding='same', stride=1), IdBlock(kernel=2, nb_filter=36, padding='same', stride=1), IdBlock(kernel=7, nb_filter=36, padding='same', stride=1), ConvBlock(kernel=4, nb_filter=72, padding='same', stride=3), IdBlock(kernel=4, nb_filter=72, padding='same', stride=1), Flatten(), Dense(fct_activation='tanh', nb_neurones=518), Dense(fct_activation='relu', nb_neurones=103), Dense(fct_activation='softmax', nb_neurones=10)]\n",
      "archi_resnet_6.json\n",
      "\n",
      "\n",
      "output size : 1\n",
      "nb_filter : 144\n",
      "code: 0\n",
      "param : 144\n",
      "=====\n",
      "iteration0\n",
      "nb_neurone : 90\n",
      "[InputLayer(shape=[32, 32, 3]), Convolution(fct_activation='tanh', kernel=2, nb_filter=18, padding='same', stride=1), Pooling(kernel=2, op='avg', padding='valid', stride=1), IdBlock(kernel=7, nb_filter=18, padding='same', stride=1), ConvBlock(kernel=5, nb_filter=36, padding='same', stride=3), ConvBlock(kernel=3, nb_filter=72, padding='same', stride=2), IdBlock(kernel=5, nb_filter=72, padding='same', stride=1), IdBlock(kernel=5, nb_filter=72, padding='same', stride=1), IdBlock(kernel=4, nb_filter=72, padding='same', stride=1), IdBlock(kernel=3, nb_filter=72, padding='same', stride=1), IdBlock(kernel=7, nb_filter=72, padding='same', stride=1), IdBlock(kernel=5, nb_filter=72, padding='same', stride=1), ConvBlock(kernel=6, nb_filter=144, padding='same', stride=6), Flatten(), Dense(fct_activation='relu', nb_neurones=90), Dense(fct_activation='softmax', nb_neurones=10)]\n",
      "archi_resnet_7.json\n",
      "\n",
      "\n",
      "output size : 1\n",
      "nb_filter : 72\n",
      "code: 0\n",
      "param : 72\n",
      "[InputLayer(shape=[32, 32, 3]), Convolution(fct_activation='relu', kernel=5, nb_filter=18, padding='same', stride=5), Pooling(kernel=2, op='max', padding='same', stride=1), ConvBlock(kernel=4, nb_filter=36, padding='same', stride=3), ConvBlock(kernel=6, nb_filter=72, padding='same', stride=6), Flatten(), Dense(fct_activation='softmax', nb_neurones=10)]\n",
      "archi_resnet_8.json\n",
      "\n",
      "\n",
      "output size : 1\n",
      "nb_filter : 36\n",
      "code: 0\n",
      "param : 36\n",
      "[InputLayer(shape=[32, 32, 3]), Convolution(fct_activation='relu', kernel=4, nb_filter=18, padding='same', stride=2), Pooling(kernel=5, op='avg', padding='valid', stride=4), IdBlock(kernel=2, nb_filter=18, padding='same', stride=1), ConvBlock(kernel=7, nb_filter=36, padding='same', stride=4), Flatten(), Dense(fct_activation='softmax', nb_neurones=10)]\n",
      "archi_resnet_9.json\n",
      "\n",
      "\n",
      "output size : 1\n",
      "nb_filter : 36\n",
      "code: 0\n",
      "param : 36\n",
      "[InputLayer(shape=[32, 32, 3]), Convolution(fct_activation='tanh', kernel=3, nb_filter=18, padding='same', stride=3), Pooling(kernel=5, op='max', padding='same', stride=5), IdBlock(kernel=2, nb_filter=18, padding='same', stride=1), ConvBlock(kernel=4, nb_filter=36, padding='same', stride=3), Flatten(), Dense(fct_activation='softmax', nb_neurones=10)]\n",
      "archi_resnet_10.json\n",
      "\n",
      "\n"
     ]
    }
   ],
   "source": [
    "for i in range (1,11):\n",
    "    # init\n",
    "    extraction_feature= [IdBlock, ConvBlock]\n",
    "\n",
    "\n",
    "    architecture = list() # init architecture\n",
    "\n",
    "    nb_filter_value = 6*3 # init nb feature map\n",
    "    output_size = 32 \n",
    "\n",
    "    # add input Layer\n",
    "    architecture.append(InputLayer(shape=[32,32,3]))\n",
    "\n",
    "\n",
    "    # add extraction feature (succession of Pooling/convolution)\n",
    "    # Pooling can't be follow by a Pooling\n",
    "    pooling = True\n",
    "    code = 1 # we can add new layer\n",
    "    j = 2\n",
    "\n",
    "    \n",
    "    # kernel >= stride\n",
    "    kernel=kernel_value[random.randrange(6)]\n",
    "    stride_value_filtered = [value for value in stride_value if value <= kernel]\n",
    "    stride = stride_value_filtered[random.randrange(len(stride_value_filtered))]\n",
    "    \n",
    "    \n",
    "    # add first conv\n",
    "    add_layer = Convolution(\n",
    "        kernel=kernel, \n",
    "        padding=padding_value[random.randrange(2)], \n",
    "        stride=stride, \n",
    "        nb_filter= nb_filter_value,\n",
    "        fct_activation=fct_activation_value[random.randrange(3)]\n",
    "    )\n",
    "\n",
    "    code, architecture, output_size = addLayer(architecture, add_layer)\n",
    "\n",
    "\n",
    "    # kernel >= stride\n",
    "    kernel=kernel_value[random.randrange(6)]\n",
    "    stride_value_filtered = [value for value in stride_value if value <= kernel]\n",
    "    stride = stride_value_filtered[random.randrange(len(stride_value_filtered))]\n",
    "    \n",
    "    # add first pooling\n",
    "    add_layer = Pooling(\n",
    "        op = op_value[random.randrange(2)],\n",
    "        kernel=kernel, \n",
    "        padding=padding_value[random.randrange(2)], \n",
    "        stride=stride\n",
    "    )\n",
    "    code, architecture, output_size = addLayer(architecture, add_layer)\n",
    "\n",
    "\n",
    "    while((output_size == 32) | ((stop(len(architecture),7)) & (code == 1))):\n",
    "        layer = extraction_feature[random.randrange(2)]\n",
    "        \n",
    "        # kernel >= stride\n",
    "        kernel=kernel_value[random.randrange(6)]\n",
    "        stride_value_filtered = [value for value in stride_value if value <= kernel]\n",
    "        stride = stride_value_filtered[random.randrange(len(stride_value_filtered))]\n",
    "\n",
    "        if(layer == ConvBlock):\n",
    "            nb_filter_value = nb_filter_value*j\n",
    "\n",
    "\n",
    "        if(layer == IdBlock):\n",
    "            add_layer = IdBlock(kernel=kernel, padding='same', nb_filter=nb_filter_value)\n",
    "        else:\n",
    "            add_layer = ConvBlock(kernel=kernel, nb_filter=nb_filter_value, padding='same', stride=stride)\n",
    "\n",
    "        code, architecture, output_size = addLayer(architecture, add_layer)\n",
    "\n",
    "\n",
    "\n",
    "\n",
    "\n",
    "\n",
    "    try:\n",
    "        nb_filter_value = architecture[len(architecture)-1]['nb_filter']\n",
    "    except:\n",
    "        nb_filter_value = int(nb_filter_value/2)\n",
    "\n",
    "    print(\"output size : \" + str(output_size))\n",
    "    print(\"nb_filter : \" + str(nb_filter_value))\n",
    "    print(\"code: \" + str(code))\n",
    "\n",
    "\n",
    "    # add flatten layer\n",
    "    architecture.append(Flatten())\n",
    "\n",
    "\n",
    "    # compute parameters\n",
    "    param = output_size*output_size*(nb_filter_value)\n",
    "    print('param : ' + str(param))\n",
    "\n",
    "\n",
    "    ## init values\n",
    "    nb=0\n",
    "    if (param >= 1000):\n",
    "        nb_neurones = int(param*20/100)\n",
    "        print(\"=====\")\n",
    "        print(\"iteration\" + str(nb))\n",
    "        print(\"nb_neurone : \" + str(nb_neurones))\n",
    "        dense = Dense(\n",
    "            nb_neurones = nb_neurones,\n",
    "            fct_activation = fct_activation_value[random.randrange(3)]\n",
    "        )\n",
    "        architecture.append(dense)\n",
    "        nb+=1\n",
    "        nb_neurones = int(nb_neurones*20/100)\n",
    "        \n",
    "    else:\n",
    "        pourcent = random.uniform(10,90)\n",
    "        nb_neurones = int(param*pourcent/100)\n",
    "\n",
    "    while(nb_neurones >= 1000):\n",
    "        print(\"=====\")\n",
    "        print(\"iteration\" + str(nb))\n",
    "        print(\"nb_neurone : \" + str(nb_neurones))\n",
    "        dense = Dense(\n",
    "            nb_neurones = nb_neurones,\n",
    "            fct_activation = fct_activation_value[random.randrange(3)]\n",
    "        )\n",
    "        architecture.append(dense)\n",
    "        nb+=1\n",
    "        nb_neurones = int(nb_neurones*20/100)\n",
    "        \n",
    "        \n",
    "    ## add dense Layers\n",
    "    while(nb_neurones > nb_class*7):\n",
    "        print(\"=====\")\n",
    "        print(\"iteration\" + str(nb))\n",
    "        print(\"nb_neurone : \" + str(nb_neurones))\n",
    "\n",
    "        dense = Dense(\n",
    "            nb_neurones = nb_neurones,\n",
    "            fct_activation = fct_activation_value[random.randrange(3)]\n",
    "        )\n",
    "        architecture.append(dense)\n",
    "\n",
    "\n",
    "        #incrementation\n",
    "        pourcent = random.uniform(10,90)\n",
    "        nb+=1\n",
    "        nb_neurones = int(nb_neurones*pourcent/100)\n",
    "\n",
    "\n",
    "    last_dense = Dense(\n",
    "        nb_neurones = nb_class,\n",
    "        fct_activation=\"softmax\"           \n",
    "    )\n",
    "\n",
    "\n",
    "    architecture.append(last_dense)\n",
    "\n",
    "\n",
    "\n",
    "    # print architecture\n",
    "    print(architecture)\n",
    "\n",
    "    # create file\n",
    "    file_name = \"archi_resnet_%d.json\" % i\n",
    "    print(file_name)\n",
    "    print(\"\")\n",
    "    print(\"\")\n",
    "    create_json_file(architecture, file_name)\n",
    "    \n",
    "\n",
    "    \n",
    "    \n",
    "      "
   ]
  },
  {
   "cell_type": "code",
   "execution_count": null,
   "metadata": {},
   "outputs": [],
   "source": []
  },
  {
   "cell_type": "code",
   "execution_count": null,
   "metadata": {},
   "outputs": [],
   "source": []
  },
  {
   "cell_type": "code",
   "execution_count": null,
   "metadata": {},
   "outputs": [],
   "source": []
  },
  {
   "cell_type": "code",
   "execution_count": null,
   "metadata": {},
   "outputs": [],
   "source": []
  },
  {
   "cell_type": "code",
   "execution_count": null,
   "metadata": {},
   "outputs": [],
   "source": []
  }
 ],
 "metadata": {
  "kernelspec": {
   "display_name": "Python 3",
   "language": "python",
   "name": "python3"
  },
  "language_info": {
   "codemirror_mode": {
    "name": "ipython",
    "version": 3
   },
   "file_extension": ".py",
   "mimetype": "text/x-python",
   "name": "python",
   "nbconvert_exporter": "python",
   "pygments_lexer": "ipython3",
   "version": "3.7.9"
  },
  "latex_envs": {
   "LaTeX_envs_menu_present": true,
   "autoclose": false,
   "autocomplete": true,
   "bibliofile": "biblio.bib",
   "cite_by": "apalike",
   "current_citInitial": 1,
   "eqLabelWithNumbers": true,
   "eqNumInitial": 1,
   "hotkeys": {
    "equation": "Ctrl-E",
    "itemize": "Ctrl-I"
   },
   "labels_anchors": false,
   "latex_user_defs": false,
   "report_style_numbering": false,
   "user_envs_cfg": false
  },
  "toc": {
   "base_numbering": 1,
   "nav_menu": {},
   "number_sections": true,
   "sideBar": true,
   "skip_h1_title": false,
   "title_cell": "Table of Contents",
   "title_sidebar": "Contents",
   "toc_cell": false,
   "toc_position": {},
   "toc_section_display": true,
   "toc_window_display": false
  },
  "varInspector": {
   "cols": {
    "lenName": 16,
    "lenType": 16,
    "lenVar": 40
   },
   "kernels_config": {
    "python": {
     "delete_cmd_postfix": "",
     "delete_cmd_prefix": "del ",
     "library": "var_list.py",
     "varRefreshCmd": "print(var_dic_list())"
    },
    "r": {
     "delete_cmd_postfix": ") ",
     "delete_cmd_prefix": "rm(",
     "library": "var_list.r",
     "varRefreshCmd": "cat(var_dic_list()) "
    }
   },
   "types_to_exclude": [
    "module",
    "function",
    "builtin_function_or_method",
    "instance",
    "_Feature"
   ],
   "window_display": false
  }
 },
 "nbformat": 4,
 "nbformat_minor": 4
}
