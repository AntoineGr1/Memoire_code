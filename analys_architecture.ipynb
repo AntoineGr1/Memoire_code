{
 "cells": [
  {
   "cell_type": "markdown",
   "metadata": {},
   "source": [
    "# Methodology\n",
    "- 10 architectures genere each step \n",
    "- same training\n",
    "- same dataset\n",
    "\n",
    "First of all the generator create architectures randomly and hyperparameters too\n",
    "but results of training (accuracy + loss) was bad too much error (negative dimension) or the architecture begin without input,...\n",
    "\n",
    "So we try to controle the architecture using a stat machine and getting the feature extraction dimension to be reduce to 1 and hyperparameters always random<br>\n",
    "but results was still bad for the best architecture have 0.30 for the accuracy and for others we got vanishing gradient problem\n",
    "\n",
    "Next we try to put some intelligence in hyperparameters like dense units descending\n",
    "the results was better 4 of them was at least at 0.9 for the accuracy but the others got vanishing gradient problem<br>\n",
    "so we try to modify manualy the architecture with a problem :\n",
    "    <br>2 architectures was selected --> modify architecture + hyperparameters but only the Clasification part (Dense Layer)\n",
    "    <br>and the problem found was the same for the 2 \n",
    "    <br>Got to much Dense Layers or not enough\n",
    "\n",
    "After that the generator was modified to make more sence for the classification part (Dense Layer) for this we compute the number of parameters (for exemple the output of the last layer before Flatten got (5,5,6) so we got 5*5*6 = 150 parameters)<br>\n",
    "so if parameters is upper than 100 we take 30% of the value then we take 70% (those value is totally arbitrary)<br>\n",
    "else we divide it by 2<br>\n",
    "finally we add a other dense layer with units = nomber of class<br>\n",
    "the results was great at least 0.9 for accuracy\n",
    "\n",
    "with previous step we reduce the variability (not to much permisive) now we'll try to revese, that means we'll add more variability and be more permisif\n",
    "here for the fearture extraction part, we don't force the dimension to be reduce to 1 \n",
    "results is kinda the same\n",
    "\n",
    "We change the data set for cifar10 for the next test"
   ]
  },
  {
   "cell_type": "code",
   "execution_count": 1,
   "metadata": {
    "run_control": {
     "marked": false
    }
   },
   "outputs": [],
   "source": [
    "import pandas as pd\n",
    "from statistics import mean\n",
    "import matplotlib.pyplot as plt\n",
    "import matplotlib\n",
    "import seaborn as sns\n",
    "import os\n",
    "import glob"
   ]
  },
  {
   "cell_type": "code",
   "execution_count": null,
   "metadata": {},
   "outputs": [],
   "source": []
  },
  {
   "cell_type": "code",
   "execution_count": 2,
   "metadata": {},
   "outputs": [],
   "source": [
    "def str_to_float(l):\n",
    "    l2 = list()\n",
    "    for i in l:\n",
    "        l2.append(float(i))\n",
    "        \n",
    "    return l2"
   ]
  },
  {
   "cell_type": "code",
   "execution_count": 3,
   "metadata": {},
   "outputs": [],
   "source": [
    "data = pd.read_csv('architecture_results.csv')"
   ]
  },
  {
   "cell_type": "code",
   "execution_count": 4,
   "metadata": {},
   "outputs": [
    {
     "data": {
      "text/html": [
       "<div>\n",
       "<style scoped>\n",
       "    .dataframe tbody tr th:only-of-type {\n",
       "        vertical-align: middle;\n",
       "    }\n",
       "\n",
       "    .dataframe tbody tr th {\n",
       "        vertical-align: top;\n",
       "    }\n",
       "\n",
       "    .dataframe thead th {\n",
       "        text-align: right;\n",
       "    }\n",
       "</style>\n",
       "<table border=\"1\" class=\"dataframe\">\n",
       "  <thead>\n",
       "    <tr style=\"text-align: right;\">\n",
       "      <th></th>\n",
       "      <th>file_name</th>\n",
       "      <th>training_time(s)</th>\n",
       "      <th>result_loss</th>\n",
       "      <th>result_acc</th>\n",
       "      <th>nb_layers</th>\n",
       "    </tr>\n",
       "  </thead>\n",
       "  <tbody>\n",
       "    <tr>\n",
       "      <th>0</th>\n",
       "      <td>archi_random_1_v</td>\n",
       "      <td>88.100919</td>\n",
       "      <td>4.787491798400879</td>\n",
       "      <td>0.0003</td>\n",
       "      <td>NaN</td>\n",
       "    </tr>\n",
       "    <tr>\n",
       "      <th>1</th>\n",
       "      <td>archi_random_2_v</td>\n",
       "      <td>36.514282</td>\n",
       "      <td>4.787491798400879</td>\n",
       "      <td>0.0</td>\n",
       "      <td>NaN</td>\n",
       "    </tr>\n",
       "    <tr>\n",
       "      <th>2</th>\n",
       "      <td>archi_random_3_v</td>\n",
       "      <td>0.000000</td>\n",
       "      <td>Error</td>\n",
       "      <td>Error</td>\n",
       "      <td>NaN</td>\n",
       "    </tr>\n",
       "    <tr>\n",
       "      <th>3</th>\n",
       "      <td>archi_random_4_v</td>\n",
       "      <td>0.000000</td>\n",
       "      <td>Error</td>\n",
       "      <td>Error</td>\n",
       "      <td>NaN</td>\n",
       "    </tr>\n",
       "    <tr>\n",
       "      <th>4</th>\n",
       "      <td>archi_random_5_v</td>\n",
       "      <td>0.000000</td>\n",
       "      <td>Error</td>\n",
       "      <td>Error</td>\n",
       "      <td>NaN</td>\n",
       "    </tr>\n",
       "    <tr>\n",
       "      <th>...</th>\n",
       "      <td>...</td>\n",
       "      <td>...</td>\n",
       "      <td>...</td>\n",
       "      <td>...</td>\n",
       "      <td>...</td>\n",
       "    </tr>\n",
       "    <tr>\n",
       "      <th>65</th>\n",
       "      <td>archi_random_6_v</td>\n",
       "      <td>107.269466</td>\n",
       "      <td>1.3648234617233277</td>\n",
       "      <td>0.5139</td>\n",
       "      <td>14.0</td>\n",
       "    </tr>\n",
       "    <tr>\n",
       "      <th>66</th>\n",
       "      <td>archi_random_7_v</td>\n",
       "      <td>59.813792</td>\n",
       "      <td>1.0785408752441406</td>\n",
       "      <td>0.6318</td>\n",
       "      <td>7.0</td>\n",
       "    </tr>\n",
       "    <tr>\n",
       "      <th>67</th>\n",
       "      <td>archi_random_8_v</td>\n",
       "      <td>40.819419</td>\n",
       "      <td>1.1243187145233153</td>\n",
       "      <td>0.6057</td>\n",
       "      <td>10.0</td>\n",
       "    </tr>\n",
       "    <tr>\n",
       "      <th>68</th>\n",
       "      <td>archi_random_9_v</td>\n",
       "      <td>264.545941</td>\n",
       "      <td>2.313665362548828</td>\n",
       "      <td>0.1</td>\n",
       "      <td>14.0</td>\n",
       "    </tr>\n",
       "    <tr>\n",
       "      <th>69</th>\n",
       "      <td>archi_random_10_v</td>\n",
       "      <td>112.826608</td>\n",
       "      <td>1.4747041839599608</td>\n",
       "      <td>0.4717</td>\n",
       "      <td>11.0</td>\n",
       "    </tr>\n",
       "  </tbody>\n",
       "</table>\n",
       "<p>70 rows × 5 columns</p>\n",
       "</div>"
      ],
      "text/plain": [
       "            file_name  training_time(s)         result_loss result_acc  \\\n",
       "0    archi_random_1_v         88.100919   4.787491798400879     0.0003   \n",
       "1    archi_random_2_v         36.514282   4.787491798400879        0.0   \n",
       "2    archi_random_3_v          0.000000               Error      Error   \n",
       "3    archi_random_4_v          0.000000               Error      Error   \n",
       "4    archi_random_5_v          0.000000               Error      Error   \n",
       "..                ...               ...                 ...        ...   \n",
       "65   archi_random_6_v        107.269466  1.3648234617233277     0.5139   \n",
       "66   archi_random_7_v         59.813792  1.0785408752441406     0.6318   \n",
       "67   archi_random_8_v         40.819419  1.1243187145233153     0.6057   \n",
       "68   archi_random_9_v        264.545941   2.313665362548828        0.1   \n",
       "69  archi_random_10_v        112.826608  1.4747041839599608     0.4717   \n",
       "\n",
       "    nb_layers  \n",
       "0         NaN  \n",
       "1         NaN  \n",
       "2         NaN  \n",
       "3         NaN  \n",
       "4         NaN  \n",
       "..        ...  \n",
       "65       14.0  \n",
       "66        7.0  \n",
       "67       10.0  \n",
       "68       14.0  \n",
       "69       11.0  \n",
       "\n",
       "[70 rows x 5 columns]"
      ]
     },
     "execution_count": 4,
     "metadata": {},
     "output_type": "execute_result"
    }
   ],
   "source": [
    "data"
   ]
  },
  {
   "cell_type": "markdown",
   "metadata": {},
   "source": [
    "# Test 1 : Random \n",
    "- architecture + hyperparameter random"
   ]
  },
  {
   "cell_type": "code",
   "execution_count": 5,
   "metadata": {},
   "outputs": [],
   "source": [
    "test1 = data[:10]"
   ]
  },
  {
   "cell_type": "code",
   "execution_count": 6,
   "metadata": {},
   "outputs": [
    {
     "data": {
      "text/html": [
       "<div>\n",
       "<style scoped>\n",
       "    .dataframe tbody tr th:only-of-type {\n",
       "        vertical-align: middle;\n",
       "    }\n",
       "\n",
       "    .dataframe tbody tr th {\n",
       "        vertical-align: top;\n",
       "    }\n",
       "\n",
       "    .dataframe thead th {\n",
       "        text-align: right;\n",
       "    }\n",
       "</style>\n",
       "<table border=\"1\" class=\"dataframe\">\n",
       "  <thead>\n",
       "    <tr style=\"text-align: right;\">\n",
       "      <th></th>\n",
       "      <th>file_name</th>\n",
       "      <th>training_time(s)</th>\n",
       "      <th>result_loss</th>\n",
       "      <th>result_acc</th>\n",
       "      <th>nb_layers</th>\n",
       "    </tr>\n",
       "  </thead>\n",
       "  <tbody>\n",
       "    <tr>\n",
       "      <th>0</th>\n",
       "      <td>archi_random_1_v</td>\n",
       "      <td>88.100919</td>\n",
       "      <td>4.787491798400879</td>\n",
       "      <td>0.0003</td>\n",
       "      <td>NaN</td>\n",
       "    </tr>\n",
       "    <tr>\n",
       "      <th>1</th>\n",
       "      <td>archi_random_2_v</td>\n",
       "      <td>36.514282</td>\n",
       "      <td>4.787491798400879</td>\n",
       "      <td>0.0</td>\n",
       "      <td>NaN</td>\n",
       "    </tr>\n",
       "    <tr>\n",
       "      <th>2</th>\n",
       "      <td>archi_random_3_v</td>\n",
       "      <td>0.000000</td>\n",
       "      <td>Error</td>\n",
       "      <td>Error</td>\n",
       "      <td>NaN</td>\n",
       "    </tr>\n",
       "    <tr>\n",
       "      <th>3</th>\n",
       "      <td>archi_random_4_v</td>\n",
       "      <td>0.000000</td>\n",
       "      <td>Error</td>\n",
       "      <td>Error</td>\n",
       "      <td>NaN</td>\n",
       "    </tr>\n",
       "    <tr>\n",
       "      <th>4</th>\n",
       "      <td>archi_random_5_v</td>\n",
       "      <td>0.000000</td>\n",
       "      <td>Error</td>\n",
       "      <td>Error</td>\n",
       "      <td>NaN</td>\n",
       "    </tr>\n",
       "    <tr>\n",
       "      <th>5</th>\n",
       "      <td>archi_random_6_v</td>\n",
       "      <td>0.000000</td>\n",
       "      <td>Error</td>\n",
       "      <td>Error</td>\n",
       "      <td>NaN</td>\n",
       "    </tr>\n",
       "    <tr>\n",
       "      <th>6</th>\n",
       "      <td>archi_random_7_v</td>\n",
       "      <td>255.298168</td>\n",
       "      <td>5.478751149749756</td>\n",
       "      <td>0.0899</td>\n",
       "      <td>NaN</td>\n",
       "    </tr>\n",
       "    <tr>\n",
       "      <th>7</th>\n",
       "      <td>archi_random_8_v</td>\n",
       "      <td>0.000000</td>\n",
       "      <td>Error</td>\n",
       "      <td>Error</td>\n",
       "      <td>NaN</td>\n",
       "    </tr>\n",
       "    <tr>\n",
       "      <th>8</th>\n",
       "      <td>archi_random_9_v</td>\n",
       "      <td>0.000000</td>\n",
       "      <td>Error</td>\n",
       "      <td>Error</td>\n",
       "      <td>NaN</td>\n",
       "    </tr>\n",
       "    <tr>\n",
       "      <th>9</th>\n",
       "      <td>archi_random_10_v</td>\n",
       "      <td>0.000000</td>\n",
       "      <td>Error</td>\n",
       "      <td>Error</td>\n",
       "      <td>NaN</td>\n",
       "    </tr>\n",
       "  </tbody>\n",
       "</table>\n",
       "</div>"
      ],
      "text/plain": [
       "           file_name  training_time(s)        result_loss result_acc  \\\n",
       "0   archi_random_1_v         88.100919  4.787491798400879     0.0003   \n",
       "1   archi_random_2_v         36.514282  4.787491798400879        0.0   \n",
       "2   archi_random_3_v          0.000000              Error      Error   \n",
       "3   archi_random_4_v          0.000000              Error      Error   \n",
       "4   archi_random_5_v          0.000000              Error      Error   \n",
       "5   archi_random_6_v          0.000000              Error      Error   \n",
       "6   archi_random_7_v        255.298168  5.478751149749756     0.0899   \n",
       "7   archi_random_8_v          0.000000              Error      Error   \n",
       "8   archi_random_9_v          0.000000              Error      Error   \n",
       "9  archi_random_10_v          0.000000              Error      Error   \n",
       "\n",
       "   nb_layers  \n",
       "0        NaN  \n",
       "1        NaN  \n",
       "2        NaN  \n",
       "3        NaN  \n",
       "4        NaN  \n",
       "5        NaN  \n",
       "6        NaN  \n",
       "7        NaN  \n",
       "8        NaN  \n",
       "9        NaN  "
      ]
     },
     "execution_count": 6,
     "metadata": {},
     "output_type": "execute_result"
    }
   ],
   "source": [
    "test1"
   ]
  },
  {
   "cell_type": "markdown",
   "metadata": {},
   "source": [
    "# Test 2 : Architecture control\n",
    "- architecture : control with stat machine\n",
    "- hyperparameter random"
   ]
  },
  {
   "cell_type": "code",
   "execution_count": 7,
   "metadata": {},
   "outputs": [],
   "source": [
    "test2 = data[10:20]"
   ]
  },
  {
   "cell_type": "code",
   "execution_count": 8,
   "metadata": {},
   "outputs": [
    {
     "data": {
      "text/html": [
       "<div>\n",
       "<style scoped>\n",
       "    .dataframe tbody tr th:only-of-type {\n",
       "        vertical-align: middle;\n",
       "    }\n",
       "\n",
       "    .dataframe tbody tr th {\n",
       "        vertical-align: top;\n",
       "    }\n",
       "\n",
       "    .dataframe thead th {\n",
       "        text-align: right;\n",
       "    }\n",
       "</style>\n",
       "<table border=\"1\" class=\"dataframe\">\n",
       "  <thead>\n",
       "    <tr style=\"text-align: right;\">\n",
       "      <th></th>\n",
       "      <th>file_name</th>\n",
       "      <th>training_time(s)</th>\n",
       "      <th>result_loss</th>\n",
       "      <th>result_acc</th>\n",
       "      <th>nb_layers</th>\n",
       "    </tr>\n",
       "  </thead>\n",
       "  <tbody>\n",
       "    <tr>\n",
       "      <th>10</th>\n",
       "      <td>archi_random_1_v</td>\n",
       "      <td>29.886414</td>\n",
       "      <td>2.1078140058517456</td>\n",
       "      <td>0.2107</td>\n",
       "      <td>NaN</td>\n",
       "    </tr>\n",
       "    <tr>\n",
       "      <th>11</th>\n",
       "      <td>archi_random_2_v</td>\n",
       "      <td>34.585087</td>\n",
       "      <td>NaN</td>\n",
       "      <td>0.098</td>\n",
       "      <td>NaN</td>\n",
       "    </tr>\n",
       "    <tr>\n",
       "      <th>12</th>\n",
       "      <td>archi_random_3_v</td>\n",
       "      <td>44.384779</td>\n",
       "      <td>1.8254141145706178</td>\n",
       "      <td>0.3238</td>\n",
       "      <td>NaN</td>\n",
       "    </tr>\n",
       "    <tr>\n",
       "      <th>13</th>\n",
       "      <td>archi_random_4_v</td>\n",
       "      <td>31.887646</td>\n",
       "      <td>NaN</td>\n",
       "      <td>0.098</td>\n",
       "      <td>NaN</td>\n",
       "    </tr>\n",
       "    <tr>\n",
       "      <th>14</th>\n",
       "      <td>archi_random_5_v</td>\n",
       "      <td>36.501743</td>\n",
       "      <td>NaN</td>\n",
       "      <td>0.098</td>\n",
       "      <td>NaN</td>\n",
       "    </tr>\n",
       "    <tr>\n",
       "      <th>15</th>\n",
       "      <td>archi_random_6_v</td>\n",
       "      <td>35.660906</td>\n",
       "      <td>NaN</td>\n",
       "      <td>0.098</td>\n",
       "      <td>NaN</td>\n",
       "    </tr>\n",
       "    <tr>\n",
       "      <th>16</th>\n",
       "      <td>archi_random_7_v</td>\n",
       "      <td>46.680250</td>\n",
       "      <td>NaN</td>\n",
       "      <td>0.098</td>\n",
       "      <td>NaN</td>\n",
       "    </tr>\n",
       "    <tr>\n",
       "      <th>17</th>\n",
       "      <td>archi_random_8_v</td>\n",
       "      <td>53.900858</td>\n",
       "      <td>NaN</td>\n",
       "      <td>0.098</td>\n",
       "      <td>NaN</td>\n",
       "    </tr>\n",
       "    <tr>\n",
       "      <th>18</th>\n",
       "      <td>archi_random_9_v</td>\n",
       "      <td>31.916714</td>\n",
       "      <td>NaN</td>\n",
       "      <td>0.098</td>\n",
       "      <td>NaN</td>\n",
       "    </tr>\n",
       "    <tr>\n",
       "      <th>19</th>\n",
       "      <td>archi_random_10_v</td>\n",
       "      <td>21.039890</td>\n",
       "      <td>NaN</td>\n",
       "      <td>0.098</td>\n",
       "      <td>NaN</td>\n",
       "    </tr>\n",
       "  </tbody>\n",
       "</table>\n",
       "</div>"
      ],
      "text/plain": [
       "            file_name  training_time(s)         result_loss result_acc  \\\n",
       "10   archi_random_1_v         29.886414  2.1078140058517456     0.2107   \n",
       "11   archi_random_2_v         34.585087                 NaN      0.098   \n",
       "12   archi_random_3_v         44.384779  1.8254141145706178     0.3238   \n",
       "13   archi_random_4_v         31.887646                 NaN      0.098   \n",
       "14   archi_random_5_v         36.501743                 NaN      0.098   \n",
       "15   archi_random_6_v         35.660906                 NaN      0.098   \n",
       "16   archi_random_7_v         46.680250                 NaN      0.098   \n",
       "17   archi_random_8_v         53.900858                 NaN      0.098   \n",
       "18   archi_random_9_v         31.916714                 NaN      0.098   \n",
       "19  archi_random_10_v         21.039890                 NaN      0.098   \n",
       "\n",
       "    nb_layers  \n",
       "10        NaN  \n",
       "11        NaN  \n",
       "12        NaN  \n",
       "13        NaN  \n",
       "14        NaN  \n",
       "15        NaN  \n",
       "16        NaN  \n",
       "17        NaN  \n",
       "18        NaN  \n",
       "19        NaN  "
      ]
     },
     "execution_count": 8,
     "metadata": {},
     "output_type": "execute_result"
    }
   ],
   "source": [
    "test2"
   ]
  },
  {
   "cell_type": "markdown",
   "metadata": {},
   "source": [
    "# Test 3 : Hyperparameter control\n",
    "- architecture : control with stat machine\n",
    "- hyperparameter --> some intelligence"
   ]
  },
  {
   "cell_type": "code",
   "execution_count": 9,
   "metadata": {},
   "outputs": [],
   "source": [
    "test3 = data[20:30]"
   ]
  },
  {
   "cell_type": "code",
   "execution_count": 10,
   "metadata": {},
   "outputs": [
    {
     "data": {
      "text/html": [
       "<div>\n",
       "<style scoped>\n",
       "    .dataframe tbody tr th:only-of-type {\n",
       "        vertical-align: middle;\n",
       "    }\n",
       "\n",
       "    .dataframe tbody tr th {\n",
       "        vertical-align: top;\n",
       "    }\n",
       "\n",
       "    .dataframe thead th {\n",
       "        text-align: right;\n",
       "    }\n",
       "</style>\n",
       "<table border=\"1\" class=\"dataframe\">\n",
       "  <thead>\n",
       "    <tr style=\"text-align: right;\">\n",
       "      <th></th>\n",
       "      <th>file_name</th>\n",
       "      <th>training_time(s)</th>\n",
       "      <th>result_loss</th>\n",
       "      <th>result_acc</th>\n",
       "      <th>nb_layers</th>\n",
       "    </tr>\n",
       "  </thead>\n",
       "  <tbody>\n",
       "    <tr>\n",
       "      <th>20</th>\n",
       "      <td>archi_random_1_v</td>\n",
       "      <td>48.800441</td>\n",
       "      <td>0.09580338313579559</td>\n",
       "      <td>0.9694</td>\n",
       "      <td>NaN</td>\n",
       "    </tr>\n",
       "    <tr>\n",
       "      <th>21</th>\n",
       "      <td>archi_random_2_v</td>\n",
       "      <td>74.769896</td>\n",
       "      <td>NaN</td>\n",
       "      <td>0.098</td>\n",
       "      <td>NaN</td>\n",
       "    </tr>\n",
       "    <tr>\n",
       "      <th>22</th>\n",
       "      <td>archi_random_3_v</td>\n",
       "      <td>50.353904</td>\n",
       "      <td>NaN</td>\n",
       "      <td>0.098</td>\n",
       "      <td>NaN</td>\n",
       "    </tr>\n",
       "    <tr>\n",
       "      <th>23</th>\n",
       "      <td>archi_random_4_v</td>\n",
       "      <td>67.178742</td>\n",
       "      <td>NaN</td>\n",
       "      <td>0.098</td>\n",
       "      <td>NaN</td>\n",
       "    </tr>\n",
       "    <tr>\n",
       "      <th>24</th>\n",
       "      <td>archi_random_5_v</td>\n",
       "      <td>74.898739</td>\n",
       "      <td>NaN</td>\n",
       "      <td>0.098</td>\n",
       "      <td>NaN</td>\n",
       "    </tr>\n",
       "    <tr>\n",
       "      <th>25</th>\n",
       "      <td>archi_random_6_v</td>\n",
       "      <td>61.363391</td>\n",
       "      <td>0.6802817797660827</td>\n",
       "      <td>0.7711</td>\n",
       "      <td>NaN</td>\n",
       "    </tr>\n",
       "    <tr>\n",
       "      <th>26</th>\n",
       "      <td>archi_random_7_v</td>\n",
       "      <td>34.465207</td>\n",
       "      <td>0.22966426121890546</td>\n",
       "      <td>0.9311</td>\n",
       "      <td>NaN</td>\n",
       "    </tr>\n",
       "    <tr>\n",
       "      <th>27</th>\n",
       "      <td>archi_random_8_v</td>\n",
       "      <td>48.856267</td>\n",
       "      <td>NaN</td>\n",
       "      <td>0.098</td>\n",
       "      <td>NaN</td>\n",
       "    </tr>\n",
       "    <tr>\n",
       "      <th>28</th>\n",
       "      <td>archi_random_9_v</td>\n",
       "      <td>56.277142</td>\n",
       "      <td>NaN</td>\n",
       "      <td>0.098</td>\n",
       "      <td>NaN</td>\n",
       "    </tr>\n",
       "    <tr>\n",
       "      <th>29</th>\n",
       "      <td>archi_random_10_v</td>\n",
       "      <td>29.380182</td>\n",
       "      <td>0.1532185947716236</td>\n",
       "      <td>0.9524</td>\n",
       "      <td>NaN</td>\n",
       "    </tr>\n",
       "  </tbody>\n",
       "</table>\n",
       "</div>"
      ],
      "text/plain": [
       "            file_name  training_time(s)          result_loss result_acc  \\\n",
       "20   archi_random_1_v         48.800441  0.09580338313579559     0.9694   \n",
       "21   archi_random_2_v         74.769896                  NaN      0.098   \n",
       "22   archi_random_3_v         50.353904                  NaN      0.098   \n",
       "23   archi_random_4_v         67.178742                  NaN      0.098   \n",
       "24   archi_random_5_v         74.898739                  NaN      0.098   \n",
       "25   archi_random_6_v         61.363391   0.6802817797660827     0.7711   \n",
       "26   archi_random_7_v         34.465207  0.22966426121890546     0.9311   \n",
       "27   archi_random_8_v         48.856267                  NaN      0.098   \n",
       "28   archi_random_9_v         56.277142                  NaN      0.098   \n",
       "29  archi_random_10_v         29.380182   0.1532185947716236     0.9524   \n",
       "\n",
       "    nb_layers  \n",
       "20        NaN  \n",
       "21        NaN  \n",
       "22        NaN  \n",
       "23        NaN  \n",
       "24        NaN  \n",
       "25        NaN  \n",
       "26        NaN  \n",
       "27        NaN  \n",
       "28        NaN  \n",
       "29        NaN  "
      ]
     },
     "execution_count": 10,
     "metadata": {},
     "output_type": "execute_result"
    }
   ],
   "source": [
    "test3"
   ]
  },
  {
   "cell_type": "markdown",
   "metadata": {},
   "source": [
    "## Test Modification archi 9"
   ]
  },
  {
   "cell_type": "code",
   "execution_count": 11,
   "metadata": {},
   "outputs": [],
   "source": [
    "#model = keras.models.Sequential([\n",
    "#\t\tkeras.layers.Input([28, 28, 1]),\n",
    "#\t\tkeras.layers.Conv2D(6, kernel_size=3, strides=2, activation='tanh', padding='same'),\n",
    "#\t\tkeras.layers.AveragePooling2D(pool_size=5, strides=2, padding='valid'),\n",
    "#\t\tkeras.layers.Conv2D(12, kernel_size=5, strides=2, activation='selu', padding='valid'),\n",
    "#\t\tkeras.layers.Flatten(),\n",
    "#\t\tkeras.layers.Dense(256, activation='relu'),\n",
    "#\t\tkeras.layers.Dense(120, activation='selu'),\n",
    "#\t\tkeras.layers.Dense(84, activation='relu'),\n",
    "#\t\tkeras.layers.Dense(10, activation='relu'),\n",
    "#\t\tkeras.layers.Dense(1, activation='softmax'),\n",
    "#\n",
    "#\t])"
   ]
  },
  {
   "cell_type": "code",
   "execution_count": 34,
   "metadata": {},
   "outputs": [],
   "source": [
    "import tensorflow as tf\n",
    "from tensorflow import keras\n",
    "import numpy as np\n",
    "from tensorflow.keras.utils import plot_model"
   ]
  },
  {
   "cell_type": "code",
   "execution_count": 13,
   "metadata": {},
   "outputs": [
    {
     "name": "stdout",
     "output_type": "stream",
     "text": [
      "Train on 60000 samples, validate on 5000 samples\n",
      "Epoch 1/5\n",
      "60000/60000 [==============================] - 16s 259us/sample - loss: 0.8535 - accuracy: 0.7457 - val_loss: 0.4861 - val_accuracy: 0.8530\n",
      "Epoch 2/5\n",
      "60000/60000 [==============================] - 10s 160us/sample - loss: 0.4197 - accuracy: 0.8750 - val_loss: 0.3200 - val_accuracy: 0.9046\n",
      "Epoch 3/5\n",
      "60000/60000 [==============================] - 13s 215us/sample - loss: 0.2955 - accuracy: 0.9136 - val_loss: 0.2331 - val_accuracy: 0.9350\n",
      "Epoch 4/5\n",
      "60000/60000 [==============================] - 9s 156us/sample - loss: 0.2272 - accuracy: 0.9342 - val_loss: 0.1809 - val_accuracy: 0.9496\n",
      "Epoch 5/5\n",
      "60000/60000 [==============================] - 8s 129us/sample - loss: 0.1870 - accuracy: 0.9452 - val_loss: 0.1528 - val_accuracy: 0.9566\n",
      "10000/10000 [==============================] - 1s 88us/sample - loss: 0.1608 - accuracy: 0.9539\n",
      "[0.16076520583033563, 0.9539]\n"
     ]
    }
   ],
   "source": [
    "(train_x, train_y), (test_x, test_y) = keras.datasets.mnist.load_data()\n",
    "\n",
    "# normaliser les pixel 0-255 -> 0-1\n",
    "train_x = train_x / 255.0\n",
    "test_x = test_x / 255.0\n",
    "\n",
    "train_x = tf.expand_dims(train_x, 3)\n",
    "test_x = tf.expand_dims(test_x, 3)\n",
    "\n",
    "val_x = train_x[:5000]\n",
    "val_y = train_y[:5000]\n",
    "\n",
    "model = keras.models.Sequential([\n",
    "        keras.layers.Input([28, 28, 1]),\n",
    "        keras.layers.Conv2D(6, kernel_size=3, strides=2, activation='tanh', padding='same'),\n",
    "        keras.layers.AveragePooling2D(pool_size=5, strides=2, padding='valid'),\n",
    "        keras.layers.Conv2D(12, kernel_size=5, strides=2, activation='selu', padding='valid'),\n",
    "        keras.layers.Flatten(),\n",
    "        keras.layers.Dense(10, activation='softmax')\n",
    "    ])\n",
    "\n",
    "\n",
    "model.compile(optimizer='adam', loss=keras.losses.sparse_categorical_crossentropy, metrics=['accuracy'])\n",
    "model.fit(train_x, train_y, epochs=5, validation_data=(val_x, val_y))\n",
    "print(model.evaluate(test_x, test_y))"
   ]
  },
  {
   "cell_type": "code",
   "execution_count": 14,
   "metadata": {},
   "outputs": [
    {
     "data": {
      "image/png": "[encoded data removed]",
      "text/plain": [
       "<IPython.core.display.Image object>"
      ]
     },
     "execution_count": 14,
     "metadata": {},
     "output_type": "execute_result"
    }
   ],
   "source": [
    "plot_model(model, show_shapes=True)"
   ]
  },
  {
   "cell_type": "markdown",
   "metadata": {},
   "source": [
    "## Test Modification Archi 3\n",
    "- Remplacement Dense 10 to 84 and 1 to 10 --> 93%\n",
    "- Test compression 50% --> 150/2 = 75 --> 91% "
   ]
  },
  {
   "cell_type": "code",
   "execution_count": 15,
   "metadata": {},
   "outputs": [],
   "source": [
    "#model = keras.models.Sequential([\n",
    "#\t\tkeras.layers.Input([28, 28, 1]),\n",
    "#\t\tkeras.layers.Conv2D(6, kernel_size=2, strides=3, activation='relu', padding='same'),\n",
    "#\t\tkeras.layers.AveragePooling2D(pool_size=2, strides=2, padding='valid'),\n",
    "#\t\tkeras.layers.Flatten(),\n",
    "#\t\tkeras.layers.Dense(10, activation='tanh'),\n",
    "#\t\tkeras.layers.Dense(1, activation='softmax'),"
   ]
  },
  {
   "cell_type": "code",
   "execution_count": 16,
   "metadata": {},
   "outputs": [],
   "source": [
    "model = keras.models.Sequential([\n",
    "\t\tkeras.layers.Input([28, 28, 1]),\n",
    "\t\tkeras.layers.Conv2D(6, kernel_size=2, strides=3, activation='relu', padding='same'),\n",
    "\t\tkeras.layers.AveragePooling2D(pool_size=2, strides=2, padding='valid'),\n",
    "\t\tkeras.layers.Flatten(),\n",
    "\t\tkeras.layers.Dense(75, activation='tanh'),\n",
    "\t\tkeras.layers.Dense(10, activation='softmax')\n",
    "])"
   ]
  },
  {
   "cell_type": "code",
   "execution_count": 17,
   "metadata": {},
   "outputs": [
    {
     "name": "stdout",
     "output_type": "stream",
     "text": [
      "Train on 60000 samples, validate on 5000 samples\n",
      "Epoch 1/5\n",
      "60000/60000 [==============================] - 8s 137us/sample - loss: 0.7764 - accuracy: 0.7582 - val_loss: 0.5178 - val_accuracy: 0.8394\n",
      "Epoch 2/5\n",
      "60000/60000 [==============================] - 7s 115us/sample - loss: 0.4710 - accuracy: 0.8503 - val_loss: 0.4074 - val_accuracy: 0.8722\n",
      "Epoch 3/5\n",
      "60000/60000 [==============================] - 7s 119us/sample - loss: 0.3956 - accuracy: 0.8746 - val_loss: 0.3661 - val_accuracy: 0.8844\n",
      "Epoch 4/5\n",
      "60000/60000 [==============================] - 7s 120us/sample - loss: 0.3555 - accuracy: 0.8862 - val_loss: 0.3400 - val_accuracy: 0.8936\n",
      "Epoch 5/5\n",
      "60000/60000 [==============================] - 7s 116us/sample - loss: 0.3284 - accuracy: 0.8942 - val_loss: 0.3020 - val_accuracy: 0.9050\n",
      "10000/10000 [==============================] - 1s 82us/sample - loss: 0.3021 - accuracy: 0.9033\n",
      "[0.30213706984519956, 0.9033]\n"
     ]
    }
   ],
   "source": [
    "model.compile(optimizer='adam', loss=keras.losses.sparse_categorical_crossentropy, metrics=['accuracy'])\n",
    "model.fit(train_x, train_y, epochs=5, validation_data=(val_x, val_y))\n",
    "print(model.evaluate(test_x, test_y))"
   ]
  },
  {
   "cell_type": "code",
   "execution_count": 18,
   "metadata": {},
   "outputs": [
    {
     "data": {
      "image/png": "[encoded data removed]",
      "text/plain": [
       "<IPython.core.display.Image object>"
      ]
     },
     "execution_count": 18,
     "metadata": {},
     "output_type": "execute_result"
    }
   ],
   "source": [
    "plot_model(model, show_shapes=True)"
   ]
  },
  {
   "cell_type": "markdown",
   "metadata": {},
   "source": [
    "# Test 4 : Modification units in Dense Layer\n",
    "- modifie dense layer + hyperparameter\n",
    "- units descentent "
   ]
  },
  {
   "cell_type": "code",
   "execution_count": 35,
   "metadata": {},
   "outputs": [],
   "source": [
    "test4 = data[30:40]"
   ]
  },
  {
   "cell_type": "code",
   "execution_count": 36,
   "metadata": {},
   "outputs": [
    {
     "data": {
      "text/html": [
       "<div>\n",
       "<style scoped>\n",
       "    .dataframe tbody tr th:only-of-type {\n",
       "        vertical-align: middle;\n",
       "    }\n",
       "\n",
       "    .dataframe tbody tr th {\n",
       "        vertical-align: top;\n",
       "    }\n",
       "\n",
       "    .dataframe thead th {\n",
       "        text-align: right;\n",
       "    }\n",
       "</style>\n",
       "<table border=\"1\" class=\"dataframe\">\n",
       "  <thead>\n",
       "    <tr style=\"text-align: right;\">\n",
       "      <th></th>\n",
       "      <th>file_name</th>\n",
       "      <th>training_time(s)</th>\n",
       "      <th>result_loss</th>\n",
       "      <th>result_acc</th>\n",
       "      <th>nb_layers</th>\n",
       "    </tr>\n",
       "  </thead>\n",
       "  <tbody>\n",
       "    <tr>\n",
       "      <th>30</th>\n",
       "      <td>archi_random_1_v</td>\n",
       "      <td>78.577000</td>\n",
       "      <td>0.07949067450854927</td>\n",
       "      <td>0.9749</td>\n",
       "      <td>NaN</td>\n",
       "    </tr>\n",
       "    <tr>\n",
       "      <th>31</th>\n",
       "      <td>archi_random_2_v</td>\n",
       "      <td>26.064321</td>\n",
       "      <td>0.3050533406496048</td>\n",
       "      <td>0.9019</td>\n",
       "      <td>NaN</td>\n",
       "    </tr>\n",
       "    <tr>\n",
       "      <th>32</th>\n",
       "      <td>archi_random_3_v</td>\n",
       "      <td>38.000784</td>\n",
       "      <td>0.9061476766586304</td>\n",
       "      <td>0.6993</td>\n",
       "      <td>NaN</td>\n",
       "    </tr>\n",
       "    <tr>\n",
       "      <th>33</th>\n",
       "      <td>archi_random_4_v</td>\n",
       "      <td>32.505703</td>\n",
       "      <td>0.49440958783626554</td>\n",
       "      <td>0.8485</td>\n",
       "      <td>NaN</td>\n",
       "    </tr>\n",
       "    <tr>\n",
       "      <th>34</th>\n",
       "      <td>archi_random_5_v</td>\n",
       "      <td>174.221448</td>\n",
       "      <td>0.08991098543666304</td>\n",
       "      <td>0.9727</td>\n",
       "      <td>NaN</td>\n",
       "    </tr>\n",
       "    <tr>\n",
       "      <th>35</th>\n",
       "      <td>archi_random_6_v</td>\n",
       "      <td>126.103547</td>\n",
       "      <td>0.06494664726108312</td>\n",
       "      <td>0.9795</td>\n",
       "      <td>NaN</td>\n",
       "    </tr>\n",
       "    <tr>\n",
       "      <th>36</th>\n",
       "      <td>archi_random_7_v</td>\n",
       "      <td>39.659550</td>\n",
       "      <td>0.21348144231140614</td>\n",
       "      <td>0.9326</td>\n",
       "      <td>NaN</td>\n",
       "    </tr>\n",
       "    <tr>\n",
       "      <th>37</th>\n",
       "      <td>archi_random_8_v</td>\n",
       "      <td>62.830789</td>\n",
       "      <td>0.1700618218511343</td>\n",
       "      <td>0.9467</td>\n",
       "      <td>NaN</td>\n",
       "    </tr>\n",
       "    <tr>\n",
       "      <th>38</th>\n",
       "      <td>archi_random_9_v</td>\n",
       "      <td>72.800281</td>\n",
       "      <td>0.07581218082737178</td>\n",
       "      <td>0.9733</td>\n",
       "      <td>NaN</td>\n",
       "    </tr>\n",
       "    <tr>\n",
       "      <th>39</th>\n",
       "      <td>archi_random_10_v</td>\n",
       "      <td>173.105033</td>\n",
       "      <td>0.04451985499598086</td>\n",
       "      <td>0.9867</td>\n",
       "      <td>NaN</td>\n",
       "    </tr>\n",
       "  </tbody>\n",
       "</table>\n",
       "</div>"
      ],
      "text/plain": [
       "            file_name  training_time(s)          result_loss result_acc  \\\n",
       "30   archi_random_1_v         78.577000  0.07949067450854927     0.9749   \n",
       "31   archi_random_2_v         26.064321   0.3050533406496048     0.9019   \n",
       "32   archi_random_3_v         38.000784   0.9061476766586304     0.6993   \n",
       "33   archi_random_4_v         32.505703  0.49440958783626554     0.8485   \n",
       "34   archi_random_5_v        174.221448  0.08991098543666304     0.9727   \n",
       "35   archi_random_6_v        126.103547  0.06494664726108312     0.9795   \n",
       "36   archi_random_7_v         39.659550  0.21348144231140614     0.9326   \n",
       "37   archi_random_8_v         62.830789   0.1700618218511343     0.9467   \n",
       "38   archi_random_9_v         72.800281  0.07581218082737178     0.9733   \n",
       "39  archi_random_10_v        173.105033  0.04451985499598086     0.9867   \n",
       "\n",
       "    nb_layers  \n",
       "30        NaN  \n",
       "31        NaN  \n",
       "32        NaN  \n",
       "33        NaN  \n",
       "34        NaN  \n",
       "35        NaN  \n",
       "36        NaN  \n",
       "37        NaN  \n",
       "38        NaN  \n",
       "39        NaN  "
      ]
     },
     "execution_count": 36,
     "metadata": {},
     "output_type": "execute_result"
    }
   ],
   "source": [
    "test4"
   ]
  },
  {
   "cell_type": "code",
   "execution_count": 37,
   "metadata": {},
   "outputs": [],
   "source": [
    "model = keras.models.Sequential([\n",
    "\t\tkeras.layers.Input([28, 28, 1]),\n",
    "\t\tkeras.layers.Conv2D(6, kernel_size=2, strides=1, activation='relu', padding='same'),\n",
    "\t\tkeras.layers.AveragePooling2D(pool_size=2, strides=1, padding='valid'),\n",
    "\t\tkeras.layers.Conv2D(12, kernel_size=5, strides=3, activation='tanh', padding='same'),\n",
    "\t\tkeras.layers.AveragePooling2D(pool_size=5, strides=1, padding='same'),\n",
    "\t\tkeras.layers.Conv2D(36, kernel_size=2, strides=2, activation='relu', padding='valid'),\n",
    "\t\tkeras.layers.MaxPooling2D(pool_size=5, strides=2, padding='same'),\n",
    "\t\tkeras.layers.Conv2D(144, kernel_size=3, strides=2, activation='tanh', padding='same'),\n",
    "\t\tkeras.layers.Flatten(),\n",
    "\t\tkeras.layers.Dense(43, activation='selu'),\n",
    "\t\tkeras.layers.Dense(30, activation='relu'),\n",
    "\t\tkeras.layers.Dense(10, activation='softmax'),\n",
    "\t])"
   ]
  },
  {
   "cell_type": "code",
   "execution_count": 38,
   "metadata": {},
   "outputs": [
    {
     "name": "stdout",
     "output_type": "stream",
     "text": [
      "(None, 28, 28, 6)\n",
      "(None, 27, 27, 6)\n",
      "(None, 9, 9, 12)\n",
      "(None, 9, 9, 12)\n",
      "(None, 4, 4, 36)\n",
      "(None, 2, 2, 36)\n",
      "(None, 1, 1, 144)\n",
      "(None, 144)\n",
      "(None, 43)\n",
      "(None, 30)\n",
      "(None, 10)\n"
     ]
    }
   ],
   "source": [
    "for layer in model.layers:\n",
    "    print(layer.output_shape)"
   ]
  },
  {
   "cell_type": "code",
   "execution_count": 39,
   "metadata": {},
   "outputs": [],
   "source": [
    "test4_result_acc = str_to_float(test4['result_acc'])\n",
    "test4_train_time = str_to_float(test4['training_time(s)'])"
   ]
  },
  {
   "cell_type": "code",
   "execution_count": 40,
   "metadata": {},
   "outputs": [],
   "source": [
    "test4_result_mean = mean(test4_result_acc)\n",
    "test4_time_mean = mean(test4_train_time)"
   ]
  },
  {
   "cell_type": "code",
   "execution_count": 41,
   "metadata": {},
   "outputs": [
    {
     "data": {
      "text/plain": [
       "0.92161"
      ]
     },
     "execution_count": 41,
     "metadata": {},
     "output_type": "execute_result"
    }
   ],
   "source": [
    "test4_result_mean"
   ]
  },
  {
   "cell_type": "code",
   "execution_count": 42,
   "metadata": {},
   "outputs": [
    {
     "data": {
      "text/plain": [
       "82.3868455171585"
      ]
     },
     "execution_count": 42,
     "metadata": {},
     "output_type": "execute_result"
    }
   ],
   "source": [
    "test4_time_mean"
   ]
  },
  {
   "cell_type": "markdown",
   "metadata": {},
   "source": [
    "# Test 5 : Output size change for feature extraction\n",
    "- be more permisive for feature extraction the dimension output can be more than 1"
   ]
  },
  {
   "cell_type": "code",
   "execution_count": 43,
   "metadata": {},
   "outputs": [],
   "source": [
    "test5 = data[40:50]"
   ]
  },
  {
   "cell_type": "code",
   "execution_count": 44,
   "metadata": {},
   "outputs": [
    {
     "data": {
      "text/html": [
       "<div>\n",
       "<style scoped>\n",
       "    .dataframe tbody tr th:only-of-type {\n",
       "        vertical-align: middle;\n",
       "    }\n",
       "\n",
       "    .dataframe tbody tr th {\n",
       "        vertical-align: top;\n",
       "    }\n",
       "\n",
       "    .dataframe thead th {\n",
       "        text-align: right;\n",
       "    }\n",
       "</style>\n",
       "<table border=\"1\" class=\"dataframe\">\n",
       "  <thead>\n",
       "    <tr style=\"text-align: right;\">\n",
       "      <th></th>\n",
       "      <th>file_name</th>\n",
       "      <th>training_time(s)</th>\n",
       "      <th>result_loss</th>\n",
       "      <th>result_acc</th>\n",
       "      <th>nb_layers</th>\n",
       "    </tr>\n",
       "  </thead>\n",
       "  <tbody>\n",
       "    <tr>\n",
       "      <th>40</th>\n",
       "      <td>archi_random_1_v</td>\n",
       "      <td>80.436753</td>\n",
       "      <td>0.28769842363297937</td>\n",
       "      <td>0.9085</td>\n",
       "      <td>7.0</td>\n",
       "    </tr>\n",
       "    <tr>\n",
       "      <th>41</th>\n",
       "      <td>archi_random_2_v</td>\n",
       "      <td>78.281544</td>\n",
       "      <td>0.07176919159367681</td>\n",
       "      <td>0.9763</td>\n",
       "      <td>10.0</td>\n",
       "    </tr>\n",
       "    <tr>\n",
       "      <th>42</th>\n",
       "      <td>archi_random_3_v</td>\n",
       "      <td>99.566410</td>\n",
       "      <td>0.08566732091791927</td>\n",
       "      <td>0.9713</td>\n",
       "      <td>7.0</td>\n",
       "    </tr>\n",
       "    <tr>\n",
       "      <th>43</th>\n",
       "      <td>archi_random_4_v</td>\n",
       "      <td>72.470139</td>\n",
       "      <td>0.07129717184931506</td>\n",
       "      <td>0.9798</td>\n",
       "      <td>4.0</td>\n",
       "    </tr>\n",
       "    <tr>\n",
       "      <th>44</th>\n",
       "      <td>archi_random_5_v</td>\n",
       "      <td>80.335786</td>\n",
       "      <td>0.0983532029479742</td>\n",
       "      <td>0.9684</td>\n",
       "      <td>5.0</td>\n",
       "    </tr>\n",
       "    <tr>\n",
       "      <th>45</th>\n",
       "      <td>archi_random_6_v</td>\n",
       "      <td>77.240802</td>\n",
       "      <td>0.1079084203535691</td>\n",
       "      <td>0.9665</td>\n",
       "      <td>8.0</td>\n",
       "    </tr>\n",
       "    <tr>\n",
       "      <th>46</th>\n",
       "      <td>archi_random_7_v</td>\n",
       "      <td>68.080561</td>\n",
       "      <td>0.6093278242111206</td>\n",
       "      <td>0.7882</td>\n",
       "      <td>7.0</td>\n",
       "    </tr>\n",
       "    <tr>\n",
       "      <th>47</th>\n",
       "      <td>archi_random_8_v</td>\n",
       "      <td>79.826793</td>\n",
       "      <td>0.05153364449184155</td>\n",
       "      <td>0.9847</td>\n",
       "      <td>9.0</td>\n",
       "    </tr>\n",
       "    <tr>\n",
       "      <th>48</th>\n",
       "      <td>archi_random_9_v</td>\n",
       "      <td>89.967481</td>\n",
       "      <td>0.4208268416404724</td>\n",
       "      <td>0.869</td>\n",
       "      <td>8.0</td>\n",
       "    </tr>\n",
       "    <tr>\n",
       "      <th>49</th>\n",
       "      <td>archi_random_10_v</td>\n",
       "      <td>81.815753</td>\n",
       "      <td>0.0887117653799709</td>\n",
       "      <td>0.9775</td>\n",
       "      <td>7.0</td>\n",
       "    </tr>\n",
       "  </tbody>\n",
       "</table>\n",
       "</div>"
      ],
      "text/plain": [
       "            file_name  training_time(s)          result_loss result_acc  \\\n",
       "40   archi_random_1_v         80.436753  0.28769842363297937     0.9085   \n",
       "41   archi_random_2_v         78.281544  0.07176919159367681     0.9763   \n",
       "42   archi_random_3_v         99.566410  0.08566732091791927     0.9713   \n",
       "43   archi_random_4_v         72.470139  0.07129717184931506     0.9798   \n",
       "44   archi_random_5_v         80.335786   0.0983532029479742     0.9684   \n",
       "45   archi_random_6_v         77.240802   0.1079084203535691     0.9665   \n",
       "46   archi_random_7_v         68.080561   0.6093278242111206     0.7882   \n",
       "47   archi_random_8_v         79.826793  0.05153364449184155     0.9847   \n",
       "48   archi_random_9_v         89.967481   0.4208268416404724      0.869   \n",
       "49  archi_random_10_v         81.815753   0.0887117653799709     0.9775   \n",
       "\n",
       "    nb_layers  \n",
       "40        7.0  \n",
       "41       10.0  \n",
       "42        7.0  \n",
       "43        4.0  \n",
       "44        5.0  \n",
       "45        8.0  \n",
       "46        7.0  \n",
       "47        9.0  \n",
       "48        8.0  \n",
       "49        7.0  "
      ]
     },
     "execution_count": 44,
     "metadata": {},
     "output_type": "execute_result"
    }
   ],
   "source": [
    "test5"
   ]
  },
  {
   "cell_type": "code",
   "execution_count": 45,
   "metadata": {},
   "outputs": [],
   "source": [
    "test5_result_acc = str_to_float(test5['result_acc'])\n",
    "test5_train_time = str_to_float(test5['training_time(s)'])"
   ]
  },
  {
   "cell_type": "code",
   "execution_count": 46,
   "metadata": {},
   "outputs": [],
   "source": [
    "test5_result_mean = mean(test5_result_acc)\n",
    "test5_time_mean = mean(test5_train_time)"
   ]
  },
  {
   "cell_type": "code",
   "execution_count": 47,
   "metadata": {},
   "outputs": [
    {
     "data": {
      "text/plain": [
       "0.93902"
      ]
     },
     "execution_count": 47,
     "metadata": {},
     "output_type": "execute_result"
    }
   ],
   "source": [
    "test5_result_mean"
   ]
  },
  {
   "cell_type": "code",
   "execution_count": 48,
   "metadata": {},
   "outputs": [
    {
     "data": {
      "text/plain": [
       "80.80220222473145"
      ]
     },
     "execution_count": 48,
     "metadata": {},
     "output_type": "execute_result"
    }
   ],
   "source": [
    "test5_time_mean"
   ]
  },
  {
   "cell_type": "markdown",
   "metadata": {},
   "source": [
    "## look archi 10"
   ]
  },
  {
   "cell_type": "code",
   "execution_count": 49,
   "metadata": {},
   "outputs": [],
   "source": [
    "model = keras.models.Sequential([\n",
    "\t\tkeras.layers.Input([28, 28, 1]),\n",
    "\t\tkeras.layers.Conv2D(6, kernel_size=3, strides=1, activation='tanh', padding='same'),\n",
    "\t\tkeras.layers.AveragePooling2D(pool_size=3, strides=3, padding='same'),\n",
    "\t\tkeras.layers.Conv2D(12, kernel_size=3, strides=1, activation='selu', padding='valid'),\n",
    "\t\tkeras.layers.Flatten(),\n",
    "\t\tkeras.layers.Dense(230, activation='relu'),\n",
    "\t\tkeras.layers.Dense(161, activation='selu'),\n",
    "\t\tkeras.layers.Dense(10, activation='softmax'),\n",
    "\n",
    "\t])"
   ]
  },
  {
   "cell_type": "code",
   "execution_count": 50,
   "metadata": {
    "scrolled": true
   },
   "outputs": [
    {
     "name": "stdout",
     "output_type": "stream",
     "text": [
      "(None, 28, 28, 6)\n",
      "(None, 10, 10, 6)\n",
      "(None, 8, 8, 12)\n",
      "(None, 768)\n",
      "(None, 230)\n",
      "(None, 161)\n",
      "(None, 10)\n"
     ]
    }
   ],
   "source": [
    "for layer in model.layers:\n",
    "    print(layer.output_shape)"
   ]
  },
  {
   "cell_type": "markdown",
   "metadata": {},
   "source": [
    "# Test4 vs Test5"
   ]
  },
  {
   "cell_type": "code",
   "execution_count": 51,
   "metadata": {},
   "outputs": [],
   "source": [
    "test4vs5 = pd.concat([test4,test5])"
   ]
  },
  {
   "cell_type": "code",
   "execution_count": 52,
   "metadata": {},
   "outputs": [
    {
     "data": {
      "text/html": [
       "<div>\n",
       "<style scoped>\n",
       "    .dataframe tbody tr th:only-of-type {\n",
       "        vertical-align: middle;\n",
       "    }\n",
       "\n",
       "    .dataframe tbody tr th {\n",
       "        vertical-align: top;\n",
       "    }\n",
       "\n",
       "    .dataframe thead th {\n",
       "        text-align: right;\n",
       "    }\n",
       "</style>\n",
       "<table border=\"1\" class=\"dataframe\">\n",
       "  <thead>\n",
       "    <tr style=\"text-align: right;\">\n",
       "      <th></th>\n",
       "      <th>file_name</th>\n",
       "      <th>training_time(s)</th>\n",
       "      <th>result_loss</th>\n",
       "      <th>result_acc</th>\n",
       "      <th>nb_layers</th>\n",
       "      <th>test</th>\n",
       "    </tr>\n",
       "  </thead>\n",
       "  <tbody>\n",
       "    <tr>\n",
       "      <th>30</th>\n",
       "      <td>archi_random_1_v</td>\n",
       "      <td>78.577000</td>\n",
       "      <td>0.07949067450854927</td>\n",
       "      <td>0.9749</td>\n",
       "      <td>NaN</td>\n",
       "      <td>test4</td>\n",
       "    </tr>\n",
       "    <tr>\n",
       "      <th>31</th>\n",
       "      <td>archi_random_2_v</td>\n",
       "      <td>26.064321</td>\n",
       "      <td>0.3050533406496048</td>\n",
       "      <td>0.9019</td>\n",
       "      <td>NaN</td>\n",
       "      <td>test4</td>\n",
       "    </tr>\n",
       "    <tr>\n",
       "      <th>32</th>\n",
       "      <td>archi_random_3_v</td>\n",
       "      <td>38.000784</td>\n",
       "      <td>0.9061476766586304</td>\n",
       "      <td>0.6993</td>\n",
       "      <td>NaN</td>\n",
       "      <td>test4</td>\n",
       "    </tr>\n",
       "    <tr>\n",
       "      <th>33</th>\n",
       "      <td>archi_random_4_v</td>\n",
       "      <td>32.505703</td>\n",
       "      <td>0.49440958783626554</td>\n",
       "      <td>0.8485</td>\n",
       "      <td>NaN</td>\n",
       "      <td>test4</td>\n",
       "    </tr>\n",
       "    <tr>\n",
       "      <th>34</th>\n",
       "      <td>archi_random_5_v</td>\n",
       "      <td>174.221448</td>\n",
       "      <td>0.08991098543666304</td>\n",
       "      <td>0.9727</td>\n",
       "      <td>NaN</td>\n",
       "      <td>test4</td>\n",
       "    </tr>\n",
       "    <tr>\n",
       "      <th>35</th>\n",
       "      <td>archi_random_6_v</td>\n",
       "      <td>126.103547</td>\n",
       "      <td>0.06494664726108312</td>\n",
       "      <td>0.9795</td>\n",
       "      <td>NaN</td>\n",
       "      <td>test4</td>\n",
       "    </tr>\n",
       "    <tr>\n",
       "      <th>36</th>\n",
       "      <td>archi_random_7_v</td>\n",
       "      <td>39.659550</td>\n",
       "      <td>0.21348144231140614</td>\n",
       "      <td>0.9326</td>\n",
       "      <td>NaN</td>\n",
       "      <td>test4</td>\n",
       "    </tr>\n",
       "    <tr>\n",
       "      <th>37</th>\n",
       "      <td>archi_random_8_v</td>\n",
       "      <td>62.830789</td>\n",
       "      <td>0.1700618218511343</td>\n",
       "      <td>0.9467</td>\n",
       "      <td>NaN</td>\n",
       "      <td>test4</td>\n",
       "    </tr>\n",
       "    <tr>\n",
       "      <th>38</th>\n",
       "      <td>archi_random_9_v</td>\n",
       "      <td>72.800281</td>\n",
       "      <td>0.07581218082737178</td>\n",
       "      <td>0.9733</td>\n",
       "      <td>NaN</td>\n",
       "      <td>test4</td>\n",
       "    </tr>\n",
       "    <tr>\n",
       "      <th>39</th>\n",
       "      <td>archi_random_10_v</td>\n",
       "      <td>173.105033</td>\n",
       "      <td>0.04451985499598086</td>\n",
       "      <td>0.9867</td>\n",
       "      <td>NaN</td>\n",
       "      <td>test4</td>\n",
       "    </tr>\n",
       "    <tr>\n",
       "      <th>40</th>\n",
       "      <td>archi_random_1_v</td>\n",
       "      <td>80.436753</td>\n",
       "      <td>0.28769842363297937</td>\n",
       "      <td>0.9085</td>\n",
       "      <td>7.0</td>\n",
       "      <td>test5</td>\n",
       "    </tr>\n",
       "    <tr>\n",
       "      <th>41</th>\n",
       "      <td>archi_random_2_v</td>\n",
       "      <td>78.281544</td>\n",
       "      <td>0.07176919159367681</td>\n",
       "      <td>0.9763</td>\n",
       "      <td>10.0</td>\n",
       "      <td>test5</td>\n",
       "    </tr>\n",
       "    <tr>\n",
       "      <th>42</th>\n",
       "      <td>archi_random_3_v</td>\n",
       "      <td>99.566410</td>\n",
       "      <td>0.08566732091791927</td>\n",
       "      <td>0.9713</td>\n",
       "      <td>7.0</td>\n",
       "      <td>test5</td>\n",
       "    </tr>\n",
       "    <tr>\n",
       "      <th>43</th>\n",
       "      <td>archi_random_4_v</td>\n",
       "      <td>72.470139</td>\n",
       "      <td>0.07129717184931506</td>\n",
       "      <td>0.9798</td>\n",
       "      <td>4.0</td>\n",
       "      <td>test5</td>\n",
       "    </tr>\n",
       "    <tr>\n",
       "      <th>44</th>\n",
       "      <td>archi_random_5_v</td>\n",
       "      <td>80.335786</td>\n",
       "      <td>0.0983532029479742</td>\n",
       "      <td>0.9684</td>\n",
       "      <td>5.0</td>\n",
       "      <td>test5</td>\n",
       "    </tr>\n",
       "    <tr>\n",
       "      <th>45</th>\n",
       "      <td>archi_random_6_v</td>\n",
       "      <td>77.240802</td>\n",
       "      <td>0.1079084203535691</td>\n",
       "      <td>0.9665</td>\n",
       "      <td>8.0</td>\n",
       "      <td>test5</td>\n",
       "    </tr>\n",
       "    <tr>\n",
       "      <th>46</th>\n",
       "      <td>archi_random_7_v</td>\n",
       "      <td>68.080561</td>\n",
       "      <td>0.6093278242111206</td>\n",
       "      <td>0.7882</td>\n",
       "      <td>7.0</td>\n",
       "      <td>test5</td>\n",
       "    </tr>\n",
       "    <tr>\n",
       "      <th>47</th>\n",
       "      <td>archi_random_8_v</td>\n",
       "      <td>79.826793</td>\n",
       "      <td>0.05153364449184155</td>\n",
       "      <td>0.9847</td>\n",
       "      <td>9.0</td>\n",
       "      <td>test5</td>\n",
       "    </tr>\n",
       "    <tr>\n",
       "      <th>48</th>\n",
       "      <td>archi_random_9_v</td>\n",
       "      <td>89.967481</td>\n",
       "      <td>0.4208268416404724</td>\n",
       "      <td>0.8690</td>\n",
       "      <td>8.0</td>\n",
       "      <td>test5</td>\n",
       "    </tr>\n",
       "    <tr>\n",
       "      <th>49</th>\n",
       "      <td>archi_random_10_v</td>\n",
       "      <td>81.815753</td>\n",
       "      <td>0.0887117653799709</td>\n",
       "      <td>0.9775</td>\n",
       "      <td>7.0</td>\n",
       "      <td>test5</td>\n",
       "    </tr>\n",
       "  </tbody>\n",
       "</table>\n",
       "</div>"
      ],
      "text/plain": [
       "            file_name  training_time(s)          result_loss  result_acc  \\\n",
       "30   archi_random_1_v         78.577000  0.07949067450854927      0.9749   \n",
       "31   archi_random_2_v         26.064321   0.3050533406496048      0.9019   \n",
       "32   archi_random_3_v         38.000784   0.9061476766586304      0.6993   \n",
       "33   archi_random_4_v         32.505703  0.49440958783626554      0.8485   \n",
       "34   archi_random_5_v        174.221448  0.08991098543666304      0.9727   \n",
       "35   archi_random_6_v        126.103547  0.06494664726108312      0.9795   \n",
       "36   archi_random_7_v         39.659550  0.21348144231140614      0.9326   \n",
       "37   archi_random_8_v         62.830789   0.1700618218511343      0.9467   \n",
       "38   archi_random_9_v         72.800281  0.07581218082737178      0.9733   \n",
       "39  archi_random_10_v        173.105033  0.04451985499598086      0.9867   \n",
       "40   archi_random_1_v         80.436753  0.28769842363297937      0.9085   \n",
       "41   archi_random_2_v         78.281544  0.07176919159367681      0.9763   \n",
       "42   archi_random_3_v         99.566410  0.08566732091791927      0.9713   \n",
       "43   archi_random_4_v         72.470139  0.07129717184931506      0.9798   \n",
       "44   archi_random_5_v         80.335786   0.0983532029479742      0.9684   \n",
       "45   archi_random_6_v         77.240802   0.1079084203535691      0.9665   \n",
       "46   archi_random_7_v         68.080561   0.6093278242111206      0.7882   \n",
       "47   archi_random_8_v         79.826793  0.05153364449184155      0.9847   \n",
       "48   archi_random_9_v         89.967481   0.4208268416404724      0.8690   \n",
       "49  archi_random_10_v         81.815753   0.0887117653799709      0.9775   \n",
       "\n",
       "    nb_layers   test  \n",
       "30        NaN  test4  \n",
       "31        NaN  test4  \n",
       "32        NaN  test4  \n",
       "33        NaN  test4  \n",
       "34        NaN  test4  \n",
       "35        NaN  test4  \n",
       "36        NaN  test4  \n",
       "37        NaN  test4  \n",
       "38        NaN  test4  \n",
       "39        NaN  test4  \n",
       "40        7.0  test5  \n",
       "41       10.0  test5  \n",
       "42        7.0  test5  \n",
       "43        4.0  test5  \n",
       "44        5.0  test5  \n",
       "45        8.0  test5  \n",
       "46        7.0  test5  \n",
       "47        9.0  test5  \n",
       "48        8.0  test5  \n",
       "49        7.0  test5  "
      ]
     },
     "execution_count": 52,
     "metadata": {},
     "output_type": "execute_result"
    }
   ],
   "source": [
    "test4vs5['test'] = ['test4','test4','test4','test4','test4','test4','test4','test4','test4','test4',\n",
    "                    'test5','test5','test5','test5','test5','test5','test5','test5','test5','test5']\n",
    "test4vs5['training_time(s)'] = test4_train_time + test5_train_time\n",
    "test4vs5['result_acc'] = test4_result_acc + test5_result_acc\n",
    "\n",
    "test4vs5"
   ]
  },
  {
   "cell_type": "code",
   "execution_count": 53,
   "metadata": {},
   "outputs": [
    {
     "data": {
      "text/plain": [
       "<seaborn.axisgrid.FacetGrid at 0x23c6ae68ac8>"
      ]
     },
     "execution_count": 53,
     "metadata": {},
     "output_type": "execute_result"
    },
    {
     "data": {
      "image/png": "[encoded data removed]",
      "text/plain": [
       "<Figure size 421.5x360 with 1 Axes>"
      ]
     },
     "metadata": {
      "needs_background": "light"
     },
     "output_type": "display_data"
    }
   ],
   "source": [
    "sns.lmplot(\n",
    "    x='training_time(s)',\n",
    "    y='result_acc',\n",
    "    data=test4vs5,\n",
    "    hue='test',\n",
    "    fit_reg=False,\n",
    "    markers=[\"o\", \"x\"]\n",
    ")"
   ]
  },
  {
   "cell_type": "code",
   "execution_count": 54,
   "metadata": {},
   "outputs": [
    {
     "data": {
      "text/plain": [
       "<AxesSubplot:xlabel='test', ylabel='result_acc'>"
      ]
     },
     "execution_count": 54,
     "metadata": {},
     "output_type": "execute_result"
    },
    {
     "data": {
      "image/png": "[encoded data removed]",
      "text/plain": [
       "<Figure size 432x288 with 1 Axes>"
      ]
     },
     "metadata": {
      "needs_background": "light"
     },
     "output_type": "display_data"
    }
   ],
   "source": [
    "sns.boxplot(y='result_acc', x='test', data=test4vs5)"
   ]
  },
  {
   "cell_type": "code",
   "execution_count": 55,
   "metadata": {},
   "outputs": [
    {
     "data": {
      "text/plain": [
       "<AxesSubplot:xlabel='test', ylabel='training_time(s)'>"
      ]
     },
     "execution_count": 55,
     "metadata": {},
     "output_type": "execute_result"
    },
    {
     "data": {
      "image/png": "[encoded data removed]",
      "text/plain": [
       "<Figure size 432x288 with 1 Axes>"
      ]
     },
     "metadata": {
      "needs_background": "light"
     },
     "output_type": "display_data"
    }
   ],
   "source": [
    "sns.boxplot(y='training_time(s)', x='test', data=test4vs5)"
   ]
  },
  {
   "cell_type": "markdown",
   "metadata": {},
   "source": [
    "# Test 6 : Changing Of datasets\n",
    "- add data : nb_layers\n",
    "- Changing data set cifar10"
   ]
  },
  {
   "cell_type": "code",
   "execution_count": 56,
   "metadata": {},
   "outputs": [],
   "source": [
    "test6 = data[50:60]"
   ]
  },
  {
   "cell_type": "code",
   "execution_count": 57,
   "metadata": {},
   "outputs": [
    {
     "data": {
      "text/html": [
       "<div>\n",
       "<style scoped>\n",
       "    .dataframe tbody tr th:only-of-type {\n",
       "        vertical-align: middle;\n",
       "    }\n",
       "\n",
       "    .dataframe tbody tr th {\n",
       "        vertical-align: top;\n",
       "    }\n",
       "\n",
       "    .dataframe thead th {\n",
       "        text-align: right;\n",
       "    }\n",
       "</style>\n",
       "<table border=\"1\" class=\"dataframe\">\n",
       "  <thead>\n",
       "    <tr style=\"text-align: right;\">\n",
       "      <th></th>\n",
       "      <th>file_name</th>\n",
       "      <th>training_time(s)</th>\n",
       "      <th>result_loss</th>\n",
       "      <th>result_acc</th>\n",
       "      <th>nb_layers</th>\n",
       "    </tr>\n",
       "  </thead>\n",
       "  <tbody>\n",
       "    <tr>\n",
       "      <th>50</th>\n",
       "      <td>archi_random_1_v</td>\n",
       "      <td>284.356250</td>\n",
       "      <td>1.319706752204895</td>\n",
       "      <td>0.5354</td>\n",
       "      <td>8.0</td>\n",
       "    </tr>\n",
       "    <tr>\n",
       "      <th>51</th>\n",
       "      <td>archi_random_2_v</td>\n",
       "      <td>79.453151</td>\n",
       "      <td>1.3215685962677002</td>\n",
       "      <td>0.5299</td>\n",
       "      <td>6.0</td>\n",
       "    </tr>\n",
       "    <tr>\n",
       "      <th>52</th>\n",
       "      <td>archi_random_3_v</td>\n",
       "      <td>158.337115</td>\n",
       "      <td>0.9997873784065247</td>\n",
       "      <td>0.6487</td>\n",
       "      <td>10.0</td>\n",
       "    </tr>\n",
       "    <tr>\n",
       "      <th>53</th>\n",
       "      <td>archi_random_4_v</td>\n",
       "      <td>129.075104</td>\n",
       "      <td>1.6409194267272948</td>\n",
       "      <td>0.4081</td>\n",
       "      <td>8.0</td>\n",
       "    </tr>\n",
       "    <tr>\n",
       "      <th>54</th>\n",
       "      <td>archi_random_5_v</td>\n",
       "      <td>88.212016</td>\n",
       "      <td>1.2060903049468994</td>\n",
       "      <td>0.5706</td>\n",
       "      <td>9.0</td>\n",
       "    </tr>\n",
       "    <tr>\n",
       "      <th>55</th>\n",
       "      <td>archi_random_6_v</td>\n",
       "      <td>112.049885</td>\n",
       "      <td>0.9318056460380554</td>\n",
       "      <td>0.673</td>\n",
       "      <td>8.0</td>\n",
       "    </tr>\n",
       "    <tr>\n",
       "      <th>56</th>\n",
       "      <td>archi_random_7_v</td>\n",
       "      <td>103.088376</td>\n",
       "      <td>1.491281233406067</td>\n",
       "      <td>0.4531</td>\n",
       "      <td>8.0</td>\n",
       "    </tr>\n",
       "    <tr>\n",
       "      <th>57</th>\n",
       "      <td>archi_random_8_v</td>\n",
       "      <td>311.520396</td>\n",
       "      <td>1.0762317874908447</td>\n",
       "      <td>0.6487</td>\n",
       "      <td>6.0</td>\n",
       "    </tr>\n",
       "    <tr>\n",
       "      <th>58</th>\n",
       "      <td>archi_random_9_v</td>\n",
       "      <td>127.572627</td>\n",
       "      <td>1.304471019744873</td>\n",
       "      <td>0.5345</td>\n",
       "      <td>7.0</td>\n",
       "    </tr>\n",
       "    <tr>\n",
       "      <th>59</th>\n",
       "      <td>archi_random_10_v</td>\n",
       "      <td>91.236719</td>\n",
       "      <td>1.0980583166122437</td>\n",
       "      <td>0.6147</td>\n",
       "      <td>6.0</td>\n",
       "    </tr>\n",
       "  </tbody>\n",
       "</table>\n",
       "</div>"
      ],
      "text/plain": [
       "            file_name  training_time(s)         result_loss result_acc  \\\n",
       "50   archi_random_1_v        284.356250   1.319706752204895     0.5354   \n",
       "51   archi_random_2_v         79.453151  1.3215685962677002     0.5299   \n",
       "52   archi_random_3_v        158.337115  0.9997873784065247     0.6487   \n",
       "53   archi_random_4_v        129.075104  1.6409194267272948     0.4081   \n",
       "54   archi_random_5_v         88.212016  1.2060903049468994     0.5706   \n",
       "55   archi_random_6_v        112.049885  0.9318056460380554      0.673   \n",
       "56   archi_random_7_v        103.088376   1.491281233406067     0.4531   \n",
       "57   archi_random_8_v        311.520396  1.0762317874908447     0.6487   \n",
       "58   archi_random_9_v        127.572627   1.304471019744873     0.5345   \n",
       "59  archi_random_10_v         91.236719  1.0980583166122437     0.6147   \n",
       "\n",
       "    nb_layers  \n",
       "50        8.0  \n",
       "51        6.0  \n",
       "52       10.0  \n",
       "53        8.0  \n",
       "54        9.0  \n",
       "55        8.0  \n",
       "56        8.0  \n",
       "57        6.0  \n",
       "58        7.0  \n",
       "59        6.0  "
      ]
     },
     "execution_count": 57,
     "metadata": {},
     "output_type": "execute_result"
    }
   ],
   "source": [
    "test6"
   ]
  },
  {
   "cell_type": "code",
   "execution_count": 58,
   "metadata": {},
   "outputs": [],
   "source": [
    "test6_result_acc = str_to_float(test6['result_acc'])\n",
    "test6_train_time = str_to_float(test6['training_time(s)'])"
   ]
  },
  {
   "cell_type": "code",
   "execution_count": 59,
   "metadata": {},
   "outputs": [],
   "source": [
    "test6_result_mean = mean(test6_result_acc)\n",
    "test6_time_mean = mean(test6_train_time)"
   ]
  },
  {
   "cell_type": "code",
   "execution_count": 60,
   "metadata": {},
   "outputs": [
    {
     "data": {
      "text/plain": [
       "148.49016385078428"
      ]
     },
     "execution_count": 60,
     "metadata": {},
     "output_type": "execute_result"
    }
   ],
   "source": [
    "test6_time_mean"
   ]
  },
  {
   "cell_type": "code",
   "execution_count": 61,
   "metadata": {},
   "outputs": [
    {
     "data": {
      "text/plain": [
       "0.56167"
      ]
     },
     "execution_count": 61,
     "metadata": {},
     "output_type": "execute_result"
    }
   ],
   "source": [
    "test6_result_mean"
   ]
  },
  {
   "cell_type": "markdown",
   "metadata": {},
   "source": [
    "# Test 5 vs Test 6"
   ]
  },
  {
   "cell_type": "code",
   "execution_count": 62,
   "metadata": {},
   "outputs": [],
   "source": [
    "test5vs6 = pd.concat([test5,test6])"
   ]
  },
  {
   "cell_type": "code",
   "execution_count": 63,
   "metadata": {},
   "outputs": [
    {
     "data": {
      "text/html": [
       "<div>\n",
       "<style scoped>\n",
       "    .dataframe tbody tr th:only-of-type {\n",
       "        vertical-align: middle;\n",
       "    }\n",
       "\n",
       "    .dataframe tbody tr th {\n",
       "        vertical-align: top;\n",
       "    }\n",
       "\n",
       "    .dataframe thead th {\n",
       "        text-align: right;\n",
       "    }\n",
       "</style>\n",
       "<table border=\"1\" class=\"dataframe\">\n",
       "  <thead>\n",
       "    <tr style=\"text-align: right;\">\n",
       "      <th></th>\n",
       "      <th>file_name</th>\n",
       "      <th>training_time(s)</th>\n",
       "      <th>result_loss</th>\n",
       "      <th>result_acc</th>\n",
       "      <th>nb_layers</th>\n",
       "      <th>test</th>\n",
       "    </tr>\n",
       "  </thead>\n",
       "  <tbody>\n",
       "    <tr>\n",
       "      <th>40</th>\n",
       "      <td>archi_random_1_v</td>\n",
       "      <td>80.436753</td>\n",
       "      <td>0.28769842363297937</td>\n",
       "      <td>0.9085</td>\n",
       "      <td>7.0</td>\n",
       "      <td>test5</td>\n",
       "    </tr>\n",
       "    <tr>\n",
       "      <th>41</th>\n",
       "      <td>archi_random_2_v</td>\n",
       "      <td>78.281544</td>\n",
       "      <td>0.07176919159367681</td>\n",
       "      <td>0.9763</td>\n",
       "      <td>10.0</td>\n",
       "      <td>test5</td>\n",
       "    </tr>\n",
       "    <tr>\n",
       "      <th>42</th>\n",
       "      <td>archi_random_3_v</td>\n",
       "      <td>99.566410</td>\n",
       "      <td>0.08566732091791927</td>\n",
       "      <td>0.9713</td>\n",
       "      <td>7.0</td>\n",
       "      <td>test5</td>\n",
       "    </tr>\n",
       "    <tr>\n",
       "      <th>43</th>\n",
       "      <td>archi_random_4_v</td>\n",
       "      <td>72.470139</td>\n",
       "      <td>0.07129717184931506</td>\n",
       "      <td>0.9798</td>\n",
       "      <td>4.0</td>\n",
       "      <td>test5</td>\n",
       "    </tr>\n",
       "    <tr>\n",
       "      <th>44</th>\n",
       "      <td>archi_random_5_v</td>\n",
       "      <td>80.335786</td>\n",
       "      <td>0.0983532029479742</td>\n",
       "      <td>0.9684</td>\n",
       "      <td>5.0</td>\n",
       "      <td>test5</td>\n",
       "    </tr>\n",
       "    <tr>\n",
       "      <th>45</th>\n",
       "      <td>archi_random_6_v</td>\n",
       "      <td>77.240802</td>\n",
       "      <td>0.1079084203535691</td>\n",
       "      <td>0.9665</td>\n",
       "      <td>8.0</td>\n",
       "      <td>test5</td>\n",
       "    </tr>\n",
       "    <tr>\n",
       "      <th>46</th>\n",
       "      <td>archi_random_7_v</td>\n",
       "      <td>68.080561</td>\n",
       "      <td>0.6093278242111206</td>\n",
       "      <td>0.7882</td>\n",
       "      <td>7.0</td>\n",
       "      <td>test5</td>\n",
       "    </tr>\n",
       "    <tr>\n",
       "      <th>47</th>\n",
       "      <td>archi_random_8_v</td>\n",
       "      <td>79.826793</td>\n",
       "      <td>0.05153364449184155</td>\n",
       "      <td>0.9847</td>\n",
       "      <td>9.0</td>\n",
       "      <td>test5</td>\n",
       "    </tr>\n",
       "    <tr>\n",
       "      <th>48</th>\n",
       "      <td>archi_random_9_v</td>\n",
       "      <td>89.967481</td>\n",
       "      <td>0.4208268416404724</td>\n",
       "      <td>0.8690</td>\n",
       "      <td>8.0</td>\n",
       "      <td>test5</td>\n",
       "    </tr>\n",
       "    <tr>\n",
       "      <th>49</th>\n",
       "      <td>archi_random_10_v</td>\n",
       "      <td>81.815753</td>\n",
       "      <td>0.0887117653799709</td>\n",
       "      <td>0.9775</td>\n",
       "      <td>7.0</td>\n",
       "      <td>test5</td>\n",
       "    </tr>\n",
       "    <tr>\n",
       "      <th>50</th>\n",
       "      <td>archi_random_1_v</td>\n",
       "      <td>284.356250</td>\n",
       "      <td>1.319706752204895</td>\n",
       "      <td>0.5354</td>\n",
       "      <td>8.0</td>\n",
       "      <td>test6</td>\n",
       "    </tr>\n",
       "    <tr>\n",
       "      <th>51</th>\n",
       "      <td>archi_random_2_v</td>\n",
       "      <td>79.453151</td>\n",
       "      <td>1.3215685962677002</td>\n",
       "      <td>0.5299</td>\n",
       "      <td>6.0</td>\n",
       "      <td>test6</td>\n",
       "    </tr>\n",
       "    <tr>\n",
       "      <th>52</th>\n",
       "      <td>archi_random_3_v</td>\n",
       "      <td>158.337115</td>\n",
       "      <td>0.9997873784065247</td>\n",
       "      <td>0.6487</td>\n",
       "      <td>10.0</td>\n",
       "      <td>test6</td>\n",
       "    </tr>\n",
       "    <tr>\n",
       "      <th>53</th>\n",
       "      <td>archi_random_4_v</td>\n",
       "      <td>129.075104</td>\n",
       "      <td>1.6409194267272948</td>\n",
       "      <td>0.4081</td>\n",
       "      <td>8.0</td>\n",
       "      <td>test6</td>\n",
       "    </tr>\n",
       "    <tr>\n",
       "      <th>54</th>\n",
       "      <td>archi_random_5_v</td>\n",
       "      <td>88.212016</td>\n",
       "      <td>1.2060903049468994</td>\n",
       "      <td>0.5706</td>\n",
       "      <td>9.0</td>\n",
       "      <td>test6</td>\n",
       "    </tr>\n",
       "    <tr>\n",
       "      <th>55</th>\n",
       "      <td>archi_random_6_v</td>\n",
       "      <td>112.049885</td>\n",
       "      <td>0.9318056460380554</td>\n",
       "      <td>0.6730</td>\n",
       "      <td>8.0</td>\n",
       "      <td>test6</td>\n",
       "    </tr>\n",
       "    <tr>\n",
       "      <th>56</th>\n",
       "      <td>archi_random_7_v</td>\n",
       "      <td>103.088376</td>\n",
       "      <td>1.491281233406067</td>\n",
       "      <td>0.4531</td>\n",
       "      <td>8.0</td>\n",
       "      <td>test6</td>\n",
       "    </tr>\n",
       "    <tr>\n",
       "      <th>57</th>\n",
       "      <td>archi_random_8_v</td>\n",
       "      <td>311.520396</td>\n",
       "      <td>1.0762317874908447</td>\n",
       "      <td>0.6487</td>\n",
       "      <td>6.0</td>\n",
       "      <td>test6</td>\n",
       "    </tr>\n",
       "    <tr>\n",
       "      <th>58</th>\n",
       "      <td>archi_random_9_v</td>\n",
       "      <td>127.572627</td>\n",
       "      <td>1.304471019744873</td>\n",
       "      <td>0.5345</td>\n",
       "      <td>7.0</td>\n",
       "      <td>test6</td>\n",
       "    </tr>\n",
       "    <tr>\n",
       "      <th>59</th>\n",
       "      <td>archi_random_10_v</td>\n",
       "      <td>91.236719</td>\n",
       "      <td>1.0980583166122437</td>\n",
       "      <td>0.6147</td>\n",
       "      <td>6.0</td>\n",
       "      <td>test6</td>\n",
       "    </tr>\n",
       "  </tbody>\n",
       "</table>\n",
       "</div>"
      ],
      "text/plain": [
       "            file_name  training_time(s)          result_loss  result_acc  \\\n",
       "40   archi_random_1_v         80.436753  0.28769842363297937      0.9085   \n",
       "41   archi_random_2_v         78.281544  0.07176919159367681      0.9763   \n",
       "42   archi_random_3_v         99.566410  0.08566732091791927      0.9713   \n",
       "43   archi_random_4_v         72.470139  0.07129717184931506      0.9798   \n",
       "44   archi_random_5_v         80.335786   0.0983532029479742      0.9684   \n",
       "45   archi_random_6_v         77.240802   0.1079084203535691      0.9665   \n",
       "46   archi_random_7_v         68.080561   0.6093278242111206      0.7882   \n",
       "47   archi_random_8_v         79.826793  0.05153364449184155      0.9847   \n",
       "48   archi_random_9_v         89.967481   0.4208268416404724      0.8690   \n",
       "49  archi_random_10_v         81.815753   0.0887117653799709      0.9775   \n",
       "50   archi_random_1_v        284.356250    1.319706752204895      0.5354   \n",
       "51   archi_random_2_v         79.453151   1.3215685962677002      0.5299   \n",
       "52   archi_random_3_v        158.337115   0.9997873784065247      0.6487   \n",
       "53   archi_random_4_v        129.075104   1.6409194267272948      0.4081   \n",
       "54   archi_random_5_v         88.212016   1.2060903049468994      0.5706   \n",
       "55   archi_random_6_v        112.049885   0.9318056460380554      0.6730   \n",
       "56   archi_random_7_v        103.088376    1.491281233406067      0.4531   \n",
       "57   archi_random_8_v        311.520396   1.0762317874908447      0.6487   \n",
       "58   archi_random_9_v        127.572627    1.304471019744873      0.5345   \n",
       "59  archi_random_10_v         91.236719   1.0980583166122437      0.6147   \n",
       "\n",
       "    nb_layers   test  \n",
       "40        7.0  test5  \n",
       "41       10.0  test5  \n",
       "42        7.0  test5  \n",
       "43        4.0  test5  \n",
       "44        5.0  test5  \n",
       "45        8.0  test5  \n",
       "46        7.0  test5  \n",
       "47        9.0  test5  \n",
       "48        8.0  test5  \n",
       "49        7.0  test5  \n",
       "50        8.0  test6  \n",
       "51        6.0  test6  \n",
       "52       10.0  test6  \n",
       "53        8.0  test6  \n",
       "54        9.0  test6  \n",
       "55        8.0  test6  \n",
       "56        8.0  test6  \n",
       "57        6.0  test6  \n",
       "58        7.0  test6  \n",
       "59        6.0  test6  "
      ]
     },
     "execution_count": 63,
     "metadata": {},
     "output_type": "execute_result"
    }
   ],
   "source": [
    "test5vs6['test'] = ['test5','test5','test5','test5','test5','test5','test5','test5','test5','test5',\n",
    "                    'test6','test6','test6','test6','test6','test6','test6','test6','test6','test6']\n",
    "test5vs6['training_time(s)'] = test5_train_time + test6_train_time\n",
    "test5vs6['result_acc'] = test5_result_acc + test6_result_acc\n",
    "\n",
    "test5vs6"
   ]
  },
  {
   "cell_type": "code",
   "execution_count": 64,
   "metadata": {},
   "outputs": [
    {
     "data": {
      "text/plain": [
       "<seaborn.axisgrid.FacetGrid at 0x23c6b3436c8>"
      ]
     },
     "execution_count": 64,
     "metadata": {},
     "output_type": "execute_result"
    },
    {
     "data": {
      "image/png": "[encoded data removed]",
      "text/plain": [
       "<Figure size 421.5x360 with 1 Axes>"
      ]
     },
     "metadata": {
      "needs_background": "light"
     },
     "output_type": "display_data"
    }
   ],
   "source": [
    "sns.lmplot(\n",
    "    x='training_time(s)',\n",
    "    y='nb_layers',\n",
    "    data=test5vs6,\n",
    "    hue='test',\n",
    "    fit_reg=False,\n",
    "    markers=[\"o\", \"x\"]\n",
    ")"
   ]
  },
  {
   "cell_type": "code",
   "execution_count": 65,
   "metadata": {},
   "outputs": [
    {
     "data": {
      "text/plain": [
       "<seaborn.axisgrid.FacetGrid at 0x23c6b209d48>"
      ]
     },
     "execution_count": 65,
     "metadata": {},
     "output_type": "execute_result"
    },
    {
     "data": {
      "image/png": "[encoded data removed]",
      "text/plain": [
       "<Figure size 421.5x360 with 1 Axes>"
      ]
     },
     "metadata": {
      "needs_background": "light"
     },
     "output_type": "display_data"
    }
   ],
   "source": [
    "sns.lmplot(\n",
    "    x='training_time(s)',\n",
    "    y='result_acc',\n",
    "    data=test5vs6,\n",
    "    hue='test',\n",
    "    fit_reg=False,\n",
    "    markers=[\"o\", \"x\"]\n",
    ")"
   ]
  },
  {
   "cell_type": "code",
   "execution_count": 66,
   "metadata": {},
   "outputs": [
    {
     "data": {
      "text/plain": [
       "<seaborn.axisgrid.FacetGrid at 0x23c6c3d32c8>"
      ]
     },
     "execution_count": 66,
     "metadata": {},
     "output_type": "execute_result"
    },
    {
     "data": {
      "image/png": "[encoded data removed]",
      "text/plain": [
       "<Figure size 421.5x360 with 1 Axes>"
      ]
     },
     "metadata": {
      "needs_background": "light"
     },
     "output_type": "display_data"
    }
   ],
   "source": [
    "sns.lmplot(\n",
    "    x='nb_layers',\n",
    "    y='result_acc',\n",
    "    data=test5vs6,\n",
    "    hue='test',\n",
    "    fit_reg=False,\n",
    "    markers=[\"o\", \"x\"]\n",
    ")"
   ]
  },
  {
   "cell_type": "code",
   "execution_count": 67,
   "metadata": {},
   "outputs": [
    {
     "data": {
      "text/plain": [
       "<AxesSubplot:xlabel='test', ylabel='result_acc'>"
      ]
     },
     "execution_count": 67,
     "metadata": {},
     "output_type": "execute_result"
    },
    {
     "data": {
      "image/png": "[encoded data removed]",
      "text/plain": [
       "<Figure size 432x288 with 1 Axes>"
      ]
     },
     "metadata": {
      "needs_background": "light"
     },
     "output_type": "display_data"
    }
   ],
   "source": [
    "sns.boxplot(y='result_acc', x='test', data=test5vs6)"
   ]
  },
  {
   "cell_type": "code",
   "execution_count": 68,
   "metadata": {},
   "outputs": [
    {
     "data": {
      "text/plain": [
       "<AxesSubplot:xlabel='test', ylabel='training_time(s)'>"
      ]
     },
     "execution_count": 68,
     "metadata": {},
     "output_type": "execute_result"
    },
    {
     "data": {
      "image/png": "[encoded data removed]",
      "text/plain": [
       "<Figure size 432x288 with 1 Axes>"
      ]
     },
     "metadata": {
      "needs_background": "light"
     },
     "output_type": "display_data"
    }
   ],
   "source": [
    "sns.boxplot(y='training_time(s)', x='test', data=test5vs6)"
   ]
  },
  {
   "cell_type": "markdown",
   "metadata": {},
   "source": [
    "# Test 7 : Be more permisive\n",
    "- kernel >= stride\n",
    "- Dense random but units descendent"
   ]
  },
  {
   "cell_type": "code",
   "execution_count": 69,
   "metadata": {},
   "outputs": [],
   "source": [
    "test7 = data[60:70]"
   ]
  },
  {
   "cell_type": "code",
   "execution_count": 70,
   "metadata": {},
   "outputs": [
    {
     "data": {
      "text/html": [
       "<div>\n",
       "<style scoped>\n",
       "    .dataframe tbody tr th:only-of-type {\n",
       "        vertical-align: middle;\n",
       "    }\n",
       "\n",
       "    .dataframe tbody tr th {\n",
       "        vertical-align: top;\n",
       "    }\n",
       "\n",
       "    .dataframe thead th {\n",
       "        text-align: right;\n",
       "    }\n",
       "</style>\n",
       "<table border=\"1\" class=\"dataframe\">\n",
       "  <thead>\n",
       "    <tr style=\"text-align: right;\">\n",
       "      <th></th>\n",
       "      <th>file_name</th>\n",
       "      <th>training_time(s)</th>\n",
       "      <th>result_loss</th>\n",
       "      <th>result_acc</th>\n",
       "      <th>nb_layers</th>\n",
       "    </tr>\n",
       "  </thead>\n",
       "  <tbody>\n",
       "    <tr>\n",
       "      <th>60</th>\n",
       "      <td>archi_random_1_v</td>\n",
       "      <td>66.665968</td>\n",
       "      <td>1.4559755561828613</td>\n",
       "      <td>0.4941</td>\n",
       "      <td>11.0</td>\n",
       "    </tr>\n",
       "    <tr>\n",
       "      <th>61</th>\n",
       "      <td>archi_random_2_v</td>\n",
       "      <td>54.907562</td>\n",
       "      <td>1.226189895629883</td>\n",
       "      <td>0.5598</td>\n",
       "      <td>8.0</td>\n",
       "    </tr>\n",
       "    <tr>\n",
       "      <th>62</th>\n",
       "      <td>archi_random_3_v</td>\n",
       "      <td>85.760657</td>\n",
       "      <td>1.0567114471435546</td>\n",
       "      <td>0.6326</td>\n",
       "      <td>8.0</td>\n",
       "    </tr>\n",
       "    <tr>\n",
       "      <th>63</th>\n",
       "      <td>archi_random_4_v</td>\n",
       "      <td>150.838108</td>\n",
       "      <td>2.3026193523406984</td>\n",
       "      <td>0.1</td>\n",
       "      <td>12.0</td>\n",
       "    </tr>\n",
       "    <tr>\n",
       "      <th>64</th>\n",
       "      <td>archi_random_5_v</td>\n",
       "      <td>105.398270</td>\n",
       "      <td>2.3026360931396486</td>\n",
       "      <td>0.1</td>\n",
       "      <td>12.0</td>\n",
       "    </tr>\n",
       "    <tr>\n",
       "      <th>65</th>\n",
       "      <td>archi_random_6_v</td>\n",
       "      <td>107.269466</td>\n",
       "      <td>1.3648234617233277</td>\n",
       "      <td>0.5139</td>\n",
       "      <td>14.0</td>\n",
       "    </tr>\n",
       "    <tr>\n",
       "      <th>66</th>\n",
       "      <td>archi_random_7_v</td>\n",
       "      <td>59.813792</td>\n",
       "      <td>1.0785408752441406</td>\n",
       "      <td>0.6318</td>\n",
       "      <td>7.0</td>\n",
       "    </tr>\n",
       "    <tr>\n",
       "      <th>67</th>\n",
       "      <td>archi_random_8_v</td>\n",
       "      <td>40.819419</td>\n",
       "      <td>1.1243187145233153</td>\n",
       "      <td>0.6057</td>\n",
       "      <td>10.0</td>\n",
       "    </tr>\n",
       "    <tr>\n",
       "      <th>68</th>\n",
       "      <td>archi_random_9_v</td>\n",
       "      <td>264.545941</td>\n",
       "      <td>2.313665362548828</td>\n",
       "      <td>0.1</td>\n",
       "      <td>14.0</td>\n",
       "    </tr>\n",
       "    <tr>\n",
       "      <th>69</th>\n",
       "      <td>archi_random_10_v</td>\n",
       "      <td>112.826608</td>\n",
       "      <td>1.4747041839599608</td>\n",
       "      <td>0.4717</td>\n",
       "      <td>11.0</td>\n",
       "    </tr>\n",
       "  </tbody>\n",
       "</table>\n",
       "</div>"
      ],
      "text/plain": [
       "            file_name  training_time(s)         result_loss result_acc  \\\n",
       "60   archi_random_1_v         66.665968  1.4559755561828613     0.4941   \n",
       "61   archi_random_2_v         54.907562   1.226189895629883     0.5598   \n",
       "62   archi_random_3_v         85.760657  1.0567114471435546     0.6326   \n",
       "63   archi_random_4_v        150.838108  2.3026193523406984        0.1   \n",
       "64   archi_random_5_v        105.398270  2.3026360931396486        0.1   \n",
       "65   archi_random_6_v        107.269466  1.3648234617233277     0.5139   \n",
       "66   archi_random_7_v         59.813792  1.0785408752441406     0.6318   \n",
       "67   archi_random_8_v         40.819419  1.1243187145233153     0.6057   \n",
       "68   archi_random_9_v        264.545941   2.313665362548828        0.1   \n",
       "69  archi_random_10_v        112.826608  1.4747041839599608     0.4717   \n",
       "\n",
       "    nb_layers  \n",
       "60       11.0  \n",
       "61        8.0  \n",
       "62        8.0  \n",
       "63       12.0  \n",
       "64       12.0  \n",
       "65       14.0  \n",
       "66        7.0  \n",
       "67       10.0  \n",
       "68       14.0  \n",
       "69       11.0  "
      ]
     },
     "execution_count": 70,
     "metadata": {},
     "output_type": "execute_result"
    }
   ],
   "source": [
    "test7"
   ]
  },
  {
   "cell_type": "code",
   "execution_count": 71,
   "metadata": {},
   "outputs": [],
   "source": [
    "test7_result_acc = str_to_float(test7['result_acc'])\n",
    "test7_train_time = str_to_float(test7['training_time(s)'])"
   ]
  },
  {
   "cell_type": "code",
   "execution_count": 72,
   "metadata": {},
   "outputs": [],
   "source": [
    "test7_result_mean = mean(test7_result_acc)\n",
    "test7_time_mean = mean(test7_train_time)"
   ]
  },
  {
   "cell_type": "code",
   "execution_count": 73,
   "metadata": {},
   "outputs": [
    {
     "data": {
      "text/plain": [
       "0.42096"
      ]
     },
     "execution_count": 73,
     "metadata": {},
     "output_type": "execute_result"
    }
   ],
   "source": [
    "test7_result_mean"
   ]
  },
  {
   "cell_type": "code",
   "execution_count": 74,
   "metadata": {},
   "outputs": [
    {
     "data": {
      "text/plain": [
       "104.88457922935486"
      ]
     },
     "execution_count": 74,
     "metadata": {},
     "output_type": "execute_result"
    }
   ],
   "source": [
    "test7_time_mean"
   ]
  },
  {
   "cell_type": "markdown",
   "metadata": {},
   "source": [
    "# Test 5vs6vs7"
   ]
  },
  {
   "cell_type": "code",
   "execution_count": 75,
   "metadata": {},
   "outputs": [],
   "source": [
    "test6vs7 = pd.concat([test6,test7])"
   ]
  },
  {
   "cell_type": "code",
   "execution_count": 76,
   "metadata": {},
   "outputs": [
    {
     "data": {
      "text/html": [
       "<div>\n",
       "<style scoped>\n",
       "    .dataframe tbody tr th:only-of-type {\n",
       "        vertical-align: middle;\n",
       "    }\n",
       "\n",
       "    .dataframe tbody tr th {\n",
       "        vertical-align: top;\n",
       "    }\n",
       "\n",
       "    .dataframe thead th {\n",
       "        text-align: right;\n",
       "    }\n",
       "</style>\n",
       "<table border=\"1\" class=\"dataframe\">\n",
       "  <thead>\n",
       "    <tr style=\"text-align: right;\">\n",
       "      <th></th>\n",
       "      <th>file_name</th>\n",
       "      <th>training_time(s)</th>\n",
       "      <th>result_loss</th>\n",
       "      <th>result_acc</th>\n",
       "      <th>nb_layers</th>\n",
       "      <th>test</th>\n",
       "    </tr>\n",
       "  </thead>\n",
       "  <tbody>\n",
       "    <tr>\n",
       "      <th>50</th>\n",
       "      <td>archi_random_1_v</td>\n",
       "      <td>284.356250</td>\n",
       "      <td>1.319706752204895</td>\n",
       "      <td>0.5354</td>\n",
       "      <td>8.0</td>\n",
       "      <td>test6</td>\n",
       "    </tr>\n",
       "    <tr>\n",
       "      <th>51</th>\n",
       "      <td>archi_random_2_v</td>\n",
       "      <td>79.453151</td>\n",
       "      <td>1.3215685962677002</td>\n",
       "      <td>0.5299</td>\n",
       "      <td>6.0</td>\n",
       "      <td>test6</td>\n",
       "    </tr>\n",
       "    <tr>\n",
       "      <th>52</th>\n",
       "      <td>archi_random_3_v</td>\n",
       "      <td>158.337115</td>\n",
       "      <td>0.9997873784065247</td>\n",
       "      <td>0.6487</td>\n",
       "      <td>10.0</td>\n",
       "      <td>test6</td>\n",
       "    </tr>\n",
       "    <tr>\n",
       "      <th>53</th>\n",
       "      <td>archi_random_4_v</td>\n",
       "      <td>129.075104</td>\n",
       "      <td>1.6409194267272948</td>\n",
       "      <td>0.4081</td>\n",
       "      <td>8.0</td>\n",
       "      <td>test6</td>\n",
       "    </tr>\n",
       "    <tr>\n",
       "      <th>54</th>\n",
       "      <td>archi_random_5_v</td>\n",
       "      <td>88.212016</td>\n",
       "      <td>1.2060903049468994</td>\n",
       "      <td>0.5706</td>\n",
       "      <td>9.0</td>\n",
       "      <td>test6</td>\n",
       "    </tr>\n",
       "    <tr>\n",
       "      <th>55</th>\n",
       "      <td>archi_random_6_v</td>\n",
       "      <td>112.049885</td>\n",
       "      <td>0.9318056460380554</td>\n",
       "      <td>0.6730</td>\n",
       "      <td>8.0</td>\n",
       "      <td>test6</td>\n",
       "    </tr>\n",
       "    <tr>\n",
       "      <th>56</th>\n",
       "      <td>archi_random_7_v</td>\n",
       "      <td>103.088376</td>\n",
       "      <td>1.491281233406067</td>\n",
       "      <td>0.4531</td>\n",
       "      <td>8.0</td>\n",
       "      <td>test6</td>\n",
       "    </tr>\n",
       "    <tr>\n",
       "      <th>57</th>\n",
       "      <td>archi_random_8_v</td>\n",
       "      <td>311.520396</td>\n",
       "      <td>1.0762317874908447</td>\n",
       "      <td>0.6487</td>\n",
       "      <td>6.0</td>\n",
       "      <td>test6</td>\n",
       "    </tr>\n",
       "    <tr>\n",
       "      <th>58</th>\n",
       "      <td>archi_random_9_v</td>\n",
       "      <td>127.572627</td>\n",
       "      <td>1.304471019744873</td>\n",
       "      <td>0.5345</td>\n",
       "      <td>7.0</td>\n",
       "      <td>test6</td>\n",
       "    </tr>\n",
       "    <tr>\n",
       "      <th>59</th>\n",
       "      <td>archi_random_10_v</td>\n",
       "      <td>91.236719</td>\n",
       "      <td>1.0980583166122437</td>\n",
       "      <td>0.6147</td>\n",
       "      <td>6.0</td>\n",
       "      <td>test6</td>\n",
       "    </tr>\n",
       "    <tr>\n",
       "      <th>60</th>\n",
       "      <td>archi_random_1_v</td>\n",
       "      <td>66.665968</td>\n",
       "      <td>1.4559755561828613</td>\n",
       "      <td>0.4941</td>\n",
       "      <td>11.0</td>\n",
       "      <td>test7</td>\n",
       "    </tr>\n",
       "    <tr>\n",
       "      <th>61</th>\n",
       "      <td>archi_random_2_v</td>\n",
       "      <td>54.907562</td>\n",
       "      <td>1.226189895629883</td>\n",
       "      <td>0.5598</td>\n",
       "      <td>8.0</td>\n",
       "      <td>test7</td>\n",
       "    </tr>\n",
       "    <tr>\n",
       "      <th>62</th>\n",
       "      <td>archi_random_3_v</td>\n",
       "      <td>85.760657</td>\n",
       "      <td>1.0567114471435546</td>\n",
       "      <td>0.6326</td>\n",
       "      <td>8.0</td>\n",
       "      <td>test7</td>\n",
       "    </tr>\n",
       "    <tr>\n",
       "      <th>63</th>\n",
       "      <td>archi_random_4_v</td>\n",
       "      <td>150.838108</td>\n",
       "      <td>2.3026193523406984</td>\n",
       "      <td>0.1000</td>\n",
       "      <td>12.0</td>\n",
       "      <td>test7</td>\n",
       "    </tr>\n",
       "    <tr>\n",
       "      <th>64</th>\n",
       "      <td>archi_random_5_v</td>\n",
       "      <td>105.398270</td>\n",
       "      <td>2.3026360931396486</td>\n",
       "      <td>0.1000</td>\n",
       "      <td>12.0</td>\n",
       "      <td>test7</td>\n",
       "    </tr>\n",
       "    <tr>\n",
       "      <th>65</th>\n",
       "      <td>archi_random_6_v</td>\n",
       "      <td>107.269466</td>\n",
       "      <td>1.3648234617233277</td>\n",
       "      <td>0.5139</td>\n",
       "      <td>14.0</td>\n",
       "      <td>test7</td>\n",
       "    </tr>\n",
       "    <tr>\n",
       "      <th>66</th>\n",
       "      <td>archi_random_7_v</td>\n",
       "      <td>59.813792</td>\n",
       "      <td>1.0785408752441406</td>\n",
       "      <td>0.6318</td>\n",
       "      <td>7.0</td>\n",
       "      <td>test7</td>\n",
       "    </tr>\n",
       "    <tr>\n",
       "      <th>67</th>\n",
       "      <td>archi_random_8_v</td>\n",
       "      <td>40.819419</td>\n",
       "      <td>1.1243187145233153</td>\n",
       "      <td>0.6057</td>\n",
       "      <td>10.0</td>\n",
       "      <td>test7</td>\n",
       "    </tr>\n",
       "    <tr>\n",
       "      <th>68</th>\n",
       "      <td>archi_random_9_v</td>\n",
       "      <td>264.545941</td>\n",
       "      <td>2.313665362548828</td>\n",
       "      <td>0.1000</td>\n",
       "      <td>14.0</td>\n",
       "      <td>test7</td>\n",
       "    </tr>\n",
       "    <tr>\n",
       "      <th>69</th>\n",
       "      <td>archi_random_10_v</td>\n",
       "      <td>112.826608</td>\n",
       "      <td>1.4747041839599608</td>\n",
       "      <td>0.4717</td>\n",
       "      <td>11.0</td>\n",
       "      <td>test7</td>\n",
       "    </tr>\n",
       "  </tbody>\n",
       "</table>\n",
       "</div>"
      ],
      "text/plain": [
       "            file_name  training_time(s)         result_loss  result_acc  \\\n",
       "50   archi_random_1_v        284.356250   1.319706752204895      0.5354   \n",
       "51   archi_random_2_v         79.453151  1.3215685962677002      0.5299   \n",
       "52   archi_random_3_v        158.337115  0.9997873784065247      0.6487   \n",
       "53   archi_random_4_v        129.075104  1.6409194267272948      0.4081   \n",
       "54   archi_random_5_v         88.212016  1.2060903049468994      0.5706   \n",
       "55   archi_random_6_v        112.049885  0.9318056460380554      0.6730   \n",
       "56   archi_random_7_v        103.088376   1.491281233406067      0.4531   \n",
       "57   archi_random_8_v        311.520396  1.0762317874908447      0.6487   \n",
       "58   archi_random_9_v        127.572627   1.304471019744873      0.5345   \n",
       "59  archi_random_10_v         91.236719  1.0980583166122437      0.6147   \n",
       "60   archi_random_1_v         66.665968  1.4559755561828613      0.4941   \n",
       "61   archi_random_2_v         54.907562   1.226189895629883      0.5598   \n",
       "62   archi_random_3_v         85.760657  1.0567114471435546      0.6326   \n",
       "63   archi_random_4_v        150.838108  2.3026193523406984      0.1000   \n",
       "64   archi_random_5_v        105.398270  2.3026360931396486      0.1000   \n",
       "65   archi_random_6_v        107.269466  1.3648234617233277      0.5139   \n",
       "66   archi_random_7_v         59.813792  1.0785408752441406      0.6318   \n",
       "67   archi_random_8_v         40.819419  1.1243187145233153      0.6057   \n",
       "68   archi_random_9_v        264.545941   2.313665362548828      0.1000   \n",
       "69  archi_random_10_v        112.826608  1.4747041839599608      0.4717   \n",
       "\n",
       "    nb_layers   test  \n",
       "50        8.0  test6  \n",
       "51        6.0  test6  \n",
       "52       10.0  test6  \n",
       "53        8.0  test6  \n",
       "54        9.0  test6  \n",
       "55        8.0  test6  \n",
       "56        8.0  test6  \n",
       "57        6.0  test6  \n",
       "58        7.0  test6  \n",
       "59        6.0  test6  \n",
       "60       11.0  test7  \n",
       "61        8.0  test7  \n",
       "62        8.0  test7  \n",
       "63       12.0  test7  \n",
       "64       12.0  test7  \n",
       "65       14.0  test7  \n",
       "66        7.0  test7  \n",
       "67       10.0  test7  \n",
       "68       14.0  test7  \n",
       "69       11.0  test7  "
      ]
     },
     "execution_count": 76,
     "metadata": {},
     "output_type": "execute_result"
    }
   ],
   "source": [
    "test6vs7['test'] = ['test6','test6','test6','test6','test6','test6','test6','test6','test6','test6',\n",
    "                       'test7','test7','test7','test7','test7','test7','test7','test7','test7','test7']\n",
    "test6vs7['training_time(s)'] = test6_train_time + test7_train_time\n",
    "test6vs7['result_acc'] = test6_result_acc + test7_result_acc\n",
    "\n",
    "test6vs7"
   ]
  },
  {
   "cell_type": "code",
   "execution_count": 77,
   "metadata": {},
   "outputs": [
    {
     "data": {
      "text/plain": [
       "<seaborn.axisgrid.FacetGrid at 0x23c6c4a3d88>"
      ]
     },
     "execution_count": 77,
     "metadata": {},
     "output_type": "execute_result"
    },
    {
     "data": {
      "image/png": "[encoded data removed]",
      "text/plain": [
       "<Figure size 360x360 with 1 Axes>"
      ]
     },
     "metadata": {
      "needs_background": "light"
     },
     "output_type": "display_data"
    }
   ],
   "source": [
    "sns.displot(test6vs7, x='nb_layers', y='test')"
   ]
  },
  {
   "cell_type": "code",
   "execution_count": 78,
   "metadata": {},
   "outputs": [
    {
     "data": {
      "text/plain": [
       "<seaborn.axisgrid.FacetGrid at 0x23c6c6255c8>"
      ]
     },
     "execution_count": 78,
     "metadata": {},
     "output_type": "execute_result"
    },
    {
     "data": {
      "image/png": "[encoded data removed]",
      "text/plain": [
       "<Figure size 421.5x360 with 1 Axes>"
      ]
     },
     "metadata": {
      "needs_background": "light"
     },
     "output_type": "display_data"
    }
   ],
   "source": [
    "sns.lmplot(\n",
    "    x='training_time(s)',\n",
    "    y='nb_layers',\n",
    "    data=test6vs7,\n",
    "    hue='test',\n",
    "    fit_reg=False,\n",
    "    markers=[\"o\", \"x\"]\n",
    ")"
   ]
  },
  {
   "cell_type": "code",
   "execution_count": 79,
   "metadata": {},
   "outputs": [
    {
     "data": {
      "text/plain": [
       "<seaborn.axisgrid.FacetGrid at 0x23c6c6a6c88>"
      ]
     },
     "execution_count": 79,
     "metadata": {},
     "output_type": "execute_result"
    },
    {
     "data": {
      "image/png": "[encoded data removed]",
      "text/plain": [
       "<Figure size 421.5x360 with 1 Axes>"
      ]
     },
     "metadata": {
      "needs_background": "light"
     },
     "output_type": "display_data"
    }
   ],
   "source": [
    "sns.lmplot(\n",
    "    x='training_time(s)',\n",
    "    y='result_acc',\n",
    "    data=test6vs7,\n",
    "    hue='test',\n",
    "    fit_reg=False,\n",
    "    markers=[\"o\", \"x\"]\n",
    ")"
   ]
  },
  {
   "cell_type": "code",
   "execution_count": 80,
   "metadata": {},
   "outputs": [
    {
     "data": {
      "text/plain": [
       "<seaborn.axisgrid.FacetGrid at 0x23c6c6ac188>"
      ]
     },
     "execution_count": 80,
     "metadata": {},
     "output_type": "execute_result"
    },
    {
     "data": {
      "image/png": "[encoded data removed]",
      "text/plain": [
       "<Figure size 421.5x360 with 1 Axes>"
      ]
     },
     "metadata": {
      "needs_background": "light"
     },
     "output_type": "display_data"
    }
   ],
   "source": [
    "sns.lmplot(\n",
    "    x='nb_layers',\n",
    "    y='result_acc',\n",
    "    data=test6vs7,\n",
    "    hue='test',\n",
    "    fit_reg=False,\n",
    "    markers=[\"o\", \"x\"]\n",
    ")"
   ]
  },
  {
   "cell_type": "code",
   "execution_count": 81,
   "metadata": {},
   "outputs": [
    {
     "data": {
      "text/plain": [
       "<AxesSubplot:xlabel='test', ylabel='result_acc'>"
      ]
     },
     "execution_count": 81,
     "metadata": {},
     "output_type": "execute_result"
    },
    {
     "data": {
      "image/png": "[encoded data removed]",
      "text/plain": [
       "<Figure size 432x288 with 1 Axes>"
      ]
     },
     "metadata": {
      "needs_background": "light"
     },
     "output_type": "display_data"
    }
   ],
   "source": [
    "sns.boxplot(y='result_acc', x='test', data=test6vs7)"
   ]
  },
  {
   "cell_type": "code",
   "execution_count": 82,
   "metadata": {},
   "outputs": [
    {
     "data": {
      "text/plain": [
       "<AxesSubplot:xlabel='test', ylabel='training_time(s)'>"
      ]
     },
     "execution_count": 82,
     "metadata": {},
     "output_type": "execute_result"
    },
    {
     "data": {
      "image/png": "[encoded data removed]",
      "text/plain": [
       "<Figure size 432x288 with 1 Axes>"
      ]
     },
     "metadata": {
      "needs_background": "light"
     },
     "output_type": "display_data"
    }
   ],
   "source": [
    "sns.boxplot(y='training_time(s)', x='test', data=test6vs7)"
   ]
  },
  {
   "cell_type": "code",
   "execution_count": 83,
   "metadata": {},
   "outputs": [],
   "source": [
    "# "
   ]
  },
  {
   "cell_type": "code",
   "execution_count": 106,
   "metadata": {},
   "outputs": [],
   "source": [
    "t = test6vs7[:10]"
   ]
  },
  {
   "cell_type": "code",
   "execution_count": 107,
   "metadata": {},
   "outputs": [
    {
     "data": {
      "text/plain": [
       "<AxesSubplot:ylabel='training_time(s)'>"
      ]
     },
     "execution_count": 107,
     "metadata": {},
     "output_type": "execute_result"
    },
    {
     "data": {
      "image/png": "[encoded data removed]",
      "text/plain": [
       "<Figure size 432x288 with 1 Axes>"
      ]
     },
     "metadata": {
      "needs_background": "light"
     },
     "output_type": "display_data"
    }
   ],
   "source": [
    "sns.boxplot(y='training_time(s)', data=t)"
   ]
  },
  {
   "cell_type": "code",
   "execution_count": 108,
   "metadata": {},
   "outputs": [
    {
     "data": {
      "text/plain": [
       "<AxesSubplot:ylabel='result_acc'>"
      ]
     },
     "execution_count": 108,
     "metadata": {},
     "output_type": "execute_result"
    },
    {
     "data": {
      "image/png": "[encoded data removed]",
      "text/plain": [
       "<Figure size 432x288 with 1 Axes>"
      ]
     },
     "metadata": {
      "needs_background": "light"
     },
     "output_type": "display_data"
    }
   ],
   "source": [
    "sns.boxplot(y='result_acc', data=t)"
   ]
  },
  {
   "cell_type": "code",
   "execution_count": 109,
   "metadata": {},
   "outputs": [
    {
     "data": {
      "text/plain": [
       "<seaborn.axisgrid.FacetGrid at 0x23c8bc616c8>"
      ]
     },
     "execution_count": 109,
     "metadata": {},
     "output_type": "execute_result"
    },
    {
     "data": {
      "image/png": "[encoded data removed]",
      "text/plain": [
       "<Figure size 360x360 with 1 Axes>"
      ]
     },
     "metadata": {
      "needs_background": "light"
     },
     "output_type": "display_data"
    }
   ],
   "source": [
    "sns.lmplot(\n",
    "    x='training_time(s)',\n",
    "    y='result_acc',\n",
    "    data=t,\n",
    "    fit_reg=False\n",
    ")"
   ]
  },
  {
   "cell_type": "code",
   "execution_count": null,
   "metadata": {},
   "outputs": [],
   "source": []
  }
 ],
 "metadata": {
  "kernelspec": {
   "display_name": "Python 3",
   "language": "python",
   "name": "python3"
  },
  "language_info": {
   "codemirror_mode": {
    "name": "ipython",
    "version": 3
   },
   "file_extension": ".py",
   "mimetype": "text/x-python",
   "name": "python",
   "nbconvert_exporter": "python",
   "pygments_lexer": "ipython3",
   "version": "3.7.9"
  },
  "latex_envs": {
   "LaTeX_envs_menu_present": true,
   "autoclose": false,
   "autocomplete": true,
   "bibliofile": "biblio.bib",
   "cite_by": "apalike",
   "current_citInitial": 1,
   "eqLabelWithNumbers": true,
   "eqNumInitial": 1,
   "hotkeys": {
    "equation": "Ctrl-E",
    "itemize": "Ctrl-I"
   },
   "labels_anchors": false,
   "latex_user_defs": false,
   "report_style_numbering": false,
   "user_envs_cfg": false
  },
  "toc": {
   "base_numbering": 1,
   "nav_menu": {},
   "number_sections": true,
   "sideBar": true,
   "skip_h1_title": false,
   "title_cell": "Table of Contents",
   "title_sidebar": "Contents",
   "toc_cell": false,
   "toc_position": {},
   "toc_section_display": true,
   "toc_window_display": true
  },
  "varInspector": {
   "cols": {
    "lenName": 16,
    "lenType": 16,
    "lenVar": 40
   },
   "kernels_config": {
    "python": {
     "delete_cmd_postfix": "",
     "delete_cmd_prefix": "del ",
     "library": "var_list.py",
     "varRefreshCmd": "print(var_dic_list())"
    },
    "r": {
     "delete_cmd_postfix": ") ",
     "delete_cmd_prefix": "rm(",
     "library": "var_list.r",
     "varRefreshCmd": "cat(var_dic_list()) "
    }
   },
   "types_to_exclude": [
    "module",
    "function",
    "builtin_function_or_method",
    "instance",
    "_Feature"
   ],
   "window_display": false
  }
 },
 "nbformat": 4,
 "nbformat_minor": 4
}
