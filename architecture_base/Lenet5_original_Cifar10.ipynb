{
 "cells": [
  {
   "cell_type": "code",
   "execution_count": 1,
   "metadata": {
    "execution": {
     "iopub.execute_input": "2021-05-10T08:49:41.010164Z",
     "iopub.status.busy": "2021-05-10T08:49:41.009365Z",
     "iopub.status.idle": "2021-05-10T08:49:44.758967Z",
     "shell.execute_reply": "2021-05-10T08:49:44.759545Z"
    }
   },
   "outputs": [
    {
     "name": "stderr",
     "output_type": "stream",
     "text": [
      "Using TensorFlow backend.\n"
     ]
    }
   ],
   "source": [
    "import numpy as np\n",
    "import os\n",
    "from keras import backend as K\n",
    "import tensorflow as tf\n",
    "from tensorflow.keras.models import Sequential, Model,load_model\n",
    "from tensorflow.keras.optimizers import SGD\n",
    "from tensorflow.keras.callbacks import EarlyStopping,ModelCheckpoint\n",
    "from tensorflow.keras.layers import Flatten, Conv2D, AveragePooling2D, MaxPooling2D, GlobalMaxPooling2D,MaxPool2D\n",
    "from tensorflow.keras.layers import Input, Add, Dense, Activation, ZeroPadding2D, Dropout,BatchNormalization\n",
    "from tensorflow.keras.preprocessing import image\n",
    "from tensorflow.keras.initializers import glorot_uniform\n",
    "from tensorflow.keras.utils import plot_model\n",
    "\n",
    "import matplotlib.pyplot as plt\n",
    "from time import time\n",
    "\n",
    "from tensorflow.keras.datasets import cifar10"
   ]
  },
  {
   "cell_type": "markdown",
   "metadata": {},
   "source": [
    "Loading the dataset"
   ]
  },
  {
   "cell_type": "code",
   "execution_count": 2,
   "metadata": {
    "execution": {
     "iopub.execute_input": "2021-05-10T08:49:44.762419Z",
     "iopub.status.busy": "2021-05-10T08:49:44.761868Z",
     "iopub.status.idle": "2021-05-10T08:49:46.990671Z",
     "shell.execute_reply": "2021-05-10T08:49:46.991215Z"
    }
   },
   "outputs": [],
   "source": [
    "# setting class names\n",
    "class_names=['airplane','automobile','bird','cat','deer','dog','frog','horse','ship','truck']\n",
    "#loading the dataset\n",
    "(train_x,train_y),(test_x,test_y)=cifar10.load_data()"
   ]
  },
  {
   "cell_type": "markdown",
   "metadata": {},
   "source": [
    "Normalizing the Images"
   ]
  },
  {
   "cell_type": "code",
   "execution_count": 3,
   "metadata": {
    "execution": {
     "iopub.execute_input": "2021-05-10T08:49:47.002138Z",
     "iopub.status.busy": "2021-05-10T08:49:47.001468Z",
     "iopub.status.idle": "2021-05-10T08:49:48.613162Z",
     "shell.execute_reply": "2021-05-10T08:49:48.613884Z"
    }
   },
   "outputs": [
    {
     "data": {
      "text/plain": [
       "(50000, 32, 32, 3)"
      ]
     },
     "execution_count": 1,
     "metadata": {},
     "output_type": "execute_result"
    }
   ],
   "source": [
    "train_x=train_x/255.0\n",
    "train_x.shape"
   ]
  },
  {
   "cell_type": "code",
   "execution_count": 4,
   "metadata": {
    "execution": {
     "iopub.execute_input": "2021-05-10T08:49:48.619992Z",
     "iopub.status.busy": "2021-05-10T08:49:48.616464Z",
     "iopub.status.idle": "2021-05-10T08:49:48.897331Z",
     "shell.execute_reply": "2021-05-10T08:49:48.898051Z"
    }
   },
   "outputs": [
    {
     "data": {
      "text/plain": [
       "(10000, 32, 32, 3)"
      ]
     },
     "execution_count": 1,
     "metadata": {},
     "output_type": "execute_result"
    }
   ],
   "source": [
    "test_x=test_x/255.0\n",
    "test_x.shape"
   ]
  },
  {
   "cell_type": "markdown",
   "metadata": {},
   "source": [
    "Randomly Checking a image"
   ]
  },
  {
   "cell_type": "code",
   "execution_count": 5,
   "metadata": {
    "execution": {
     "iopub.execute_input": "2021-05-10T08:49:48.901435Z",
     "iopub.status.busy": "2021-05-10T08:49:48.900724Z",
     "iopub.status.idle": "2021-05-10T08:49:49.555005Z",
     "shell.execute_reply": "2021-05-10T08:49:49.555739Z"
    }
   },
   "outputs": [
    {
     "data": {
      "text/plain": [
       "<matplotlib.image.AxesImage at 0x7f04901687d0>"
      ]
     },
     "execution_count": 1,
     "metadata": {},
     "output_type": "execute_result"
    },
    {
     "data": {
      "image/png": "[encoded data removed]",
      "text/plain": [
       "<Figure size 432x288 with 1 Axes>"
      ]
     },
     "metadata": {
      "needs_background": "light"
     },
     "output_type": "display_data"
    }
   ],
   "source": [
    "plt.imshow(test_x[215])"
   ]
  },
  {
   "cell_type": "code",
   "execution_count": 6,
   "metadata": {
    "execution": {
     "iopub.execute_input": "2021-05-10T08:49:49.559120Z",
     "iopub.status.busy": "2021-05-10T08:49:49.558401Z",
     "iopub.status.idle": "2021-05-10T08:49:49.562180Z",
     "shell.execute_reply": "2021-05-10T08:49:49.562837Z"
    }
   },
   "outputs": [],
   "source": [
    "val_x = train_x[:5000] \n",
    "val_y = train_y[:5000]"
   ]
  },
  {
   "cell_type": "code",
   "execution_count": 7,
   "metadata": {
    "execution": {
     "iopub.execute_input": "2021-05-10T08:49:49.565919Z",
     "iopub.status.busy": "2021-05-10T08:49:49.565160Z",
     "iopub.status.idle": "2021-05-10T08:49:49.578368Z",
     "shell.execute_reply": "2021-05-10T08:49:49.579038Z"
    }
   },
   "outputs": [],
   "source": [
    "# Building a Convolutional Neural Network\n",
    "def getmodel(input_shape):\n",
    "    # Input \n",
    "    X_input = Input(input_shape)\n",
    "    X = Conv2D(filters=32,kernel_size=3,padding=\"same\", activation=\"relu\")(X_input)\n",
    "    X = MaxPool2D(pool_size=2,strides=2,padding='valid')(X)\n",
    "    X = Conv2D(filters=64,kernel_size=3,padding=\"same\", activation=\"relu\")(X)\n",
    "    X = MaxPool2D(pool_size=2,strides=2,padding='valid')(X)\n",
    "    X = Flatten()(X)\n",
    "    X = Dense(units=128,activation='relu')(X)\n",
    "    X = Dense(units=84,activation='relu')(X)\n",
    "    X = Dense(units=10,activation='softmax')(X)\n",
    "    \n",
    "    model = Model(inputs=X_input, outputs=X, name='CNN')\n",
    "    \n",
    "    model.compile(optimizer='adam', loss=tf.keras.losses.sparse_categorical_crossentropy, metrics=['accuracy'])\n",
    "    print(model.summary())\n",
    "    return model"
   ]
  },
  {
   "cell_type": "code",
   "execution_count": 8,
   "metadata": {
    "execution": {
     "iopub.execute_input": "2021-05-10T08:49:49.581825Z",
     "iopub.status.busy": "2021-05-10T08:49:49.581144Z",
     "iopub.status.idle": "2021-05-10T08:49:49.788867Z",
     "shell.execute_reply": "2021-05-10T08:49:49.789587Z"
    }
   },
   "outputs": [
    {
     "name": "stdout",
     "output_type": "stream",
     "text": [
      "Model: \"CNN\"\n",
      "_________________________________________________________________\n",
      "Layer (type)                 Output Shape              Param #   \n",
      "=================================================================\n",
      "input_1 (InputLayer)         [(None, 32, 32, 3)]       0         \n",
      "_________________________________________________________________\n",
      "conv2d (Conv2D)              (None, 32, 32, 32)        896       \n",
      "_________________________________________________________________\n",
      "conv2d_1 (Conv2D)            (None, 32, 32, 32)        9248      \n",
      "_________________________________________________________________\n",
      "max_pooling2d (MaxPooling2D) (None, 16, 16, 32)        0         \n",
      "_________________________________________________________________\n",
      "conv2d_2 (Conv2D)            (None, 16, 16, 64)        18496     \n",
      "_________________________________________________________________\n",
      "conv2d_3 (Conv2D)            (None, 16, 16, 64)        36928     \n",
      "_________________________________________________________________\n",
      "max_pooling2d_1 (MaxPooling2 (None, 8, 8, 64)          0         \n",
      "_________________________________________________________________\n",
      "flatten (Flatten)            (None, 4096)              0         \n",
      "_________________________________________________________________\n",
      "dropout (Dropout)            (None, 4096)              0         \n",
      "_________________________________________________________________\n",
      "dense (Dense)                (None, 128)               524416    \n",
      "_________________________________________________________________\n",
      "dense_1 (Dense)              (None, 10)                1290      \n",
      "=================================================================\n",
      "Total params: 591,274\n",
      "Trainable params: 591,274\n",
      "Non-trainable params: 0\n",
      "_________________________________________________________________\n",
      "None\n"
     ]
    }
   ],
   "source": [
    "CNN_model = getmodel(train_x[0].shape)"
   ]
  },
  {
   "cell_type": "code",
   "execution_count": 9,
   "metadata": {
    "execution": {
     "iopub.execute_input": "2021-05-10T08:49:49.793024Z",
     "iopub.status.busy": "2021-05-10T08:49:49.792281Z",
     "iopub.status.idle": "2021-05-10T08:49:49.795800Z",
     "shell.execute_reply": "2021-05-10T08:49:49.796484Z"
    }
   },
   "outputs": [],
   "source": [
    "es = tf.keras.callbacks.EarlyStopping(monitor='loss', verbose=1, restore_best_weights=True, patience=1)\n",
    "list_cb = [es]"
   ]
  },
  {
   "cell_type": "code",
   "execution_count": 10,
   "metadata": {
    "execution": {
     "iopub.execute_input": "2021-05-10T08:49:49.799590Z",
     "iopub.status.busy": "2021-05-10T08:49:49.798832Z",
     "iopub.status.idle": "2021-05-10T09:04:10.477473Z",
     "shell.execute_reply": "2021-05-10T09:04:10.478691Z"
    },
    "scrolled": false
   },
   "outputs": [
    {
     "name": "stdout",
     "output_type": "stream",
     "text": [
      "Epoch 1/50\n",
      "35/35 [==============================] - 33s 874ms/step - loss: 2.1149 - accuracy: 0.2147 - val_loss: 1.6472 - val_accuracy: 0.4185\n",
      "Epoch 2/50\n",
      "35/35 [==============================] - 22s 620ms/step - loss: 1.5918 - accuracy: 0.4295 - val_loss: 1.4562 - val_accuracy: 0.4741\n",
      "Epoch 3/50\n",
      "35/35 [==============================] - 22s 644ms/step - loss: 1.4075 - accuracy: 0.4963 - val_loss: 1.3328 - val_accuracy: 0.5232\n",
      "Epoch 4/50\n",
      "35/35 [==============================] - 26s 731ms/step - loss: 1.3054 - accuracy: 0.5310 - val_loss: 1.2758 - val_accuracy: 0.5505\n",
      "Epoch 5/50\n",
      "35/35 [==============================] - 21s 600ms/step - loss: 1.2381 - accuracy: 0.5613 - val_loss: 1.1616 - val_accuracy: 0.5899\n",
      "Epoch 6/50\n",
      "35/35 [==============================] - 20s 588ms/step - loss: 1.1540 - accuracy: 0.5909 - val_loss: 1.1184 - val_accuracy: 0.6074\n",
      "Epoch 7/50\n",
      "35/35 [==============================] - 24s 683ms/step - loss: 1.0879 - accuracy: 0.6194 - val_loss: 1.0895 - val_accuracy: 0.6199\n",
      "Epoch 8/50\n",
      "35/35 [==============================] - 23s 645ms/step - loss: 1.0572 - accuracy: 0.6297 - val_loss: 1.0427 - val_accuracy: 0.6317\n",
      "Epoch 9/50\n",
      "35/35 [==============================] - 23s 673ms/step - loss: 1.0059 - accuracy: 0.6462 - val_loss: 1.0172 - val_accuracy: 0.6453\n",
      "Epoch 10/50\n",
      "35/35 [==============================] - 22s 638ms/step - loss: 0.9613 - accuracy: 0.6592 - val_loss: 0.9706 - val_accuracy: 0.6601\n",
      "Epoch 11/50\n",
      "35/35 [==============================] - 22s 625ms/step - loss: 0.9324 - accuracy: 0.6763 - val_loss: 1.0342 - val_accuracy: 0.6381\n",
      "Epoch 12/50\n",
      "35/35 [==============================] - 23s 664ms/step - loss: 0.9099 - accuracy: 0.6819 - val_loss: 0.9529 - val_accuracy: 0.6692\n",
      "Epoch 13/50\n",
      "35/35 [==============================] - 24s 678ms/step - loss: 0.8632 - accuracy: 0.6972 - val_loss: 0.9107 - val_accuracy: 0.6831\n",
      "Epoch 14/50\n",
      "35/35 [==============================] - 24s 684ms/step - loss: 0.8545 - accuracy: 0.6993 - val_loss: 0.9086 - val_accuracy: 0.6841\n",
      "Epoch 15/50\n",
      "35/35 [==============================] - 23s 674ms/step - loss: 0.8315 - accuracy: 0.7086 - val_loss: 0.8827 - val_accuracy: 0.6915\n",
      "Epoch 16/50\n",
      "35/35 [==============================] - 23s 656ms/step - loss: 0.7972 - accuracy: 0.7197 - val_loss: 0.9064 - val_accuracy: 0.6826\n",
      "Epoch 17/50\n",
      "35/35 [==============================] - 20s 558ms/step - loss: 0.7779 - accuracy: 0.7244 - val_loss: 0.8922 - val_accuracy: 0.6939\n",
      "Epoch 18/50\n",
      "35/35 [==============================] - 23s 658ms/step - loss: 0.7556 - accuracy: 0.7332 - val_loss: 0.8635 - val_accuracy: 0.7007\n",
      "Epoch 19/50\n",
      "35/35 [==============================] - 23s 656ms/step - loss: 0.7409 - accuracy: 0.7430 - val_loss: 0.8614 - val_accuracy: 0.7056\n",
      "Epoch 20/50\n",
      "35/35 [==============================] - 24s 682ms/step - loss: 0.7156 - accuracy: 0.7497 - val_loss: 0.7952 - val_accuracy: 0.7255\n",
      "Epoch 21/50\n",
      "35/35 [==============================] - 24s 690ms/step - loss: 0.6883 - accuracy: 0.7596 - val_loss: 0.8311 - val_accuracy: 0.7157\n",
      "Epoch 22/50\n",
      "35/35 [==============================] - 24s 675ms/step - loss: 0.6790 - accuracy: 0.7621 - val_loss: 0.7997 - val_accuracy: 0.7243\n",
      "Epoch 23/50\n",
      "35/35 [==============================] - 24s 697ms/step - loss: 0.6588 - accuracy: 0.7672 - val_loss: 0.7713 - val_accuracy: 0.7346\n",
      "Epoch 24/50\n",
      "35/35 [==============================] - 23s 665ms/step - loss: 0.6374 - accuracy: 0.7769 - val_loss: 0.7919 - val_accuracy: 0.7261\n",
      "Epoch 25/50\n",
      "35/35 [==============================] - 23s 651ms/step - loss: 0.6247 - accuracy: 0.7798 - val_loss: 0.7712 - val_accuracy: 0.7377\n",
      "Epoch 26/50\n",
      "35/35 [==============================] - 23s 662ms/step - loss: 0.5976 - accuracy: 0.7925 - val_loss: 0.7599 - val_accuracy: 0.7406\n",
      "Epoch 27/50\n",
      "35/35 [==============================] - 23s 673ms/step - loss: 0.5855 - accuracy: 0.7963 - val_loss: 0.7426 - val_accuracy: 0.7457\n",
      "Epoch 28/50\n",
      "35/35 [==============================] - 21s 608ms/step - loss: 0.5613 - accuracy: 0.8037 - val_loss: 0.7627 - val_accuracy: 0.7421\n",
      "Epoch 29/50\n",
      "35/35 [==============================] - 21s 603ms/step - loss: 0.5484 - accuracy: 0.8068 - val_loss: 0.7435 - val_accuracy: 0.7463\n",
      "Epoch 30/50\n",
      "35/35 [==============================] - 24s 674ms/step - loss: 0.5254 - accuracy: 0.8141 - val_loss: 0.7975 - val_accuracy: 0.7308\n",
      "Epoch 31/50\n",
      "35/35 [==============================] - 23s 670ms/step - loss: 0.5328 - accuracy: 0.8108 - val_loss: 0.7504 - val_accuracy: 0.7455\n",
      "Epoch 32/50\n",
      "35/35 [==============================] - 23s 660ms/step - loss: 0.4896 - accuracy: 0.8269 - val_loss: 0.7502 - val_accuracy: 0.7473\n",
      "Epoch 33/50\n",
      "35/35 [==============================] - 24s 678ms/step - loss: 0.4903 - accuracy: 0.8272 - val_loss: 0.7652 - val_accuracy: 0.7460\n",
      "Epoch 34/50\n",
      "35/35 [==============================] - 23s 650ms/step - loss: 0.4760 - accuracy: 0.8290 - val_loss: 0.7357 - val_accuracy: 0.7507\n",
      "Epoch 35/50\n",
      "35/35 [==============================] - 23s 670ms/step - loss: 0.4489 - accuracy: 0.8398 - val_loss: 0.7445 - val_accuracy: 0.7541\n",
      "Epoch 36/50\n",
      "35/35 [==============================] - 23s 648ms/step - loss: 0.4362 - accuracy: 0.8486 - val_loss: 0.7730 - val_accuracy: 0.7477\n",
      "Epoch 37/50\n",
      "35/35 [==============================] - 23s 672ms/step - loss: 0.4512 - accuracy: 0.8405 - val_loss: 0.7422 - val_accuracy: 0.7535\n",
      "Epoch 00037: early stopping\n"
     ]
    }
   ],
   "source": [
    "start = time()\n",
    "CNN_model.fit( train_x , train_y , epochs=50, batch_size=1024, validation_split=0.3, callbacks=list_cb)\n",
    "training_time = time()-start"
   ]
  },
  {
   "cell_type": "code",
   "execution_count": 11,
   "metadata": {
    "execution": {
     "iopub.execute_input": "2021-05-10T09:04:10.489640Z",
     "iopub.status.busy": "2021-05-10T09:04:10.486929Z",
     "iopub.status.idle": "2021-05-10T09:04:58.289136Z",
     "shell.execute_reply": "2021-05-10T09:04:58.290002Z"
    }
   },
   "outputs": [
    {
     "name": "stdout",
     "output_type": "stream",
     "text": [
      "313/313 [==============================] - 47s 150ms/step - loss: 0.7470 - accuracy: 0.7529\n"
     ]
    },
    {
     "data": {
      "text/plain": [
       "[0.7470262050628662, 0.7529000043869019]"
      ]
     },
     "execution_count": 1,
     "metadata": {},
     "output_type": "execute_result"
    }
   ],
   "source": [
    "print(CNN_model.evaluate(test_x, test_y))"
   ]
  },
  {
   "cell_type": "code",
   "execution_count": 12,
   "metadata": {
    "execution": {
     "iopub.execute_input": "2021-05-10T09:04:58.296374Z",
     "iopub.status.busy": "2021-05-10T09:04:58.294062Z",
     "iopub.status.idle": "2021-05-10T09:09:00.700549Z",
     "shell.execute_reply": "2021-05-10T09:09:00.701221Z"
    }
   },
   "outputs": [
    {
     "name": "stdout",
     "output_type": "stream",
     "text": [
      "1563/1563 [==============================] - 240s 154ms/step - loss: 0.4111 - accuracy: 0.8712\n"
     ]
    },
    {
     "data": {
      "text/plain": [
       "[0.4110606610774994, 0.8712000250816345]"
      ]
     },
     "execution_count": 1,
     "metadata": {},
     "output_type": "execute_result"
    }
   ],
   "source": [
    "print(CNN_model.evaluate(train_x, train_y))"
   ]
  },
  {
   "cell_type": "code",
   "execution_count": 13,
   "metadata": {
    "execution": {
     "iopub.execute_input": "2021-05-10T09:09:00.706874Z",
     "iopub.status.busy": "2021-05-10T09:09:00.706151Z",
     "iopub.status.idle": "2021-05-10T09:09:00.712097Z",
     "shell.execute_reply": "2021-05-10T09:09:00.712673Z"
    }
   },
   "outputs": [
    {
     "data": {
      "text/plain": [
       "860.6612575054169"
      ]
     },
     "execution_count": 1,
     "metadata": {},
     "output_type": "execute_result"
    }
   ],
   "source": [
    "print(training_time)"
   ]
  },
  {
   "cell_type": "code",
   "execution_count": null,
   "metadata": {},
   "outputs": [],
   "source": []
  }
 ],
 "metadata": {
  "kernelspec": {
   "display_name": "Python 3",
   "language": "python",
   "name": "python3"
  },
  "language_info": {
   "codemirror_mode": {
    "name": "ipython",
    "version": 3
   },
   "file_extension": ".py",
   "mimetype": "text/x-python",
   "name": "python",
   "nbconvert_exporter": "python",
   "pygments_lexer": "ipython3",
   "version": "3.9.4"
  },
  "latex_envs": {
   "LaTeX_envs_menu_present": true,
   "autoclose": false,
   "autocomplete": true,
   "bibliofile": "biblio.bib",
   "cite_by": "apalike",
   "current_citInitial": 1,
   "eqLabelWithNumbers": true,
   "eqNumInitial": 1,
   "hotkeys": {
    "equation": "Ctrl-E",
    "itemize": "Ctrl-I"
   },
   "labels_anchors": false,
   "latex_user_defs": false,
   "report_style_numbering": false,
   "user_envs_cfg": false
  },
  "toc": {
   "base_numbering": 1,
   "nav_menu": {},
   "number_sections": true,
   "sideBar": true,
   "skip_h1_title": false,
   "title_cell": "Table of Contents",
   "title_sidebar": "Contents",
   "toc_cell": false,
   "toc_position": {},
   "toc_section_display": true,
   "toc_window_display": false
  },
  "varInspector": {
   "cols": {
    "lenName": 16,
    "lenType": 16,
    "lenVar": 40
   },
   "kernels_config": {
    "python": {
     "delete_cmd_postfix": "",
     "delete_cmd_prefix": "del ",
     "library": "var_list.py",
     "varRefreshCmd": "print(var_dic_list())"
    },
    "r": {
     "delete_cmd_postfix": ") ",
     "delete_cmd_prefix": "rm(",
     "library": "var_list.r",
     "varRefreshCmd": "cat(var_dic_list()) "
    }
   },
   "types_to_exclude": [
    "module",
    "function",
    "builtin_function_or_method",
    "instance",
    "_Feature"
   ],
   "window_display": false
  }
 },
 "nbformat": 4,
 "nbformat_minor": 4
}
