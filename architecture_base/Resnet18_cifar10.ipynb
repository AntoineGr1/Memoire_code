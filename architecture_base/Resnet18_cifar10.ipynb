{
 "cells": [
  {
   "cell_type": "code",
   "execution_count": 1,
   "metadata": {
    "execution": {
     "iopub.execute_input": "2021-05-11T10:49:57.658769Z",
     "iopub.status.busy": "2021-05-11T10:49:57.657865Z",
     "iopub.status.idle": "2021-05-11T10:50:00.810262Z",
     "shell.execute_reply": "2021-05-11T10:50:00.811106Z"
    }
   },
   "outputs": [],
   "source": [
    "import numpy as np\n",
    "import os\n",
    "import tensorflow as tf\n",
    "from tensorflow import keras\n",
    "from tensorflow.keras.models import Model\n",
    "from tensorflow.keras.layers import Input, Add, Dense, Activation, ZeroPadding2D, BatchNormalization, Flatten, Conv2D, AveragePooling2D, MaxPooling2D, GlobalMaxPooling2D,MaxPool2D\n",
    "from tensorflow.keras.initializers import glorot_uniform\n",
    "from tensorflow.keras.utils import plot_model\n",
    "from time import time\n",
    "\n",
    "from tensorflow.keras.datasets import cifar10"
   ]
  },
  {
   "cell_type": "code",
   "execution_count": 2,
   "metadata": {
    "execution": {
     "iopub.execute_input": "2021-05-11T10:50:00.815670Z",
     "iopub.status.busy": "2021-05-11T10:50:00.814330Z",
     "iopub.status.idle": "2021-05-11T10:50:00.837523Z",
     "shell.execute_reply": "2021-05-11T10:50:00.838265Z"
    }
   },
   "outputs": [],
   "source": [
    "def id_block(X, f, filters, stage, block):\n",
    "   \n",
    "    conv_name_base = 'res' + str(stage) + block + '_branch'\n",
    "    bn_name_base = 'bn' + str(stage) + block + '_branch'\n",
    "\n",
    "    X_shortcut = X\n",
    "   \n",
    "    X = Conv2D(filters=filters, kernel_size=(1, 1), strides=(1, 1), padding='same', name=conv_name_base + '2a', kernel_initializer=glorot_uniform(seed=0))(X)\n",
    "    X = BatchNormalization(axis=3, name=bn_name_base + '2a')(X)\n",
    "    X = Activation('relu')(X)\n",
    "\n",
    "\n",
    "    X = Conv2D(filters=filters, kernel_size=(f, f), strides=(1, 1), padding='same', name=conv_name_base + '2b', kernel_initializer=glorot_uniform(seed=0))(X)\n",
    "    X = BatchNormalization(axis=3, name=bn_name_base + '2b')(X)\n",
    "\n",
    "    X = Add()([X, X_shortcut])# SKIP Connection\n",
    "    X = Activation('relu')(X)\n",
    "\n",
    "    return X"
   ]
  },
  {
   "cell_type": "code",
   "execution_count": 3,
   "metadata": {
    "execution": {
     "iopub.execute_input": "2021-05-11T10:50:00.842561Z",
     "iopub.status.busy": "2021-05-11T10:50:00.841043Z",
     "iopub.status.idle": "2021-05-11T10:50:00.871781Z",
     "shell.execute_reply": "2021-05-11T10:50:00.872602Z"
    }
   },
   "outputs": [],
   "source": [
    "def conv_block(X, f, filters, stage, block, s=2):\n",
    "    conv_name_base = 'res' + str(stage) + block + '_branch'\n",
    "    bn_name_base = 'bn' + str(stage) + block + '_branch'\n",
    "    \n",
    "    X_shortcut = X\n",
    "    \n",
    "    X = Conv2D(filters=filters, kernel_size=(1, 1), strides=(s, s), padding='same', name=conv_name_base + '2a', kernel_initializer=glorot_uniform(seed=0))(X)\n",
    "    X = BatchNormalization(axis=3, name=bn_name_base + '2a')(X)\n",
    "    X = Activation('relu')(X)\n",
    "    \n",
    "    X = Conv2D(filters=filters, kernel_size=(f, f), strides=(1, 1), padding='same', name=conv_name_base + '2b', kernel_initializer=glorot_uniform(seed=0))(X)\n",
    "    X = BatchNormalization(axis=3, name=bn_name_base + '2b')(X)\n",
    "    \n",
    "    X_shortcut = Conv2D(filters=filters, kernel_size=(1, 1), strides=(s, s), padding='same', name=conv_name_base + '1', kernel_initializer=glorot_uniform(seed=0))(X_shortcut)\n",
    "    X_shortcut = BatchNormalization(axis=3, name=bn_name_base + '1')(X_shortcut)\n",
    "\n",
    "    \n",
    "    X = Add()([X, X_shortcut])\n",
    "    X = Activation('relu')(X)\n",
    "\n",
    "    return X"
   ]
  },
  {
   "cell_type": "code",
   "execution_count": 4,
   "metadata": {
    "execution": {
     "iopub.execute_input": "2021-05-11T10:50:00.877947Z",
     "iopub.status.busy": "2021-05-11T10:50:00.875954Z",
     "iopub.status.idle": "2021-05-11T10:50:00.911034Z",
     "shell.execute_reply": "2021-05-11T10:50:00.912129Z"
    }
   },
   "outputs": [],
   "source": [
    "def ResNet18(input_shape=(28, 28, 1)):\n",
    "\n",
    "    # Input \n",
    "    X_input = Input(input_shape)\n",
    "    \n",
    "    #X = ZeroPadding2D((3, 3))(X_input)\n",
    "\n",
    "    # Conv1\n",
    "    X = Conv2D(64, (7, 7), strides=(2, 2), name='conv1', kernel_initializer=glorot_uniform(seed=0), padding=\"same\")(X_input)\n",
    "    X = BatchNormalization(axis=3, name='bn_conv1')(X)\n",
    "    X = Activation('relu')(X)\n",
    "    X = MaxPooling2D((3, 3), strides=(2, 2), padding=\"same\")(X)\n",
    "\n",
    "    # Layer 1\n",
    "    X = id_block(X, 3, 64, stage=2, block='a')\n",
    "    X = id_block(X, 3, 64, stage=2, block='b')\n",
    "\n",
    "    # Layer 2\n",
    "    X = conv_block(X, f=3, filters=128, stage=3, block='a', s=2)\n",
    "    X = id_block(X, 3, 128, stage=3, block='b')\n",
    "\n",
    "    # Layer 3\n",
    "    X = conv_block(X, f=3, filters=256, stage=4, block='a', s=2)\n",
    "    X = id_block(X, 3, 256, stage=4, block='b')\n",
    "\n",
    "    # Layer 4\n",
    "    X = conv_block(X, f=3, filters=512, stage=5, block='a', s=2)\n",
    "    X = id_block(X, 3, 512, stage=5, block='b')\n",
    "\n",
    "    X = AveragePooling2D(pool_size=(2, 2), padding='same')(X)\n",
    "    \n",
    "    model = Model(inputs=X_input, outputs=X, name='ResNet18')\n",
    "\n",
    "    return model"
   ]
  },
  {
   "cell_type": "code",
   "execution_count": 5,
   "metadata": {
    "execution": {
     "iopub.execute_input": "2021-05-11T10:50:00.921163Z",
     "iopub.status.busy": "2021-05-11T10:50:00.916488Z",
     "iopub.status.idle": "2021-05-11T10:50:20.002655Z",
     "shell.execute_reply": "2021-05-11T10:50:20.003450Z"
    }
   },
   "outputs": [],
   "source": [
    "(train_x, train_y), (test_x, test_y) = cifar10.load_data()\n",
    "\n",
    "# normalize to range 0-1\n",
    "train_x = train_x / 255.0\n",
    "test_x = test_x / 255.0\n",
    "\n",
    "val_x = train_x[:5000]\n",
    "val_y = train_y[:5000]"
   ]
  },
  {
   "cell_type": "code",
   "execution_count": 6,
   "metadata": {
    "execution": {
     "iopub.execute_input": "2021-05-11T10:50:20.007499Z",
     "iopub.status.busy": "2021-05-11T10:50:20.006807Z",
     "iopub.status.idle": "2021-05-11T10:50:21.221254Z",
     "shell.execute_reply": "2021-05-11T10:50:21.222101Z"
    }
   },
   "outputs": [],
   "source": [
    "Input18 = ResNet18(train_x[0].shape)"
   ]
  },
  {
   "cell_type": "code",
   "execution_count": 7,
   "metadata": {
    "execution": {
     "iopub.execute_input": "2021-05-11T10:50:21.231071Z",
     "iopub.status.busy": "2021-05-11T10:50:21.230519Z",
     "iopub.status.idle": "2021-05-11T10:50:21.367431Z",
     "shell.execute_reply": "2021-05-11T10:50:21.367926Z"
    }
   },
   "outputs": [],
   "source": [
    "headModel18 = Input18.output\n",
    "# Flatten\n",
    "headModel18 = Flatten()(headModel18)\n",
    "# FC\n",
    "headModel18 = Dense(256, activation='relu', name='fc1',kernel_initializer=glorot_uniform(seed=0))(headModel18)\n",
    "headModel18 = Dense(128, activation='relu', name='fc2',kernel_initializer=glorot_uniform(seed=0))(headModel18)\n",
    "# Output\n",
    "headModel18 = Dense(10,activation='softmax', name='fc3',kernel_initializer=glorot_uniform(seed=0))(headModel18)"
   ]
  },
  {
   "cell_type": "code",
   "execution_count": 24,
   "metadata": {
    "execution": {
     "iopub.execute_input": "2021-05-11T10:50:21.374024Z",
     "iopub.status.busy": "2021-05-11T10:50:21.373416Z",
     "iopub.status.idle": "2021-05-11T10:50:21.399738Z",
     "shell.execute_reply": "2021-05-11T10:50:21.400319Z"
    }
   },
   "outputs": [],
   "source": [
    "model18 = Model(inputs=Input18.input, outputs=headModel18)"
   ]
  },
  {
   "cell_type": "code",
   "execution_count": 25,
   "metadata": {
    "execution": {
     "iopub.execute_input": "2021-05-11T10:50:21.404824Z",
     "iopub.status.busy": "2021-05-11T10:50:21.404232Z",
     "iopub.status.idle": "2021-05-11T10:50:26.063411Z",
     "shell.execute_reply": "2021-05-11T10:50:26.066409Z"
    },
    "scrolled": true
   },
   "outputs": [
    {
     "name": "stdout",
     "output_type": "stream",
     "text": [
      "('You must install pydot (`pip install pydot`) and install graphviz (see instructions at https://graphviz.gitlab.io/download/) ', 'for plot_model/model_to_dot to work.')\n"
     ]
    }
   ],
   "source": [
    "plot_model(model18, show_shapes=True)"
   ]
  },
  {
   "cell_type": "code",
   "execution_count": 26,
   "metadata": {
    "execution": {
     "iopub.execute_input": "2021-05-11T10:50:26.090011Z",
     "iopub.status.busy": "2021-05-11T10:50:26.073962Z",
     "iopub.status.idle": "2021-05-11T10:50:26.163118Z",
     "shell.execute_reply": "2021-05-11T10:50:26.164617Z"
    }
   },
   "outputs": [
    {
     "data": {
      "text/plain": [
       "72"
      ]
     },
     "execution_count": 26,
     "metadata": {},
     "output_type": "execute_result"
    }
   ],
   "source": [
    "model18.compile(optimizer='adam', loss=tf.keras.losses.sparse_categorical_crossentropy, metrics=['accuracy'])\n",
    "#model18.summary()\n",
    "len(model18.layers)"
   ]
  },
  {
   "cell_type": "code",
   "execution_count": 29,
   "metadata": {
    "execution": {
     "iopub.execute_input": "2021-05-11T10:50:26.172127Z",
     "iopub.status.busy": "2021-05-11T10:50:26.168283Z",
     "iopub.status.idle": "2021-05-11T10:50:26.180676Z",
     "shell.execute_reply": "2021-05-11T10:50:26.182001Z"
    }
   },
   "outputs": [],
   "source": [
    "es = tf.keras.callbacks.EarlyStopping(monitor='loss', verbose=1, restore_best_weights=True, patience=1)\n",
    "list_cb = [es]"
   ]
  },
  {
   "cell_type": "code",
   "execution_count": null,
   "metadata": {
    "execution": {
     "iopub.execute_input": "2021-05-11T10:50:26.186204Z",
     "iopub.status.busy": "2021-05-11T10:50:26.185048Z",
     "iopub.status.idle": "2021-05-11T11:55:39.063689Z",
     "shell.execute_reply": "2021-05-11T11:55:39.065468Z"
    }
   },
   "outputs": [
    {
     "name": "stdout",
     "output_type": "stream",
     "text": [
      "Epoch 1/50\n",
      "35/35 [==============================] - 430s 12s/step - loss: 1.2009 - accuracy: 0.5735 - val_loss: 2.9331 - val_accuracy: 0.1019\n",
      "Epoch 2/50\n",
      "35/35 [==============================] - 491s 14s/step - loss: 0.9656 - accuracy: 0.6526 - val_loss: 4.1087 - val_accuracy: 0.0987\n",
      "Epoch 3/50\n",
      "35/35 [==============================] - 499s 14s/step - loss: 0.8126 - accuracy: 0.7097 - val_loss: 4.3708 - val_accuracy: 0.1519\n",
      "Epoch 4/50\n",
      "35/35 [==============================] - 465s 13s/step - loss: 0.6822 - accuracy: 0.7606 - val_loss: 4.3153 - val_accuracy: 0.1393\n",
      "Epoch 5/50\n",
      " 7/35 [=====>........................] - ETA: 5:54 - loss: 0.5603 - accuracy: 0.8059"
     ]
    }
   ],
   "source": [
    "start = time()\n",
    "model18.fit( train_x , train_y , epochs=50, batch_size=1024, validation_split=0.3, callbacks=list_cb)\n",
    "training_time = time()-start"
   ]
  },
  {
   "cell_type": "code",
   "execution_count": null,
   "metadata": {
    "execution": {
     "iopub.execute_input": "2021-05-11T11:55:39.072255Z",
     "iopub.status.busy": "2021-05-11T11:55:39.070851Z",
     "iopub.status.idle": "2021-05-11T11:56:38.609966Z",
     "shell.execute_reply": "2021-05-11T11:56:38.611550Z"
    }
   },
   "outputs": [],
   "source": [
    "model18.evaluate(test_x, test_y)"
   ]
  },
  {
   "cell_type": "code",
   "execution_count": null,
   "metadata": {
    "execution": {
     "iopub.execute_input": "2021-05-11T11:56:38.617301Z",
     "iopub.status.busy": "2021-05-11T11:56:38.615703Z",
     "iopub.status.idle": "2021-05-11T12:01:38.847644Z",
     "shell.execute_reply": "2021-05-11T12:01:38.848831Z"
    }
   },
   "outputs": [],
   "source": [
    "model18.evaluate(train_x, train_y)"
   ]
  },
  {
   "cell_type": "code",
   "execution_count": null,
   "metadata": {
    "execution": {
     "iopub.execute_input": "2021-05-11T12:01:38.854835Z",
     "iopub.status.busy": "2021-05-11T12:01:38.854091Z",
     "iopub.status.idle": "2021-05-11T12:01:38.893286Z",
     "shell.execute_reply": "2021-05-11T12:01:38.894843Z"
    }
   },
   "outputs": [],
   "source": [
    "training_time"
   ]
  },
  {
   "cell_type": "code",
   "execution_count": null,
   "metadata": {},
   "outputs": [],
   "source": []
  }
 ],
 "metadata": {
  "kernelspec": {
   "display_name": "Python 3",
   "language": "python",
   "name": "python3"
  },
  "language_info": {
   "codemirror_mode": {
    "name": "ipython",
    "version": 3
   },
   "file_extension": ".py",
   "mimetype": "text/x-python",
   "name": "python",
   "nbconvert_exporter": "python",
   "pygments_lexer": "ipython3",
   "version": "3.9.4"
  },
  "latex_envs": {
   "LaTeX_envs_menu_present": true,
   "autoclose": false,
   "autocomplete": true,
   "bibliofile": "biblio.bib",
   "cite_by": "apalike",
   "current_citInitial": 1,
   "eqLabelWithNumbers": true,
   "eqNumInitial": 1,
   "hotkeys": {
    "equation": "Ctrl-E",
    "itemize": "Ctrl-I"
   },
   "labels_anchors": false,
   "latex_user_defs": false,
   "report_style_numbering": false,
   "user_envs_cfg": false
  },
  "toc": {
   "base_numbering": 1,
   "nav_menu": {},
   "number_sections": true,
   "sideBar": true,
   "skip_h1_title": false,
   "title_cell": "Table of Contents",
   "title_sidebar": "Contents",
   "toc_cell": false,
   "toc_position": {},
   "toc_section_display": true,
   "toc_window_display": false
  },
  "varInspector": {
   "cols": {
    "lenName": 16,
    "lenType": 16,
    "lenVar": 40
   },
   "kernels_config": {
    "python": {
     "delete_cmd_postfix": "",
     "delete_cmd_prefix": "del ",
     "library": "var_list.py",
     "varRefreshCmd": "print(var_dic_list())"
    },
    "r": {
     "delete_cmd_postfix": ") ",
     "delete_cmd_prefix": "rm(",
     "library": "var_list.r",
     "varRefreshCmd": "cat(var_dic_list()) "
    }
   },
   "types_to_exclude": [
    "module",
    "function",
    "builtin_function_or_method",
    "instance",
    "_Feature"
   ],
   "window_display": false
  }
 },
 "nbformat": 4,
 "nbformat_minor": 4
}
